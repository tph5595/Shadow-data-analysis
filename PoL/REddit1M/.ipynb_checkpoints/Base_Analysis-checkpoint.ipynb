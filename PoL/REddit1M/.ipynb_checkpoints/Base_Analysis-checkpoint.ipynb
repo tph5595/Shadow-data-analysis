{
 "cells": [
  {
   "cell_type": "code",
   "execution_count": 4,
   "id": "e6136a2e",
   "metadata": {},
   "outputs": [
    {
     "name": "stdout",
     "output_type": "stream",
     "text": [
      "Defaulting to user installation because normal site-packages is not writeable\n",
      "Requirement already satisfied: pandas in /home/taylor/.local/lib/python3.10/site-packages (1.4.4)\n",
      "Requirement already satisfied: numpy>=1.21.0 in /usr/lib/python3/dist-packages (from pandas) (1.21.5)\n",
      "Requirement already satisfied: pytz>=2020.1 in /usr/lib/python3/dist-packages (from pandas) (2022.1)\n",
      "Requirement already satisfied: python-dateutil>=2.8.1 in /home/taylor/.local/lib/python3.10/site-packages (from pandas) (2.8.2)\n",
      "Requirement already satisfied: six>=1.5 in /usr/lib/python3/dist-packages (from python-dateutil>=2.8.1->pandas) (1.16.0)\n"
     ]
    }
   ],
   "source": [
    "!pip install pandas"
   ]
  },
  {
   "cell_type": "code",
   "execution_count": 5,
   "id": "ababd979",
   "metadata": {},
   "outputs": [
    {
     "name": "stdout",
     "output_type": "stream",
     "text": [
      "Defaulting to user installation because normal site-packages is not writeable\n",
      "Requirement already satisfied: convokit in /home/taylor/.local/lib/python3.10/site-packages (2.5.3)\n",
      "Requirement already satisfied: scipy>=1.1.0 in /usr/lib/python3/dist-packages (from convokit) (1.8.0)\n",
      "Requirement already satisfied: pandas>=0.23.4 in /home/taylor/.local/lib/python3.10/site-packages (from convokit) (1.4.4)\n",
      "Requirement already satisfied: scikit-learn>=0.20.0 in /home/taylor/.local/lib/python3.10/site-packages (from convokit) (1.1.2)\n",
      "Requirement already satisfied: clean-text>=0.1.1 in /home/taylor/.local/lib/python3.10/site-packages (from convokit) (0.6.0)\n",
      "Requirement already satisfied: nltk>=3.4 in /home/taylor/.local/lib/python3.10/site-packages (from convokit) (3.8.1)\n",
      "Requirement already satisfied: unidecode>=1.1.1 in /home/taylor/.local/lib/python3.10/site-packages (from convokit) (1.3.6)\n",
      "Requirement already satisfied: joblib>=0.13.2 in /home/taylor/.local/lib/python3.10/site-packages (from convokit) (1.1.0)\n",
      "Requirement already satisfied: msgpack-numpy>=0.4.3.2 in /home/taylor/.local/lib/python3.10/site-packages (from convokit) (0.4.8)\n",
      "Requirement already satisfied: matplotlib>=3.0.0 in /usr/lib/python3/dist-packages (from convokit) (3.5.1)\n",
      "Requirement already satisfied: dill>=0.2.9 in /home/taylor/.local/lib/python3.10/site-packages (from convokit) (0.3.6)\n",
      "Requirement already satisfied: spacy>=2.3.5 in /home/taylor/.local/lib/python3.10/site-packages (from convokit) (3.5.0)\n",
      "Requirement already satisfied: ftfy<7.0,>=6.0 in /home/taylor/.local/lib/python3.10/site-packages (from clean-text>=0.1.1->convokit) (6.1.1)\n",
      "Requirement already satisfied: emoji<2.0.0,>=1.0.0 in /home/taylor/.local/lib/python3.10/site-packages (from clean-text>=0.1.1->convokit) (1.7.0)\n",
      "Requirement already satisfied: msgpack>=0.5.2 in /usr/lib/python3/dist-packages (from msgpack-numpy>=0.4.3.2->convokit) (1.0.3)\n",
      "Requirement already satisfied: numpy>=1.9.0 in /usr/lib/python3/dist-packages (from msgpack-numpy>=0.4.3.2->convokit) (1.21.5)\n",
      "Requirement already satisfied: regex>=2021.8.3 in /home/taylor/.local/lib/python3.10/site-packages (from nltk>=3.4->convokit) (2022.10.31)\n",
      "Requirement already satisfied: tqdm in /home/taylor/.local/lib/python3.10/site-packages (from nltk>=3.4->convokit) (4.64.1)\n",
      "Requirement already satisfied: click in /usr/lib/python3/dist-packages (from nltk>=3.4->convokit) (8.0.3)\n",
      "Requirement already satisfied: pytz>=2020.1 in /usr/lib/python3/dist-packages (from pandas>=0.23.4->convokit) (2022.1)\n",
      "Requirement already satisfied: python-dateutil>=2.8.1 in /home/taylor/.local/lib/python3.10/site-packages (from pandas>=0.23.4->convokit) (2.8.2)\n",
      "Requirement already satisfied: threadpoolctl>=2.0.0 in /home/taylor/.local/lib/python3.10/site-packages (from scikit-learn>=0.20.0->convokit) (3.1.0)\n",
      "Requirement already satisfied: thinc<8.2.0,>=8.1.0 in /home/taylor/.local/lib/python3.10/site-packages (from spacy>=2.3.5->convokit) (8.1.7)\n",
      "Requirement already satisfied: setuptools in /usr/lib/python3/dist-packages (from spacy>=2.3.5->convokit) (59.6.0)\n",
      "Requirement already satisfied: pathy>=0.10.0 in /home/taylor/.local/lib/python3.10/site-packages (from spacy>=2.3.5->convokit) (0.10.1)\n",
      "Requirement already satisfied: packaging>=20.0 in /usr/lib/python3/dist-packages (from spacy>=2.3.5->convokit) (21.3)\n",
      "Requirement already satisfied: catalogue<2.1.0,>=2.0.6 in /home/taylor/.local/lib/python3.10/site-packages (from spacy>=2.3.5->convokit) (2.0.8)\n",
      "Requirement already satisfied: requests<3.0.0,>=2.13.0 in /home/taylor/.local/lib/python3.10/site-packages (from spacy>=2.3.5->convokit) (2.28.1)\n",
      "Requirement already satisfied: pydantic!=1.8,!=1.8.1,<1.11.0,>=1.7.4 in /home/taylor/.local/lib/python3.10/site-packages (from spacy>=2.3.5->convokit) (1.10.4)\n",
      "Requirement already satisfied: jinja2 in /home/taylor/.local/lib/python3.10/site-packages (from spacy>=2.3.5->convokit) (3.1.2)\n",
      "Requirement already satisfied: srsly<3.0.0,>=2.4.3 in /home/taylor/.local/lib/python3.10/site-packages (from spacy>=2.3.5->convokit) (2.4.5)\n",
      "Requirement already satisfied: smart-open<7.0.0,>=5.2.1 in /home/taylor/.local/lib/python3.10/site-packages (from spacy>=2.3.5->convokit) (6.3.0)\n",
      "Requirement already satisfied: cymem<2.1.0,>=2.0.2 in /home/taylor/.local/lib/python3.10/site-packages (from spacy>=2.3.5->convokit) (2.0.7)\n",
      "Requirement already satisfied: langcodes<4.0.0,>=3.2.0 in /home/taylor/.local/lib/python3.10/site-packages (from spacy>=2.3.5->convokit) (3.3.0)\n",
      "Requirement already satisfied: wasabi<1.2.0,>=0.9.1 in /home/taylor/.local/lib/python3.10/site-packages (from spacy>=2.3.5->convokit) (1.1.1)\n",
      "Requirement already satisfied: spacy-loggers<2.0.0,>=1.0.0 in /home/taylor/.local/lib/python3.10/site-packages (from spacy>=2.3.5->convokit) (1.0.4)\n",
      "Requirement already satisfied: typer<0.8.0,>=0.3.0 in /home/taylor/.local/lib/python3.10/site-packages (from spacy>=2.3.5->convokit) (0.7.0)\n",
      "Requirement already satisfied: preshed<3.1.0,>=3.0.2 in /home/taylor/.local/lib/python3.10/site-packages (from spacy>=2.3.5->convokit) (3.0.8)\n",
      "Requirement already satisfied: murmurhash<1.1.0,>=0.28.0 in /home/taylor/.local/lib/python3.10/site-packages (from spacy>=2.3.5->convokit) (1.0.9)\n",
      "Requirement already satisfied: spacy-legacy<3.1.0,>=3.0.11 in /home/taylor/.local/lib/python3.10/site-packages (from spacy>=2.3.5->convokit) (3.0.12)\n",
      "Requirement already satisfied: wcwidth>=0.2.5 in /home/taylor/.local/lib/python3.10/site-packages (from ftfy<7.0,>=6.0->clean-text>=0.1.1->convokit) (0.2.5)\n",
      "Requirement already satisfied: typing-extensions>=4.2.0 in /home/taylor/.local/lib/python3.10/site-packages (from pydantic!=1.8,!=1.8.1,<1.11.0,>=1.7.4->spacy>=2.3.5->convokit) (4.4.0)\n",
      "Requirement already satisfied: six>=1.5 in /usr/lib/python3/dist-packages (from python-dateutil>=2.8.1->pandas>=0.23.4->convokit) (1.16.0)\n",
      "Requirement already satisfied: urllib3<1.27,>=1.21.1 in /usr/lib/python3/dist-packages (from requests<3.0.0,>=2.13.0->spacy>=2.3.5->convokit) (1.26.5)\n",
      "Requirement already satisfied: idna<4,>=2.5 in /usr/lib/python3/dist-packages (from requests<3.0.0,>=2.13.0->spacy>=2.3.5->convokit) (3.3)\n",
      "Requirement already satisfied: certifi>=2017.4.17 in /usr/lib/python3/dist-packages (from requests<3.0.0,>=2.13.0->spacy>=2.3.5->convokit) (2020.6.20)\n",
      "Requirement already satisfied: charset-normalizer<3,>=2 in /home/taylor/.local/lib/python3.10/site-packages (from requests<3.0.0,>=2.13.0->spacy>=2.3.5->convokit) (2.1.1)\n",
      "Requirement already satisfied: confection<1.0.0,>=0.0.1 in /home/taylor/.local/lib/python3.10/site-packages (from thinc<8.2.0,>=8.1.0->spacy>=2.3.5->convokit) (0.0.4)\n",
      "Requirement already satisfied: blis<0.8.0,>=0.7.8 in /home/taylor/.local/lib/python3.10/site-packages (from thinc<8.2.0,>=8.1.0->spacy>=2.3.5->convokit) (0.7.9)\n",
      "Requirement already satisfied: MarkupSafe>=2.0 in /home/taylor/.local/lib/python3.10/site-packages (from jinja2->spacy>=2.3.5->convokit) (2.1.1)\n"
     ]
    }
   ],
   "source": [
    "!pip install convokit"
   ]
  },
  {
   "cell_type": "code",
   "execution_count": 6,
   "id": "51cf6d76",
   "metadata": {},
   "outputs": [],
   "source": [
    "import pandas as pd"
   ]
  },
  {
   "cell_type": "code",
   "execution_count": 7,
   "id": "cd1e37cb",
   "metadata": {},
   "outputs": [
    {
     "name": "stdout",
     "output_type": "stream",
     "text": [
      "Dataset already exists at /home/taylor/.convokit/downloads/subreddit-Cornell\n"
     ]
    }
   ],
   "source": [
    "from convokit import Corpus, download\n",
    "\n",
    "corpus = Corpus(filename=download(\"subreddit-Cornell\"))"
   ]
  },
  {
   "cell_type": "code",
   "execution_count": 8,
   "id": "cc264676",
   "metadata": {},
   "outputs": [],
   "source": [
    "df = corpus.get_utterances_dataframe()"
   ]
  },
  {
   "cell_type": "code",
   "execution_count": 10,
   "id": "b803cca5",
   "metadata": {},
   "outputs": [],
   "source": [
    "# https://storage.googleapis.com/naacl21_account_linking/raw_mud.tar.gz\n",
    "    "
   ]
  },
  {
   "cell_type": "code",
   "execution_count": 11,
   "id": "91a92710",
   "metadata": {},
   "outputs": [],
   "source": [
    "# Compute overall stats(# people, avg response time, msgs per person, lifespan of convo, \n",
    "# avg message size, message size per person) for conversations per subreddit\n",
    "# compare for top 25 subreddits and 25 random subreddits\n",
    "# Viz results\n",
    "#\n",
    "# Do something iteration based\n",
    "# Grab by timerange, cluster get sim (1.5 std), Take rnadoms from sus groups and compare pre post tor (with random usernames)\n",
    "# See when someone leaves the conversation and if can detect groups that way or when a new person enters the conversation\n",
    "# look at privacy scopes og paper and think about what should be possible given different scopes and what \n",
    "# iterations would make sense given what scopes and features"
   ]
  },
  {
   "cell_type": "code",
   "execution_count": 27,
   "id": "5584ed57",
   "metadata": {},
   "outputs": [],
   "source": [
    "# Grab a random convo of a certain min and max length and number of people talking\n",
    "# Change convo into 2d array of when each person should talk (action list with time stamps)\n",
    "conv_max_length = 10\n",
    "conv_min_length = 5\n",
    "conv_min_users = 2\n",
    "conv_max_users = 4\n",
    "conv_length_mask = df.groupby(\"conversation_id\")[\"conversation_id\"].transform(len)\n",
    "conv_users_mask = df.groupby(\"conversation_id\")[\"speaker\"].transform('nunique')\n",
    "\n",
    "mask = (conv_length_mask >= conv_min_length) & (conv_length_mask <= conv_max_length) \\\n",
    "     & (conv_users_mask >= conv_min_users) & (conv_users_mask <= conv_max_users)\n",
    "\n",
    "filtered_df = df[mask]"
   ]
  },
  {
   "cell_type": "code",
   "execution_count": 30,
   "id": "ed89ac68",
   "metadata": {},
   "outputs": [
    {
     "data": {
      "text/html": [
       "<div>\n",
       "<style scoped>\n",
       "    .dataframe tbody tr th:only-of-type {\n",
       "        vertical-align: middle;\n",
       "    }\n",
       "\n",
       "    .dataframe tbody tr th {\n",
       "        vertical-align: top;\n",
       "    }\n",
       "\n",
       "    .dataframe thead th {\n",
       "        text-align: right;\n",
       "    }\n",
       "</style>\n",
       "<table border=\"1\" class=\"dataframe\">\n",
       "  <thead>\n",
       "    <tr style=\"text-align: right;\">\n",
       "      <th></th>\n",
       "      <th>timestamp</th>\n",
       "      <th>text</th>\n",
       "      <th>speaker</th>\n",
       "      <th>reply_to</th>\n",
       "      <th>conversation_id</th>\n",
       "      <th>meta.score</th>\n",
       "      <th>meta.top_level_comment</th>\n",
       "      <th>meta.retrieved_on</th>\n",
       "      <th>meta.gilded</th>\n",
       "      <th>meta.gildings</th>\n",
       "      <th>meta.subreddit</th>\n",
       "      <th>meta.stickied</th>\n",
       "      <th>meta.permalink</th>\n",
       "      <th>meta.author_flair_text</th>\n",
       "      <th>vectors</th>\n",
       "    </tr>\n",
       "    <tr>\n",
       "      <th>id</th>\n",
       "      <th></th>\n",
       "      <th></th>\n",
       "      <th></th>\n",
       "      <th></th>\n",
       "      <th></th>\n",
       "      <th></th>\n",
       "      <th></th>\n",
       "      <th></th>\n",
       "      <th></th>\n",
       "      <th></th>\n",
       "      <th></th>\n",
       "      <th></th>\n",
       "      <th></th>\n",
       "      <th></th>\n",
       "      <th></th>\n",
       "    </tr>\n",
       "  </thead>\n",
       "  <tbody>\n",
       "    <tr>\n",
       "      <th>4odjwr</th>\n",
       "      <td>1466086939</td>\n",
       "      <td></td>\n",
       "      <td>0n0mat0p0eia</td>\n",
       "      <td>None</td>\n",
       "      <td>4odjwr</td>\n",
       "      <td>0</td>\n",
       "      <td>None</td>\n",
       "      <td>1472783465</td>\n",
       "      <td>0</td>\n",
       "      <td>None</td>\n",
       "      <td>Cornell</td>\n",
       "      <td>False</td>\n",
       "      <td>/r/Cornell/comments/4odjwr/downtown_3br_availa...</td>\n",
       "      <td></td>\n",
       "      <td>[]</td>\n",
       "    </tr>\n",
       "    <tr>\n",
       "      <th>d4blnjc</th>\n",
       "      <td>1466087013</td>\n",
       "      <td>[deleted]</td>\n",
       "      <td>[deleted]</td>\n",
       "      <td>4odjwr</td>\n",
       "      <td>4odjwr</td>\n",
       "      <td>-4</td>\n",
       "      <td>d4blnjc</td>\n",
       "      <td>1469080953</td>\n",
       "      <td>0</td>\n",
       "      <td>None</td>\n",
       "      <td>Cornell</td>\n",
       "      <td>False</td>\n",
       "      <td></td>\n",
       "      <td></td>\n",
       "      <td>[]</td>\n",
       "    </tr>\n",
       "    <tr>\n",
       "      <th>d4c8tp4</th>\n",
       "      <td>1466115876</td>\n",
       "      <td>That is *not* downtown.</td>\n",
       "      <td>bigred237</td>\n",
       "      <td>4odjwr</td>\n",
       "      <td>4odjwr</td>\n",
       "      <td>2</td>\n",
       "      <td>d4c8tp4</td>\n",
       "      <td>1469092083</td>\n",
       "      <td>0</td>\n",
       "      <td>None</td>\n",
       "      <td>Cornell</td>\n",
       "      <td>False</td>\n",
       "      <td></td>\n",
       "      <td></td>\n",
       "      <td>[]</td>\n",
       "    </tr>\n",
       "    <tr>\n",
       "      <th>d4cfvep</th>\n",
       "      <td>1466126803</td>\n",
       "      <td>[Looks like the craigslist map is wrong.](http...</td>\n",
       "      <td>tpa_bcn</td>\n",
       "      <td>d4c8tp4</td>\n",
       "      <td>4odjwr</td>\n",
       "      <td>3</td>\n",
       "      <td>d4c8tp4</td>\n",
       "      <td>1469095475</td>\n",
       "      <td>0</td>\n",
       "      <td>None</td>\n",
       "      <td>Cornell</td>\n",
       "      <td>False</td>\n",
       "      <td></td>\n",
       "      <td></td>\n",
       "      <td>[]</td>\n",
       "    </tr>\n",
       "    <tr>\n",
       "      <th>d4cze5r</th>\n",
       "      <td>1466170082</td>\n",
       "      <td>Thank you. Yea, for whatever reason that's wha...</td>\n",
       "      <td>0n0mat0p0eia</td>\n",
       "      <td>d4cfvep</td>\n",
       "      <td>4odjwr</td>\n",
       "      <td>1</td>\n",
       "      <td>d4c8tp4</td>\n",
       "      <td>1469104755</td>\n",
       "      <td>0</td>\n",
       "      <td>None</td>\n",
       "      <td>Cornell</td>\n",
       "      <td>False</td>\n",
       "      <td></td>\n",
       "      <td></td>\n",
       "      <td>[]</td>\n",
       "    </tr>\n",
       "  </tbody>\n",
       "</table>\n",
       "</div>"
      ],
      "text/plain": [
       "          timestamp                                               text  \\\n",
       "id                                                                       \n",
       "4odjwr   1466086939                                                      \n",
       "d4blnjc  1466087013                                          [deleted]   \n",
       "d4c8tp4  1466115876                            That is *not* downtown.   \n",
       "d4cfvep  1466126803  [Looks like the craigslist map is wrong.](http...   \n",
       "d4cze5r  1466170082  Thank you. Yea, for whatever reason that's wha...   \n",
       "\n",
       "              speaker reply_to conversation_id meta.score  \\\n",
       "id                                                          \n",
       "4odjwr   0n0mat0p0eia     None          4odjwr          0   \n",
       "d4blnjc     [deleted]   4odjwr          4odjwr         -4   \n",
       "d4c8tp4     bigred237   4odjwr          4odjwr          2   \n",
       "d4cfvep       tpa_bcn  d4c8tp4          4odjwr          3   \n",
       "d4cze5r  0n0mat0p0eia  d4cfvep          4odjwr          1   \n",
       "\n",
       "        meta.top_level_comment meta.retrieved_on meta.gilded meta.gildings  \\\n",
       "id                                                                           \n",
       "4odjwr                    None        1472783465           0          None   \n",
       "d4blnjc                d4blnjc        1469080953           0          None   \n",
       "d4c8tp4                d4c8tp4        1469092083           0          None   \n",
       "d4cfvep                d4c8tp4        1469095475           0          None   \n",
       "d4cze5r                d4c8tp4        1469104755           0          None   \n",
       "\n",
       "        meta.subreddit meta.stickied  \\\n",
       "id                                     \n",
       "4odjwr         Cornell         False   \n",
       "d4blnjc        Cornell         False   \n",
       "d4c8tp4        Cornell         False   \n",
       "d4cfvep        Cornell         False   \n",
       "d4cze5r        Cornell         False   \n",
       "\n",
       "                                            meta.permalink  \\\n",
       "id                                                           \n",
       "4odjwr   /r/Cornell/comments/4odjwr/downtown_3br_availa...   \n",
       "d4blnjc                                                      \n",
       "d4c8tp4                                                      \n",
       "d4cfvep                                                      \n",
       "d4cze5r                                                      \n",
       "\n",
       "        meta.author_flair_text vectors  \n",
       "id                                      \n",
       "4odjwr                              []  \n",
       "d4blnjc                             []  \n",
       "d4c8tp4                             []  \n",
       "d4cfvep                             []  \n",
       "d4cze5r                             []  "
      ]
     },
     "execution_count": 30,
     "metadata": {},
     "output_type": "execute_result"
    }
   ],
   "source": [
    "import numpy as np\n",
    "\n",
    "convs = filtered_df[\"conversation_id\"].unique()\n",
    "random_conv = np.random.choice((convs))\n",
    "chosen = filtered_df[filtered_df[\"conversation_id\"] == random_conv]\n",
    "chosen"
   ]
  },
  {
   "cell_type": "code",
   "execution_count": 49,
   "id": "a10a5a16",
   "metadata": {},
   "outputs": [],
   "source": [
    "users = convs = chosen[\"speaker\"].unique()\n",
    "start_time = chosen[\"timestamp\"].min()\n",
    "chat_log = {}\n",
    "for user in users:\n",
    "    log = []\n",
    "    for index, msg in chosen[chosen[\"speaker\"] == user].iterrows():\n",
    "        #print(msg)\n",
    "        log += [msg['timestamp'] - start_time]\n",
    "    chat_log[user] = log"
   ]
  },
  {
   "cell_type": "code",
   "execution_count": 50,
   "id": "970480df",
   "metadata": {},
   "outputs": [
    {
     "data": {
      "text/plain": [
       "{'0n0mat0p0eia': [0, 83143],\n",
       " '[deleted]': [74],\n",
       " 'bigred237': [28937],\n",
       " 'tpa_bcn': [39864]}"
      ]
     },
     "execution_count": 50,
     "metadata": {},
     "output_type": "execute_result"
    }
   ],
   "source": [
    "chat_log"
   ]
  },
  {
   "cell_type": "code",
   "execution_count": null,
   "id": "ad7ffb10",
   "metadata": {},
   "outputs": [],
   "source": []
  }
 ],
 "metadata": {
  "kernelspec": {
   "display_name": "Python 3 (ipykernel)",
   "language": "python",
   "name": "python3"
  },
  "language_info": {
   "codemirror_mode": {
    "name": "ipython",
    "version": 3
   },
   "file_extension": ".py",
   "mimetype": "text/x-python",
   "name": "python",
   "nbconvert_exporter": "python",
   "pygments_lexer": "ipython3",
   "version": "3.10.6"
  }
 },
 "nbformat": 4,
 "nbformat_minor": 5
}
