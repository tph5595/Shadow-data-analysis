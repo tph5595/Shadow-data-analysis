{
 "cells": [
  {
   "cell_type": "code",
   "execution_count": 1,
   "id": "8b33b96b",
   "metadata": {},
   "outputs": [
    {
     "name": "stdout",
     "output_type": "stream",
     "text": [
      "Defaulting to user installation because normal site-packages is not writeable\n",
      "Requirement already satisfied: pandas in /home/taylor/.local/lib/python3.10/site-packages (1.4.4)\n",
      "Requirement already satisfied: numpy>=1.21.0 in /usr/lib/python3/dist-packages (from pandas) (1.21.5)\n",
      "Requirement already satisfied: python-dateutil>=2.8.1 in /home/taylor/.local/lib/python3.10/site-packages (from pandas) (2.8.2)\n",
      "Requirement already satisfied: pytz>=2020.1 in /usr/lib/python3/dist-packages (from pandas) (2022.1)\n",
      "Requirement already satisfied: six>=1.5 in /usr/lib/python3/dist-packages (from python-dateutil>=2.8.1->pandas) (1.16.0)\n"
     ]
    }
   ],
   "source": [
    "! pip install pandas\n",
    "# Knapsack NP complete could work\n",
    "# or check for candidate DNSers that would be apart of the resource access and with enough resource access and DNS \n",
    "# could probably determine\\\n",
    "\n",
    "\n",
    "# What if determine candicate from DNSers like above but then look at their input to tor (frame size and timing \n",
    "# input and output with TDA to filter down candidates)"
   ]
  },
  {
   "cell_type": "code",
   "execution_count": 2,
   "id": "5a75a720",
   "metadata": {},
   "outputs": [
    {
     "name": "stdout",
     "output_type": "stream",
     "text": [
      "../util/process_data_argus.sh: line 3:  7953 Segmentation fault      (core dumped) ra -r $filename.argus -c',' -s srcid rank stime ltime trans flgs seq dur runtime idle mean stddev sum min max smac dmac soui doui saddr daddr proto sport dport stos dtos sdsb ddsb sco dco sttl dttl shops dhops sipid dipid smpls dmpls autoid sas das ias cause nstroke snstroke dnstroke pkts spkts dpkts bytes sbytes dbytes appbytes sappbytes dappbytes pcr load sload dload loss sloss dloss ploss psloss pdloss retrans sretrans dretrans pretrans psretrans pdretrans sgap dgap rate srate drate dir sintpkt sintdist sintpktact sintdistact sintpktidl sintdistidl dintpkt dintdist dintpktact dintdistact dintpktidl dintdistidl sjit sjitact sjitidle djit djitact djitidle state label suser duser swin dwin svlan dvlan svid dvid svpri dvpri srng erng stcpb dtcpb tcprtt synack ackdat tcpopt inode offset smeansz dmeansz spktsz smaxsz dpktsz dmaxsz sminsz dminsz dminsz > $filename.csv\n",
      "ra[7967]: 16:10:38.681576 ArgusGenerateRecordStruct: pre ARGUS_DATA_DSR len is zero\n",
      "ra[7974]: 16:10:39.702109 ArgusGenerateRecordStruct: pre ARGUS_DATA_DSR len is zero\n",
      "ra[7986]: 16:10:40.717985 ArgusGenerateRecordStruct: post ARGUS_DATA_DSR len is zero\n",
      "ra[7992]: 16:10:41.738508 ArgusGenerateRecordStruct: pre ARGUS_DATA_DSR len is zero\n",
      "ra[7998]: 16:10:42.784660 ArgusGenerateRecordStruct: pre ARGUS_DATA_DSR len is zero\n",
      "ra[8010]: 16:10:44.819370 ArgusGenerateRecordStruct: pre ARGUS_DATA_DSR len is zero\n",
      "../util/process_data_argus.sh: line 3:  8016 Segmentation fault      (core dumped) ra -r $filename.argus -c',' -s srcid rank stime ltime trans flgs seq dur runtime idle mean stddev sum min max smac dmac soui doui saddr daddr proto sport dport stos dtos sdsb ddsb sco dco sttl dttl shops dhops sipid dipid smpls dmpls autoid sas das ias cause nstroke snstroke dnstroke pkts spkts dpkts bytes sbytes dbytes appbytes sappbytes dappbytes pcr load sload dload loss sloss dloss ploss psloss pdloss retrans sretrans dretrans pretrans psretrans pdretrans sgap dgap rate srate drate dir sintpkt sintdist sintpktact sintdistact sintpktidl sintdistidl dintpkt dintdist dintpktact dintdistact dintpktidl dintdistidl sjit sjitact sjitidle djit djitact djitidle state label suser duser swin dwin svlan dvlan svid dvid svpri dvpri srng erng stcpb dtcpb tcprtt synack ackdat tcpopt inode offset smeansz dmeansz spktsz smaxsz dpktsz dmaxsz sminsz dminsz dminsz > $filename.csv\n",
      "ra[8027]: 16:10:47.928641 ArgusGenerateRecordStruct: pre ARGUS_DATA_DSR len is zero\n",
      "ra[8033]: 16:10:48.948743 ArgusGenerateRecordStruct: pre ARGUS_DATA_DSR len is zero\n",
      "ra[8045]: 16:10:50.996393 ArgusGenerateRecordStruct: pre ARGUS_DATA_DSR len is zero\n",
      "ra[8051]: 16:10:52.013070 ArgusGenerateRecordStruct: pre ARGUS_DATA_DSR len is zero\n",
      "ra[8057]: 16:10:53.044767 ArgusGenerateRecordStruct: pre ARGUS_DATA_DSR len is zero\n",
      "ra[8063]: 16:10:54.061018 ArgusGenerateRecordStruct: post ARGUS_DATA_DSR len is zero\n",
      "ra[8070]: 16:10:55.080556 ArgusGenerateRecordStruct: pre ARGUS_DATA_DSR len is zero\n",
      "../util/process_data_argus.sh: line 3:  8091 Segmentation fault      (core dumped) ra -r $filename.argus -c',' -s srcid rank stime ltime trans flgs seq dur runtime idle mean stddev sum min max smac dmac soui doui saddr daddr proto sport dport stos dtos sdsb ddsb sco dco sttl dttl shops dhops sipid dipid smpls dmpls autoid sas das ias cause nstroke snstroke dnstroke pkts spkts dpkts bytes sbytes dbytes appbytes sappbytes dappbytes pcr load sload dload loss sloss dloss ploss psloss pdloss retrans sretrans dretrans pretrans psretrans pdretrans sgap dgap rate srate drate dir sintpkt sintdist sintpktact sintdistact sintpktidl sintdistidl dintpkt dintdist dintpktact dintdistact dintpktidl dintdistidl sjit sjitact sjitidle djit djitact djitidle state label suser duser swin dwin svlan dvlan svid dvid svpri dvpri srng erng stcpb dtcpb tcprtt synack ackdat tcpopt inode offset smeansz dmeansz spktsz smaxsz dpktsz dmaxsz sminsz dminsz dminsz > $filename.csv\n",
      "ra[8103]: 16:10:59.209493 ArgusGenerateRecordStruct: post ARGUS_DATA_DSR len is zero\n",
      "ra[8109]: 16:11:00.229928 ArgusGenerateRecordStruct: pre ARGUS_DATA_DSR len is zero\n",
      "../util/process_data_argus.sh: line 3:  8117 Segmentation fault      (core dumped) ra -r $filename.argus -c',' -s srcid rank stime ltime trans flgs seq dur runtime idle mean stddev sum min max smac dmac soui doui saddr daddr proto sport dport stos dtos sdsb ddsb sco dco sttl dttl shops dhops sipid dipid smpls dmpls autoid sas das ias cause nstroke snstroke dnstroke pkts spkts dpkts bytes sbytes dbytes appbytes sappbytes dappbytes pcr load sload dload loss sloss dloss ploss psloss pdloss retrans sretrans dretrans pretrans psretrans pdretrans sgap dgap rate srate drate dir sintpkt sintdist sintpktact sintdistact sintpktidl sintdistidl dintpkt dintdist dintpktact dintdistact dintpktidl dintdistidl sjit sjitact sjitidle djit djitact djitidle state label suser duser swin dwin svlan dvlan svid dvid svpri dvpri srng erng stcpb dtcpb tcprtt synack ackdat tcpopt inode offset smeansz dmeansz spktsz smaxsz dpktsz dmaxsz sminsz dminsz dminsz > $filename.csv\n",
      "ra[8129]: 16:11:03.331626 ArgusGenerateRecordStruct: pre ARGUS_DATA_DSR len is zero\n",
      "ra[8135]: 16:11:04.339590 ArgusGenerateRecordStruct: post ARGUS_DATA_DSR len is zero\n",
      "ra[8211]: 16:11:05.358726 ArgusGenerateRecordStruct: pre ARGUS_DATA_DSR len is zero\n",
      "ra[8239]: 16:11:06.378102 ArgusGenerateRecordStruct: pre ARGUS_DATA_DSR len is zero\n",
      "ra[8245]: 16:11:07.396210 ArgusGenerateRecordStruct: post ARGUS_DATA_DSR len is zero\n",
      "../util/process_data_argus.sh: line 3:  8251 Segmentation fault      (core dumped) ra -r $filename.argus -c',' -s srcid rank stime ltime trans flgs seq dur runtime idle mean stddev sum min max smac dmac soui doui saddr daddr proto sport dport stos dtos sdsb ddsb sco dco sttl dttl shops dhops sipid dipid smpls dmpls autoid sas das ias cause nstroke snstroke dnstroke pkts spkts dpkts bytes sbytes dbytes appbytes sappbytes dappbytes pcr load sload dload loss sloss dloss ploss psloss pdloss retrans sretrans dretrans pretrans psretrans pdretrans sgap dgap rate srate drate dir sintpkt sintdist sintpktact sintdistact sintpktidl sintdistidl dintpkt dintdist dintpktact dintdistact dintpktidl dintdistidl sjit sjitact sjitidle djit djitact djitidle state label suser duser swin dwin svlan dvlan svid dvid svpri dvpri srng erng stcpb dtcpb tcprtt synack ackdat tcpopt inode offset smeansz dmeansz spktsz smaxsz dpktsz dmaxsz sminsz dminsz dminsz > $filename.csv\n",
      "ra[8262]: 16:11:10.494743 ArgusGenerateRecordStruct: pre ARGUS_DATA_DSR len is zero\n",
      "ra[8268]: 16:11:11.513913 ArgusGenerateRecordStruct: pre ARGUS_DATA_DSR len is zero\n",
      "ra[8274]: 16:11:12.533584 ArgusGenerateRecordStruct: pre ARGUS_DATA_DSR len is zero\n",
      "../util/process_data_argus.sh: line 3:  8280 Segmentation fault      (core dumped) ra -r $filename.argus -c',' -s srcid rank stime ltime trans flgs seq dur runtime idle mean stddev sum min max smac dmac soui doui saddr daddr proto sport dport stos dtos sdsb ddsb sco dco sttl dttl shops dhops sipid dipid smpls dmpls autoid sas das ias cause nstroke snstroke dnstroke pkts spkts dpkts bytes sbytes dbytes appbytes sappbytes dappbytes pcr load sload dload loss sloss dloss ploss psloss pdloss retrans sretrans dretrans pretrans psretrans pdretrans sgap dgap rate srate drate dir sintpkt sintdist sintpktact sintdistact sintpktidl sintdistidl dintpkt dintdist dintpktact dintdistact dintpktidl dintdistidl sjit sjitact sjitidle djit djitact djitidle state label suser duser swin dwin svlan dvlan svid dvid svpri dvpri srng erng stcpb dtcpb tcprtt synack ackdat tcpopt inode offset smeansz dmeansz spktsz smaxsz dpktsz dmaxsz sminsz dminsz dminsz > $filename.csv\n",
      "ra[8291]: 16:11:15.640481 ArgusGenerateRecordStruct: pre ARGUS_DATA_DSR len is zero\n",
      "ra[8297]: 16:11:16.658668 ArgusGenerateRecordStruct: pre ARGUS_DATA_DSR len is zero\n",
      "ra[8303]: 16:11:17.686522 ArgusGenerateRecordStruct: pre ARGUS_DATA_DSR len is zero\n",
      "ra[8309]: 16:11:18.696707 ArgusGenerateRecordStruct: pre ARGUS_DATA_DSR len is zero\n",
      "ra[8316]: 16:11:19.723373 ArgusGenerateRecordStruct: pre ARGUS_DATA_DSR len is zero\n",
      "mkdir: cannot create directory ‘data/argus’: File exists\n",
      "mkdir: cannot create directory ‘data/argus/csv’: File exists\n"
     ]
    }
   ],
   "source": [
    "# Get argus flows from PCAPs\n",
    "!../util/process_data_argus.sh"
   ]
  },
  {
   "cell_type": "code",
   "execution_count": 3,
   "id": "4b24dcdd",
   "metadata": {},
   "outputs": [
    {
     "name": "stdout",
     "output_type": "stream",
     "text": [
      "mkdir: cannot create directory ‘data/csv’: File exists\r\n"
     ]
    }
   ],
   "source": [
    "# PCAP to CSV\n",
    "!../util/pcap_to_csv.sh"
   ]
  },
  {
   "cell_type": "code",
   "execution_count": 4,
   "id": "3feb9b98",
   "metadata": {},
   "outputs": [
    {
     "name": "stdout",
     "output_type": "stream",
     "text": [
      "mkdir: cannot create directory ‘data/csv’: File exists\r\n"
     ]
    }
   ],
   "source": [
    "# PCAPNG to CSV\n",
    "!../util/pcapng_to_csv.sh"
   ]
  },
  {
   "cell_type": "code",
   "execution_count": 5,
   "id": "7d13f8b2",
   "metadata": {},
   "outputs": [],
   "source": [
    "from os import listdir\n",
    "from os.path import isfile, join\n",
    "\n",
    "def getFilenames(path):\n",
    "    return [path+f for f in listdir(path) if isfile(join(path, f))]"
   ]
  },
  {
   "cell_type": "code",
   "execution_count": 6,
   "id": "84070c2d",
   "metadata": {},
   "outputs": [],
   "source": [
    "# Get argus data\n",
    "arguspath = \"data/argus/csv/\"\n",
    "argusCSVs = getFilenames(arguspath)\n",
    "\n",
    "# Get pcap data\n",
    "pcappath = \"data/csv/\"\n",
    "pcapCSVs = getFilenames(pcappath)\n",
    "data = argusCSVs + pcapCSVs"
   ]
  },
  {
   "cell_type": "code",
   "execution_count": 7,
   "id": "49e645d5",
   "metadata": {},
   "outputs": [],
   "source": [
    "import pandas as pd"
   ]
  },
  {
   "cell_type": "code",
   "execution_count": 8,
   "id": "3e82b639",
   "metadata": {},
   "outputs": [
    {
     "data": {
      "text/html": [
       "<div>\n",
       "<style scoped>\n",
       "    .dataframe tbody tr th:only-of-type {\n",
       "        vertical-align: middle;\n",
       "    }\n",
       "\n",
       "    .dataframe tbody tr th {\n",
       "        vertical-align: top;\n",
       "    }\n",
       "\n",
       "    .dataframe thead th {\n",
       "        text-align: right;\n",
       "    }\n",
       "</style>\n",
       "<table border=\"1\" class=\"dataframe\">\n",
       "  <thead>\n",
       "    <tr style=\"text-align: right;\">\n",
       "      <th></th>\n",
       "      <th>frame.number</th>\n",
       "      <th>frame.time</th>\n",
       "      <th>ip.src</th>\n",
       "      <th>ip.dst</th>\n",
       "      <th>ip.proto</th>\n",
       "      <th>frame.len</th>\n",
       "    </tr>\n",
       "  </thead>\n",
       "  <tbody>\n",
       "    <tr>\n",
       "      <th>0</th>\n",
       "      <td>1</td>\n",
       "      <td>Dec 31, 1969 19:04:01.000000000 EST</td>\n",
       "      <td>102.0.0.16</td>\n",
       "      <td>100.0.0.1</td>\n",
       "      <td>6</td>\n",
       "      <td>40</td>\n",
       "    </tr>\n",
       "    <tr>\n",
       "      <th>1</th>\n",
       "      <td>2</td>\n",
       "      <td>Dec 31, 1969 19:04:01.100000000 EST</td>\n",
       "      <td>100.0.0.1</td>\n",
       "      <td>102.0.0.16</td>\n",
       "      <td>6</td>\n",
       "      <td>40</td>\n",
       "    </tr>\n",
       "    <tr>\n",
       "      <th>2</th>\n",
       "      <td>3</td>\n",
       "      <td>Dec 31, 1969 19:04:01.100000000 EST</td>\n",
       "      <td>102.0.0.16</td>\n",
       "      <td>100.0.0.1</td>\n",
       "      <td>6</td>\n",
       "      <td>557</td>\n",
       "    </tr>\n",
       "    <tr>\n",
       "      <th>3</th>\n",
       "      <td>4</td>\n",
       "      <td>Dec 31, 1969 19:04:01.200000000 EST</td>\n",
       "      <td>100.0.0.1</td>\n",
       "      <td>102.0.0.16</td>\n",
       "      <td>6</td>\n",
       "      <td>1210</td>\n",
       "    </tr>\n",
       "    <tr>\n",
       "      <th>4</th>\n",
       "      <td>5</td>\n",
       "      <td>Dec 31, 1969 19:04:01.200000000 EST</td>\n",
       "      <td>102.0.0.16</td>\n",
       "      <td>100.0.0.1</td>\n",
       "      <td>6</td>\n",
       "      <td>120</td>\n",
       "    </tr>\n",
       "    <tr>\n",
       "      <th>...</th>\n",
       "      <td>...</td>\n",
       "      <td>...</td>\n",
       "      <td>...</td>\n",
       "      <td>...</td>\n",
       "      <td>...</td>\n",
       "      <td>...</td>\n",
       "    </tr>\n",
       "    <tr>\n",
       "      <th>4766</th>\n",
       "      <td>4767</td>\n",
       "      <td>Dec 31, 1969 19:59:59.272534000 EST</td>\n",
       "      <td>100.0.0.3</td>\n",
       "      <td>102.0.0.16</td>\n",
       "      <td>6</td>\n",
       "      <td>576</td>\n",
       "    </tr>\n",
       "    <tr>\n",
       "      <th>4767</th>\n",
       "      <td>4768</td>\n",
       "      <td>Dec 31, 1969 19:59:59.273534000 EST</td>\n",
       "      <td>102.0.0.16</td>\n",
       "      <td>100.0.0.3</td>\n",
       "      <td>6</td>\n",
       "      <td>40</td>\n",
       "    </tr>\n",
       "    <tr>\n",
       "      <th>4768</th>\n",
       "      <td>4769</td>\n",
       "      <td>Dec 31, 1969 20:00:00.000000000 EST</td>\n",
       "      <td>102.0.0.16</td>\n",
       "      <td>100.0.0.3</td>\n",
       "      <td>6</td>\n",
       "      <td>40</td>\n",
       "    </tr>\n",
       "    <tr>\n",
       "      <th>4769</th>\n",
       "      <td>4770</td>\n",
       "      <td>Dec 31, 1969 20:00:00.000000000 EST</td>\n",
       "      <td>102.0.0.16</td>\n",
       "      <td>145.239.82.229</td>\n",
       "      <td>6</td>\n",
       "      <td>40</td>\n",
       "    </tr>\n",
       "    <tr>\n",
       "      <th>4770</th>\n",
       "      <td>4771</td>\n",
       "      <td>Dec 31, 1969 20:00:00.000000000 EST</td>\n",
       "      <td>102.0.0.16</td>\n",
       "      <td>95.217.16.212</td>\n",
       "      <td>6</td>\n",
       "      <td>40</td>\n",
       "    </tr>\n",
       "  </tbody>\n",
       "</table>\n",
       "<p>4771 rows × 6 columns</p>\n",
       "</div>"
      ],
      "text/plain": [
       "      frame.number                           frame.time      ip.src  \\\n",
       "0                1  Dec 31, 1969 19:04:01.000000000 EST  102.0.0.16   \n",
       "1                2  Dec 31, 1969 19:04:01.100000000 EST   100.0.0.1   \n",
       "2                3  Dec 31, 1969 19:04:01.100000000 EST  102.0.0.16   \n",
       "3                4  Dec 31, 1969 19:04:01.200000000 EST   100.0.0.1   \n",
       "4                5  Dec 31, 1969 19:04:01.200000000 EST  102.0.0.16   \n",
       "...            ...                                  ...         ...   \n",
       "4766          4767  Dec 31, 1969 19:59:59.272534000 EST   100.0.0.3   \n",
       "4767          4768  Dec 31, 1969 19:59:59.273534000 EST  102.0.0.16   \n",
       "4768          4769  Dec 31, 1969 20:00:00.000000000 EST  102.0.0.16   \n",
       "4769          4770  Dec 31, 1969 20:00:00.000000000 EST  102.0.0.16   \n",
       "4770          4771  Dec 31, 1969 20:00:00.000000000 EST  102.0.0.16   \n",
       "\n",
       "              ip.dst  ip.proto  frame.len  \n",
       "0          100.0.0.1         6         40  \n",
       "1         102.0.0.16         6         40  \n",
       "2          100.0.0.1         6        557  \n",
       "3         102.0.0.16         6       1210  \n",
       "4          100.0.0.1         6        120  \n",
       "...              ...       ...        ...  \n",
       "4766      102.0.0.16         6        576  \n",
       "4767       100.0.0.3         6         40  \n",
       "4768       100.0.0.3         6         40  \n",
       "4769  145.239.82.229         6         40  \n",
       "4770   95.217.16.212         6         40  \n",
       "\n",
       "[4771 rows x 6 columns]"
      ]
     },
     "execution_count": 8,
     "metadata": {},
     "output_type": "execute_result"
    }
   ],
   "source": [
    "df = pd.read_csv (pcapCSVs[0])\n",
    "df"
   ]
  },
  {
   "cell_type": "code",
   "execution_count": 9,
   "id": "a3cbe7e9",
   "metadata": {},
   "outputs": [
    {
     "data": {
      "text/plain": [
       "['data/argus/csv/myMarkovClient6-102.0.0.16.csv',\n",
       " 'data/argus/csv/myMarkovClient2-102.0.0.12.csv',\n",
       " 'data/argus/csv/relay3guard-95.217.16.212.csv',\n",
       " 'data/argus/csv/myMarkovClient4-127.0.0.1.csv',\n",
       " 'data/argus/csv/sld.csv',\n",
       " 'data/argus/csv/4uthority1-127.0.0.1.csv',\n",
       " 'data/argus/csv/myMarkovClient1-102.0.0.11.csv',\n",
       " 'data/argus/csv/relay3guard-127.0.0.1.csv',\n",
       " 'data/argus/csv/myMarkovClient7-102.0.0.17.csv',\n",
       " 'data/argus/csv/relay1exitguard-127.0.0.1.csv',\n",
       " 'data/argus/csv/4uthority1-100.0.0.1.csv',\n",
       " 'data/argus/csv/myMarkovClient2-127.0.0.1.csv',\n",
       " 'data/argus/csv/4uthority2-127.0.0.1.csv',\n",
       " 'data/argus/csv/service.csv',\n",
       " 'data/argus/csv/myMarkovClient10-102.0.0.20.csv',\n",
       " 'data/argus/csv/myMarkovClient8-127.0.0.1.csv',\n",
       " 'data/argus/csv/relay4middle-213.35.191.39.csv',\n",
       " 'data/argus/csv/myMarkovClient9-102.0.0.19.csv',\n",
       " 'data/argus/csv/4uthority3-100.0.0.3.csv',\n",
       " 'data/argus/csv/isp.csv',\n",
       " 'data/argus/csv/myMarkovServer0-101.0.0.10.csv',\n",
       " 'data/argus/csv/myMarkovClient3-102.0.0.13.csv',\n",
       " 'data/argus/csv/myMarkovClient8-102.0.0.18.csv',\n",
       " 'data/argus/csv/relay2exit-198.98.53.153.csv',\n",
       " 'data/argus/csv/myMarkovClient6-127.0.0.1.csv',\n",
       " 'data/argus/csv/myMarkovClient5-102.0.0.15.csv',\n",
       " 'data/argus/csv/4uthority2-100.0.0.2.csv',\n",
       " 'data/argus/csv/myMarkovClient9-127.0.0.1.csv',\n",
       " 'data/argus/csv/myMarkovClient7-127.0.0.1.csv',\n",
       " 'data/argus/csv/myMarkovClient1-127.0.0.1.csv',\n",
       " 'data/argus/csv/relay1exitguard-145.239.82.229.csv',\n",
       " 'data/argus/csv/4uthority3-127.0.0.1.csv',\n",
       " 'data/argus/csv/myMarkovClient10-127.0.0.1.csv',\n",
       " 'data/argus/csv/relay4middle-127.0.0.1.csv',\n",
       " 'data/argus/csv/tld.csv',\n",
       " 'data/argus/csv/myMarkovClient4-102.0.0.14.csv',\n",
       " 'data/argus/csv/myMarkovClient3-127.0.0.1.csv',\n",
       " 'data/argus/csv/myMarkovServer0-127.0.0.1.csv',\n",
       " 'data/argus/csv/resolver.csv',\n",
       " 'data/argus/csv/root.csv',\n",
       " 'data/argus/csv/myMarkovClient5-127.0.0.1.csv',\n",
       " 'data/argus/csv/relay2exit-127.0.0.1.csv',\n",
       " 'data/csv/myMarkovClient6-102.0.0.16.csv',\n",
       " 'data/csv/myMarkovClient2-102.0.0.12.csv',\n",
       " 'data/csv/relay3guard-95.217.16.212.csv',\n",
       " 'data/csv/myMarkovClient4-127.0.0.1.csv',\n",
       " 'data/csv/sld.csv',\n",
       " 'data/csv/4uthority1-127.0.0.1.csv',\n",
       " 'data/csv/myMarkovClient1-102.0.0.11.csv',\n",
       " 'data/csv/relay3guard-127.0.0.1.csv',\n",
       " 'data/csv/myMarkovClient7-102.0.0.17.csv',\n",
       " 'data/csv/relay1exitguard-127.0.0.1.csv',\n",
       " 'data/csv/4uthority1-100.0.0.1.csv',\n",
       " 'data/csv/myMarkovClient2-127.0.0.1.csv',\n",
       " 'data/csv/4uthority2-127.0.0.1.csv',\n",
       " 'data/csv/service.csv',\n",
       " 'data/csv/myMarkovClient10-102.0.0.20.csv',\n",
       " 'data/csv/myMarkovClient8-127.0.0.1.csv',\n",
       " 'data/csv/relay4middle-213.35.191.39.csv',\n",
       " 'data/csv/myMarkovClient9-102.0.0.19.csv',\n",
       " 'data/csv/4uthority3-100.0.0.3.csv',\n",
       " 'data/csv/isp.csv',\n",
       " 'data/csv/myMarkovServer0-101.0.0.10.csv',\n",
       " 'data/csv/myMarkovClient3-102.0.0.13.csv',\n",
       " 'data/csv/myMarkovClient8-102.0.0.18.csv',\n",
       " 'data/csv/relay2exit-198.98.53.153.csv',\n",
       " 'data/csv/myMarkovClient6-127.0.0.1.csv',\n",
       " 'data/csv/myMarkovClient5-102.0.0.15.csv',\n",
       " 'data/csv/4uthority2-100.0.0.2.csv',\n",
       " 'data/csv/myMarkovClient9-127.0.0.1.csv',\n",
       " 'data/csv/myMarkovClient7-127.0.0.1.csv',\n",
       " 'data/csv/myMarkovClient1-127.0.0.1.csv',\n",
       " 'data/csv/relay1exitguard-145.239.82.229.csv',\n",
       " 'data/csv/4uthority3-127.0.0.1.csv',\n",
       " 'data/csv/myMarkovClient10-127.0.0.1.csv',\n",
       " 'data/csv/relay4middle-127.0.0.1.csv',\n",
       " 'data/csv/tld.csv',\n",
       " 'data/csv/myMarkovClient4-102.0.0.14.csv',\n",
       " 'data/csv/myMarkovClient3-127.0.0.1.csv',\n",
       " 'data/csv/myMarkovServer0-127.0.0.1.csv',\n",
       " 'data/csv/resolver.csv',\n",
       " 'data/csv/root.csv',\n",
       " 'data/csv/myMarkovClient5-127.0.0.1.csv',\n",
       " 'data/csv/relay2exit-127.0.0.1.csv']"
      ]
     },
     "execution_count": 9,
     "metadata": {},
     "output_type": "execute_result"
    }
   ],
   "source": [
    "data"
   ]
  },
  {
   "cell_type": "code",
   "execution_count": 10,
   "id": "d4fb54b3",
   "metadata": {},
   "outputs": [
    {
     "data": {
      "text/plain": [
       "['data/argus/csv/myMarkovClient6-102.0.0.16.csv',\n",
       " 'data/argus/csv/myMarkovClient2-102.0.0.12.csv',\n",
       " 'data/argus/csv/relay3guard-95.217.16.212.csv',\n",
       " 'data/argus/csv/myMarkovClient4-127.0.0.1.csv',\n",
       " 'data/argus/csv/sld.csv',\n",
       " 'data/argus/csv/4uthority1-127.0.0.1.csv',\n",
       " 'data/argus/csv/myMarkovClient1-102.0.0.11.csv',\n",
       " 'data/argus/csv/relay3guard-127.0.0.1.csv',\n",
       " 'data/argus/csv/myMarkovClient7-102.0.0.17.csv',\n",
       " 'data/argus/csv/relay1exitguard-127.0.0.1.csv',\n",
       " 'data/argus/csv/4uthority1-100.0.0.1.csv',\n",
       " 'data/argus/csv/myMarkovClient2-127.0.0.1.csv',\n",
       " 'data/argus/csv/4uthority2-127.0.0.1.csv',\n",
       " 'data/argus/csv/service.csv',\n",
       " 'data/argus/csv/myMarkovClient10-102.0.0.20.csv',\n",
       " 'data/argus/csv/myMarkovClient8-127.0.0.1.csv',\n",
       " 'data/argus/csv/relay4middle-213.35.191.39.csv',\n",
       " 'data/argus/csv/myMarkovClient9-102.0.0.19.csv',\n",
       " 'data/argus/csv/4uthority3-100.0.0.3.csv',\n",
       " 'data/argus/csv/isp.csv',\n",
       " 'data/argus/csv/myMarkovServer0-101.0.0.10.csv',\n",
       " 'data/argus/csv/myMarkovClient3-102.0.0.13.csv',\n",
       " 'data/argus/csv/myMarkovClient8-102.0.0.18.csv',\n",
       " 'data/argus/csv/relay2exit-198.98.53.153.csv',\n",
       " 'data/argus/csv/myMarkovClient6-127.0.0.1.csv',\n",
       " 'data/argus/csv/myMarkovClient5-102.0.0.15.csv',\n",
       " 'data/argus/csv/4uthority2-100.0.0.2.csv',\n",
       " 'data/argus/csv/myMarkovClient9-127.0.0.1.csv',\n",
       " 'data/argus/csv/myMarkovClient7-127.0.0.1.csv',\n",
       " 'data/argus/csv/myMarkovClient1-127.0.0.1.csv',\n",
       " 'data/argus/csv/relay1exitguard-145.239.82.229.csv',\n",
       " 'data/argus/csv/4uthority3-127.0.0.1.csv',\n",
       " 'data/argus/csv/myMarkovClient10-127.0.0.1.csv',\n",
       " 'data/argus/csv/relay4middle-127.0.0.1.csv',\n",
       " 'data/argus/csv/tld.csv',\n",
       " 'data/argus/csv/myMarkovClient4-102.0.0.14.csv',\n",
       " 'data/argus/csv/myMarkovClient3-127.0.0.1.csv',\n",
       " 'data/argus/csv/myMarkovServer0-127.0.0.1.csv',\n",
       " 'data/argus/csv/resolver.csv',\n",
       " 'data/argus/csv/root.csv',\n",
       " 'data/argus/csv/myMarkovClient5-127.0.0.1.csv',\n",
       " 'data/argus/csv/relay2exit-127.0.0.1.csv']"
      ]
     },
     "execution_count": 10,
     "metadata": {},
     "output_type": "execute_result"
    }
   ],
   "source": [
    "argusCSVs"
   ]
  },
  {
   "cell_type": "code",
   "execution_count": 11,
   "id": "96dd33f5",
   "metadata": {},
   "outputs": [
    {
     "data": {
      "text/plain": [
       "['data/argus/csv/myMarkovClient6-102.0.0.16.csv',\n",
       " 'data/argus/csv/myMarkovClient2-102.0.0.12.csv',\n",
       " 'data/argus/csv/myMarkovClient1-102.0.0.11.csv',\n",
       " 'data/argus/csv/myMarkovClient7-102.0.0.17.csv',\n",
       " 'data/argus/csv/myMarkovClient10-102.0.0.20.csv',\n",
       " 'data/argus/csv/myMarkovClient9-102.0.0.19.csv',\n",
       " 'data/argus/csv/myMarkovClient3-102.0.0.13.csv',\n",
       " 'data/argus/csv/myMarkovClient8-102.0.0.18.csv',\n",
       " 'data/argus/csv/myMarkovClient5-102.0.0.15.csv',\n",
       " 'data/argus/csv/myMarkovClient4-102.0.0.14.csv',\n",
       " 'data/csv/myMarkovClient6-102.0.0.16.csv',\n",
       " 'data/csv/myMarkovClient2-102.0.0.12.csv',\n",
       " 'data/csv/myMarkovClient1-102.0.0.11.csv',\n",
       " 'data/csv/myMarkovClient7-102.0.0.17.csv',\n",
       " 'data/csv/myMarkovClient10-102.0.0.20.csv',\n",
       " 'data/csv/myMarkovClient9-102.0.0.19.csv',\n",
       " 'data/csv/myMarkovClient3-102.0.0.13.csv',\n",
       " 'data/csv/myMarkovClient8-102.0.0.18.csv',\n",
       " 'data/csv/myMarkovClient5-102.0.0.15.csv',\n",
       " 'data/csv/myMarkovClient4-102.0.0.14.csv']"
      ]
     },
     "execution_count": 11,
     "metadata": {},
     "output_type": "execute_result"
    }
   ],
   "source": [
    "# Basic Scopes\n",
    "import re\n",
    "\n",
    "# Get all clients and ISP dns scope\n",
    "r = re.compile(\".*isp.csv|.*Client[0-9]*-(?!127\\.0\\.0\\.1)[0-9]*.[0-9]*.[0-9]*.[0-9]*..csv\")\n",
    "ISP_scope = list(filter(r.match, data))\n",
    "\n",
    "# Access to public resolver scope\n",
    "r = re.compile(\".*isp.csv\")\n",
    "Access_resolver = list(filter(r.match, data))\n",
    "\n",
    "# DNS Scope\n",
    "r = re.compile(\"(.*tld|.*root-server|.*sld).csv\")\n",
    "Access_to_auth_zone = list(filter(r.match, data))\n",
    "\n",
    "# Access Tor Scope\n",
    "r = re.compile(\".*Client[0-9]*-(?!127\\.0\\.0\\.1)[0-9]*.[0-9]*.[0-9]*.[0-9]*..csv\")\n",
    "Access_tor = list(filter(r.match, data))\n",
    "\n",
    "# Server Public Scope\n",
    "r = re.compile(\".*myMarkovServer[0-9]*-(?!127\\.0\\.0\\.1)[0-9]*\\.[0-9]*\\.[0-9]*\\.[0-9]*.csv\")\n",
    "Server_scope = list(filter(r.match, data))\n",
    "\n",
    "# tor Exit scope\n",
    "r = re.compile(\".*exit.*\")\n",
    "Tor_exit_Scope = list(filter(r.match, data))\n",
    "\n",
    "# tor Guard scope\n",
    "r = re.compile(\".*guard.*\")\n",
    "Tor_guard_Scope = list(filter(r.match, data))\n",
    "\n",
    "# tor Relay scope\n",
    "r = re.compile(\".*relay.*\")\n",
    "Tor_relay_Scope = list(filter(r.match, data))\n",
    "\n",
    "# tor Middle scope\n",
    "r = re.compile(\".*middle.*\")\n",
    "Tor_middle_Scope = list(filter(r.match, data))\n",
    "\n",
    "# tor 4uthority scope\n",
    "r = re.compile(\".*4uthority.*\")\n",
    "Tor_4uthority_Scope = list(filter(r.match, data))\n",
    "Access_tor"
   ]
  },
  {
   "cell_type": "code",
   "execution_count": 12,
   "id": "dee053b0",
   "metadata": {},
   "outputs": [],
   "source": [
    "# !pip install pyts\n",
    "\n",
    "from pyts.metrics import dtw, itakura_parallelogram, sakoe_chiba_band\n",
    "from pyts.metrics.dtw import (cost_matrix, accumulated_cost_matrix,\n",
    "                              _return_path, _blurred_path_region)\n",
    "\n",
    "def compare_ts(ts1, ts2):\n",
    "    dtw_classic, path_classic = dtw(ts1, ts2, dist='square',\n",
    "                                method='classic', return_path=True)\n",
    "    return dtw_classic"
   ]
  },
  {
   "cell_type": "code",
   "execution_count": 13,
   "id": "9e164446",
   "metadata": {},
   "outputs": [],
   "source": [
    "from pyts.datasets import load_gunpoint\n",
    "\n",
    "X, _, _, _ = load_gunpoint(return_X_y=True)\n",
    "x, y = X[0], X[1]"
   ]
  },
  {
   "cell_type": "code",
   "execution_count": 14,
   "id": "8c862cc0",
   "metadata": {},
   "outputs": [
    {
     "data": {
      "text/plain": [
       "0.43268499970930435"
      ]
     },
     "execution_count": 14,
     "metadata": {},
     "output_type": "execute_result"
    }
   ],
   "source": [
    "compare_ts(x, y)"
   ]
  },
  {
   "cell_type": "code",
   "execution_count": 15,
   "id": "fe49c7e6",
   "metadata": {},
   "outputs": [],
   "source": [
    "def get_ts(df, attr_list):\n",
    "    return 1"
   ]
  },
  {
   "cell_type": "code",
   "execution_count": 16,
   "id": "28ed47de",
   "metadata": {},
   "outputs": [],
   "source": [
    "def multi_to_single_tda(ts):\n",
    "    return ts"
   ]
  },
  {
   "cell_type": "code",
   "execution_count": 17,
   "id": "e41434bb",
   "metadata": {},
   "outputs": [],
   "source": [
    "def pcap_only(lis):\n",
    "    r = re.compile(\".*data/csv.*\")\n",
    "    return list(filter(r.match, lis))\n",
    "\n",
    "def format_time_col(df, time_col):\n",
    "    time_format='%b %d, %Y %X.%f'\n",
    "    df[time_col] = df[time_col].apply(lambda x: datetime.strptime(x[:-7], time_format))\n",
    "    df.set_index(time_col)\n",
    "    return df\n",
    "\n",
    "def scope_to_df(scope):\n",
    "    df = pd.DataFrame()\n",
    "    for f in scope:\n",
    "        ddf = pd.read_csv (f)\n",
    "        df = pd.concat([df, ddf])\n",
    "    return df"
   ]
  },
  {
   "cell_type": "code",
   "execution_count": 18,
   "id": "e568221e",
   "metadata": {},
   "outputs": [],
   "source": [
    "from datetime import datetime\n",
    "\n",
    "def df_to_ts(df):\n",
    "    df['count'] = 1\n",
    "    return df.set_index('frame.time').resample('T').sum().dropna().reset_index()"
   ]
  },
  {
   "cell_type": "code",
   "execution_count": 19,
   "id": "bdada46f",
   "metadata": {},
   "outputs": [
    {
     "data": {
      "text/plain": [
       "Timedelta('19328 days 20:14:17.180286')"
      ]
     },
     "execution_count": 19,
     "metadata": {},
     "output_type": "execute_result"
    }
   ],
   "source": [
    "# get start time for GNS3\n",
    "GNS3_data = format_time_col(scope_to_df(pcap_only(Access_resolver + Access_to_auth_zone)), 'frame.time')\n",
    "GNS3_starttime = GNS3_data.head(1)['frame.time'].tolist()[0]\n",
    "Shadow_starttime = datetime.strptime('Dec 31, 1969 19:30:00', '%b %d, %Y %X')\n",
    "Shadow_offset = GNS3_starttime - Shadow_starttime\n",
    "Shadow_offset"
   ]
  },
  {
   "cell_type": "code",
   "execution_count": 20,
   "id": "f6130e46",
   "metadata": {},
   "outputs": [
    {
     "data": {
      "text/html": [
       "<div>\n",
       "<style scoped>\n",
       "    .dataframe tbody tr th:only-of-type {\n",
       "        vertical-align: middle;\n",
       "    }\n",
       "\n",
       "    .dataframe tbody tr th {\n",
       "        vertical-align: top;\n",
       "    }\n",
       "\n",
       "    .dataframe thead th {\n",
       "        text-align: right;\n",
       "    }\n",
       "</style>\n",
       "<table border=\"1\" class=\"dataframe\">\n",
       "  <thead>\n",
       "    <tr style=\"text-align: right;\">\n",
       "      <th></th>\n",
       "      <th>frame.time</th>\n",
       "      <th>frame.number</th>\n",
       "      <th>ip.proto</th>\n",
       "      <th>frame.len</th>\n",
       "      <th>count</th>\n",
       "    </tr>\n",
       "  </thead>\n",
       "  <tbody>\n",
       "    <tr>\n",
       "      <th>0</th>\n",
       "      <td>2022-12-02 15:45:00</td>\n",
       "      <td>88</td>\n",
       "      <td>119.0</td>\n",
       "      <td>563</td>\n",
       "      <td>7</td>\n",
       "    </tr>\n",
       "  </tbody>\n",
       "</table>\n",
       "</div>"
      ],
      "text/plain": [
       "           frame.time  frame.number  ip.proto  frame.len  count\n",
       "0 2022-12-02 15:45:00            88     119.0        563      7"
      ]
     },
     "execution_count": 20,
     "metadata": {},
     "output_type": "execute_result"
    }
   ],
   "source": [
    "dns_df = format_time_col(scope_to_df(pcap_only(Access_to_auth_zone)), 'frame.time')\n",
    "# get Just DNS packets from capture\n",
    "DNS_PROTO = 17.0\n",
    "dns_df_filtered = dns_df[dns_df['ip.proto'] == DNS_PROTO]\n",
    "# just get DNS requests\n",
    "dns_df_filtered = dns_df_filtered[dns_df_filtered['ip.dst'] == \"172.16.1.10\"]\n",
    "\n",
    "dns_ts = df_to_ts(dns_df_filtered)\n",
    "dns_ts"
   ]
  },
  {
   "cell_type": "code",
   "execution_count": 21,
   "id": "10261563",
   "metadata": {},
   "outputs": [
    {
     "data": {
      "text/html": [
       "<div>\n",
       "<style scoped>\n",
       "    .dataframe tbody tr th:only-of-type {\n",
       "        vertical-align: middle;\n",
       "    }\n",
       "\n",
       "    .dataframe tbody tr th {\n",
       "        vertical-align: top;\n",
       "    }\n",
       "\n",
       "    .dataframe thead th {\n",
       "        text-align: right;\n",
       "    }\n",
       "</style>\n",
       "<table border=\"1\" class=\"dataframe\">\n",
       "  <thead>\n",
       "    <tr style=\"text-align: right;\">\n",
       "      <th></th>\n",
       "      <th>frame.time</th>\n",
       "      <th>frame.number</th>\n",
       "      <th>ip.src</th>\n",
       "      <th>ip.dst</th>\n",
       "      <th>ip.proto</th>\n",
       "      <th>frame.len</th>\n",
       "      <th>flowID</th>\n",
       "      <th>count</th>\n",
       "    </tr>\n",
       "  </thead>\n",
       "  <tbody>\n",
       "  </tbody>\n",
       "</table>\n",
       "</div>"
      ],
      "text/plain": [
       "Empty DataFrame\n",
       "Columns: [frame.time, frame.number, ip.src, ip.dst, ip.proto, frame.len, flowID, count]\n",
       "Index: []"
      ]
     },
     "execution_count": 21,
     "metadata": {},
     "output_type": "execute_result"
    }
   ],
   "source": [
    "server_df = format_time_col(scope_to_df(pcap_only(Server_scope)), 'frame.time')\n",
    "\n",
    "sus_ip = \"51.210.242.54\"\n",
    "\n",
    "# Get sus Server posts\n",
    "TCP_PROTO = 6.0\n",
    "server_df = server_df[server_df['ip.proto'] == TCP_PROTO]\n",
    "server_df = server_df[server_df['frame.len'] >64]\n",
    "server_df['frame.time'] = server_df['frame.time'].apply(lambda x: x + Shadow_offset)\n",
    "\n",
    "server_df['flowID'] = server_df['ip.src'] + \"->\"+server_df['ip.dst']\n",
    "\n",
    "to_sus = server_df[server_df['ip.dst'] == sus_ip].copy()\n",
    "from_sus = server_df[server_df['ip.src'] == sus_ip].copy()\n",
    "\n",
    "to_sus_ts = df_to_ts(to_sus)\n",
    "\n",
    "\n",
    "to_sus_ts"
   ]
  },
  {
   "cell_type": "code",
   "execution_count": 26,
   "id": "b16c8c2c",
   "metadata": {},
   "outputs": [],
   "source": [
    "from_sus_ts = df_to_ts(from_sus)\n",
    "from_sus_ts"
   ]
  },
  {
   "cell_type": "code",
   "execution_count": 27,
   "id": "bfa86c96",
   "metadata": {},
   "outputs": [],
   "source": [
    "# just to confirm DWT is working\n",
    "compare_ts(to_sus_ts['count'], from_sus_ts['count'])"
   ]
  },
  {
   "cell_type": "code",
   "execution_count": 28,
   "id": "3ba4c9b3",
   "metadata": {},
   "outputs": [
    {
     "data": {
      "text/html": [
       "<div>\n",
       "<style scoped>\n",
       "    .dataframe tbody tr th:only-of-type {\n",
       "        vertical-align: middle;\n",
       "    }\n",
       "\n",
       "    .dataframe tbody tr th {\n",
       "        vertical-align: top;\n",
       "    }\n",
       "\n",
       "    .dataframe thead th {\n",
       "        text-align: right;\n",
       "    }\n",
       "</style>\n",
       "<table border=\"1\" class=\"dataframe\">\n",
       "  <thead>\n",
       "    <tr style=\"text-align: right;\">\n",
       "      <th></th>\n",
       "      <th>frame.time</th>\n",
       "      <th>frame.number</th>\n",
       "      <th>ip.proto</th>\n",
       "      <th>frame.len</th>\n",
       "      <th>count</th>\n",
       "    </tr>\n",
       "  </thead>\n",
       "  <tbody>\n",
       "  </tbody>\n",
       "</table>\n",
       "</div>"
      ],
      "text/plain": [
       "Empty DataFrame\n",
       "Columns: [frame.time, frame.number, ip.proto, frame.len, count]\n",
       "Index: []"
      ]
     },
     "execution_count": 28,
     "metadata": {},
     "output_type": "execute_result"
    }
   ],
   "source": [
    "from datetime import timedelta\n",
    "# get sus IPs from DNS\n",
    "dns_ts_candidates = dns_ts[dns_ts['frame.time'] - from_sus_ts.head(1)['frame.time'] <= timedelta(minutes=2)]\n",
    "dns_ts_candidates"
   ]
  },
  {
   "cell_type": "code",
   "execution_count": 29,
   "id": "7f7cc88c",
   "metadata": {},
   "outputs": [
    {
     "data": {
      "text/html": [
       "<div>\n",
       "<style scoped>\n",
       "    .dataframe tbody tr th:only-of-type {\n",
       "        vertical-align: middle;\n",
       "    }\n",
       "\n",
       "    .dataframe tbody tr th {\n",
       "        vertical-align: top;\n",
       "    }\n",
       "\n",
       "    .dataframe thead th {\n",
       "        text-align: right;\n",
       "    }\n",
       "</style>\n",
       "<table border=\"1\" class=\"dataframe\">\n",
       "  <thead>\n",
       "    <tr style=\"text-align: right;\">\n",
       "      <th></th>\n",
       "      <th>frame.number</th>\n",
       "      <th>frame.time</th>\n",
       "      <th>ip.src</th>\n",
       "      <th>ip.dst</th>\n",
       "      <th>ip.proto</th>\n",
       "      <th>frame.len</th>\n",
       "    </tr>\n",
       "  </thead>\n",
       "  <tbody>\n",
       "    <tr>\n",
       "      <th>8</th>\n",
       "      <td>9</td>\n",
       "      <td>2022-12-02 15:18:18.480286</td>\n",
       "      <td>100.0.0.1</td>\n",
       "      <td>102.0.0.16</td>\n",
       "      <td>6</td>\n",
       "      <td>1500</td>\n",
       "    </tr>\n",
       "    <tr>\n",
       "      <th>16</th>\n",
       "      <td>17</td>\n",
       "      <td>2022-12-02 15:18:18.801286</td>\n",
       "      <td>100.0.0.1</td>\n",
       "      <td>102.0.0.16</td>\n",
       "      <td>6</td>\n",
       "      <td>1500</td>\n",
       "    </tr>\n",
       "    <tr>\n",
       "      <th>17</th>\n",
       "      <td>18</td>\n",
       "      <td>2022-12-02 15:18:18.801286</td>\n",
       "      <td>100.0.0.1</td>\n",
       "      <td>102.0.0.16</td>\n",
       "      <td>6</td>\n",
       "      <td>1500</td>\n",
       "    </tr>\n",
       "    <tr>\n",
       "      <th>22</th>\n",
       "      <td>23</td>\n",
       "      <td>2022-12-02 15:18:18.911286</td>\n",
       "      <td>100.0.0.1</td>\n",
       "      <td>102.0.0.16</td>\n",
       "      <td>6</td>\n",
       "      <td>1500</td>\n",
       "    </tr>\n",
       "    <tr>\n",
       "      <th>23</th>\n",
       "      <td>24</td>\n",
       "      <td>2022-12-02 15:18:18.911286</td>\n",
       "      <td>100.0.0.1</td>\n",
       "      <td>102.0.0.16</td>\n",
       "      <td>6</td>\n",
       "      <td>1500</td>\n",
       "    </tr>\n",
       "    <tr>\n",
       "      <th>...</th>\n",
       "      <td>...</td>\n",
       "      <td>...</td>\n",
       "      <td>...</td>\n",
       "      <td>...</td>\n",
       "      <td>...</td>\n",
       "      <td>...</td>\n",
       "    </tr>\n",
       "    <tr>\n",
       "      <th>3125</th>\n",
       "      <td>3126</td>\n",
       "      <td>2022-12-02 15:49:20.701514</td>\n",
       "      <td>198.98.53.153</td>\n",
       "      <td>102.0.0.14</td>\n",
       "      <td>6</td>\n",
       "      <td>1500</td>\n",
       "    </tr>\n",
       "    <tr>\n",
       "      <th>3339</th>\n",
       "      <td>3340</td>\n",
       "      <td>2022-12-02 15:51:09.627423</td>\n",
       "      <td>95.217.16.212</td>\n",
       "      <td>102.0.0.14</td>\n",
       "      <td>6</td>\n",
       "      <td>1500</td>\n",
       "    </tr>\n",
       "    <tr>\n",
       "      <th>3371</th>\n",
       "      <td>3372</td>\n",
       "      <td>2022-12-02 15:51:22.420596</td>\n",
       "      <td>102.0.0.14</td>\n",
       "      <td>95.217.16.212</td>\n",
       "      <td>6</td>\n",
       "      <td>1500</td>\n",
       "    </tr>\n",
       "    <tr>\n",
       "      <th>4298</th>\n",
       "      <td>4299</td>\n",
       "      <td>2022-12-02 16:03:05.697131</td>\n",
       "      <td>145.239.82.229</td>\n",
       "      <td>102.0.0.14</td>\n",
       "      <td>6</td>\n",
       "      <td>1500</td>\n",
       "    </tr>\n",
       "    <tr>\n",
       "      <th>4921</th>\n",
       "      <td>4922</td>\n",
       "      <td>2022-12-02 16:11:49.748673</td>\n",
       "      <td>95.217.16.212</td>\n",
       "      <td>102.0.0.14</td>\n",
       "      <td>6</td>\n",
       "      <td>1500</td>\n",
       "    </tr>\n",
       "  </tbody>\n",
       "</table>\n",
       "<p>397 rows × 6 columns</p>\n",
       "</div>"
      ],
      "text/plain": [
       "      frame.number                 frame.time          ip.src         ip.dst  \\\n",
       "8                9 2022-12-02 15:18:18.480286       100.0.0.1     102.0.0.16   \n",
       "16              17 2022-12-02 15:18:18.801286       100.0.0.1     102.0.0.16   \n",
       "17              18 2022-12-02 15:18:18.801286       100.0.0.1     102.0.0.16   \n",
       "22              23 2022-12-02 15:18:18.911286       100.0.0.1     102.0.0.16   \n",
       "23              24 2022-12-02 15:18:18.911286       100.0.0.1     102.0.0.16   \n",
       "...            ...                        ...             ...            ...   \n",
       "3125          3126 2022-12-02 15:49:20.701514   198.98.53.153     102.0.0.14   \n",
       "3339          3340 2022-12-02 15:51:09.627423   95.217.16.212     102.0.0.14   \n",
       "3371          3372 2022-12-02 15:51:22.420596      102.0.0.14  95.217.16.212   \n",
       "4298          4299 2022-12-02 16:03:05.697131  145.239.82.229     102.0.0.14   \n",
       "4921          4922 2022-12-02 16:11:49.748673   95.217.16.212     102.0.0.14   \n",
       "\n",
       "      ip.proto  frame.len  \n",
       "8            6       1500  \n",
       "16           6       1500  \n",
       "17           6       1500  \n",
       "22           6       1500  \n",
       "23           6       1500  \n",
       "...        ...        ...  \n",
       "3125         6       1500  \n",
       "3339         6       1500  \n",
       "3371         6       1500  \n",
       "4298         6       1500  \n",
       "4921         6       1500  \n",
       "\n",
       "[397 rows x 6 columns]"
      ]
     },
     "execution_count": 29,
     "metadata": {},
     "output_type": "execute_result"
    }
   ],
   "source": [
    "# PoL before and after ToR\n",
    "access_tor_df = format_time_col(scope_to_df(pcap_only(Access_tor)), 'frame.time')\n",
    "\n",
    "# Get sus Server posts\n",
    "access_tor_df = access_tor_df[access_tor_df['ip.proto'] == TCP_PROTO]\n",
    "access_tor_df = access_tor_df[access_tor_df['frame.len'] >1400]\n",
    "access_tor_df['frame.time'] = access_tor_df['frame.time'].apply(lambda x: x + Shadow_offset)\n",
    "\n",
    "access_tor_df"
   ]
  },
  {
   "cell_type": "code",
   "execution_count": 30,
   "id": "fab4acfb",
   "metadata": {},
   "outputs": [
    {
     "name": "stdout",
     "output_type": "stream",
     "text": [
      "100.0.0.1_to_102.0.0.11\n",
      "17\n"
     ]
    },
    {
     "ename": "ValueError",
     "evalue": "Found array with 0 sample(s) (shape=(0,)) while a minimum of 1 is required.",
     "output_type": "error",
     "traceback": [
      "\u001b[0;31m---------------------------------------------------------------------------\u001b[0m",
      "\u001b[0;31mValueError\u001b[0m                                Traceback (most recent call last)",
      "Cell \u001b[0;32mIn[30], line 10\u001b[0m\n\u001b[1;32m      8\u001b[0m \u001b[38;5;28mprint\u001b[39m(\u001b[38;5;28mlen\u001b[39m(group_ts))\n\u001b[1;32m      9\u001b[0m \u001b[38;5;28;01mif\u001b[39;00m \u001b[38;5;28mlen\u001b[39m(group_ts) \u001b[38;5;241m>\u001b[39m \u001b[38;5;241m1\u001b[39m:\n\u001b[0;32m---> 10\u001b[0m     \u001b[38;5;28mprint\u001b[39m(\u001b[38;5;124m\"\u001b[39m\u001b[38;5;124mSim: \u001b[39m\u001b[38;5;124m\"\u001b[39m \u001b[38;5;241m+\u001b[39m \u001b[38;5;28mstr\u001b[39m(\u001b[43mcompare_ts\u001b[49m\u001b[43m(\u001b[49m\u001b[43mfrom_sus_ts\u001b[49m\u001b[43m[\u001b[49m\u001b[38;5;124;43m'\u001b[39;49m\u001b[38;5;124;43mcount\u001b[39;49m\u001b[38;5;124;43m'\u001b[39;49m\u001b[43m]\u001b[49m\u001b[43m,\u001b[49m\u001b[43m \u001b[49m\u001b[43mgroup_ts\u001b[49m\u001b[43m[\u001b[49m\u001b[38;5;124;43m'\u001b[39;49m\u001b[38;5;124;43mcount\u001b[39;49m\u001b[38;5;124;43m'\u001b[39;49m\u001b[43m]\u001b[49m\u001b[43m)\u001b[49m))\n\u001b[1;32m     11\u001b[0m \u001b[38;5;28;01melse\u001b[39;00m:\n\u001b[1;32m     12\u001b[0m     \u001b[38;5;28mprint\u001b[39m(\u001b[38;5;124m\"\u001b[39m\u001b[38;5;124mSim: inf\u001b[39m\u001b[38;5;124m\"\u001b[39m)\n",
      "Cell \u001b[0;32mIn[12], line 8\u001b[0m, in \u001b[0;36mcompare_ts\u001b[0;34m(ts1, ts2)\u001b[0m\n\u001b[1;32m      7\u001b[0m \u001b[38;5;28;01mdef\u001b[39;00m \u001b[38;5;21mcompare_ts\u001b[39m(ts1, ts2):\n\u001b[0;32m----> 8\u001b[0m     dtw_classic, path_classic \u001b[38;5;241m=\u001b[39m \u001b[43mdtw\u001b[49m\u001b[43m(\u001b[49m\u001b[43mts1\u001b[49m\u001b[43m,\u001b[49m\u001b[43m \u001b[49m\u001b[43mts2\u001b[49m\u001b[43m,\u001b[49m\u001b[43m \u001b[49m\u001b[43mdist\u001b[49m\u001b[38;5;241;43m=\u001b[39;49m\u001b[38;5;124;43m'\u001b[39;49m\u001b[38;5;124;43msquare\u001b[39;49m\u001b[38;5;124;43m'\u001b[39;49m\u001b[43m,\u001b[49m\n\u001b[1;32m      9\u001b[0m \u001b[43m                                \u001b[49m\u001b[43mmethod\u001b[49m\u001b[38;5;241;43m=\u001b[39;49m\u001b[38;5;124;43m'\u001b[39;49m\u001b[38;5;124;43mclassic\u001b[39;49m\u001b[38;5;124;43m'\u001b[39;49m\u001b[43m,\u001b[49m\u001b[43m \u001b[49m\u001b[43mreturn_path\u001b[49m\u001b[38;5;241;43m=\u001b[39;49m\u001b[38;5;28;43;01mTrue\u001b[39;49;00m\u001b[43m)\u001b[49m\n\u001b[1;32m     10\u001b[0m     \u001b[38;5;28;01mreturn\u001b[39;00m dtw_classic\n",
      "File \u001b[0;32m~/.local/lib/python3.10/site-packages/pyts/metrics/dtw.py:1007\u001b[0m, in \u001b[0;36mdtw\u001b[0;34m(x, y, dist, method, options, precomputed_cost, return_cost, return_accumulated, return_path)\u001b[0m\n\u001b[1;32m   1004\u001b[0m \u001b[38;5;28;01mif\u001b[39;00m options \u001b[38;5;129;01mis\u001b[39;00m \u001b[38;5;28;01mNone\u001b[39;00m:\n\u001b[1;32m   1005\u001b[0m     options \u001b[38;5;241m=\u001b[39m \u001b[38;5;28mdict\u001b[39m()\n\u001b[1;32m   1006\u001b[0m x, y, precomputed_cost, n_timestamps_1, n_timestamps_2 \u001b[38;5;241m=\u001b[39m \\\n\u001b[0;32m-> 1007\u001b[0m     \u001b[43m_check_input_dtw\u001b[49m\u001b[43m(\u001b[49m\u001b[43mx\u001b[49m\u001b[43m,\u001b[49m\u001b[43m \u001b[49m\u001b[43my\u001b[49m\u001b[43m,\u001b[49m\u001b[43m \u001b[49m\u001b[43mprecomputed_cost\u001b[49m\u001b[43m,\u001b[49m\u001b[43m \u001b[49m\u001b[43mdist\u001b[49m\u001b[43m,\u001b[49m\u001b[43m \u001b[49m\u001b[43mmethod\u001b[49m\u001b[43m)\u001b[49m\n\u001b[1;32m   1008\u001b[0m region \u001b[38;5;241m=\u001b[39m _compute_region(n_timestamps_1, n_timestamps_2, method, dist, x\u001b[38;5;241m=\u001b[39mx,\n\u001b[1;32m   1009\u001b[0m                          y\u001b[38;5;241m=\u001b[39my, \u001b[38;5;241m*\u001b[39m\u001b[38;5;241m*\u001b[39moptions)\n\u001b[1;32m   1010\u001b[0m cost_mat \u001b[38;5;241m=\u001b[39m _input_to_cost(x, y, dist, precomputed_cost, region)\n",
      "File \u001b[0;32m~/.local/lib/python3.10/site-packages/pyts/metrics/dtw.py:65\u001b[0m, in \u001b[0;36m_check_input_dtw\u001b[0;34m(x, y, precomputed_cost, dist, method)\u001b[0m\n\u001b[1;32m     63\u001b[0m \u001b[38;5;28;01melse\u001b[39;00m:\n\u001b[1;32m     64\u001b[0m     cost \u001b[38;5;241m=\u001b[39m \u001b[38;5;28;01mNone\u001b[39;00m\n\u001b[0;32m---> 65\u001b[0m     x \u001b[38;5;241m=\u001b[39m \u001b[43mcheck_array\u001b[49m\u001b[43m(\u001b[49m\u001b[43mx\u001b[49m\u001b[43m,\u001b[49m\u001b[43m \u001b[49m\u001b[43mensure_2d\u001b[49m\u001b[38;5;241;43m=\u001b[39;49m\u001b[38;5;28;43;01mFalse\u001b[39;49;00m\u001b[43m,\u001b[49m\u001b[43m \u001b[49m\u001b[43mdtype\u001b[49m\u001b[38;5;241;43m=\u001b[39;49m\u001b[38;5;124;43m'\u001b[39;49m\u001b[38;5;124;43mfloat64\u001b[39;49m\u001b[38;5;124;43m'\u001b[39;49m\u001b[43m)\u001b[49m\n\u001b[1;32m     66\u001b[0m     y \u001b[38;5;241m=\u001b[39m check_array(y, ensure_2d\u001b[38;5;241m=\u001b[39m\u001b[38;5;28;01mFalse\u001b[39;00m, dtype\u001b[38;5;241m=\u001b[39m\u001b[38;5;124m'\u001b[39m\u001b[38;5;124mfloat64\u001b[39m\u001b[38;5;124m'\u001b[39m)\n\u001b[1;32m     67\u001b[0m     \u001b[38;5;28;01mif\u001b[39;00m x\u001b[38;5;241m.\u001b[39mndim \u001b[38;5;241m!=\u001b[39m \u001b[38;5;241m1\u001b[39m:\n",
      "File \u001b[0;32m~/.local/lib/python3.10/site-packages/sklearn/utils/validation.py:909\u001b[0m, in \u001b[0;36mcheck_array\u001b[0;34m(array, accept_sparse, accept_large_sparse, dtype, order, copy, force_all_finite, ensure_2d, allow_nd, ensure_min_samples, ensure_min_features, estimator, input_name)\u001b[0m\n\u001b[1;32m    907\u001b[0m     n_samples \u001b[38;5;241m=\u001b[39m _num_samples(array)\n\u001b[1;32m    908\u001b[0m     \u001b[38;5;28;01mif\u001b[39;00m n_samples \u001b[38;5;241m<\u001b[39m ensure_min_samples:\n\u001b[0;32m--> 909\u001b[0m         \u001b[38;5;28;01mraise\u001b[39;00m \u001b[38;5;167;01mValueError\u001b[39;00m(\n\u001b[1;32m    910\u001b[0m             \u001b[38;5;124m\"\u001b[39m\u001b[38;5;124mFound array with \u001b[39m\u001b[38;5;132;01m%d\u001b[39;00m\u001b[38;5;124m sample(s) (shape=\u001b[39m\u001b[38;5;132;01m%s\u001b[39;00m\u001b[38;5;124m) while a\u001b[39m\u001b[38;5;124m\"\u001b[39m\n\u001b[1;32m    911\u001b[0m             \u001b[38;5;124m\"\u001b[39m\u001b[38;5;124m minimum of \u001b[39m\u001b[38;5;132;01m%d\u001b[39;00m\u001b[38;5;124m is required\u001b[39m\u001b[38;5;132;01m%s\u001b[39;00m\u001b[38;5;124m.\u001b[39m\u001b[38;5;124m\"\u001b[39m\n\u001b[1;32m    912\u001b[0m             \u001b[38;5;241m%\u001b[39m (n_samples, array\u001b[38;5;241m.\u001b[39mshape, ensure_min_samples, context)\n\u001b[1;32m    913\u001b[0m         )\n\u001b[1;32m    915\u001b[0m \u001b[38;5;28;01mif\u001b[39;00m ensure_min_features \u001b[38;5;241m>\u001b[39m \u001b[38;5;241m0\u001b[39m \u001b[38;5;129;01mand\u001b[39;00m array\u001b[38;5;241m.\u001b[39mndim \u001b[38;5;241m==\u001b[39m \u001b[38;5;241m2\u001b[39m:\n\u001b[1;32m    916\u001b[0m     n_features \u001b[38;5;241m=\u001b[39m array\u001b[38;5;241m.\u001b[39mshape[\u001b[38;5;241m1\u001b[39m]\n",
      "\u001b[0;31mValueError\u001b[0m: Found array with 0 sample(s) (shape=(0,)) while a minimum of 1 is required."
     ]
    }
   ],
   "source": [
    "# make flow pairs and group by \n",
    "access_tor_df['flowID'] = access_tor_df['ip.src'] + \"_to_\"+access_tor_df['ip.dst']\n",
    "d = {}\n",
    "for name, group in access_tor_df.groupby(['flowID']):\n",
    "    print(name)\n",
    "    d[name] = group\n",
    "    group_ts = df_to_ts(group)\n",
    "    print(len(group_ts))\n",
    "    if len(group_ts) > 1:\n",
    "        print(\"Sim: \" + str(compare_ts(from_sus_ts['count'], group_ts['count'])))\n",
    "    else:\n",
    "        print(\"Sim: inf\")\n",
    "    print(\"\\n\")\n",
    "    # print(compare_ts(from_sus_ts['count'], "
   ]
  },
  {
   "cell_type": "code",
   "execution_count": null,
   "id": "f9712c1e",
   "metadata": {},
   "outputs": [],
   "source": [
    "from_sus_ts"
   ]
  },
  {
   "cell_type": "code",
   "execution_count": null,
   "id": "be2ec4b5",
   "metadata": {},
   "outputs": [],
   "source": [
    "d[\"102.0.0.11_to_198.98.54.15\"]"
   ]
  },
  {
   "cell_type": "code",
   "execution_count": null,
   "id": "15356427",
   "metadata": {},
   "outputs": [],
   "source": [
    "maybe = df_to_ts(d[\"102.0.0.11_to_198.98.54.15\"])\n",
    "maybe"
   ]
  },
  {
   "cell_type": "code",
   "execution_count": null,
   "id": "0f0b7e86",
   "metadata": {},
   "outputs": [],
   "source": [
    "compare_ts(from_sus_ts['count'], maybe['count'])"
   ]
  },
  {
   "cell_type": "code",
   "execution_count": null,
   "id": "304a864e",
   "metadata": {},
   "outputs": [],
   "source": [
    "!pip install Cython\n",
    "!pip install Ripser"
   ]
  },
  {
   "cell_type": "code",
   "execution_count": null,
   "id": "b44c9b80",
   "metadata": {},
   "outputs": [],
   "source": [
    "import numpy as np\n",
    "from ripser import ripser\n",
    "from persim import plot_diagrams\n",
    "from sklearn import preprocessing\n",
    "\n",
    "def rip_ts(window, dim, skip, data):\n",
    "    for_pl = {}\n",
    "    for i in range(0, len(data)-window+1, skip):\n",
    "        diagrams = ripser(data[i:i+window])['dgms']\n",
    "        for_pl[i] = diagrams[dim]\n",
    "    return for_pl\n",
    "\n",
    "def save_bd_to_files(header, data):\n",
    "    for d in data:\n",
    "        np.savetxt(header + \"_\"+ str(d) + '.csv', data[d], delimiter=\" \", fmt=\"%f\")"
   ]
  },
  {
   "cell_type": "code",
   "execution_count": null,
   "id": "5d97249f",
   "metadata": {},
   "outputs": [],
   "source": [
    "# read in files to ts\n",
    "import glob\n",
    "\n",
    "#l2 norm \n",
    "def landscape_to_l2norm(l):\n",
    "    sum = 0\n",
    "    for i in range(0, len(l)-1):\n",
    "        height = abs(l.iloc[i][1] - l.iloc[i+1][1])\n",
    "        base = abs(l.iloc[i][0] - l.iloc[i+1][0])\n",
    "        sum += (height*base)/2\n",
    "    return sum\n",
    "\n",
    "def rpls_to_ts(header, skip, norm):\n",
    "    header = header + \"_\"\n",
    "    tail = '.csv.pl'\n",
    "    files = glob.glob(header+'*'+tail)\n",
    "    data = {}\n",
    "    max_num = 0\n",
    "    for f in files:\n",
    "        num = int(re.search(header + '(.+?)'+ tail, f).group(1))\n",
    "        if num > max_num:\n",
    "            max_num = num\n",
    "        data[num] = norm(pd.read_csv(f, header=None).dropna())\n",
    "    max_num += 1\n",
    "    output = [None] * int((max_num)/skip)\n",
    "    for i in range(0,max_num, skip):\n",
    "        if i in data:\n",
    "            output[int(i/skip)] = data[i]\n",
    "        else:\n",
    "            output[int(i/skip)] = 0\n",
    "    return output"
   ]
  },
  {
   "cell_type": "code",
   "execution_count": null,
   "id": "cf7340a6",
   "metadata": {},
   "outputs": [],
   "source": [
    "# compute birth death pairs\n",
    "dim = 0 # must be greater than or equal to 0\n",
    "window = 3 # must be greater than or equal to 3\n",
    "skip = 1 # must be greater than or equal to 1"
   ]
  },
  {
   "cell_type": "code",
   "execution_count": null,
   "id": "9641b9a0",
   "metadata": {},
   "outputs": [],
   "source": [
    "def ts_to_tda(data, features, dim, window, skip, header):\n",
    "    # select features\n",
    "    data_2d = data[features].to_numpy()\n",
    "\n",
    "    # min max normalize features\n",
    "    data_2d_norm = preprocessing.normalize(data_2d, norm='max', axis=0)\n",
    "\n",
    "    # compute birth death pairs\n",
    "    rip_data = rip_ts(window, dim, skip, data_2d_norm)\n",
    "    save_bd_to_files(header, rip_data)\n",
    "\n",
    "    !../util/rpls_proccess.sh $header\n",
    "\n",
    "    data_tda = rpls_to_ts(header, skip, landscape_to_l2norm)\n",
    "    return data_tda"
   ]
  },
  {
   "cell_type": "code",
   "execution_count": null,
   "id": "cea5ac15",
   "metadata": {},
   "outputs": [],
   "source": [
    "from_sus_tda = ts_to_tda(from_sus_ts, ['count', 'frame.len'], dim, window, skip, \"from_sus\")"
   ]
  },
  {
   "cell_type": "code",
   "execution_count": null,
   "id": "05e2760c",
   "metadata": {},
   "outputs": [],
   "source": [
    "maybe_tda = ts_to_tda(maybe, ['count', 'frame.len'], dim, window, skip, \"maybe\")"
   ]
  },
  {
   "cell_type": "code",
   "execution_count": null,
   "id": "c3d5d68b",
   "metadata": {},
   "outputs": [],
   "source": [
    "compare_ts(from_sus_tda, maybe_tda)"
   ]
  },
  {
   "cell_type": "code",
   "execution_count": null,
   "id": "c548fabd",
   "metadata": {},
   "outputs": [],
   "source": [
    "for i in d:\n",
    "    print(i)\n",
    "    ts = df_to_ts(d[i])\n",
    "    if len(ts) < 2:\n",
    "        print(\"TS too short\\n\")\n",
    "        continue\n",
    "    i_tda = ts_to_tda(ts, ['count', 'frame.len'], dim, window, skip, i)\n",
    "    sim = compare_ts(from_sus_tda, i_tda)\n",
    "    print(\"Sim:\" + str(sim)+ \"\\n\")"
   ]
  },
  {
   "cell_type": "code",
   "execution_count": null,
   "id": "73a8df7a",
   "metadata": {},
   "outputs": [],
   "source": []
  },
  {
   "cell_type": "code",
   "execution_count": null,
   "id": "2d4b9eff",
   "metadata": {},
   "outputs": [],
   "source": []
  }
 ],
 "metadata": {
  "kernelspec": {
   "display_name": "Python 3 (ipykernel)",
   "language": "python",
   "name": "python3"
  },
  "language_info": {
   "codemirror_mode": {
    "name": "ipython",
    "version": 3
   },
   "file_extension": ".py",
   "mimetype": "text/x-python",
   "name": "python",
   "nbconvert_exporter": "python",
   "pygments_lexer": "ipython3",
   "version": "3.10.6"
  }
 },
 "nbformat": 4,
 "nbformat_minor": 5
}
