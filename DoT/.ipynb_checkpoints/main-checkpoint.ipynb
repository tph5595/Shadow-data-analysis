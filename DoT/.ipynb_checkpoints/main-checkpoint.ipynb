{
 "cells": [
  {
   "cell_type": "code",
   "execution_count": 7,
   "id": "a083b591-51ac-45f3-be29-accb64082663",
   "metadata": {},
   "outputs": [],
   "source": [
    "import itertools\n",
    "import importlib\n",
    "import yaml\n",
    "import sys\n",
    "import pickle\n",
    "import multiprocessing as mp\n",
    "import heapq\n",
    "from datetime import datetime\n",
    "import pandas as pd\n",
    "from tqdm import tqdm\n",
    "import numpy as np\n",
    "import math\n",
    "from fastdtw import fastdtw\n",
    "\n",
    "import sys  \n",
    "sys.path.insert(0, './code')\n",
    "\n",
    "# Local Imports\n",
    "from TDA import TDA_Parameters, ts_to_tda\n",
    "from CrossCorrelation import cross_cor\n",
    "from Metrics import recall_at_k, heap_to_ordered_list, get_value_position\n",
    "from Preprocess import preprocess\n",
    "from CastCol import cast_columns"
   ]
  },
  {
   "cell_type": "code",
   "execution_count": 8,
   "id": "6bdf0b1f-31f2-4ad3-96ce-d21ca6bb604b",
   "metadata": {},
   "outputs": [],
   "source": [
    "# ==============================================================================\n",
    "# Config\n",
    "# ==============================================================================\n",
    "config_file = \"./code/config/doh_multi.yaml\"\n",
    "with open(config_file, 'r') as file:\n",
    "    config = yaml.safe_load(file)\n",
    "# ==============================================================================\n",
    "# END Config\n",
    "# ==============================================================================\n",
    "\n",
    "window = pd.Timedelta(config['window'])\n",
    "num_cpus = config['num_cpus']\n",
    "\n",
    "module = importlib.import_module('ScopeFilters')\n",
    "for scope in config['scope_config']:\n",
    "    scope[2] = getattr(module, scope[2])\n",
    "\n",
    "tda_config = TDA_Parameters(config['dim'],\n",
    "                            config['tda_window'],\n",
    "                            config['skip'],\n",
    "                            config['k'],\n",
    "                            float(config['thresh']))"
   ]
  },
  {
   "cell_type": "code",
   "execution_count": 12,
   "id": "30c402b5-6552-4cd2-81a6-758b12d42ca5",
   "metadata": {},
   "outputs": [
    {
     "name": "stdout",
     "output_type": "stream",
     "text": [
      "Files for ISPAll: ['./code/../data/multiISP/doh_data/csv/isp-10.csv', './code/../data/multiISP/doh_data/csv/isp-8.csv', './code/../data/multiISP/doh_data/csv/isp-5.csv', './code/../data/multiISP/doh_data/csv/isp-3.csv', './code/../data/multiISP/doh_data/csv/isp-2.csv', './code/../data/multiISP/doh_data/csv/isp-7.csv', './code/../data/multiISP/doh_data/csv/isp-1.csv', './code/../data/multiISP/doh_data/csv/isp-4.csv', './code/../data/multiISP/doh_data/csv/isp-6.csv', './code/../data/multiISP/doh_data/csv/isp-9.csv']\n",
      "Files for ISP1: ['./code/../data/multiISP/doh_data/csv/isp-1.csv']\n",
      "Files for ISP2: ['./code/../data/multiISP/doh_data/csv/isp-2.csv']\n",
      "Files for ISP3: ['./code/../data/multiISP/doh_data/csv/isp-3.csv']\n",
      "Files for ISP4: ['./code/../data/multiISP/doh_data/csv/isp-4.csv']\n",
      "Files for ISP5: ['./code/../data/multiISP/doh_data/csv/isp-5.csv']\n",
      "Files for ISP6: ['./code/../data/multiISP/doh_data/csv/isp-6.csv']\n",
      "Files for ISP7: ['./code/../data/multiISP/doh_data/csv/isp-7.csv']\n",
      "Files for ISP8: ['./code/../data/multiISP/doh_data/csv/isp-8.csv']\n",
      "Files for ISP9: ['./code/../data/multiISP/doh_data/csv/isp-9.csv']\n",
      "Files for ISP10: ['./code/../data/multiISP/doh_data/csv/isp-10.csv']\n",
      "Files for resolver: ['./code/../data/multiISP/doh_data/csv/resolver.csv']\n",
      "Files for root: ['./code/../data/multiISP/doh_data/csv/root.csv']\n",
      "Files for SLD: ['./code/../data/multiISP/doh_data/csv/sld.csv']\n",
      "Files for TLD: ['./code/../data/multiISP/doh_data/csv/tld.csv']\n",
      "Files for Access_service: ['./code/../data/multiISP/doh_data/csv/access-to-service.csv']\n",
      "Files for Service: ['./code/../data/multiISP/doh_data/csv/service.csv']\n",
      "Files for chatlogs: ['./code/../data/multiISP/doh_data/server_log/pythonServerThread.stdout']\n"
     ]
    },
    {
     "name": "stderr",
     "output_type": "stream",
     "text": [
      "./code/DFutil.py:5: SettingWithCopyWarning: \n",
      "A value is trying to be set on a copy of a slice from a DataFrame.\n",
      "Try using .loc[row_indexer,col_indexer] = value instead\n",
      "\n",
      "See the caveats in the documentation: https://pandas.pydata.org/pandas-docs/stable/user_guide/indexing.html#returning-a-view-versus-a-copy\n",
      "  df.loc[:, 'count'] = 1\n",
      "./code/DFutil.py:5: SettingWithCopyWarning: \n",
      "A value is trying to be set on a copy of a slice from a DataFrame.\n",
      "Try using .loc[row_indexer,col_indexer] = value instead\n",
      "\n",
      "See the caveats in the documentation: https://pandas.pydata.org/pandas-docs/stable/user_guide/indexing.html#returning-a-view-versus-a-copy\n",
      "  df.loc[:, 'count'] = 1\n",
      "./code/DFutil.py:5: SettingWithCopyWarning: \n",
      "A value is trying to be set on a copy of a slice from a DataFrame.\n",
      "Try using .loc[row_indexer,col_indexer] = value instead\n",
      "\n",
      "See the caveats in the documentation: https://pandas.pydata.org/pandas-docs/stable/user_guide/indexing.html#returning-a-view-versus-a-copy\n",
      "  df.loc[:, 'count'] = 1\n",
      "./code/DFutil.py:5: SettingWithCopyWarning: \n",
      "A value is trying to be set on a copy of a slice from a DataFrame.\n",
      "Try using .loc[row_indexer,col_indexer] = value instead\n",
      "\n",
      "See the caveats in the documentation: https://pandas.pydata.org/pandas-docs/stable/user_guide/indexing.html#returning-a-view-versus-a-copy\n",
      "  df.loc[:, 'count'] = 1\n",
      "./code/DFutil.py:5: SettingWithCopyWarning: \n",
      "A value is trying to be set on a copy of a slice from a DataFrame.\n",
      "Try using .loc[row_indexer,col_indexer] = value instead\n",
      "\n",
      "See the caveats in the documentation: https://pandas.pydata.org/pandas-docs/stable/user_guide/indexing.html#returning-a-view-versus-a-copy\n",
      "  df.loc[:, 'count'] = 1\n",
      "./code/DFutil.py:5: SettingWithCopyWarning: \n",
      "A value is trying to be set on a copy of a slice from a DataFrame.\n",
      "Try using .loc[row_indexer,col_indexer] = value instead\n",
      "\n",
      "See the caveats in the documentation: https://pandas.pydata.org/pandas-docs/stable/user_guide/indexing.html#returning-a-view-versus-a-copy\n",
      "  df.loc[:, 'count'] = 1\n",
      "./code/DFutil.py:5: SettingWithCopyWarning: \n",
      "A value is trying to be set on a copy of a slice from a DataFrame.\n",
      "Try using .loc[row_indexer,col_indexer] = value instead\n",
      "\n",
      "See the caveats in the documentation: https://pandas.pydata.org/pandas-docs/stable/user_guide/indexing.html#returning-a-view-versus-a-copy\n",
      "  df.loc[:, 'count'] = 1\n",
      "./code/DFutil.py:5: SettingWithCopyWarning: \n",
      "A value is trying to be set on a copy of a slice from a DataFrame.\n",
      "Try using .loc[row_indexer,col_indexer] = value instead\n",
      "\n",
      "See the caveats in the documentation: https://pandas.pydata.org/pandas-docs/stable/user_guide/indexing.html#returning-a-view-versus-a-copy\n",
      "  df.loc[:, 'count'] = 1\n",
      "./code/DFutil.py:5: SettingWithCopyWarning: \n",
      "A value is trying to be set on a copy of a slice from a DataFrame.\n",
      "Try using .loc[row_indexer,col_indexer] = value instead\n",
      "\n",
      "See the caveats in the documentation: https://pandas.pydata.org/pandas-docs/stable/user_guide/indexing.html#returning-a-view-versus-a-copy\n",
      "  df.loc[:, 'count'] = 1\n",
      "./code/DFutil.py:5: SettingWithCopyWarning: \n",
      "A value is trying to be set on a copy of a slice from a DataFrame.\n",
      "Try using .loc[row_indexer,col_indexer] = value instead\n",
      "\n",
      "See the caveats in the documentation: https://pandas.pydata.org/pandas-docs/stable/user_guide/indexing.html#returning-a-view-versus-a-copy\n",
      "  df.loc[:, 'count'] = 1\n",
      "./code/DFutil.py:5: SettingWithCopyWarning: \n",
      "A value is trying to be set on a copy of a slice from a DataFrame.\n",
      "Try using .loc[row_indexer,col_indexer] = value instead\n",
      "\n",
      "See the caveats in the documentation: https://pandas.pydata.org/pandas-docs/stable/user_guide/indexing.html#returning-a-view-versus-a-copy\n",
      "  df.loc[:, 'count'] = 1\n",
      "./code/DFutil.py:5: SettingWithCopyWarning: \n",
      "A value is trying to be set on a copy of a slice from a DataFrame.\n",
      "Try using .loc[row_indexer,col_indexer] = value instead\n",
      "\n",
      "See the caveats in the documentation: https://pandas.pydata.org/pandas-docs/stable/user_guide/indexing.html#returning-a-view-versus-a-copy\n",
      "  df.loc[:, 'count'] = 1\n",
      "./code/DFutil.py:5: SettingWithCopyWarning: \n",
      "A value is trying to be set on a copy of a slice from a DataFrame.\n",
      "Try using .loc[row_indexer,col_indexer] = value instead\n",
      "\n",
      "See the caveats in the documentation: https://pandas.pydata.org/pandas-docs/stable/user_guide/indexing.html#returning-a-view-versus-a-copy\n",
      "  df.loc[:, 'count'] = 1\n",
      "./code/DFutil.py:5: SettingWithCopyWarning: \n",
      "A value is trying to be set on a copy of a slice from a DataFrame.\n",
      "Try using .loc[row_indexer,col_indexer] = value instead\n",
      "\n",
      "See the caveats in the documentation: https://pandas.pydata.org/pandas-docs/stable/user_guide/indexing.html#returning-a-view-versus-a-copy\n",
      "  df.loc[:, 'count'] = 1\n",
      "./code/DFutil.py:5: SettingWithCopyWarning: \n",
      "A value is trying to be set on a copy of a slice from a DataFrame.\n",
      "Try using .loc[row_indexer,col_indexer] = value instead\n",
      "\n",
      "See the caveats in the documentation: https://pandas.pydata.org/pandas-docs/stable/user_guide/indexing.html#returning-a-view-versus-a-copy\n",
      "  df.loc[:, 'count'] = 1\n",
      "./code/DFutil.py:5: SettingWithCopyWarning: \n",
      "A value is trying to be set on a copy of a slice from a DataFrame.\n",
      "Try using .loc[row_indexer,col_indexer] = value instead\n",
      "\n",
      "See the caveats in the documentation: https://pandas.pydata.org/pandas-docs/stable/user_guide/indexing.html#returning-a-view-versus-a-copy\n",
      "  df.loc[:, 'count'] = 1\n",
      "./code/DFutil.py:5: SettingWithCopyWarning: \n",
      "A value is trying to be set on a copy of a slice from a DataFrame.\n",
      "Try using .loc[row_indexer,col_indexer] = value instead\n",
      "\n",
      "See the caveats in the documentation: https://pandas.pydata.org/pandas-docs/stable/user_guide/indexing.html#returning-a-view-versus-a-copy\n",
      "  df.loc[:, 'count'] = 1\n",
      "./code/DFutil.py:5: SettingWithCopyWarning: \n",
      "A value is trying to be set on a copy of a slice from a DataFrame.\n",
      "Try using .loc[row_indexer,col_indexer] = value instead\n",
      "\n",
      "See the caveats in the documentation: https://pandas.pydata.org/pandas-docs/stable/user_guide/indexing.html#returning-a-view-versus-a-copy\n",
      "  df.loc[:, 'count'] = 1\n",
      "./code/DFutil.py:5: SettingWithCopyWarning: \n",
      "A value is trying to be set on a copy of a slice from a DataFrame.\n",
      "Try using .loc[row_indexer,col_indexer] = value instead\n",
      "\n",
      "See the caveats in the documentation: https://pandas.pydata.org/pandas-docs/stable/user_guide/indexing.html#returning-a-view-versus-a-copy\n",
      "  df.loc[:, 'count'] = 1\n",
      "./code/DFutil.py:5: SettingWithCopyWarning: \n",
      "A value is trying to be set on a copy of a slice from a DataFrame.\n",
      "Try using .loc[row_indexer,col_indexer] = value instead\n",
      "\n",
      "See the caveats in the documentation: https://pandas.pydata.org/pandas-docs/stable/user_guide/indexing.html#returning-a-view-versus-a-copy\n",
      "  df.loc[:, 'count'] = 1\n",
      "./code/DFutil.py:5: SettingWithCopyWarning: \n",
      "A value is trying to be set on a copy of a slice from a DataFrame.\n",
      "Try using .loc[row_indexer,col_indexer] = value instead\n",
      "\n",
      "See the caveats in the documentation: https://pandas.pydata.org/pandas-docs/stable/user_guide/indexing.html#returning-a-view-versus-a-copy\n",
      "  df.loc[:, 'count'] = 1\n",
      "./code/DFutil.py:5: SettingWithCopyWarning: \n",
      "A value is trying to be set on a copy of a slice from a DataFrame.\n",
      "Try using .loc[row_indexer,col_indexer] = value instead\n",
      "\n",
      "See the caveats in the documentation: https://pandas.pydata.org/pandas-docs/stable/user_guide/indexing.html#returning-a-view-versus-a-copy\n",
      "  df.loc[:, 'count'] = 1\n",
      "./code/DFutil.py:5: SettingWithCopyWarning: \n",
      "A value is trying to be set on a copy of a slice from a DataFrame.\n",
      "Try using .loc[row_indexer,col_indexer] = value instead\n",
      "\n",
      "See the caveats in the documentation: https://pandas.pydata.org/pandas-docs/stable/user_guide/indexing.html#returning-a-view-versus-a-copy\n",
      "  df.loc[:, 'count'] = 1\n",
      "./code/DFutil.py:5: SettingWithCopyWarning: \n",
      "A value is trying to be set on a copy of a slice from a DataFrame.\n",
      "Try using .loc[row_indexer,col_indexer] = value instead\n",
      "\n",
      "See the caveats in the documentation: https://pandas.pydata.org/pandas-docs/stable/user_guide/indexing.html#returning-a-view-versus-a-copy\n",
      "  df.loc[:, 'count'] = 1\n",
      "./code/DFutil.py:5: SettingWithCopyWarning: \n",
      "A value is trying to be set on a copy of a slice from a DataFrame.\n",
      "Try using .loc[row_indexer,col_indexer] = value instead\n",
      "\n",
      "See the caveats in the documentation: https://pandas.pydata.org/pandas-docs/stable/user_guide/indexing.html#returning-a-view-versus-a-copy\n",
      "  df.loc[:, 'count'] = 1\n",
      "./code/DFutil.py:5: SettingWithCopyWarning: \n",
      "A value is trying to be set on a copy of a slice from a DataFrame.\n",
      "Try using .loc[row_indexer,col_indexer] = value instead\n",
      "\n",
      "See the caveats in the documentation: https://pandas.pydata.org/pandas-docs/stable/user_guide/indexing.html#returning-a-view-versus-a-copy\n",
      "  df.loc[:, 'count'] = 1\n",
      "./code/DFutil.py:5: SettingWithCopyWarning: \n",
      "A value is trying to be set on a copy of a slice from a DataFrame.\n",
      "Try using .loc[row_indexer,col_indexer] = value instead\n",
      "\n",
      "See the caveats in the documentation: https://pandas.pydata.org/pandas-docs/stable/user_guide/indexing.html#returning-a-view-versus-a-copy\n",
      "  df.loc[:, 'count'] = 1\n",
      "./code/DFutil.py:5: SettingWithCopyWarning: \n",
      "A value is trying to be set on a copy of a slice from a DataFrame.\n",
      "Try using .loc[row_indexer,col_indexer] = value instead\n",
      "\n",
      "See the caveats in the documentation: https://pandas.pydata.org/pandas-docs/stable/user_guide/indexing.html#returning-a-view-versus-a-copy\n",
      "  df.loc[:, 'count'] = 1\n",
      "./code/DFutil.py:5: SettingWithCopyWarning: \n",
      "A value is trying to be set on a copy of a slice from a DataFrame.\n",
      "Try using .loc[row_indexer,col_indexer] = value instead\n",
      "\n",
      "See the caveats in the documentation: https://pandas.pydata.org/pandas-docs/stable/user_guide/indexing.html#returning-a-view-versus-a-copy\n",
      "  df.loc[:, 'count'] = 1\n",
      "./code/DFutil.py:5: SettingWithCopyWarning: \n",
      "A value is trying to be set on a copy of a slice from a DataFrame.\n",
      "Try using .loc[row_indexer,col_indexer] = value instead\n",
      "\n",
      "See the caveats in the documentation: https://pandas.pydata.org/pandas-docs/stable/user_guide/indexing.html#returning-a-view-versus-a-copy\n",
      "  df.loc[:, 'count'] = 1\n",
      "./code/DFutil.py:5: SettingWithCopyWarning: \n",
      "A value is trying to be set on a copy of a slice from a DataFrame.\n",
      "Try using .loc[row_indexer,col_indexer] = value instead\n",
      "\n",
      "See the caveats in the documentation: https://pandas.pydata.org/pandas-docs/stable/user_guide/indexing.html#returning-a-view-versus-a-copy\n",
      "  df.loc[:, 'count'] = 1\n",
      "./code/DFutil.py:5: SettingWithCopyWarning: \n",
      "A value is trying to be set on a copy of a slice from a DataFrame.\n",
      "Try using .loc[row_indexer,col_indexer] = value instead\n",
      "\n",
      "See the caveats in the documentation: https://pandas.pydata.org/pandas-docs/stable/user_guide/indexing.html#returning-a-view-versus-a-copy\n",
      "  df.loc[:, 'count'] = 1\n",
      "./code/DFutil.py:5: SettingWithCopyWarning: \n",
      "A value is trying to be set on a copy of a slice from a DataFrame.\n",
      "Try using .loc[row_indexer,col_indexer] = value instead\n",
      "\n",
      "See the caveats in the documentation: https://pandas.pydata.org/pandas-docs/stable/user_guide/indexing.html#returning-a-view-versus-a-copy\n",
      "  df.loc[:, 'count'] = 1\n",
      "./code/DFutil.py:5: SettingWithCopyWarning: \n",
      "A value is trying to be set on a copy of a slice from a DataFrame.\n",
      "Try using .loc[row_indexer,col_indexer] = value instead\n",
      "\n",
      "See the caveats in the documentation: https://pandas.pydata.org/pandas-docs/stable/user_guide/indexing.html#returning-a-view-versus-a-copy\n",
      "  df.loc[:, 'count'] = 1\n",
      "./code/DFutil.py:5: SettingWithCopyWarning: \n",
      "A value is trying to be set on a copy of a slice from a DataFrame.\n",
      "Try using .loc[row_indexer,col_indexer] = value instead\n",
      "\n",
      "See the caveats in the documentation: https://pandas.pydata.org/pandas-docs/stable/user_guide/indexing.html#returning-a-view-versus-a-copy\n",
      "  df.loc[:, 'count'] = 1\n",
      "./code/DFutil.py:5: SettingWithCopyWarning: \n",
      "A value is trying to be set on a copy of a slice from a DataFrame.\n",
      "Try using .loc[row_indexer,col_indexer] = value instead\n",
      "\n",
      "See the caveats in the documentation: https://pandas.pydata.org/pandas-docs/stable/user_guide/indexing.html#returning-a-view-versus-a-copy\n",
      "  df.loc[:, 'count'] = 1\n",
      "./code/DFutil.py:5: SettingWithCopyWarning: \n",
      "A value is trying to be set on a copy of a slice from a DataFrame.\n",
      "Try using .loc[row_indexer,col_indexer] = value instead\n",
      "\n",
      "See the caveats in the documentation: https://pandas.pydata.org/pandas-docs/stable/user_guide/indexing.html#returning-a-view-versus-a-copy\n",
      "  df.loc[:, 'count'] = 1\n",
      "./code/DFutil.py:5: SettingWithCopyWarning: \n",
      "A value is trying to be set on a copy of a slice from a DataFrame.\n",
      "Try using .loc[row_indexer,col_indexer] = value instead\n",
      "\n",
      "See the caveats in the documentation: https://pandas.pydata.org/pandas-docs/stable/user_guide/indexing.html#returning-a-view-versus-a-copy\n",
      "  df.loc[:, 'count'] = 1\n",
      "./code/DFutil.py:5: SettingWithCopyWarning: \n",
      "A value is trying to be set on a copy of a slice from a DataFrame.\n",
      "Try using .loc[row_indexer,col_indexer] = value instead\n",
      "\n",
      "See the caveats in the documentation: https://pandas.pydata.org/pandas-docs/stable/user_guide/indexing.html#returning-a-view-versus-a-copy\n",
      "  df.loc[:, 'count'] = 1\n",
      "./code/DFutil.py:5: SettingWithCopyWarning: \n",
      "A value is trying to be set on a copy of a slice from a DataFrame.\n",
      "Try using .loc[row_indexer,col_indexer] = value instead\n",
      "\n",
      "See the caveats in the documentation: https://pandas.pydata.org/pandas-docs/stable/user_guide/indexing.html#returning-a-view-versus-a-copy\n",
      "  df.loc[:, 'count'] = 1\n",
      "./code/DFutil.py:5: SettingWithCopyWarning: \n",
      "A value is trying to be set on a copy of a slice from a DataFrame.\n",
      "Try using .loc[row_indexer,col_indexer] = value instead\n",
      "\n",
      "See the caveats in the documentation: https://pandas.pydata.org/pandas-docs/stable/user_guide/indexing.html#returning-a-view-versus-a-copy\n",
      "  df.loc[:, 'count'] = 1\n",
      "./code/DFutil.py:5: SettingWithCopyWarning: \n",
      "A value is trying to be set on a copy of a slice from a DataFrame.\n",
      "Try using .loc[row_indexer,col_indexer] = value instead\n",
      "\n",
      "See the caveats in the documentation: https://pandas.pydata.org/pandas-docs/stable/user_guide/indexing.html#returning-a-view-versus-a-copy\n",
      "  df.loc[:, 'count'] = 1\n",
      "./code/DFutil.py:5: SettingWithCopyWarning: \n",
      "A value is trying to be set on a copy of a slice from a DataFrame.\n",
      "Try using .loc[row_indexer,col_indexer] = value instead\n",
      "\n",
      "See the caveats in the documentation: https://pandas.pydata.org/pandas-docs/stable/user_guide/indexing.html#returning-a-view-versus-a-copy\n",
      "  df.loc[:, 'count'] = 1\n",
      "./code/DFutil.py:5: SettingWithCopyWarning: \n",
      "A value is trying to be set on a copy of a slice from a DataFrame.\n",
      "Try using .loc[row_indexer,col_indexer] = value instead\n",
      "\n",
      "See the caveats in the documentation: https://pandas.pydata.org/pandas-docs/stable/user_guide/indexing.html#returning-a-view-versus-a-copy\n",
      "  df.loc[:, 'count'] = 1\n",
      "./code/DFutil.py:5: SettingWithCopyWarning: \n",
      "A value is trying to be set on a copy of a slice from a DataFrame.\n",
      "Try using .loc[row_indexer,col_indexer] = value instead\n",
      "\n",
      "See the caveats in the documentation: https://pandas.pydata.org/pandas-docs/stable/user_guide/indexing.html#returning-a-view-versus-a-copy\n",
      "  df.loc[:, 'count'] = 1\n",
      "./code/DFutil.py:5: SettingWithCopyWarning: \n",
      "A value is trying to be set on a copy of a slice from a DataFrame.\n",
      "Try using .loc[row_indexer,col_indexer] = value instead\n",
      "\n",
      "See the caveats in the documentation: https://pandas.pydata.org/pandas-docs/stable/user_guide/indexing.html#returning-a-view-versus-a-copy\n",
      "  df.loc[:, 'count'] = 1\n",
      "./code/DFutil.py:5: SettingWithCopyWarning: \n",
      "A value is trying to be set on a copy of a slice from a DataFrame.\n",
      "Try using .loc[row_indexer,col_indexer] = value instead\n",
      "\n",
      "See the caveats in the documentation: https://pandas.pydata.org/pandas-docs/stable/user_guide/indexing.html#returning-a-view-versus-a-copy\n",
      "  df.loc[:, 'count'] = 1\n",
      "./code/DFutil.py:5: SettingWithCopyWarning: \n",
      "A value is trying to be set on a copy of a slice from a DataFrame.\n",
      "Try using .loc[row_indexer,col_indexer] = value instead\n",
      "\n",
      "See the caveats in the documentation: https://pandas.pydata.org/pandas-docs/stable/user_guide/indexing.html#returning-a-view-versus-a-copy\n",
      "  df.loc[:, 'count'] = 1\n",
      "./code/DFutil.py:5: SettingWithCopyWarning: \n",
      "A value is trying to be set on a copy of a slice from a DataFrame.\n",
      "Try using .loc[row_indexer,col_indexer] = value instead\n",
      "\n",
      "See the caveats in the documentation: https://pandas.pydata.org/pandas-docs/stable/user_guide/indexing.html#returning-a-view-versus-a-copy\n",
      "  df.loc[:, 'count'] = 1\n",
      "./code/DFutil.py:5: SettingWithCopyWarning: \n",
      "A value is trying to be set on a copy of a slice from a DataFrame.\n",
      "Try using .loc[row_indexer,col_indexer] = value instead\n",
      "\n",
      "See the caveats in the documentation: https://pandas.pydata.org/pandas-docs/stable/user_guide/indexing.html#returning-a-view-versus-a-copy\n",
      "  df.loc[:, 'count'] = 1\n",
      "./code/DFutil.py:5: SettingWithCopyWarning: \n",
      "A value is trying to be set on a copy of a slice from a DataFrame.\n",
      "Try using .loc[row_indexer,col_indexer] = value instead\n",
      "\n",
      "See the caveats in the documentation: https://pandas.pydata.org/pandas-docs/stable/user_guide/indexing.html#returning-a-view-versus-a-copy\n",
      "  df.loc[:, 'count'] = 1\n",
      "./code/DFutil.py:5: SettingWithCopyWarning: \n",
      "A value is trying to be set on a copy of a slice from a DataFrame.\n",
      "Try using .loc[row_indexer,col_indexer] = value instead\n",
      "\n",
      "See the caveats in the documentation: https://pandas.pydata.org/pandas-docs/stable/user_guide/indexing.html#returning-a-view-versus-a-copy\n",
      "  df.loc[:, 'count'] = 1\n",
      "./code/DFutil.py:5: SettingWithCopyWarning: \n",
      "A value is trying to be set on a copy of a slice from a DataFrame.\n",
      "Try using .loc[row_indexer,col_indexer] = value instead\n",
      "\n",
      "See the caveats in the documentation: https://pandas.pydata.org/pandas-docs/stable/user_guide/indexing.html#returning-a-view-versus-a-copy\n",
      "  df.loc[:, 'count'] = 1\n",
      "./code/DFutil.py:5: SettingWithCopyWarning: \n",
      "A value is trying to be set on a copy of a slice from a DataFrame.\n",
      "Try using .loc[row_indexer,col_indexer] = value instead\n",
      "\n",
      "See the caveats in the documentation: https://pandas.pydata.org/pandas-docs/stable/user_guide/indexing.html#returning-a-view-versus-a-copy\n",
      "  df.loc[:, 'count'] = 1\n",
      "./code/DFutil.py:5: SettingWithCopyWarning: \n",
      "A value is trying to be set on a copy of a slice from a DataFrame.\n",
      "Try using .loc[row_indexer,col_indexer] = value instead\n",
      "\n",
      "See the caveats in the documentation: https://pandas.pydata.org/pandas-docs/stable/user_guide/indexing.html#returning-a-view-versus-a-copy\n",
      "  df.loc[:, 'count'] = 1\n",
      "./code/DFutil.py:5: SettingWithCopyWarning: \n",
      "A value is trying to be set on a copy of a slice from a DataFrame.\n",
      "Try using .loc[row_indexer,col_indexer] = value instead\n",
      "\n",
      "See the caveats in the documentation: https://pandas.pydata.org/pandas-docs/stable/user_guide/indexing.html#returning-a-view-versus-a-copy\n",
      "  df.loc[:, 'count'] = 1\n",
      "./code/DFutil.py:5: SettingWithCopyWarning: \n",
      "A value is trying to be set on a copy of a slice from a DataFrame.\n",
      "Try using .loc[row_indexer,col_indexer] = value instead\n",
      "\n",
      "See the caveats in the documentation: https://pandas.pydata.org/pandas-docs/stable/user_guide/indexing.html#returning-a-view-versus-a-copy\n",
      "  df.loc[:, 'count'] = 1\n",
      "./code/DFutil.py:5: SettingWithCopyWarning: \n",
      "A value is trying to be set on a copy of a slice from a DataFrame.\n",
      "Try using .loc[row_indexer,col_indexer] = value instead\n",
      "\n",
      "See the caveats in the documentation: https://pandas.pydata.org/pandas-docs/stable/user_guide/indexing.html#returning-a-view-versus-a-copy\n",
      "  df.loc[:, 'count'] = 1\n",
      "./code/DFutil.py:5: SettingWithCopyWarning: \n",
      "A value is trying to be set on a copy of a slice from a DataFrame.\n",
      "Try using .loc[row_indexer,col_indexer] = value instead\n",
      "\n",
      "See the caveats in the documentation: https://pandas.pydata.org/pandas-docs/stable/user_guide/indexing.html#returning-a-view-versus-a-copy\n",
      "  df.loc[:, 'count'] = 1\n",
      "./code/DFutil.py:5: SettingWithCopyWarning: \n",
      "A value is trying to be set on a copy of a slice from a DataFrame.\n",
      "Try using .loc[row_indexer,col_indexer] = value instead\n",
      "\n",
      "See the caveats in the documentation: https://pandas.pydata.org/pandas-docs/stable/user_guide/indexing.html#returning-a-view-versus-a-copy\n",
      "  df.loc[:, 'count'] = 1\n",
      "./code/DFutil.py:5: SettingWithCopyWarning: \n",
      "A value is trying to be set on a copy of a slice from a DataFrame.\n",
      "Try using .loc[row_indexer,col_indexer] = value instead\n",
      "\n",
      "See the caveats in the documentation: https://pandas.pydata.org/pandas-docs/stable/user_guide/indexing.html#returning-a-view-versus-a-copy\n",
      "  df.loc[:, 'count'] = 1\n",
      "./code/DFutil.py:5: SettingWithCopyWarning: \n",
      "A value is trying to be set on a copy of a slice from a DataFrame.\n",
      "Try using .loc[row_indexer,col_indexer] = value instead\n",
      "\n",
      "See the caveats in the documentation: https://pandas.pydata.org/pandas-docs/stable/user_guide/indexing.html#returning-a-view-versus-a-copy\n",
      "  df.loc[:, 'count'] = 1\n",
      "./code/DFutil.py:5: SettingWithCopyWarning: \n",
      "A value is trying to be set on a copy of a slice from a DataFrame.\n",
      "Try using .loc[row_indexer,col_indexer] = value instead\n",
      "\n",
      "See the caveats in the documentation: https://pandas.pydata.org/pandas-docs/stable/user_guide/indexing.html#returning-a-view-versus-a-copy\n",
      "  df.loc[:, 'count'] = 1\n",
      "./code/DFutil.py:5: SettingWithCopyWarning: \n",
      "A value is trying to be set on a copy of a slice from a DataFrame.\n",
      "Try using .loc[row_indexer,col_indexer] = value instead\n",
      "\n",
      "See the caveats in the documentation: https://pandas.pydata.org/pandas-docs/stable/user_guide/indexing.html#returning-a-view-versus-a-copy\n",
      "  df.loc[:, 'count'] = 1\n",
      "./code/DFutil.py:5: SettingWithCopyWarning: \n",
      "A value is trying to be set on a copy of a slice from a DataFrame.\n",
      "Try using .loc[row_indexer,col_indexer] = value instead\n",
      "\n",
      "See the caveats in the documentation: https://pandas.pydata.org/pandas-docs/stable/user_guide/indexing.html#returning-a-view-versus-a-copy\n",
      "  df.loc[:, 'count'] = 1\n",
      "./code/DFutil.py:5: SettingWithCopyWarning: \n",
      "A value is trying to be set on a copy of a slice from a DataFrame.\n",
      "Try using .loc[row_indexer,col_indexer] = value instead\n",
      "\n",
      "See the caveats in the documentation: https://pandas.pydata.org/pandas-docs/stable/user_guide/indexing.html#returning-a-view-versus-a-copy\n",
      "  df.loc[:, 'count'] = 1\n",
      "./code/DFutil.py:5: SettingWithCopyWarning: \n",
      "A value is trying to be set on a copy of a slice from a DataFrame.\n",
      "Try using .loc[row_indexer,col_indexer] = value instead\n",
      "\n",
      "See the caveats in the documentation: https://pandas.pydata.org/pandas-docs/stable/user_guide/indexing.html#returning-a-view-versus-a-copy\n",
      "  df.loc[:, 'count'] = 1\n",
      "./code/DFutil.py:5: SettingWithCopyWarning: \n",
      "A value is trying to be set on a copy of a slice from a DataFrame.\n",
      "Try using .loc[row_indexer,col_indexer] = value instead\n",
      "\n",
      "See the caveats in the documentation: https://pandas.pydata.org/pandas-docs/stable/user_guide/indexing.html#returning-a-view-versus-a-copy\n",
      "  df.loc[:, 'count'] = 1\n",
      "./code/DFutil.py:5: SettingWithCopyWarning: \n",
      "A value is trying to be set on a copy of a slice from a DataFrame.\n",
      "Try using .loc[row_indexer,col_indexer] = value instead\n",
      "\n",
      "See the caveats in the documentation: https://pandas.pydata.org/pandas-docs/stable/user_guide/indexing.html#returning-a-view-versus-a-copy\n",
      "  df.loc[:, 'count'] = 1\n",
      "./code/DFutil.py:5: SettingWithCopyWarning: \n",
      "A value is trying to be set on a copy of a slice from a DataFrame.\n",
      "Try using .loc[row_indexer,col_indexer] = value instead\n",
      "\n",
      "See the caveats in the documentation: https://pandas.pydata.org/pandas-docs/stable/user_guide/indexing.html#returning-a-view-versus-a-copy\n",
      "  df.loc[:, 'count'] = 1\n",
      "./code/DFutil.py:5: SettingWithCopyWarning: \n",
      "A value is trying to be set on a copy of a slice from a DataFrame.\n",
      "Try using .loc[row_indexer,col_indexer] = value instead\n",
      "\n",
      "See the caveats in the documentation: https://pandas.pydata.org/pandas-docs/stable/user_guide/indexing.html#returning-a-view-versus-a-copy\n",
      "  df.loc[:, 'count'] = 1\n",
      "./code/DFutil.py:5: SettingWithCopyWarning: \n",
      "A value is trying to be set on a copy of a slice from a DataFrame.\n",
      "Try using .loc[row_indexer,col_indexer] = value instead\n",
      "\n",
      "See the caveats in the documentation: https://pandas.pydata.org/pandas-docs/stable/user_guide/indexing.html#returning-a-view-versus-a-copy\n",
      "  df.loc[:, 'count'] = 1\n",
      "./code/DFutil.py:5: SettingWithCopyWarning: \n",
      "A value is trying to be set on a copy of a slice from a DataFrame.\n",
      "Try using .loc[row_indexer,col_indexer] = value instead\n",
      "\n",
      "See the caveats in the documentation: https://pandas.pydata.org/pandas-docs/stable/user_guide/indexing.html#returning-a-view-versus-a-copy\n",
      "  df.loc[:, 'count'] = 1\n",
      "./code/DFutil.py:5: SettingWithCopyWarning: \n",
      "A value is trying to be set on a copy of a slice from a DataFrame.\n",
      "Try using .loc[row_indexer,col_indexer] = value instead\n",
      "\n",
      "See the caveats in the documentation: https://pandas.pydata.org/pandas-docs/stable/user_guide/indexing.html#returning-a-view-versus-a-copy\n",
      "  df.loc[:, 'count'] = 1\n",
      "./code/DFutil.py:5: SettingWithCopyWarning: \n",
      "A value is trying to be set on a copy of a slice from a DataFrame.\n",
      "Try using .loc[row_indexer,col_indexer] = value instead\n",
      "\n",
      "See the caveats in the documentation: https://pandas.pydata.org/pandas-docs/stable/user_guide/indexing.html#returning-a-view-versus-a-copy\n",
      "  df.loc[:, 'count'] = 1\n",
      "./code/DFutil.py:5: SettingWithCopyWarning: \n",
      "A value is trying to be set on a copy of a slice from a DataFrame.\n",
      "Try using .loc[row_indexer,col_indexer] = value instead\n",
      "\n",
      "See the caveats in the documentation: https://pandas.pydata.org/pandas-docs/stable/user_guide/indexing.html#returning-a-view-versus-a-copy\n",
      "  df.loc[:, 'count'] = 1\n",
      "./code/DFutil.py:5: SettingWithCopyWarning: \n",
      "A value is trying to be set on a copy of a slice from a DataFrame.\n",
      "Try using .loc[row_indexer,col_indexer] = value instead\n",
      "\n",
      "See the caveats in the documentation: https://pandas.pydata.org/pandas-docs/stable/user_guide/indexing.html#returning-a-view-versus-a-copy\n",
      "  df.loc[:, 'count'] = 1\n",
      "./code/DFutil.py:5: SettingWithCopyWarning: \n",
      "A value is trying to be set on a copy of a slice from a DataFrame.\n",
      "Try using .loc[row_indexer,col_indexer] = value instead\n",
      "\n",
      "See the caveats in the documentation: https://pandas.pydata.org/pandas-docs/stable/user_guide/indexing.html#returning-a-view-versus-a-copy\n",
      "  df.loc[:, 'count'] = 1\n",
      "./code/DFutil.py:5: SettingWithCopyWarning: \n",
      "A value is trying to be set on a copy of a slice from a DataFrame.\n",
      "Try using .loc[row_indexer,col_indexer] = value instead\n",
      "\n",
      "See the caveats in the documentation: https://pandas.pydata.org/pandas-docs/stable/user_guide/indexing.html#returning-a-view-versus-a-copy\n",
      "  df.loc[:, 'count'] = 1\n",
      "./code/DFutil.py:5: SettingWithCopyWarning: \n",
      "A value is trying to be set on a copy of a slice from a DataFrame.\n",
      "Try using .loc[row_indexer,col_indexer] = value instead\n",
      "\n",
      "See the caveats in the documentation: https://pandas.pydata.org/pandas-docs/stable/user_guide/indexing.html#returning-a-view-versus-a-copy\n",
      "  df.loc[:, 'count'] = 1\n",
      "./code/DFutil.py:5: SettingWithCopyWarning: \n",
      "A value is trying to be set on a copy of a slice from a DataFrame.\n",
      "Try using .loc[row_indexer,col_indexer] = value instead\n",
      "\n",
      "See the caveats in the documentation: https://pandas.pydata.org/pandas-docs/stable/user_guide/indexing.html#returning-a-view-versus-a-copy\n",
      "  df.loc[:, 'count'] = 1\n",
      "./code/DFutil.py:5: SettingWithCopyWarning: \n",
      "A value is trying to be set on a copy of a slice from a DataFrame.\n",
      "Try using .loc[row_indexer,col_indexer] = value instead\n",
      "\n",
      "See the caveats in the documentation: https://pandas.pydata.org/pandas-docs/stable/user_guide/indexing.html#returning-a-view-versus-a-copy\n",
      "  df.loc[:, 'count'] = 1\n",
      "./code/DFutil.py:5: SettingWithCopyWarning: \n",
      "A value is trying to be set on a copy of a slice from a DataFrame.\n",
      "Try using .loc[row_indexer,col_indexer] = value instead\n",
      "\n",
      "See the caveats in the documentation: https://pandas.pydata.org/pandas-docs/stable/user_guide/indexing.html#returning-a-view-versus-a-copy\n",
      "  df.loc[:, 'count'] = 1\n",
      "./code/DFutil.py:5: SettingWithCopyWarning: \n",
      "A value is trying to be set on a copy of a slice from a DataFrame.\n",
      "Try using .loc[row_indexer,col_indexer] = value instead\n",
      "\n",
      "See the caveats in the documentation: https://pandas.pydata.org/pandas-docs/stable/user_guide/indexing.html#returning-a-view-versus-a-copy\n",
      "  df.loc[:, 'count'] = 1\n",
      "./code/DFutil.py:5: SettingWithCopyWarning: \n",
      "A value is trying to be set on a copy of a slice from a DataFrame.\n",
      "Try using .loc[row_indexer,col_indexer] = value instead\n",
      "\n",
      "See the caveats in the documentation: https://pandas.pydata.org/pandas-docs/stable/user_guide/indexing.html#returning-a-view-versus-a-copy\n",
      "  df.loc[:, 'count'] = 1\n",
      "./code/DFutil.py:5: SettingWithCopyWarning: \n",
      "A value is trying to be set on a copy of a slice from a DataFrame.\n",
      "Try using .loc[row_indexer,col_indexer] = value instead\n",
      "\n",
      "See the caveats in the documentation: https://pandas.pydata.org/pandas-docs/stable/user_guide/indexing.html#returning-a-view-versus-a-copy\n",
      "  df.loc[:, 'count'] = 1\n",
      "./code/DFutil.py:5: SettingWithCopyWarning: \n",
      "A value is trying to be set on a copy of a slice from a DataFrame.\n",
      "Try using .loc[row_indexer,col_indexer] = value instead\n",
      "\n",
      "See the caveats in the documentation: https://pandas.pydata.org/pandas-docs/stable/user_guide/indexing.html#returning-a-view-versus-a-copy\n",
      "  df.loc[:, 'count'] = 1\n",
      "./code/DFutil.py:5: SettingWithCopyWarning: \n",
      "A value is trying to be set on a copy of a slice from a DataFrame.\n",
      "Try using .loc[row_indexer,col_indexer] = value instead\n",
      "\n",
      "See the caveats in the documentation: https://pandas.pydata.org/pandas-docs/stable/user_guide/indexing.html#returning-a-view-versus-a-copy\n",
      "  df.loc[:, 'count'] = 1\n",
      "./code/DFutil.py:5: SettingWithCopyWarning: \n",
      "A value is trying to be set on a copy of a slice from a DataFrame.\n",
      "Try using .loc[row_indexer,col_indexer] = value instead\n",
      "\n",
      "See the caveats in the documentation: https://pandas.pydata.org/pandas-docs/stable/user_guide/indexing.html#returning-a-view-versus-a-copy\n",
      "  df.loc[:, 'count'] = 1\n",
      "./code/DFutil.py:5: SettingWithCopyWarning: \n",
      "A value is trying to be set on a copy of a slice from a DataFrame.\n",
      "Try using .loc[row_indexer,col_indexer] = value instead\n",
      "\n",
      "See the caveats in the documentation: https://pandas.pydata.org/pandas-docs/stable/user_guide/indexing.html#returning-a-view-versus-a-copy\n",
      "  df.loc[:, 'count'] = 1\n",
      "./code/DFutil.py:5: SettingWithCopyWarning: \n",
      "A value is trying to be set on a copy of a slice from a DataFrame.\n",
      "Try using .loc[row_indexer,col_indexer] = value instead\n",
      "\n",
      "See the caveats in the documentation: https://pandas.pydata.org/pandas-docs/stable/user_guide/indexing.html#returning-a-view-versus-a-copy\n",
      "  df.loc[:, 'count'] = 1\n",
      "./code/DFutil.py:5: SettingWithCopyWarning: \n",
      "A value is trying to be set on a copy of a slice from a DataFrame.\n",
      "Try using .loc[row_indexer,col_indexer] = value instead\n",
      "\n",
      "See the caveats in the documentation: https://pandas.pydata.org/pandas-docs/stable/user_guide/indexing.html#returning-a-view-versus-a-copy\n",
      "  df.loc[:, 'count'] = 1\n",
      "./code/DFutil.py:5: SettingWithCopyWarning: \n",
      "A value is trying to be set on a copy of a slice from a DataFrame.\n",
      "Try using .loc[row_indexer,col_indexer] = value instead\n",
      "\n",
      "See the caveats in the documentation: https://pandas.pydata.org/pandas-docs/stable/user_guide/indexing.html#returning-a-view-versus-a-copy\n",
      "  df.loc[:, 'count'] = 1\n",
      "./code/DFutil.py:5: SettingWithCopyWarning: \n",
      "A value is trying to be set on a copy of a slice from a DataFrame.\n",
      "Try using .loc[row_indexer,col_indexer] = value instead\n",
      "\n",
      "See the caveats in the documentation: https://pandas.pydata.org/pandas-docs/stable/user_guide/indexing.html#returning-a-view-versus-a-copy\n",
      "  df.loc[:, 'count'] = 1\n",
      "./code/DFutil.py:5: SettingWithCopyWarning: \n",
      "A value is trying to be set on a copy of a slice from a DataFrame.\n",
      "Try using .loc[row_indexer,col_indexer] = value instead\n",
      "\n",
      "See the caveats in the documentation: https://pandas.pydata.org/pandas-docs/stable/user_guide/indexing.html#returning-a-view-versus-a-copy\n",
      "  df.loc[:, 'count'] = 1\n",
      "./code/DFutil.py:5: SettingWithCopyWarning: \n",
      "A value is trying to be set on a copy of a slice from a DataFrame.\n",
      "Try using .loc[row_indexer,col_indexer] = value instead\n",
      "\n",
      "See the caveats in the documentation: https://pandas.pydata.org/pandas-docs/stable/user_guide/indexing.html#returning-a-view-versus-a-copy\n",
      "  df.loc[:, 'count'] = 1\n",
      "./code/DFutil.py:5: SettingWithCopyWarning: \n",
      "A value is trying to be set on a copy of a slice from a DataFrame.\n",
      "Try using .loc[row_indexer,col_indexer] = value instead\n",
      "\n",
      "See the caveats in the documentation: https://pandas.pydata.org/pandas-docs/stable/user_guide/indexing.html#returning-a-view-versus-a-copy\n",
      "  df.loc[:, 'count'] = 1\n",
      "./code/DFutil.py:5: SettingWithCopyWarning: \n",
      "A value is trying to be set on a copy of a slice from a DataFrame.\n",
      "Try using .loc[row_indexer,col_indexer] = value instead\n",
      "\n",
      "See the caveats in the documentation: https://pandas.pydata.org/pandas-docs/stable/user_guide/indexing.html#returning-a-view-versus-a-copy\n",
      "  df.loc[:, 'count'] = 1\n",
      "./code/DFutil.py:5: SettingWithCopyWarning: \n",
      "A value is trying to be set on a copy of a slice from a DataFrame.\n",
      "Try using .loc[row_indexer,col_indexer] = value instead\n",
      "\n",
      "See the caveats in the documentation: https://pandas.pydata.org/pandas-docs/stable/user_guide/indexing.html#returning-a-view-versus-a-copy\n",
      "  df.loc[:, 'count'] = 1\n",
      "./code/DFutil.py:5: SettingWithCopyWarning: \n",
      "A value is trying to be set on a copy of a slice from a DataFrame.\n",
      "Try using .loc[row_indexer,col_indexer] = value instead\n",
      "\n",
      "See the caveats in the documentation: https://pandas.pydata.org/pandas-docs/stable/user_guide/indexing.html#returning-a-view-versus-a-copy\n",
      "  df.loc[:, 'count'] = 1\n"
     ]
    },
    {
     "name": "stdout",
     "output_type": "stream",
     "text": [
      "Scopes created\n",
      "[ISPAll, ISP1, ISP2, ISP3, ISP4, ISP5, ISP6, ISP7, ISP8, ISP9, ISP10, resolver, root, SLD, TLD, Access_service, Service]\n",
      "['102.0.90.104', '192.168.150.10', '101.0.0.20', '101.0.0.10', '102.0.90.114', '102.0.90.124', '102.0.90.134', '102.0.90.144', '102.0.90.154', '102.0.90.164', '102.0.90.174', '102.0.90.184', '102.0.90.194', '102.0.70.82', '102.0.70.92', '102.0.70.102', '102.0.70.112', '102.0.70.122', '102.0.70.132', '102.0.70.142', '102.0.70.152', '102.0.70.162', '102.0.70.172', '102.0.40.49', '102.0.40.59', '102.0.40.69', '102.0.40.79', '102.0.40.89', '102.0.40.99', '102.0.40.109', '102.0.40.119', '102.0.40.129', '102.0.40.139', '102.0.20.27', '102.0.20.37', '102.0.20.47', '102.0.20.57', '102.0.20.67', '102.0.20.77', '102.0.20.87', '102.0.20.97', '102.0.20.107', '102.0.20.117', '102.0.10.16', '102.0.10.26', '102.0.10.36', '102.0.10.46', '102.0.10.56', '102.0.10.66', '102.0.10.76', '102.0.10.86', '102.0.10.96', '102.0.10.106', '102.0.60.71', '102.0.60.81', '102.0.60.91', '102.0.60.101', '102.0.60.111', '102.0.60.121', '102.0.60.131', '102.0.60.141', '102.0.60.151', '102.0.60.161', '102.0.0.5', '102.0.0.15', '102.0.0.25', '102.0.0.35', '102.0.0.45', '102.0.0.55', '102.0.0.65', '102.0.0.75', '102.0.0.85', '102.0.0.95', '102.0.30.38', '102.0.30.48', '102.0.30.58', '102.0.30.68', '102.0.30.78', '102.0.30.88', '102.0.30.98', '102.0.30.108', '102.0.30.118', '102.0.30.128', '102.0.50.60', '102.0.50.70', '102.0.50.80', '102.0.50.90', '102.0.50.100', '102.0.50.110', '102.0.50.120', '102.0.50.130', '102.0.50.140', '102.0.50.150', '102.0.80.93', '102.0.80.103', '102.0.80.113', '102.0.80.123', '102.0.80.133', '102.0.80.143', '102.0.80.153', '102.0.80.163', '102.0.80.173', '102.0.80.183']\n",
      "                           ip.src\n",
      "frame.time                       \n",
      "2023-08-26 15:12:49.929750    NaN\n",
      "2023-08-26 15:12:53.591191    NaN\n",
      "2023-08-26 15:12:55.773974    NaN\n",
      "2023-08-26 15:12:58.851899    NaN\n",
      "2023-08-26 15:13:03.498958    NaN\n",
      "...                           ...\n",
      "2023-08-26 17:16:33.127932    NaN\n",
      "2023-08-26 17:16:34.133332    NaN\n",
      "2023-08-26 17:16:37.662503    NaN\n",
      "2023-08-26 17:16:41.674449    NaN\n",
      "2023-08-26 17:16:43.695440    NaN\n",
      "\n",
      "[6077947 rows x 1 columns]\n",
      "                           ip.src                  index_col  \\\n",
      "frame.time                                                     \n",
      "2023-08-26 15:12:49.929750    NaN 2023-08-26 15:12:49.929750   \n",
      "2023-08-26 15:12:53.591191    NaN 2023-08-26 15:12:53.591191   \n",
      "2023-08-26 15:12:55.773974    NaN 2023-08-26 15:12:55.773974   \n",
      "2023-08-26 15:12:58.851899    NaN 2023-08-26 15:12:58.851899   \n",
      "2023-08-26 15:13:03.498958    NaN 2023-08-26 15:13:03.498958   \n",
      "...                           ...                        ...   \n",
      "2023-08-26 17:16:33.127932    NaN 2023-08-26 17:16:33.127932   \n",
      "2023-08-26 17:16:34.133332    NaN 2023-08-26 17:16:34.133332   \n",
      "2023-08-26 17:16:37.662503    NaN 2023-08-26 17:16:37.662503   \n",
      "2023-08-26 17:16:41.674449    NaN 2023-08-26 17:16:41.674449   \n",
      "2023-08-26 17:16:43.695440    NaN 2023-08-26 17:16:43.695440   \n",
      "\n",
      "                                             diff  \n",
      "frame.time                                         \n",
      "2023-08-26 15:12:49.929750                    NaT  \n",
      "2023-08-26 15:12:53.591191 0 days 00:00:03.661441  \n",
      "2023-08-26 15:12:55.773974 0 days 00:00:02.182783  \n",
      "2023-08-26 15:12:58.851899 0 days 00:00:03.077925  \n",
      "2023-08-26 15:13:03.498958 0 days 00:00:04.647059  \n",
      "...                                           ...  \n",
      "2023-08-26 17:16:33.127932 0 days 00:00:03.458938  \n",
      "2023-08-26 17:16:34.133332 0 days 00:00:01.005400  \n",
      "2023-08-26 17:16:37.662503 0 days 00:00:03.529171  \n",
      "2023-08-26 17:16:41.674449 0 days 00:00:04.011946  \n",
      "2023-08-26 17:16:43.695440 0 days 00:00:02.020991  \n",
      "\n",
      "[2611133 rows x 3 columns]\n"
     ]
    },
    {
     "name": "stderr",
     "output_type": "stream",
     "text": [
      "./code/Solo.py:16: SettingWithCopyWarning: \n",
      "A value is trying to be set on a copy of a slice from a DataFrame.\n",
      "Try using .loc[row_indexer,col_indexer] = value instead\n",
      "\n",
      "See the caveats in the documentation: https://pandas.pydata.org/pandas-docs/stable/user_guide/indexing.html#returning-a-view-versus-a-copy\n",
      "  new_df['index_col'] = new_df.index\n",
      "./code/Solo.py:17: SettingWithCopyWarning: \n",
      "A value is trying to be set on a copy of a slice from a DataFrame.\n",
      "Try using .loc[row_indexer,col_indexer] = value instead\n",
      "\n",
      "See the caveats in the documentation: https://pandas.pydata.org/pandas-docs/stable/user_guide/indexing.html#returning-a-view-versus-a-copy\n",
      "  new_df['diff'] = new_df['index_col'].diff()\n"
     ]
    },
    {
     "name": "stdout",
     "output_type": "stream",
     "text": [
      "                           ip.src\n",
      "frame.time                       \n",
      "2023-08-26 15:11:43.403236    NaN\n",
      "2023-08-26 15:11:43.604444    NaN\n",
      "2023-08-26 15:11:49.396816    NaN\n",
      "2023-08-26 15:11:53.409807    NaN\n",
      "2023-08-26 15:11:53.540586    NaN\n",
      "...                           ...\n",
      "2023-08-26 17:16:33.414414    NaN\n",
      "2023-08-26 17:16:37.557296    NaN\n",
      "2023-08-26 17:16:39.407349    NaN\n",
      "2023-08-26 17:16:43.429419    NaN\n",
      "2023-08-26 17:16:45.350176    NaN\n",
      "\n",
      "[626678 rows x 1 columns]\n",
      "                           ip.src                  index_col  \\\n",
      "frame.time                                                     \n",
      "2023-08-26 15:11:43.403236    NaN 2023-08-26 15:11:43.403236   \n",
      "2023-08-26 15:11:43.604444    NaN 2023-08-26 15:11:43.604444   \n",
      "2023-08-26 15:11:49.396816    NaN 2023-08-26 15:11:49.396816   \n",
      "2023-08-26 15:11:53.409807    NaN 2023-08-26 15:11:53.409807   \n",
      "2023-08-26 15:11:53.540586    NaN 2023-08-26 15:11:53.540586   \n",
      "...                           ...                        ...   \n",
      "2023-08-26 17:16:33.414414    NaN 2023-08-26 17:16:33.414414   \n",
      "2023-08-26 17:16:37.557296    NaN 2023-08-26 17:16:37.557296   \n",
      "2023-08-26 17:16:39.407349    NaN 2023-08-26 17:16:39.407349   \n",
      "2023-08-26 17:16:43.429419    NaN 2023-08-26 17:16:43.429419   \n",
      "2023-08-26 17:16:45.350176    NaN 2023-08-26 17:16:45.350176   \n",
      "\n",
      "                                             diff  \n",
      "frame.time                                         \n",
      "2023-08-26 15:11:43.403236                    NaT  \n",
      "2023-08-26 15:11:43.604444 0 days 00:00:00.201208  \n",
      "2023-08-26 15:11:49.396816 0 days 00:00:05.792372  \n",
      "2023-08-26 15:11:53.409807 0 days 00:00:04.012991  \n",
      "2023-08-26 15:11:53.540586 0 days 00:00:00.130779  \n",
      "...                                           ...  \n",
      "2023-08-26 17:16:33.414414 0 days 00:00:03.740353  \n",
      "2023-08-26 17:16:37.557296 0 days 00:00:04.142882  \n",
      "2023-08-26 17:16:39.407349 0 days 00:00:01.850053  \n",
      "2023-08-26 17:16:43.429419 0 days 00:00:04.022070  \n",
      "2023-08-26 17:16:45.350176 0 days 00:00:01.920757  \n",
      "\n",
      "[271410 rows x 3 columns]\n"
     ]
    },
    {
     "name": "stderr",
     "output_type": "stream",
     "text": [
      "./code/Solo.py:16: SettingWithCopyWarning: \n",
      "A value is trying to be set on a copy of a slice from a DataFrame.\n",
      "Try using .loc[row_indexer,col_indexer] = value instead\n",
      "\n",
      "See the caveats in the documentation: https://pandas.pydata.org/pandas-docs/stable/user_guide/indexing.html#returning-a-view-versus-a-copy\n",
      "  new_df['index_col'] = new_df.index\n",
      "./code/Solo.py:17: SettingWithCopyWarning: \n",
      "A value is trying to be set on a copy of a slice from a DataFrame.\n",
      "Try using .loc[row_indexer,col_indexer] = value instead\n",
      "\n",
      "See the caveats in the documentation: https://pandas.pydata.org/pandas-docs/stable/user_guide/indexing.html#returning-a-view-versus-a-copy\n",
      "  new_df['diff'] = new_df['index_col'].diff()\n"
     ]
    },
    {
     "name": "stdout",
     "output_type": "stream",
     "text": [
      "                           ip.src\n",
      "frame.time                       \n",
      "2023-08-26 15:11:51.228768    NaN\n",
      "2023-08-26 15:11:56.750089    NaN\n",
      "2023-08-26 15:11:58.661024    NaN\n",
      "2023-08-26 15:12:01.225822    NaN\n",
      "2023-08-26 15:12:06.112739    NaN\n",
      "...                           ...\n",
      "2023-08-26 17:16:31.233845    NaN\n",
      "2023-08-26 17:16:31.746857    NaN\n",
      "2023-08-26 17:16:37.439226    NaN\n",
      "2023-08-26 17:16:41.019914    NaN\n",
      "2023-08-26 17:16:41.211020    NaN\n",
      "\n",
      "[608498 rows x 1 columns]\n",
      "                           ip.src                  index_col  \\\n",
      "frame.time                                                     \n",
      "2023-08-26 15:11:51.228768    NaN 2023-08-26 15:11:51.228768   \n",
      "2023-08-26 15:11:56.750089    NaN 2023-08-26 15:11:56.750089   \n",
      "2023-08-26 15:11:58.661024    NaN 2023-08-26 15:11:58.661024   \n",
      "2023-08-26 15:12:01.225822    NaN 2023-08-26 15:12:01.225822   \n",
      "2023-08-26 15:12:06.112739    NaN 2023-08-26 15:12:06.112739   \n",
      "...                           ...                        ...   \n",
      "2023-08-26 17:16:31.233845    NaN 2023-08-26 17:16:31.233845   \n",
      "2023-08-26 17:16:31.746857    NaN 2023-08-26 17:16:31.746857   \n",
      "2023-08-26 17:16:37.439226    NaN 2023-08-26 17:16:37.439226   \n",
      "2023-08-26 17:16:41.019914    NaN 2023-08-26 17:16:41.019914   \n",
      "2023-08-26 17:16:41.211020    NaN 2023-08-26 17:16:41.211020   \n",
      "\n",
      "                                             diff  \n",
      "frame.time                                         \n",
      "2023-08-26 15:11:51.228768                    NaT  \n",
      "2023-08-26 15:11:56.750089 0 days 00:00:05.521321  \n",
      "2023-08-26 15:11:58.661024 0 days 00:00:01.910935  \n",
      "2023-08-26 15:12:01.225822 0 days 00:00:02.564798  \n",
      "2023-08-26 15:12:06.112739 0 days 00:00:04.886917  \n",
      "...                                           ...  \n",
      "2023-08-26 17:16:31.233845 0 days 00:00:01.790118  \n",
      "2023-08-26 17:16:31.746857 0 days 00:00:00.513012  \n",
      "2023-08-26 17:16:37.439226 0 days 00:00:05.692369  \n",
      "2023-08-26 17:16:41.019914 0 days 00:00:03.580688  \n",
      "2023-08-26 17:16:41.211020 0 days 00:00:00.191106  \n",
      "\n",
      "[261918 rows x 3 columns]\n"
     ]
    },
    {
     "name": "stderr",
     "output_type": "stream",
     "text": [
      "./code/Solo.py:16: SettingWithCopyWarning: \n",
      "A value is trying to be set on a copy of a slice from a DataFrame.\n",
      "Try using .loc[row_indexer,col_indexer] = value instead\n",
      "\n",
      "See the caveats in the documentation: https://pandas.pydata.org/pandas-docs/stable/user_guide/indexing.html#returning-a-view-versus-a-copy\n",
      "  new_df['index_col'] = new_df.index\n",
      "./code/Solo.py:17: SettingWithCopyWarning: \n",
      "A value is trying to be set on a copy of a slice from a DataFrame.\n",
      "Try using .loc[row_indexer,col_indexer] = value instead\n",
      "\n",
      "See the caveats in the documentation: https://pandas.pydata.org/pandas-docs/stable/user_guide/indexing.html#returning-a-view-versus-a-copy\n",
      "  new_df['diff'] = new_df['index_col'].diff()\n"
     ]
    },
    {
     "name": "stdout",
     "output_type": "stream",
     "text": [
      "                           ip.src\n",
      "frame.time                       \n",
      "2023-08-26 15:12:12.796309    NaN\n",
      "2023-08-26 15:12:16.315142    NaN\n",
      "2023-08-26 15:12:19.673546    NaN\n",
      "2023-08-26 15:12:21.101353    NaN\n",
      "2023-08-26 15:12:26.309932    NaN\n",
      "...                           ...\n",
      "2023-08-26 17:16:31.469455    NaN\n",
      "2023-08-26 17:16:36.365826    NaN\n",
      "2023-08-26 17:16:37.532165    NaN\n",
      "2023-08-26 17:16:38.437145    NaN\n",
      "2023-08-26 17:16:41.182017    NaN\n",
      "\n",
      "[604420 rows x 1 columns]\n",
      "                           ip.src                  index_col  \\\n",
      "frame.time                                                     \n",
      "2023-08-26 15:12:12.796309    NaN 2023-08-26 15:12:12.796309   \n",
      "2023-08-26 15:12:16.315142    NaN 2023-08-26 15:12:16.315142   \n",
      "2023-08-26 15:12:19.673546    NaN 2023-08-26 15:12:19.673546   \n",
      "2023-08-26 15:12:21.101353    NaN 2023-08-26 15:12:21.101353   \n",
      "2023-08-26 15:12:26.309932    NaN 2023-08-26 15:12:26.309932   \n",
      "...                           ...                        ...   \n",
      "2023-08-26 17:16:31.469455    NaN 2023-08-26 17:16:31.469455   \n",
      "2023-08-26 17:16:36.365826    NaN 2023-08-26 17:16:36.365826   \n",
      "2023-08-26 17:16:37.532165    NaN 2023-08-26 17:16:37.532165   \n",
      "2023-08-26 17:16:38.437145    NaN 2023-08-26 17:16:38.437145   \n",
      "2023-08-26 17:16:41.182017    NaN 2023-08-26 17:16:41.182017   \n",
      "\n",
      "                                             diff  \n",
      "frame.time                                         \n",
      "2023-08-26 15:12:12.796309                    NaT  \n",
      "2023-08-26 15:12:16.315142 0 days 00:00:03.518833  \n",
      "2023-08-26 15:12:19.673546 0 days 00:00:03.358404  \n",
      "2023-08-26 15:12:21.101353 0 days 00:00:01.427807  \n",
      "2023-08-26 15:12:26.309932 0 days 00:00:05.208579  \n",
      "...                                           ...  \n",
      "2023-08-26 17:16:31.469455 0 days 00:00:02.081393  \n",
      "2023-08-26 17:16:36.365826 0 days 00:00:04.896371  \n",
      "2023-08-26 17:16:37.532165 0 days 00:00:01.166339  \n",
      "2023-08-26 17:16:38.437145 0 days 00:00:00.904980  \n",
      "2023-08-26 17:16:41.182017 0 days 00:00:02.744872  \n",
      "\n",
      "[262979 rows x 3 columns]\n"
     ]
    },
    {
     "name": "stderr",
     "output_type": "stream",
     "text": [
      "./code/Solo.py:16: SettingWithCopyWarning: \n",
      "A value is trying to be set on a copy of a slice from a DataFrame.\n",
      "Try using .loc[row_indexer,col_indexer] = value instead\n",
      "\n",
      "See the caveats in the documentation: https://pandas.pydata.org/pandas-docs/stable/user_guide/indexing.html#returning-a-view-versus-a-copy\n",
      "  new_df['index_col'] = new_df.index\n",
      "./code/Solo.py:17: SettingWithCopyWarning: \n",
      "A value is trying to be set on a copy of a slice from a DataFrame.\n",
      "Try using .loc[row_indexer,col_indexer] = value instead\n",
      "\n",
      "See the caveats in the documentation: https://pandas.pydata.org/pandas-docs/stable/user_guide/indexing.html#returning-a-view-versus-a-copy\n",
      "  new_df['diff'] = new_df['index_col'].diff()\n"
     ]
    },
    {
     "name": "stdout",
     "output_type": "stream",
     "text": [
      "                           ip.src\n",
      "frame.time                       \n",
      "2023-08-26 15:12:07.938421    NaN\n",
      "2023-08-26 15:12:10.995218    NaN\n",
      "2023-08-26 15:12:12.483520    NaN\n",
      "2023-08-26 15:12:16.294582    NaN\n",
      "2023-08-26 15:12:19.693333    NaN\n",
      "...                           ...\n",
      "2023-08-26 17:16:32.483249    NaN\n",
      "2023-08-26 17:16:38.255070    NaN\n",
      "2023-08-26 17:16:39.059504    NaN\n",
      "2023-08-26 17:16:42.498424    NaN\n",
      "2023-08-26 17:16:44.499638    NaN\n",
      "\n",
      "[601937 rows x 1 columns]\n",
      "                           ip.src                  index_col  \\\n",
      "frame.time                                                     \n",
      "2023-08-26 15:12:07.938421    NaN 2023-08-26 15:12:07.938421   \n",
      "2023-08-26 15:12:10.995218    NaN 2023-08-26 15:12:10.995218   \n",
      "2023-08-26 15:12:12.483520    NaN 2023-08-26 15:12:12.483520   \n",
      "2023-08-26 15:12:16.294582    NaN 2023-08-26 15:12:16.294582   \n",
      "2023-08-26 15:12:19.693333    NaN 2023-08-26 15:12:19.693333   \n",
      "...                           ...                        ...   \n",
      "2023-08-26 17:16:32.483249    NaN 2023-08-26 17:16:32.483249   \n",
      "2023-08-26 17:16:38.255070    NaN 2023-08-26 17:16:38.255070   \n",
      "2023-08-26 17:16:39.059504    NaN 2023-08-26 17:16:39.059504   \n",
      "2023-08-26 17:16:42.498424    NaN 2023-08-26 17:16:42.498424   \n",
      "2023-08-26 17:16:44.499638    NaN 2023-08-26 17:16:44.499638   \n",
      "\n",
      "                                             diff  \n",
      "frame.time                                         \n",
      "2023-08-26 15:12:07.938421                    NaT  \n",
      "2023-08-26 15:12:10.995218 0 days 00:00:03.056797  \n",
      "2023-08-26 15:12:12.483520 0 days 00:00:01.488302  \n",
      "2023-08-26 15:12:16.294582 0 days 00:00:03.811062  \n",
      "2023-08-26 15:12:19.693333 0 days 00:00:03.398751  \n",
      "...                                           ...  \n",
      "2023-08-26 17:16:32.483249 0 days 00:00:02.544087  \n",
      "2023-08-26 17:16:38.255070 0 days 00:00:05.771821  \n",
      "2023-08-26 17:16:39.059504 0 days 00:00:00.804434  \n",
      "2023-08-26 17:16:42.498424 0 days 00:00:03.438920  \n",
      "2023-08-26 17:16:44.499638 0 days 00:00:02.001214  \n",
      "\n",
      "[257960 rows x 3 columns]\n"
     ]
    },
    {
     "name": "stderr",
     "output_type": "stream",
     "text": [
      "./code/Solo.py:16: SettingWithCopyWarning: \n",
      "A value is trying to be set on a copy of a slice from a DataFrame.\n",
      "Try using .loc[row_indexer,col_indexer] = value instead\n",
      "\n",
      "See the caveats in the documentation: https://pandas.pydata.org/pandas-docs/stable/user_guide/indexing.html#returning-a-view-versus-a-copy\n",
      "  new_df['index_col'] = new_df.index\n",
      "./code/Solo.py:17: SettingWithCopyWarning: \n",
      "A value is trying to be set on a copy of a slice from a DataFrame.\n",
      "Try using .loc[row_indexer,col_indexer] = value instead\n",
      "\n",
      "See the caveats in the documentation: https://pandas.pydata.org/pandas-docs/stable/user_guide/indexing.html#returning-a-view-versus-a-copy\n",
      "  new_df['diff'] = new_df['index_col'].diff()\n"
     ]
    },
    {
     "name": "stdout",
     "output_type": "stream",
     "text": [
      "                           ip.src\n",
      "frame.time                       \n",
      "2023-08-26 15:12:19.833411    NaN\n",
      "2023-08-26 15:12:20.607731    NaN\n",
      "2023-08-26 15:12:21.925046    NaN\n",
      "2023-08-26 15:12:28.361014    NaN\n",
      "2023-08-26 15:12:29.849343    NaN\n",
      "...                           ...\n",
      "2023-08-26 17:16:36.912984    NaN\n",
      "2023-08-26 17:16:37.999108    NaN\n",
      "2023-08-26 17:16:39.779107    NaN\n",
      "2023-08-26 17:16:41.901054    NaN\n",
      "2023-08-26 17:16:44.696942    NaN\n",
      "\n",
      "[599546 rows x 1 columns]\n",
      "                           ip.src                  index_col  \\\n",
      "frame.time                                                     \n",
      "2023-08-26 15:12:19.833411    NaN 2023-08-26 15:12:19.833411   \n",
      "2023-08-26 15:12:20.607731    NaN 2023-08-26 15:12:20.607731   \n",
      "2023-08-26 15:12:21.925046    NaN 2023-08-26 15:12:21.925046   \n",
      "2023-08-26 15:12:28.361014    NaN 2023-08-26 15:12:28.361014   \n",
      "2023-08-26 15:12:29.849343    NaN 2023-08-26 15:12:29.849343   \n",
      "...                           ...                        ...   \n",
      "2023-08-26 17:16:36.912984    NaN 2023-08-26 17:16:36.912984   \n",
      "2023-08-26 17:16:37.999108    NaN 2023-08-26 17:16:37.999108   \n",
      "2023-08-26 17:16:39.779107    NaN 2023-08-26 17:16:39.779107   \n",
      "2023-08-26 17:16:41.901054    NaN 2023-08-26 17:16:41.901054   \n",
      "2023-08-26 17:16:44.696942    NaN 2023-08-26 17:16:44.696942   \n",
      "\n",
      "                                             diff  \n",
      "frame.time                                         \n",
      "2023-08-26 15:12:19.833411                    NaT  \n",
      "2023-08-26 15:12:20.607731 0 days 00:00:00.774320  \n",
      "2023-08-26 15:12:21.925046 0 days 00:00:01.317315  \n",
      "2023-08-26 15:12:28.361014 0 days 00:00:06.435968  \n",
      "2023-08-26 15:12:29.849343 0 days 00:00:01.488329  \n",
      "...                                           ...  \n",
      "2023-08-26 17:16:36.912984 0 days 00:00:06.607199  \n",
      "2023-08-26 17:16:37.999108 0 days 00:00:01.086124  \n",
      "2023-08-26 17:16:39.779107 0 days 00:00:01.779999  \n",
      "2023-08-26 17:16:41.901054 0 days 00:00:02.121947  \n",
      "2023-08-26 17:16:44.696942 0 days 00:00:02.795888  \n",
      "\n",
      "[257644 rows x 3 columns]\n"
     ]
    },
    {
     "name": "stderr",
     "output_type": "stream",
     "text": [
      "./code/Solo.py:16: SettingWithCopyWarning: \n",
      "A value is trying to be set on a copy of a slice from a DataFrame.\n",
      "Try using .loc[row_indexer,col_indexer] = value instead\n",
      "\n",
      "See the caveats in the documentation: https://pandas.pydata.org/pandas-docs/stable/user_guide/indexing.html#returning-a-view-versus-a-copy\n",
      "  new_df['index_col'] = new_df.index\n",
      "./code/Solo.py:17: SettingWithCopyWarning: \n",
      "A value is trying to be set on a copy of a slice from a DataFrame.\n",
      "Try using .loc[row_indexer,col_indexer] = value instead\n",
      "\n",
      "See the caveats in the documentation: https://pandas.pydata.org/pandas-docs/stable/user_guide/indexing.html#returning-a-view-versus-a-copy\n",
      "  new_df['diff'] = new_df['index_col'].diff()\n"
     ]
    },
    {
     "name": "stdout",
     "output_type": "stream",
     "text": [
      "                           ip.src\n",
      "frame.time                       \n",
      "2023-08-26 15:13:21.236225    NaN\n",
      "2023-08-26 15:13:23.539110    NaN\n",
      "2023-08-26 15:13:26.274394    NaN\n",
      "2023-08-26 15:13:31.111523    NaN\n",
      "2023-08-26 15:13:32.841326    NaN\n",
      "...                           ...\n",
      "2023-08-26 17:16:28.140855    NaN\n",
      "2023-08-26 17:16:33.499949    NaN\n",
      "2023-08-26 17:16:36.265010    NaN\n",
      "2023-08-26 17:16:36.918682    NaN\n",
      "2023-08-26 17:16:41.252113    NaN\n",
      "\n",
      "[621039 rows x 1 columns]\n",
      "                           ip.src                  index_col  \\\n",
      "frame.time                                                     \n",
      "2023-08-26 15:13:21.236225    NaN 2023-08-26 15:13:21.236225   \n",
      "2023-08-26 15:13:23.539110    NaN 2023-08-26 15:13:23.539110   \n",
      "2023-08-26 15:13:26.274394    NaN 2023-08-26 15:13:26.274394   \n",
      "2023-08-26 15:13:31.111523    NaN 2023-08-26 15:13:31.111523   \n",
      "2023-08-26 15:13:32.841326    NaN 2023-08-26 15:13:32.841326   \n",
      "...                           ...                        ...   \n",
      "2023-08-26 17:16:28.140855    NaN 2023-08-26 17:16:28.140855   \n",
      "2023-08-26 17:16:33.499949    NaN 2023-08-26 17:16:33.499949   \n",
      "2023-08-26 17:16:36.265010    NaN 2023-08-26 17:16:36.265010   \n",
      "2023-08-26 17:16:36.918682    NaN 2023-08-26 17:16:36.918682   \n",
      "2023-08-26 17:16:41.252113    NaN 2023-08-26 17:16:41.252113   \n",
      "\n",
      "                                             diff  \n",
      "frame.time                                         \n",
      "2023-08-26 15:13:21.236225                    NaT  \n",
      "2023-08-26 15:13:23.539110 0 days 00:00:02.302885  \n",
      "2023-08-26 15:13:26.274394 0 days 00:00:02.735284  \n",
      "2023-08-26 15:13:31.111523 0 days 00:00:04.837129  \n",
      "2023-08-26 15:13:32.841326 0 days 00:00:01.729803  \n",
      "...                                           ...  \n",
      "2023-08-26 17:16:28.140855 0 days 00:00:01.880244  \n",
      "2023-08-26 17:16:33.499949 0 days 00:00:05.359094  \n",
      "2023-08-26 17:16:36.265010 0 days 00:00:02.765061  \n",
      "2023-08-26 17:16:36.918682 0 days 00:00:00.653672  \n",
      "2023-08-26 17:16:41.252113 0 days 00:00:04.333431  \n",
      "\n",
      "[266429 rows x 3 columns]\n"
     ]
    },
    {
     "name": "stderr",
     "output_type": "stream",
     "text": [
      "./code/Solo.py:16: SettingWithCopyWarning: \n",
      "A value is trying to be set on a copy of a slice from a DataFrame.\n",
      "Try using .loc[row_indexer,col_indexer] = value instead\n",
      "\n",
      "See the caveats in the documentation: https://pandas.pydata.org/pandas-docs/stable/user_guide/indexing.html#returning-a-view-versus-a-copy\n",
      "  new_df['index_col'] = new_df.index\n",
      "./code/Solo.py:17: SettingWithCopyWarning: \n",
      "A value is trying to be set on a copy of a slice from a DataFrame.\n",
      "Try using .loc[row_indexer,col_indexer] = value instead\n",
      "\n",
      "See the caveats in the documentation: https://pandas.pydata.org/pandas-docs/stable/user_guide/indexing.html#returning-a-view-versus-a-copy\n",
      "  new_df['diff'] = new_df['index_col'].diff()\n"
     ]
    },
    {
     "name": "stdout",
     "output_type": "stream",
     "text": [
      "                           ip.src\n",
      "frame.time                       \n",
      "2023-08-26 15:12:27.368419    NaN\n",
      "2023-08-26 15:12:31.350704    NaN\n",
      "2023-08-26 15:12:33.361951    NaN\n",
      "2023-08-26 15:12:34.779680    NaN\n",
      "2023-08-26 15:12:36.358643    NaN\n",
      "...                           ...\n",
      "2023-08-26 17:16:32.820081    NaN\n",
      "2023-08-26 17:16:33.342952    NaN\n",
      "2023-08-26 17:16:39.628289    NaN\n",
      "2023-08-26 17:16:41.046319    NaN\n",
      "2023-08-26 17:16:41.378252    NaN\n",
      "\n",
      "[609286 rows x 1 columns]\n",
      "                           ip.src                  index_col  \\\n",
      "frame.time                                                     \n",
      "2023-08-26 15:12:27.368419    NaN 2023-08-26 15:12:27.368419   \n",
      "2023-08-26 15:12:31.350704    NaN 2023-08-26 15:12:31.350704   \n",
      "2023-08-26 15:12:33.361951    NaN 2023-08-26 15:12:33.361951   \n",
      "2023-08-26 15:12:34.779680    NaN 2023-08-26 15:12:34.779680   \n",
      "2023-08-26 15:12:36.358643    NaN 2023-08-26 15:12:36.358643   \n",
      "...                           ...                        ...   \n",
      "2023-08-26 17:16:32.820081    NaN 2023-08-26 17:16:32.820081   \n",
      "2023-08-26 17:16:33.342952    NaN 2023-08-26 17:16:33.342952   \n",
      "2023-08-26 17:16:39.628289    NaN 2023-08-26 17:16:39.628289   \n",
      "2023-08-26 17:16:41.046319    NaN 2023-08-26 17:16:41.046319   \n",
      "2023-08-26 17:16:41.378252    NaN 2023-08-26 17:16:41.378252   \n",
      "\n",
      "                                             diff  \n",
      "frame.time                                         \n",
      "2023-08-26 15:12:27.368419                    NaT  \n",
      "2023-08-26 15:12:31.350704 0 days 00:00:03.982285  \n",
      "2023-08-26 15:12:33.361951 0 days 00:00:02.011247  \n",
      "2023-08-26 15:12:34.779680 0 days 00:00:01.417729  \n",
      "2023-08-26 15:12:36.358643 0 days 00:00:01.578963  \n",
      "...                                           ...  \n",
      "2023-08-26 17:16:32.820081 0 days 00:00:01.116395  \n",
      "2023-08-26 17:16:33.342952 0 days 00:00:00.522871  \n",
      "2023-08-26 17:16:39.628289 0 days 00:00:06.285337  \n",
      "2023-08-26 17:16:41.046319 0 days 00:00:01.418030  \n",
      "2023-08-26 17:16:41.378252 0 days 00:00:00.331933  \n",
      "\n",
      "[260185 rows x 3 columns]\n"
     ]
    },
    {
     "name": "stderr",
     "output_type": "stream",
     "text": [
      "./code/Solo.py:16: SettingWithCopyWarning: \n",
      "A value is trying to be set on a copy of a slice from a DataFrame.\n",
      "Try using .loc[row_indexer,col_indexer] = value instead\n",
      "\n",
      "See the caveats in the documentation: https://pandas.pydata.org/pandas-docs/stable/user_guide/indexing.html#returning-a-view-versus-a-copy\n",
      "  new_df['index_col'] = new_df.index\n",
      "./code/Solo.py:17: SettingWithCopyWarning: \n",
      "A value is trying to be set on a copy of a slice from a DataFrame.\n",
      "Try using .loc[row_indexer,col_indexer] = value instead\n",
      "\n",
      "See the caveats in the documentation: https://pandas.pydata.org/pandas-docs/stable/user_guide/indexing.html#returning-a-view-versus-a-copy\n",
      "  new_df['diff'] = new_df['index_col'].diff()\n"
     ]
    },
    {
     "name": "stdout",
     "output_type": "stream",
     "text": [
      "                           ip.src\n",
      "frame.time                       \n",
      "2023-08-26 15:12:39.440280    NaN\n",
      "2023-08-26 15:12:41.592602    NaN\n",
      "2023-08-26 15:12:42.085444    NaN\n",
      "2023-08-26 15:12:49.415929    NaN\n",
      "2023-08-26 15:12:49.878608    NaN\n",
      "...                           ...\n",
      "2023-08-26 17:16:32.523213    NaN\n",
      "2023-08-26 17:16:33.890831    NaN\n",
      "2023-08-26 17:16:39.441992    NaN\n",
      "2023-08-26 17:16:41.956194    NaN\n",
      "2023-08-26 17:16:42.911651    NaN\n",
      "\n",
      "[605464 rows x 1 columns]\n",
      "                           ip.src                  index_col  \\\n",
      "frame.time                                                     \n",
      "2023-08-26 15:12:39.440280    NaN 2023-08-26 15:12:39.440280   \n",
      "2023-08-26 15:12:41.592602    NaN 2023-08-26 15:12:41.592602   \n",
      "2023-08-26 15:12:42.085444    NaN 2023-08-26 15:12:42.085444   \n",
      "2023-08-26 15:12:49.415929    NaN 2023-08-26 15:12:49.415929   \n",
      "2023-08-26 15:12:49.878608    NaN 2023-08-26 15:12:49.878608   \n",
      "...                           ...                        ...   \n",
      "2023-08-26 17:16:32.523213    NaN 2023-08-26 17:16:32.523213   \n",
      "2023-08-26 17:16:33.890831    NaN 2023-08-26 17:16:33.890831   \n",
      "2023-08-26 17:16:39.441992    NaN 2023-08-26 17:16:39.441992   \n",
      "2023-08-26 17:16:41.956194    NaN 2023-08-26 17:16:41.956194   \n",
      "2023-08-26 17:16:42.911651    NaN 2023-08-26 17:16:42.911651   \n",
      "\n",
      "                                             diff  \n",
      "frame.time                                         \n",
      "2023-08-26 15:12:39.440280                    NaT  \n",
      "2023-08-26 15:12:41.592602 0 days 00:00:02.152322  \n",
      "2023-08-26 15:12:42.085444 0 days 00:00:00.492842  \n",
      "2023-08-26 15:12:49.415929 0 days 00:00:07.330485  \n",
      "2023-08-26 15:12:49.878608 0 days 00:00:00.462679  \n",
      "...                                           ...  \n",
      "2023-08-26 17:16:32.523213 0 days 00:00:01.075928  \n",
      "2023-08-26 17:16:33.890831 0 days 00:00:01.367618  \n",
      "2023-08-26 17:16:39.441992 0 days 00:00:05.551161  \n",
      "2023-08-26 17:16:41.956194 0 days 00:00:02.514202  \n",
      "2023-08-26 17:16:42.911651 0 days 00:00:00.955457  \n",
      "\n",
      "[258794 rows x 3 columns]\n"
     ]
    },
    {
     "name": "stderr",
     "output_type": "stream",
     "text": [
      "./code/Solo.py:16: SettingWithCopyWarning: \n",
      "A value is trying to be set on a copy of a slice from a DataFrame.\n",
      "Try using .loc[row_indexer,col_indexer] = value instead\n",
      "\n",
      "See the caveats in the documentation: https://pandas.pydata.org/pandas-docs/stable/user_guide/indexing.html#returning-a-view-versus-a-copy\n",
      "  new_df['index_col'] = new_df.index\n",
      "./code/Solo.py:17: SettingWithCopyWarning: \n",
      "A value is trying to be set on a copy of a slice from a DataFrame.\n",
      "Try using .loc[row_indexer,col_indexer] = value instead\n",
      "\n",
      "See the caveats in the documentation: https://pandas.pydata.org/pandas-docs/stable/user_guide/indexing.html#returning-a-view-versus-a-copy\n",
      "  new_df['diff'] = new_df['index_col'].diff()\n"
     ]
    },
    {
     "name": "stdout",
     "output_type": "stream",
     "text": [
      "                           ip.src\n",
      "frame.time                       \n",
      "2023-08-26 15:12:45.810456    NaN\n",
      "2023-08-26 15:12:46.806074    NaN\n",
      "2023-08-26 15:12:47.731319    NaN\n",
      "2023-08-26 15:12:53.422950    NaN\n",
      "2023-08-26 15:12:56.570279    NaN\n",
      "...                           ...\n",
      "2023-08-26 17:16:33.127932    NaN\n",
      "2023-08-26 17:16:34.133332    NaN\n",
      "2023-08-26 17:16:37.662503    NaN\n",
      "2023-08-26 17:16:41.674449    NaN\n",
      "2023-08-26 17:16:43.695440    NaN\n",
      "\n",
      "[601271 rows x 1 columns]\n",
      "                           ip.src                  index_col  \\\n",
      "frame.time                                                     \n",
      "2023-08-26 15:12:45.810456    NaN 2023-08-26 15:12:45.810456   \n",
      "2023-08-26 15:12:46.806074    NaN 2023-08-26 15:12:46.806074   \n",
      "2023-08-26 15:12:47.731319    NaN 2023-08-26 15:12:47.731319   \n",
      "2023-08-26 15:12:53.422950    NaN 2023-08-26 15:12:53.422950   \n",
      "2023-08-26 15:12:56.570279    NaN 2023-08-26 15:12:56.570279   \n",
      "...                           ...                        ...   \n",
      "2023-08-26 17:16:33.127932    NaN 2023-08-26 17:16:33.127932   \n",
      "2023-08-26 17:16:34.133332    NaN 2023-08-26 17:16:34.133332   \n",
      "2023-08-26 17:16:37.662503    NaN 2023-08-26 17:16:37.662503   \n",
      "2023-08-26 17:16:41.674449    NaN 2023-08-26 17:16:41.674449   \n",
      "2023-08-26 17:16:43.695440    NaN 2023-08-26 17:16:43.695440   \n",
      "\n",
      "                                             diff  \n",
      "frame.time                                         \n",
      "2023-08-26 15:12:45.810456                    NaT  \n",
      "2023-08-26 15:12:46.806074 0 days 00:00:00.995618  \n",
      "2023-08-26 15:12:47.731319 0 days 00:00:00.925245  \n",
      "2023-08-26 15:12:53.422950 0 days 00:00:05.691631  \n",
      "2023-08-26 15:12:56.570279 0 days 00:00:03.147329  \n",
      "...                                           ...  \n",
      "2023-08-26 17:16:33.127932 0 days 00:00:03.458938  \n",
      "2023-08-26 17:16:34.133332 0 days 00:00:01.005400  \n",
      "2023-08-26 17:16:37.662503 0 days 00:00:03.529171  \n",
      "2023-08-26 17:16:41.674449 0 days 00:00:04.011946  \n",
      "2023-08-26 17:16:43.695440 0 days 00:00:02.020991  \n",
      "\n",
      "[257029 rows x 3 columns]\n"
     ]
    },
    {
     "name": "stderr",
     "output_type": "stream",
     "text": [
      "./code/Solo.py:16: SettingWithCopyWarning: \n",
      "A value is trying to be set on a copy of a slice from a DataFrame.\n",
      "Try using .loc[row_indexer,col_indexer] = value instead\n",
      "\n",
      "See the caveats in the documentation: https://pandas.pydata.org/pandas-docs/stable/user_guide/indexing.html#returning-a-view-versus-a-copy\n",
      "  new_df['index_col'] = new_df.index\n",
      "./code/Solo.py:17: SettingWithCopyWarning: \n",
      "A value is trying to be set on a copy of a slice from a DataFrame.\n",
      "Try using .loc[row_indexer,col_indexer] = value instead\n",
      "\n",
      "See the caveats in the documentation: https://pandas.pydata.org/pandas-docs/stable/user_guide/indexing.html#returning-a-view-versus-a-copy\n",
      "  new_df['diff'] = new_df['index_col'].diff()\n"
     ]
    },
    {
     "name": "stdout",
     "output_type": "stream",
     "text": [
      "                           ip.src\n",
      "frame.time                       \n",
      "2023-08-26 15:12:49.929750    NaN\n",
      "2023-08-26 15:12:53.591191    NaN\n",
      "2023-08-26 15:12:55.773974    NaN\n",
      "2023-08-26 15:12:58.851899    NaN\n",
      "2023-08-26 15:13:03.498958    NaN\n",
      "...                           ...\n",
      "2023-08-26 17:16:34.653772    NaN\n",
      "2023-08-26 17:16:35.739882    NaN\n",
      "2023-08-26 17:16:41.281041    NaN\n",
      "2023-08-26 17:16:43.101417    NaN\n",
      "2023-08-26 17:16:45.736842    NaN\n",
      "\n",
      "[599808 rows x 1 columns]\n",
      "                           ip.src                  index_col  \\\n",
      "frame.time                                                     \n",
      "2023-08-26 15:12:49.929750    NaN 2023-08-26 15:12:49.929750   \n",
      "2023-08-26 15:12:53.591191    NaN 2023-08-26 15:12:53.591191   \n",
      "2023-08-26 15:12:55.773974    NaN 2023-08-26 15:12:55.773974   \n",
      "2023-08-26 15:12:58.851899    NaN 2023-08-26 15:12:58.851899   \n",
      "2023-08-26 15:13:03.498958    NaN 2023-08-26 15:13:03.498958   \n",
      "...                           ...                        ...   \n",
      "2023-08-26 17:16:34.653772    NaN 2023-08-26 17:16:34.653772   \n",
      "2023-08-26 17:16:35.739882    NaN 2023-08-26 17:16:35.739882   \n",
      "2023-08-26 17:16:41.281041    NaN 2023-08-26 17:16:41.281041   \n",
      "2023-08-26 17:16:43.101417    NaN 2023-08-26 17:16:43.101417   \n",
      "2023-08-26 17:16:45.736842    NaN 2023-08-26 17:16:45.736842   \n",
      "\n",
      "                                             diff  \n",
      "frame.time                                         \n",
      "2023-08-26 15:12:49.929750                    NaT  \n",
      "2023-08-26 15:12:53.591191 0 days 00:00:03.661441  \n",
      "2023-08-26 15:12:55.773974 0 days 00:00:02.182783  \n",
      "2023-08-26 15:12:58.851899 0 days 00:00:03.077925  \n",
      "2023-08-26 15:13:03.498958 0 days 00:00:04.647059  \n",
      "...                                           ...  \n",
      "2023-08-26 17:16:34.653772 0 days 00:00:01.659396  \n",
      "2023-08-26 17:16:35.739882 0 days 00:00:01.086110  \n",
      "2023-08-26 17:16:41.281041 0 days 00:00:05.541159  \n",
      "2023-08-26 17:16:43.101417 0 days 00:00:01.820376  \n",
      "2023-08-26 17:16:45.736842 0 days 00:00:02.635425  \n",
      "\n",
      "[256785 rows x 3 columns]\n"
     ]
    },
    {
     "name": "stderr",
     "output_type": "stream",
     "text": [
      "./code/Solo.py:16: SettingWithCopyWarning: \n",
      "A value is trying to be set on a copy of a slice from a DataFrame.\n",
      "Try using .loc[row_indexer,col_indexer] = value instead\n",
      "\n",
      "See the caveats in the documentation: https://pandas.pydata.org/pandas-docs/stable/user_guide/indexing.html#returning-a-view-versus-a-copy\n",
      "  new_df['index_col'] = new_df.index\n",
      "./code/Solo.py:17: SettingWithCopyWarning: \n",
      "A value is trying to be set on a copy of a slice from a DataFrame.\n",
      "Try using .loc[row_indexer,col_indexer] = value instead\n",
      "\n",
      "See the caveats in the documentation: https://pandas.pydata.org/pandas-docs/stable/user_guide/indexing.html#returning-a-view-versus-a-copy\n",
      "  new_df['diff'] = new_df['index_col'].diff()\n"
     ]
    },
    {
     "name": "stdout",
     "output_type": "stream",
     "text": [
      "                           ip.src\n",
      "frame.time                       \n",
      "2023-08-26 15:10:49.933756    NaN\n",
      "2023-08-26 15:10:50.255741    NaN\n",
      "2023-08-26 15:10:54.460191    NaN\n",
      "2023-08-26 15:10:59.228188    NaN\n",
      "2023-08-26 15:10:59.479836    NaN\n",
      "...                           ...\n",
      "2023-08-26 17:16:31.410961    NaN\n",
      "2023-08-26 17:16:34.509302    NaN\n",
      "2023-08-26 17:16:38.573105    NaN\n",
      "2023-08-26 17:16:39.789978    NaN\n",
      "2023-08-26 17:16:44.486968    NaN\n",
      "\n",
      "[3516696 rows x 1 columns]\n",
      "                           ip.src                  index_col  \\\n",
      "frame.time                                                     \n",
      "2023-08-26 15:10:49.933756    NaN 2023-08-26 15:10:49.933756   \n",
      "2023-08-26 15:10:50.255741    NaN 2023-08-26 15:10:50.255741   \n",
      "2023-08-26 15:10:54.460191    NaN 2023-08-26 15:10:54.460191   \n",
      "2023-08-26 15:10:59.228188    NaN 2023-08-26 15:10:59.228188   \n",
      "2023-08-26 15:10:59.479836    NaN 2023-08-26 15:10:59.479836   \n",
      "...                           ...                        ...   \n",
      "2023-08-26 17:16:31.410961    NaN 2023-08-26 17:16:31.410961   \n",
      "2023-08-26 17:16:34.509302    NaN 2023-08-26 17:16:34.509302   \n",
      "2023-08-26 17:16:38.573105    NaN 2023-08-26 17:16:38.573105   \n",
      "2023-08-26 17:16:39.789978    NaN 2023-08-26 17:16:39.789978   \n",
      "2023-08-26 17:16:44.486968    NaN 2023-08-26 17:16:44.486968   \n",
      "\n",
      "                                             diff  \n",
      "frame.time                                         \n",
      "2023-08-26 15:10:49.933756                    NaT  \n",
      "2023-08-26 15:10:50.255741 0 days 00:00:00.321985  \n",
      "2023-08-26 15:10:54.460191 0 days 00:00:04.204450  \n",
      "2023-08-26 15:10:59.228188 0 days 00:00:04.767997  \n",
      "2023-08-26 15:10:59.479836 0 days 00:00:00.251648  \n",
      "...                                           ...  \n",
      "2023-08-26 17:16:31.410961 0 days 00:00:00.442719  \n",
      "2023-08-26 17:16:34.509302 0 days 00:00:03.098341  \n",
      "2023-08-26 17:16:38.573105 0 days 00:00:04.063803  \n",
      "2023-08-26 17:16:39.789978 0 days 00:00:01.216873  \n",
      "2023-08-26 17:16:44.486968 0 days 00:00:04.696990  \n",
      "\n",
      "[1189825 rows x 3 columns]\n",
      "                           ip.src\n",
      "frame.time                       \n",
      "2023-08-26 15:11:20.390578    NaN\n",
      "2023-08-26 15:11:20.491256    NaN\n",
      "2023-08-26 15:11:20.843241    NaN\n",
      "2023-08-26 15:11:28.858248    NaN\n",
      "2023-08-26 15:11:30.004626    NaN\n",
      "...                           ...\n",
      "2023-08-26 17:16:27.174822    NaN\n",
      "2023-08-26 17:16:31.810975    NaN\n",
      "2023-08-26 17:16:35.763076    NaN\n",
      "2023-08-26 17:16:41.123161    NaN\n",
      "2023-08-26 17:16:44.461720    NaN\n",
      "\n",
      "[6970 rows x 1 columns]\n",
      "                           ip.src                  index_col  \\\n",
      "frame.time                                                     \n",
      "2023-08-26 15:11:20.390578    NaN 2023-08-26 15:11:20.390578   \n",
      "2023-08-26 15:11:20.491256    NaN 2023-08-26 15:11:20.491256   \n",
      "2023-08-26 15:11:20.843241    NaN 2023-08-26 15:11:20.843241   \n",
      "2023-08-26 15:11:28.858248    NaN 2023-08-26 15:11:28.858248   \n",
      "2023-08-26 15:11:30.004626    NaN 2023-08-26 15:11:30.004626   \n",
      "...                           ...                        ...   \n",
      "2023-08-26 17:16:27.174822    NaN 2023-08-26 17:16:27.174822   \n",
      "2023-08-26 17:16:31.810975    NaN 2023-08-26 17:16:31.810975   \n",
      "2023-08-26 17:16:35.763076    NaN 2023-08-26 17:16:35.763076   \n",
      "2023-08-26 17:16:41.123161    NaN 2023-08-26 17:16:41.123161   \n",
      "2023-08-26 17:16:44.461720    NaN 2023-08-26 17:16:44.461720   \n",
      "\n",
      "                                             diff  \n",
      "frame.time                                         \n",
      "2023-08-26 15:11:20.390578                    NaT  \n",
      "2023-08-26 15:11:20.491256 0 days 00:00:00.100678  \n",
      "2023-08-26 15:11:20.843241 0 days 00:00:00.351985  \n",
      "2023-08-26 15:11:28.858248 0 days 00:00:08.015007  \n",
      "2023-08-26 15:11:30.004626 0 days 00:00:01.146378  \n",
      "...                                           ...  \n",
      "2023-08-26 17:16:27.174822 0 days 00:00:05.058209  \n",
      "2023-08-26 17:16:31.810975 0 days 00:00:04.636153  \n",
      "2023-08-26 17:16:35.763076 0 days 00:00:03.952101  \n",
      "2023-08-26 17:16:41.123161 0 days 00:00:05.360085  \n",
      "2023-08-26 17:16:44.461720 0 days 00:00:03.338559  \n",
      "\n",
      "[6877 rows x 3 columns]\n"
     ]
    },
    {
     "name": "stderr",
     "output_type": "stream",
     "text": [
      "./code/Solo.py:16: SettingWithCopyWarning: \n",
      "A value is trying to be set on a copy of a slice from a DataFrame.\n",
      "Try using .loc[row_indexer,col_indexer] = value instead\n",
      "\n",
      "See the caveats in the documentation: https://pandas.pydata.org/pandas-docs/stable/user_guide/indexing.html#returning-a-view-versus-a-copy\n",
      "  new_df['index_col'] = new_df.index\n",
      "./code/Solo.py:17: SettingWithCopyWarning: \n",
      "A value is trying to be set on a copy of a slice from a DataFrame.\n",
      "Try using .loc[row_indexer,col_indexer] = value instead\n",
      "\n",
      "See the caveats in the documentation: https://pandas.pydata.org/pandas-docs/stable/user_guide/indexing.html#returning-a-view-versus-a-copy\n",
      "  new_df['diff'] = new_df['index_col'].diff()\n",
      "./code/Solo.py:16: SettingWithCopyWarning: \n",
      "A value is trying to be set on a copy of a slice from a DataFrame.\n",
      "Try using .loc[row_indexer,col_indexer] = value instead\n",
      "\n",
      "See the caveats in the documentation: https://pandas.pydata.org/pandas-docs/stable/user_guide/indexing.html#returning-a-view-versus-a-copy\n",
      "  new_df['index_col'] = new_df.index\n",
      "./code/Solo.py:17: SettingWithCopyWarning: \n",
      "A value is trying to be set on a copy of a slice from a DataFrame.\n",
      "Try using .loc[row_indexer,col_indexer] = value instead\n",
      "\n",
      "See the caveats in the documentation: https://pandas.pydata.org/pandas-docs/stable/user_guide/indexing.html#returning-a-view-versus-a-copy\n",
      "  new_df['diff'] = new_df['index_col'].diff()\n"
     ]
    },
    {
     "name": "stdout",
     "output_type": "stream",
     "text": [
      "                           ip.src\n",
      "frame.time                       \n",
      "2023-08-26 15:11:28.858376    NaN\n",
      "2023-08-26 15:11:30.004680    NaN\n",
      "2023-08-26 15:11:37.084152    NaN\n",
      "2023-08-26 15:11:37.727766    NaN\n",
      "2023-08-26 15:11:44.706174    NaN\n",
      "...                           ...\n",
      "2023-08-26 17:16:27.174905    NaN\n",
      "2023-08-26 17:16:31.811087    NaN\n",
      "2023-08-26 17:16:35.763151    NaN\n",
      "2023-08-26 17:16:41.123228    NaN\n",
      "2023-08-26 17:16:44.461809    NaN\n",
      "\n",
      "[74838 rows x 1 columns]\n",
      "                           ip.src                  index_col  \\\n",
      "frame.time                                                     \n",
      "2023-08-26 15:11:28.858376    NaN 2023-08-26 15:11:28.858376   \n",
      "2023-08-26 15:11:30.004680    NaN 2023-08-26 15:11:30.004680   \n",
      "2023-08-26 15:11:37.084152    NaN 2023-08-26 15:11:37.084152   \n",
      "2023-08-26 15:11:37.727766    NaN 2023-08-26 15:11:37.727766   \n",
      "2023-08-26 15:11:44.706174    NaN 2023-08-26 15:11:44.706174   \n",
      "...                           ...                        ...   \n",
      "2023-08-26 17:16:27.174905    NaN 2023-08-26 17:16:27.174905   \n",
      "2023-08-26 17:16:31.811087    NaN 2023-08-26 17:16:31.811087   \n",
      "2023-08-26 17:16:35.763151    NaN 2023-08-26 17:16:35.763151   \n",
      "2023-08-26 17:16:41.123228    NaN 2023-08-26 17:16:41.123228   \n",
      "2023-08-26 17:16:44.461809    NaN 2023-08-26 17:16:44.461809   \n",
      "\n",
      "                                             diff  \n",
      "frame.time                                         \n",
      "2023-08-26 15:11:28.858376                    NaT  \n",
      "2023-08-26 15:11:30.004680 0 days 00:00:01.146304  \n",
      "2023-08-26 15:11:37.084152 0 days 00:00:07.079472  \n",
      "2023-08-26 15:11:37.727766 0 days 00:00:00.643614  \n",
      "2023-08-26 15:11:44.706174 0 days 00:00:06.978408  \n",
      "...                                           ...  \n",
      "2023-08-26 17:16:27.174905 0 days 00:00:05.058198  \n",
      "2023-08-26 17:16:31.811087 0 days 00:00:04.636182  \n",
      "2023-08-26 17:16:35.763151 0 days 00:00:03.952064  \n",
      "2023-08-26 17:16:41.123228 0 days 00:00:05.360077  \n",
      "2023-08-26 17:16:44.461809 0 days 00:00:03.338581  \n",
      "\n",
      "[70951 rows x 3 columns]\n"
     ]
    },
    {
     "name": "stderr",
     "output_type": "stream",
     "text": [
      "./code/Solo.py:16: SettingWithCopyWarning: \n",
      "A value is trying to be set on a copy of a slice from a DataFrame.\n",
      "Try using .loc[row_indexer,col_indexer] = value instead\n",
      "\n",
      "See the caveats in the documentation: https://pandas.pydata.org/pandas-docs/stable/user_guide/indexing.html#returning-a-view-versus-a-copy\n",
      "  new_df['index_col'] = new_df.index\n",
      "./code/Solo.py:17: SettingWithCopyWarning: \n",
      "A value is trying to be set on a copy of a slice from a DataFrame.\n",
      "Try using .loc[row_indexer,col_indexer] = value instead\n",
      "\n",
      "See the caveats in the documentation: https://pandas.pydata.org/pandas-docs/stable/user_guide/indexing.html#returning-a-view-versus-a-copy\n",
      "  new_df['diff'] = new_df['index_col'].diff()\n"
     ]
    },
    {
     "name": "stdout",
     "output_type": "stream",
     "text": [
      "                           ip.src\n",
      "frame.time                       \n",
      "2023-08-26 15:11:20.390709    NaN\n",
      "2023-08-26 15:11:20.491305    NaN\n",
      "2023-08-26 15:11:20.843326    NaN\n",
      "2023-08-26 15:11:28.858361    NaN\n",
      "2023-08-26 15:11:30.004668    NaN\n",
      "...                           ...\n",
      "2023-08-26 17:16:27.174889    NaN\n",
      "2023-08-26 17:16:31.811069    NaN\n",
      "2023-08-26 17:16:35.763106    NaN\n",
      "2023-08-26 17:16:41.123213    NaN\n",
      "2023-08-26 17:16:44.461796    NaN\n",
      "\n",
      "[103347 rows x 1 columns]\n",
      "                           ip.src                  index_col  \\\n",
      "frame.time                                                     \n",
      "2023-08-26 15:11:20.390709    NaN 2023-08-26 15:11:20.390709   \n",
      "2023-08-26 15:11:20.491305    NaN 2023-08-26 15:11:20.491305   \n",
      "2023-08-26 15:11:20.843326    NaN 2023-08-26 15:11:20.843326   \n",
      "2023-08-26 15:11:28.858361    NaN 2023-08-26 15:11:28.858361   \n",
      "2023-08-26 15:11:30.004668    NaN 2023-08-26 15:11:30.004668   \n",
      "...                           ...                        ...   \n",
      "2023-08-26 17:16:27.174889    NaN 2023-08-26 17:16:27.174889   \n",
      "2023-08-26 17:16:31.811069    NaN 2023-08-26 17:16:31.811069   \n",
      "2023-08-26 17:16:35.763106    NaN 2023-08-26 17:16:35.763106   \n",
      "2023-08-26 17:16:41.123213    NaN 2023-08-26 17:16:41.123213   \n",
      "2023-08-26 17:16:44.461796    NaN 2023-08-26 17:16:44.461796   \n",
      "\n",
      "                                             diff  \n",
      "frame.time                                         \n",
      "2023-08-26 15:11:20.390709                    NaT  \n",
      "2023-08-26 15:11:20.491305 0 days 00:00:00.100596  \n",
      "2023-08-26 15:11:20.843326 0 days 00:00:00.352021  \n",
      "2023-08-26 15:11:28.858361 0 days 00:00:08.015035  \n",
      "2023-08-26 15:11:30.004668 0 days 00:00:01.146307  \n",
      "...                                           ...  \n",
      "2023-08-26 17:16:27.174889 0 days 00:00:05.058233  \n",
      "2023-08-26 17:16:31.811069 0 days 00:00:04.636180  \n",
      "2023-08-26 17:16:35.763106 0 days 00:00:03.952037  \n",
      "2023-08-26 17:16:41.123213 0 days 00:00:05.360107  \n",
      "2023-08-26 17:16:44.461796 0 days 00:00:03.338583  \n",
      "\n",
      "[83696 rows x 3 columns]\n"
     ]
    },
    {
     "name": "stderr",
     "output_type": "stream",
     "text": [
      "./code/Solo.py:16: SettingWithCopyWarning: \n",
      "A value is trying to be set on a copy of a slice from a DataFrame.\n",
      "Try using .loc[row_indexer,col_indexer] = value instead\n",
      "\n",
      "See the caveats in the documentation: https://pandas.pydata.org/pandas-docs/stable/user_guide/indexing.html#returning-a-view-versus-a-copy\n",
      "  new_df['index_col'] = new_df.index\n",
      "./code/Solo.py:17: SettingWithCopyWarning: \n",
      "A value is trying to be set on a copy of a slice from a DataFrame.\n",
      "Try using .loc[row_indexer,col_indexer] = value instead\n",
      "\n",
      "See the caveats in the documentation: https://pandas.pydata.org/pandas-docs/stable/user_guide/indexing.html#returning-a-view-versus-a-copy\n",
      "  new_df['diff'] = new_df['index_col'].diff()\n"
     ]
    },
    {
     "name": "stdout",
     "output_type": "stream",
     "text": [
      "                           ip.src\n",
      "frame.time                       \n",
      "2023-08-26 15:11:02.111726    NaN\n",
      "2023-08-26 15:11:02.896234    NaN\n",
      "2023-08-26 15:11:06.315792    NaN\n",
      "2023-08-26 15:11:11.304915    NaN\n",
      "2023-08-26 15:11:11.305054    NaN\n",
      "...                           ...\n",
      "2023-08-26 17:16:29.394052    NaN\n",
      "2023-08-26 17:16:33.326062    NaN\n",
      "2023-08-26 17:16:36.302531    NaN\n",
      "2023-08-26 17:16:38.193068    NaN\n",
      "2023-08-26 17:16:42.114541    NaN\n",
      "\n",
      "[2717447 rows x 1 columns]\n",
      "                           ip.src                  index_col  \\\n",
      "frame.time                                                     \n",
      "2023-08-26 15:11:02.111726    NaN 2023-08-26 15:11:02.111726   \n",
      "2023-08-26 15:11:02.896234    NaN 2023-08-26 15:11:02.896234   \n",
      "2023-08-26 15:11:06.315792    NaN 2023-08-26 15:11:06.315792   \n",
      "2023-08-26 15:11:11.304915    NaN 2023-08-26 15:11:11.304915   \n",
      "2023-08-26 15:11:11.305054    NaN 2023-08-26 15:11:11.305054   \n",
      "...                           ...                        ...   \n",
      "2023-08-26 17:16:29.394052    NaN 2023-08-26 17:16:29.394052   \n",
      "2023-08-26 17:16:33.326062    NaN 2023-08-26 17:16:33.326062   \n",
      "2023-08-26 17:16:36.302531    NaN 2023-08-26 17:16:36.302531   \n",
      "2023-08-26 17:16:38.193068    NaN 2023-08-26 17:16:38.193068   \n",
      "2023-08-26 17:16:42.114541    NaN 2023-08-26 17:16:42.114541   \n",
      "\n",
      "                                             diff  \n",
      "frame.time                                         \n",
      "2023-08-26 15:11:02.111726                    NaT  \n",
      "2023-08-26 15:11:02.896234 0 days 00:00:00.784508  \n",
      "2023-08-26 15:11:06.315792 0 days 00:00:03.419558  \n",
      "2023-08-26 15:11:11.304915 0 days 00:00:04.989123  \n",
      "2023-08-26 15:11:11.305054 0 days 00:00:00.000139  \n",
      "...                                           ...  \n",
      "2023-08-26 17:16:29.394052 0 days 00:00:03.097120  \n",
      "2023-08-26 17:16:33.326062 0 days 00:00:03.932010  \n",
      "2023-08-26 17:16:36.302531 0 days 00:00:02.976469  \n",
      "2023-08-26 17:16:38.193068 0 days 00:00:01.890537  \n",
      "2023-08-26 17:16:42.114541 0 days 00:00:03.921473  \n",
      "\n",
      "[1093376 rows x 3 columns]\n"
     ]
    },
    {
     "name": "stderr",
     "output_type": "stream",
     "text": [
      "./code/Solo.py:16: SettingWithCopyWarning: \n",
      "A value is trying to be set on a copy of a slice from a DataFrame.\n",
      "Try using .loc[row_indexer,col_indexer] = value instead\n",
      "\n",
      "See the caveats in the documentation: https://pandas.pydata.org/pandas-docs/stable/user_guide/indexing.html#returning-a-view-versus-a-copy\n",
      "  new_df['index_col'] = new_df.index\n",
      "./code/Solo.py:17: SettingWithCopyWarning: \n",
      "A value is trying to be set on a copy of a slice from a DataFrame.\n",
      "Try using .loc[row_indexer,col_indexer] = value instead\n",
      "\n",
      "See the caveats in the documentation: https://pandas.pydata.org/pandas-docs/stable/user_guide/indexing.html#returning-a-view-versus-a-copy\n",
      "  new_df['diff'] = new_df['index_col'].diff()\n"
     ]
    },
    {
     "name": "stdout",
     "output_type": "stream",
     "text": [
      "                           ip.src\n",
      "frame.time                       \n",
      "2023-08-26 15:11:11.304990    NaN\n",
      "2023-08-26 15:11:11.305057    NaN\n",
      "2023-08-26 15:11:18.345467    NaN\n",
      "2023-08-26 15:11:20.115431    NaN\n",
      "2023-08-26 15:11:20.970296    NaN\n",
      "...                           ...\n",
      "2023-08-26 17:16:25.130405    NaN\n",
      "2023-08-26 17:16:29.394067    NaN\n",
      "2023-08-26 17:16:33.326086    NaN\n",
      "2023-08-26 17:16:38.193143    NaN\n",
      "2023-08-26 17:16:42.114585    NaN\n",
      "\n",
      "[80136 rows x 1 columns]\n",
      "                           ip.src                  index_col  \\\n",
      "frame.time                                                     \n",
      "2023-08-26 15:11:11.304990    NaN 2023-08-26 15:11:11.304990   \n",
      "2023-08-26 15:11:11.305057    NaN 2023-08-26 15:11:11.305057   \n",
      "2023-08-26 15:11:18.345467    NaN 2023-08-26 15:11:18.345467   \n",
      "2023-08-26 15:11:20.115431    NaN 2023-08-26 15:11:20.115431   \n",
      "2023-08-26 15:11:20.970296    NaN 2023-08-26 15:11:20.970296   \n",
      "...                           ...                        ...   \n",
      "2023-08-26 17:16:25.130405    NaN 2023-08-26 17:16:25.130405   \n",
      "2023-08-26 17:16:29.394067    NaN 2023-08-26 17:16:29.394067   \n",
      "2023-08-26 17:16:33.326086    NaN 2023-08-26 17:16:33.326086   \n",
      "2023-08-26 17:16:38.193143    NaN 2023-08-26 17:16:38.193143   \n",
      "2023-08-26 17:16:42.114585    NaN 2023-08-26 17:16:42.114585   \n",
      "\n",
      "                                             diff  \n",
      "frame.time                                         \n",
      "2023-08-26 15:11:11.304990                    NaT  \n",
      "2023-08-26 15:11:11.305057 0 days 00:00:00.000067  \n",
      "2023-08-26 15:11:18.345467 0 days 00:00:07.040410  \n",
      "2023-08-26 15:11:20.115431 0 days 00:00:01.769964  \n",
      "2023-08-26 15:11:20.970296 0 days 00:00:00.854865  \n",
      "...                                           ...  \n",
      "2023-08-26 17:16:25.130405 0 days 00:00:04.655804  \n",
      "2023-08-26 17:16:29.394067 0 days 00:00:04.263662  \n",
      "2023-08-26 17:16:33.326086 0 days 00:00:03.932019  \n",
      "2023-08-26 17:16:38.193143 0 days 00:00:04.867057  \n",
      "2023-08-26 17:16:42.114585 0 days 00:00:03.921442  \n",
      "\n",
      "[35516 rows x 3 columns]\n"
     ]
    },
    {
     "name": "stderr",
     "output_type": "stream",
     "text": [
      "./code/Solo.py:16: SettingWithCopyWarning: \n",
      "A value is trying to be set on a copy of a slice from a DataFrame.\n",
      "Try using .loc[row_indexer,col_indexer] = value instead\n",
      "\n",
      "See the caveats in the documentation: https://pandas.pydata.org/pandas-docs/stable/user_guide/indexing.html#returning-a-view-versus-a-copy\n",
      "  new_df['index_col'] = new_df.index\n",
      "./code/Solo.py:17: SettingWithCopyWarning: \n",
      "A value is trying to be set on a copy of a slice from a DataFrame.\n",
      "Try using .loc[row_indexer,col_indexer] = value instead\n",
      "\n",
      "See the caveats in the documentation: https://pandas.pydata.org/pandas-docs/stable/user_guide/indexing.html#returning-a-view-versus-a-copy\n",
      "  new_df['diff'] = new_df['index_col'].diff()\n",
      "  0%|                                                                                                                                            | 0/102 [00:00<?, ?it/s]./code/Packets2TS.py:48: SettingWithCopyWarning: \n",
      "A value is trying to be set on a copy of a slice from a DataFrame.\n",
      "Try using .loc[row_indexer,col_indexer] = value instead\n",
      "\n",
      "See the caveats in the documentation: https://pandas.pydata.org/pandas-docs/stable/user_guide/indexing.html#returning-a-view-versus-a-copy\n",
      "  matches[0]['count'] = 1\n"
     ]
    },
    {
     "name": "stdout",
     "output_type": "stream",
     "text": [
      "No matches for 102.0.80.183 at ISP1\n",
      "No matches for 102.0.80.183 at ISP2\n",
      "No matches for 102.0.80.183 at ISP3\n",
      "No matches for 102.0.80.183 at ISP4\n",
      "No matches for 102.0.80.183 at ISP5\n",
      "No matches for 102.0.80.183 at ISP6\n",
      "No matches for 102.0.80.183 at ISP7\n",
      "No matches for 102.0.80.183 at ISP8\n",
      "No matches for 102.0.80.183 at ISP10\n"
     ]
    },
    {
     "name": "stderr",
     "output_type": "stream",
     "text": [
      "./code/Packets2TS.py:48: SettingWithCopyWarning: \n",
      "A value is trying to be set on a copy of a slice from a DataFrame.\n",
      "Try using .loc[row_indexer,col_indexer] = value instead\n",
      "\n",
      "See the caveats in the documentation: https://pandas.pydata.org/pandas-docs/stable/user_guide/indexing.html#returning-a-view-versus-a-copy\n",
      "  matches[0]['count'] = 1\n"
     ]
    },
    {
     "name": "stdout",
     "output_type": "stream",
     "text": [
      "No matches for 102.0.80.183 at root\n",
      "No matches for 102.0.80.183 at SLD\n",
      "No matches for 102.0.80.183 at TLD\n"
     ]
    },
    {
     "name": "stderr",
     "output_type": "stream",
     "text": [
      "./code/Packets2TS.py:48: SettingWithCopyWarning: \n",
      "A value is trying to be set on a copy of a slice from a DataFrame.\n",
      "Try using .loc[row_indexer,col_indexer] = value instead\n",
      "\n",
      "See the caveats in the documentation: https://pandas.pydata.org/pandas-docs/stable/user_guide/indexing.html#returning-a-view-versus-a-copy\n",
      "  matches[0]['count'] = 1\n",
      "./code/Packets2TS.py:48: SettingWithCopyWarning: \n",
      "A value is trying to be set on a copy of a slice from a DataFrame.\n",
      "Try using .loc[row_indexer,col_indexer] = value instead\n",
      "\n",
      "See the caveats in the documentation: https://pandas.pydata.org/pandas-docs/stable/user_guide/indexing.html#returning-a-view-versus-a-copy\n",
      "  matches[0]['count'] = 1\n",
      "  1%|█▎                                                                                                                                  | 1/102 [00:28<47:08, 28.00s/it]./code/Packets2TS.py:48: SettingWithCopyWarning: \n",
      "A value is trying to be set on a copy of a slice from a DataFrame.\n",
      "Try using .loc[row_indexer,col_indexer] = value instead\n",
      "\n",
      "See the caveats in the documentation: https://pandas.pydata.org/pandas-docs/stable/user_guide/indexing.html#returning-a-view-versus-a-copy\n",
      "  matches[0]['count'] = 1\n",
      "./code/Packets2TS.py:48: SettingWithCopyWarning: \n",
      "A value is trying to be set on a copy of a slice from a DataFrame.\n",
      "Try using .loc[row_indexer,col_indexer] = value instead\n",
      "\n",
      "See the caveats in the documentation: https://pandas.pydata.org/pandas-docs/stable/user_guide/indexing.html#returning-a-view-versus-a-copy\n",
      "  matches[0]['count'] = 1\n"
     ]
    },
    {
     "name": "stdout",
     "output_type": "stream",
     "text": [
      "No matches for 102.0.0.45 at ISP2\n",
      "No matches for 102.0.0.45 at ISP3\n",
      "No matches for 102.0.0.45 at ISP4\n",
      "No matches for 102.0.0.45 at ISP5\n",
      "No matches for 102.0.0.45 at ISP6\n",
      "No matches for 102.0.0.45 at ISP7\n",
      "No matches for 102.0.0.45 at ISP8\n",
      "No matches for 102.0.0.45 at ISP9\n",
      "No matches for 102.0.0.45 at ISP10\n",
      "No matches for 102.0.0.45 at root\n",
      "No matches for 102.0.0.45 at SLD\n",
      "No matches for 102.0.0.45 at TLD\n"
     ]
    },
    {
     "name": "stderr",
     "output_type": "stream",
     "text": [
      "./code/Packets2TS.py:48: SettingWithCopyWarning: \n",
      "A value is trying to be set on a copy of a slice from a DataFrame.\n",
      "Try using .loc[row_indexer,col_indexer] = value instead\n",
      "\n",
      "See the caveats in the documentation: https://pandas.pydata.org/pandas-docs/stable/user_guide/indexing.html#returning-a-view-versus-a-copy\n",
      "  matches[0]['count'] = 1\n",
      "./code/Packets2TS.py:48: SettingWithCopyWarning: \n",
      "A value is trying to be set on a copy of a slice from a DataFrame.\n",
      "Try using .loc[row_indexer,col_indexer] = value instead\n",
      "\n",
      "See the caveats in the documentation: https://pandas.pydata.org/pandas-docs/stable/user_guide/indexing.html#returning-a-view-versus-a-copy\n",
      "  matches[0]['count'] = 1\n",
      "  2%|██▌                                                                                                                                 | 2/102 [00:56<47:29, 28.50s/it]./code/Packets2TS.py:48: SettingWithCopyWarning: \n",
      "A value is trying to be set on a copy of a slice from a DataFrame.\n",
      "Try using .loc[row_indexer,col_indexer] = value instead\n",
      "\n",
      "See the caveats in the documentation: https://pandas.pydata.org/pandas-docs/stable/user_guide/indexing.html#returning-a-view-versus-a-copy\n",
      "  matches[0]['count'] = 1\n"
     ]
    },
    {
     "name": "stdout",
     "output_type": "stream",
     "text": [
      "No matches for 102.0.40.89 at ISP1\n",
      "No matches for 102.0.40.89 at ISP2\n",
      "No matches for 102.0.40.89 at ISP3\n",
      "No matches for 102.0.40.89 at ISP4\n"
     ]
    },
    {
     "name": "stderr",
     "output_type": "stream",
     "text": [
      "./code/Packets2TS.py:48: SettingWithCopyWarning: \n",
      "A value is trying to be set on a copy of a slice from a DataFrame.\n",
      "Try using .loc[row_indexer,col_indexer] = value instead\n",
      "\n",
      "See the caveats in the documentation: https://pandas.pydata.org/pandas-docs/stable/user_guide/indexing.html#returning-a-view-versus-a-copy\n",
      "  matches[0]['count'] = 1\n"
     ]
    },
    {
     "name": "stdout",
     "output_type": "stream",
     "text": [
      "No matches for 102.0.40.89 at ISP6\n",
      "No matches for 102.0.40.89 at ISP7\n",
      "No matches for 102.0.40.89 at ISP8\n",
      "No matches for 102.0.40.89 at ISP9\n",
      "No matches for 102.0.40.89 at ISP10\n",
      "No matches for 102.0.40.89 at root\n",
      "No matches for 102.0.40.89 at SLD\n",
      "No matches for 102.0.40.89 at TLD\n"
     ]
    },
    {
     "name": "stderr",
     "output_type": "stream",
     "text": [
      "./code/Packets2TS.py:48: SettingWithCopyWarning: \n",
      "A value is trying to be set on a copy of a slice from a DataFrame.\n",
      "Try using .loc[row_indexer,col_indexer] = value instead\n",
      "\n",
      "See the caveats in the documentation: https://pandas.pydata.org/pandas-docs/stable/user_guide/indexing.html#returning-a-view-versus-a-copy\n",
      "  matches[0]['count'] = 1\n",
      "./code/Packets2TS.py:48: SettingWithCopyWarning: \n",
      "A value is trying to be set on a copy of a slice from a DataFrame.\n",
      "Try using .loc[row_indexer,col_indexer] = value instead\n",
      "\n",
      "See the caveats in the documentation: https://pandas.pydata.org/pandas-docs/stable/user_guide/indexing.html#returning-a-view-versus-a-copy\n",
      "  matches[0]['count'] = 1\n",
      "  3%|███▉                                                                                                                                | 3/102 [01:24<46:32, 28.21s/it]./code/Packets2TS.py:48: SettingWithCopyWarning: \n",
      "A value is trying to be set on a copy of a slice from a DataFrame.\n",
      "Try using .loc[row_indexer,col_indexer] = value instead\n",
      "\n",
      "See the caveats in the documentation: https://pandas.pydata.org/pandas-docs/stable/user_guide/indexing.html#returning-a-view-versus-a-copy\n",
      "  matches[0]['count'] = 1\n",
      "./code/Packets2TS.py:48: SettingWithCopyWarning: \n",
      "A value is trying to be set on a copy of a slice from a DataFrame.\n",
      "Try using .loc[row_indexer,col_indexer] = value instead\n",
      "\n",
      "See the caveats in the documentation: https://pandas.pydata.org/pandas-docs/stable/user_guide/indexing.html#returning-a-view-versus-a-copy\n",
      "  matches[0]['count'] = 1\n"
     ]
    },
    {
     "name": "stdout",
     "output_type": "stream",
     "text": [
      "No matches for 102.0.10.76 at ISP1\n",
      "No matches for 102.0.10.76 at ISP3\n",
      "No matches for 102.0.10.76 at ISP4\n",
      "No matches for 102.0.10.76 at ISP5\n",
      "No matches for 102.0.10.76 at ISP6\n",
      "No matches for 102.0.10.76 at ISP7\n",
      "No matches for 102.0.10.76 at ISP8\n",
      "No matches for 102.0.10.76 at ISP9\n",
      "No matches for 102.0.10.76 at ISP10\n",
      "No matches for 102.0.10.76 at root\n",
      "No matches for 102.0.10.76 at SLD\n",
      "No matches for 102.0.10.76 at TLD\n"
     ]
    },
    {
     "name": "stderr",
     "output_type": "stream",
     "text": [
      "./code/Packets2TS.py:48: SettingWithCopyWarning: \n",
      "A value is trying to be set on a copy of a slice from a DataFrame.\n",
      "Try using .loc[row_indexer,col_indexer] = value instead\n",
      "\n",
      "See the caveats in the documentation: https://pandas.pydata.org/pandas-docs/stable/user_guide/indexing.html#returning-a-view-versus-a-copy\n",
      "  matches[0]['count'] = 1\n",
      "./code/Packets2TS.py:48: SettingWithCopyWarning: \n",
      "A value is trying to be set on a copy of a slice from a DataFrame.\n",
      "Try using .loc[row_indexer,col_indexer] = value instead\n",
      "\n",
      "See the caveats in the documentation: https://pandas.pydata.org/pandas-docs/stable/user_guide/indexing.html#returning-a-view-versus-a-copy\n",
      "  matches[0]['count'] = 1\n",
      "  4%|█████▏                                                                                                                              | 4/102 [01:52<46:07, 28.24s/it]./code/Packets2TS.py:48: SettingWithCopyWarning: \n",
      "A value is trying to be set on a copy of a slice from a DataFrame.\n",
      "Try using .loc[row_indexer,col_indexer] = value instead\n",
      "\n",
      "See the caveats in the documentation: https://pandas.pydata.org/pandas-docs/stable/user_guide/indexing.html#returning-a-view-versus-a-copy\n",
      "  matches[0]['count'] = 1\n"
     ]
    },
    {
     "name": "stdout",
     "output_type": "stream",
     "text": [
      "No matches for 102.0.70.122 at ISP1\n",
      "No matches for 102.0.70.122 at ISP2\n",
      "No matches for 102.0.70.122 at ISP3\n",
      "No matches for 102.0.70.122 at ISP4\n",
      "No matches for 102.0.70.122 at ISP5\n",
      "No matches for 102.0.70.122 at ISP6\n",
      "No matches for 102.0.70.122 at ISP7\n",
      "No matches for 102.0.70.122 at ISP9\n"
     ]
    },
    {
     "name": "stderr",
     "output_type": "stream",
     "text": [
      "./code/Packets2TS.py:48: SettingWithCopyWarning: \n",
      "A value is trying to be set on a copy of a slice from a DataFrame.\n",
      "Try using .loc[row_indexer,col_indexer] = value instead\n",
      "\n",
      "See the caveats in the documentation: https://pandas.pydata.org/pandas-docs/stable/user_guide/indexing.html#returning-a-view-versus-a-copy\n",
      "  matches[0]['count'] = 1\n"
     ]
    },
    {
     "name": "stdout",
     "output_type": "stream",
     "text": [
      "No matches for 102.0.70.122 at ISP10\n",
      "No matches for 102.0.70.122 at root\n",
      "No matches for 102.0.70.122 at SLD\n",
      "No matches for 102.0.70.122 at TLD\n"
     ]
    },
    {
     "name": "stderr",
     "output_type": "stream",
     "text": [
      "./code/Packets2TS.py:48: SettingWithCopyWarning: \n",
      "A value is trying to be set on a copy of a slice from a DataFrame.\n",
      "Try using .loc[row_indexer,col_indexer] = value instead\n",
      "\n",
      "See the caveats in the documentation: https://pandas.pydata.org/pandas-docs/stable/user_guide/indexing.html#returning-a-view-versus-a-copy\n",
      "  matches[0]['count'] = 1\n",
      "./code/Packets2TS.py:48: SettingWithCopyWarning: \n",
      "A value is trying to be set on a copy of a slice from a DataFrame.\n",
      "Try using .loc[row_indexer,col_indexer] = value instead\n",
      "\n",
      "See the caveats in the documentation: https://pandas.pydata.org/pandas-docs/stable/user_guide/indexing.html#returning-a-view-versus-a-copy\n",
      "  matches[0]['count'] = 1\n",
      "  5%|██████▍                                                                                                                             | 5/102 [02:21<45:42, 28.28s/it]./code/Packets2TS.py:48: SettingWithCopyWarning: \n",
      "A value is trying to be set on a copy of a slice from a DataFrame.\n",
      "Try using .loc[row_indexer,col_indexer] = value instead\n",
      "\n",
      "See the caveats in the documentation: https://pandas.pydata.org/pandas-docs/stable/user_guide/indexing.html#returning-a-view-versus-a-copy\n",
      "  matches[0]['count'] = 1\n",
      "./code/Packets2TS.py:48: SettingWithCopyWarning: \n",
      "A value is trying to be set on a copy of a slice from a DataFrame.\n",
      "Try using .loc[row_indexer,col_indexer] = value instead\n",
      "\n",
      "See the caveats in the documentation: https://pandas.pydata.org/pandas-docs/stable/user_guide/indexing.html#returning-a-view-versus-a-copy\n",
      "  matches[0]['count'] = 1\n"
     ]
    },
    {
     "name": "stdout",
     "output_type": "stream",
     "text": [
      "No matches for 102.0.0.5 at ISP2\n",
      "No matches for 102.0.0.5 at ISP3\n",
      "No matches for 102.0.0.5 at ISP4\n",
      "No matches for 102.0.0.5 at ISP5\n",
      "No matches for 102.0.0.5 at ISP6\n",
      "No matches for 102.0.0.5 at ISP7\n",
      "No matches for 102.0.0.5 at ISP8\n",
      "No matches for 102.0.0.5 at ISP9\n",
      "No matches for 102.0.0.5 at ISP10\n",
      "No matches for 102.0.0.5 at root\n",
      "No matches for 102.0.0.5 at SLD\n",
      "No matches for 102.0.0.5 at TLD\n"
     ]
    },
    {
     "name": "stderr",
     "output_type": "stream",
     "text": [
      "./code/Packets2TS.py:48: SettingWithCopyWarning: \n",
      "A value is trying to be set on a copy of a slice from a DataFrame.\n",
      "Try using .loc[row_indexer,col_indexer] = value instead\n",
      "\n",
      "See the caveats in the documentation: https://pandas.pydata.org/pandas-docs/stable/user_guide/indexing.html#returning-a-view-versus-a-copy\n",
      "  matches[0]['count'] = 1\n",
      "./code/Packets2TS.py:48: SettingWithCopyWarning: \n",
      "A value is trying to be set on a copy of a slice from a DataFrame.\n",
      "Try using .loc[row_indexer,col_indexer] = value instead\n",
      "\n",
      "See the caveats in the documentation: https://pandas.pydata.org/pandas-docs/stable/user_guide/indexing.html#returning-a-view-versus-a-copy\n",
      "  matches[0]['count'] = 1\n",
      "  6%|███████▊                                                                                                                            | 6/102 [02:51<46:13, 28.90s/it]./code/Packets2TS.py:48: SettingWithCopyWarning: \n",
      "A value is trying to be set on a copy of a slice from a DataFrame.\n",
      "Try using .loc[row_indexer,col_indexer] = value instead\n",
      "\n",
      "See the caveats in the documentation: https://pandas.pydata.org/pandas-docs/stable/user_guide/indexing.html#returning-a-view-versus-a-copy\n",
      "  matches[0]['count'] = 1\n",
      "./code/Packets2TS.py:48: SettingWithCopyWarning: \n",
      "A value is trying to be set on a copy of a slice from a DataFrame.\n",
      "Try using .loc[row_indexer,col_indexer] = value instead\n",
      "\n",
      "See the caveats in the documentation: https://pandas.pydata.org/pandas-docs/stable/user_guide/indexing.html#returning-a-view-versus-a-copy\n",
      "  matches[0]['count'] = 1\n"
     ]
    },
    {
     "name": "stdout",
     "output_type": "stream",
     "text": [
      "No matches for 102.0.0.85 at ISP2\n",
      "No matches for 102.0.0.85 at ISP3\n",
      "No matches for 102.0.0.85 at ISP4\n",
      "No matches for 102.0.0.85 at ISP5\n",
      "No matches for 102.0.0.85 at ISP6\n",
      "No matches for 102.0.0.85 at ISP7\n",
      "No matches for 102.0.0.85 at ISP8\n",
      "No matches for 102.0.0.85 at ISP9\n",
      "No matches for 102.0.0.85 at ISP10\n",
      "No matches for 102.0.0.85 at root\n",
      "No matches for 102.0.0.85 at SLD\n",
      "No matches for 102.0.0.85 at TLD\n"
     ]
    },
    {
     "name": "stderr",
     "output_type": "stream",
     "text": [
      "./code/Packets2TS.py:48: SettingWithCopyWarning: \n",
      "A value is trying to be set on a copy of a slice from a DataFrame.\n",
      "Try using .loc[row_indexer,col_indexer] = value instead\n",
      "\n",
      "See the caveats in the documentation: https://pandas.pydata.org/pandas-docs/stable/user_guide/indexing.html#returning-a-view-versus-a-copy\n",
      "  matches[0]['count'] = 1\n",
      "./code/Packets2TS.py:48: SettingWithCopyWarning: \n",
      "A value is trying to be set on a copy of a slice from a DataFrame.\n",
      "Try using .loc[row_indexer,col_indexer] = value instead\n",
      "\n",
      "See the caveats in the documentation: https://pandas.pydata.org/pandas-docs/stable/user_guide/indexing.html#returning-a-view-versus-a-copy\n",
      "  matches[0]['count'] = 1\n",
      "  7%|█████████                                                                                                                           | 7/102 [03:19<45:34, 28.78s/it]./code/Packets2TS.py:48: SettingWithCopyWarning: \n",
      "A value is trying to be set on a copy of a slice from a DataFrame.\n",
      "Try using .loc[row_indexer,col_indexer] = value instead\n",
      "\n",
      "See the caveats in the documentation: https://pandas.pydata.org/pandas-docs/stable/user_guide/indexing.html#returning-a-view-versus-a-copy\n",
      "  matches[0]['count'] = 1\n"
     ]
    },
    {
     "name": "stdout",
     "output_type": "stream",
     "text": [
      "No matches for 102.0.80.103 at ISP1\n",
      "No matches for 102.0.80.103 at ISP2\n",
      "No matches for 102.0.80.103 at ISP3\n",
      "No matches for 102.0.80.103 at ISP4\n",
      "No matches for 102.0.80.103 at ISP5\n",
      "No matches for 102.0.80.103 at ISP6\n",
      "No matches for 102.0.80.103 at ISP7\n",
      "No matches for 102.0.80.103 at ISP8\n"
     ]
    },
    {
     "name": "stderr",
     "output_type": "stream",
     "text": [
      "./code/Packets2TS.py:48: SettingWithCopyWarning: \n",
      "A value is trying to be set on a copy of a slice from a DataFrame.\n",
      "Try using .loc[row_indexer,col_indexer] = value instead\n",
      "\n",
      "See the caveats in the documentation: https://pandas.pydata.org/pandas-docs/stable/user_guide/indexing.html#returning-a-view-versus-a-copy\n",
      "  matches[0]['count'] = 1\n"
     ]
    },
    {
     "name": "stdout",
     "output_type": "stream",
     "text": [
      "No matches for 102.0.80.103 at ISP10\n",
      "No matches for 102.0.80.103 at root\n",
      "No matches for 102.0.80.103 at SLD\n",
      "No matches for 102.0.80.103 at TLD\n"
     ]
    },
    {
     "name": "stderr",
     "output_type": "stream",
     "text": [
      "./code/Packets2TS.py:48: SettingWithCopyWarning: \n",
      "A value is trying to be set on a copy of a slice from a DataFrame.\n",
      "Try using .loc[row_indexer,col_indexer] = value instead\n",
      "\n",
      "See the caveats in the documentation: https://pandas.pydata.org/pandas-docs/stable/user_guide/indexing.html#returning-a-view-versus-a-copy\n",
      "  matches[0]['count'] = 1\n",
      "./code/Packets2TS.py:48: SettingWithCopyWarning: \n",
      "A value is trying to be set on a copy of a slice from a DataFrame.\n",
      "Try using .loc[row_indexer,col_indexer] = value instead\n",
      "\n",
      "See the caveats in the documentation: https://pandas.pydata.org/pandas-docs/stable/user_guide/indexing.html#returning-a-view-versus-a-copy\n",
      "  matches[0]['count'] = 1\n",
      "  8%|██████████▎                                                                                                                         | 8/102 [03:48<45:00, 28.73s/it]./code/Packets2TS.py:48: SettingWithCopyWarning: \n",
      "A value is trying to be set on a copy of a slice from a DataFrame.\n",
      "Try using .loc[row_indexer,col_indexer] = value instead\n",
      "\n",
      "See the caveats in the documentation: https://pandas.pydata.org/pandas-docs/stable/user_guide/indexing.html#returning-a-view-versus-a-copy\n",
      "  matches[0]['count'] = 1\n",
      "./code/Packets2TS.py:48: SettingWithCopyWarning: \n",
      "A value is trying to be set on a copy of a slice from a DataFrame.\n",
      "Try using .loc[row_indexer,col_indexer] = value instead\n",
      "\n",
      "See the caveats in the documentation: https://pandas.pydata.org/pandas-docs/stable/user_guide/indexing.html#returning-a-view-versus-a-copy\n",
      "  matches[0]['count'] = 1\n",
      "./code/Packets2TS.py:48: SettingWithCopyWarning: \n",
      "A value is trying to be set on a copy of a slice from a DataFrame.\n",
      "Try using .loc[row_indexer,col_indexer] = value instead\n",
      "\n",
      "See the caveats in the documentation: https://pandas.pydata.org/pandas-docs/stable/user_guide/indexing.html#returning-a-view-versus-a-copy\n",
      "  matches[0]['count'] = 1\n",
      "./code/Packets2TS.py:48: SettingWithCopyWarning: \n",
      "A value is trying to be set on a copy of a slice from a DataFrame.\n",
      "Try using .loc[row_indexer,col_indexer] = value instead\n",
      "\n",
      "See the caveats in the documentation: https://pandas.pydata.org/pandas-docs/stable/user_guide/indexing.html#returning-a-view-versus-a-copy\n",
      "  matches[0]['count'] = 1\n",
      "./code/Packets2TS.py:48: SettingWithCopyWarning: \n",
      "A value is trying to be set on a copy of a slice from a DataFrame.\n",
      "Try using .loc[row_indexer,col_indexer] = value instead\n",
      "\n",
      "See the caveats in the documentation: https://pandas.pydata.org/pandas-docs/stable/user_guide/indexing.html#returning-a-view-versus-a-copy\n",
      "  matches[0]['count'] = 1\n",
      "./code/Packets2TS.py:48: SettingWithCopyWarning: \n",
      "A value is trying to be set on a copy of a slice from a DataFrame.\n",
      "Try using .loc[row_indexer,col_indexer] = value instead\n",
      "\n",
      "See the caveats in the documentation: https://pandas.pydata.org/pandas-docs/stable/user_guide/indexing.html#returning-a-view-versus-a-copy\n",
      "  matches[0]['count'] = 1\n",
      "./code/Packets2TS.py:48: SettingWithCopyWarning: \n",
      "A value is trying to be set on a copy of a slice from a DataFrame.\n",
      "Try using .loc[row_indexer,col_indexer] = value instead\n",
      "\n",
      "See the caveats in the documentation: https://pandas.pydata.org/pandas-docs/stable/user_guide/indexing.html#returning-a-view-versus-a-copy\n",
      "  matches[0]['count'] = 1\n",
      "./code/Packets2TS.py:48: SettingWithCopyWarning: \n",
      "A value is trying to be set on a copy of a slice from a DataFrame.\n",
      "Try using .loc[row_indexer,col_indexer] = value instead\n",
      "\n",
      "See the caveats in the documentation: https://pandas.pydata.org/pandas-docs/stable/user_guide/indexing.html#returning-a-view-versus-a-copy\n",
      "  matches[0]['count'] = 1\n",
      "./code/Packets2TS.py:48: SettingWithCopyWarning: \n",
      "A value is trying to be set on a copy of a slice from a DataFrame.\n",
      "Try using .loc[row_indexer,col_indexer] = value instead\n",
      "\n",
      "See the caveats in the documentation: https://pandas.pydata.org/pandas-docs/stable/user_guide/indexing.html#returning-a-view-versus-a-copy\n",
      "  matches[0]['count'] = 1\n",
      "./code/Packets2TS.py:48: SettingWithCopyWarning: \n",
      "A value is trying to be set on a copy of a slice from a DataFrame.\n",
      "Try using .loc[row_indexer,col_indexer] = value instead\n",
      "\n",
      "See the caveats in the documentation: https://pandas.pydata.org/pandas-docs/stable/user_guide/indexing.html#returning-a-view-versus-a-copy\n",
      "  matches[0]['count'] = 1\n",
      "./code/Packets2TS.py:48: SettingWithCopyWarning: \n",
      "A value is trying to be set on a copy of a slice from a DataFrame.\n",
      "Try using .loc[row_indexer,col_indexer] = value instead\n",
      "\n",
      "See the caveats in the documentation: https://pandas.pydata.org/pandas-docs/stable/user_guide/indexing.html#returning-a-view-versus-a-copy\n",
      "  matches[0]['count'] = 1\n"
     ]
    },
    {
     "name": "stdout",
     "output_type": "stream",
     "text": [
      "No matches for 101.0.0.20 at resolver\n",
      "No matches for 101.0.0.20 at root\n",
      "No matches for 101.0.0.20 at SLD\n",
      "No matches for 101.0.0.20 at TLD\n"
     ]
    },
    {
     "name": "stderr",
     "output_type": "stream",
     "text": [
      "./code/Packets2TS.py:48: SettingWithCopyWarning: \n",
      "A value is trying to be set on a copy of a slice from a DataFrame.\n",
      "Try using .loc[row_indexer,col_indexer] = value instead\n",
      "\n",
      "See the caveats in the documentation: https://pandas.pydata.org/pandas-docs/stable/user_guide/indexing.html#returning-a-view-versus-a-copy\n",
      "  matches[0]['count'] = 1\n"
     ]
    },
    {
     "name": "stdout",
     "output_type": "stream",
     "text": [
      "No matches for 101.0.0.20 at Service\n"
     ]
    },
    {
     "name": "stderr",
     "output_type": "stream",
     "text": [
      "./code/Packets2TS.py:75: PerformanceWarning: DataFrame is highly fragmented.  This is usually the result of calling `frame.insert` many times, which has poor performance.  Consider joining all columns at once using pd.concat(axis=1) instead. To get a de-fragmented frame, use `newframe = frame.copy()`\n",
      "  flows_ip[ip]['frame.time'] = flows_ip[ip].index\n",
      "  9%|███████████▍                                                                                                                     | 9/102 [19:16<8:00:10, 309.79s/it]./code/Packets2TS.py:48: SettingWithCopyWarning: \n",
      "A value is trying to be set on a copy of a slice from a DataFrame.\n",
      "Try using .loc[row_indexer,col_indexer] = value instead\n",
      "\n",
      "See the caveats in the documentation: https://pandas.pydata.org/pandas-docs/stable/user_guide/indexing.html#returning-a-view-versus-a-copy\n",
      "  matches[0]['count'] = 1\n"
     ]
    },
    {
     "name": "stdout",
     "output_type": "stream",
     "text": [
      "No matches for 102.0.80.153 at ISP1\n",
      "No matches for 102.0.80.153 at ISP2\n",
      "No matches for 102.0.80.153 at ISP3\n",
      "No matches for 102.0.80.153 at ISP4\n",
      "No matches for 102.0.80.153 at ISP5\n",
      "No matches for 102.0.80.153 at ISP6\n",
      "No matches for 102.0.80.153 at ISP7\n",
      "No matches for 102.0.80.153 at ISP8\n"
     ]
    },
    {
     "name": "stderr",
     "output_type": "stream",
     "text": [
      "./code/Packets2TS.py:48: SettingWithCopyWarning: \n",
      "A value is trying to be set on a copy of a slice from a DataFrame.\n",
      "Try using .loc[row_indexer,col_indexer] = value instead\n",
      "\n",
      "See the caveats in the documentation: https://pandas.pydata.org/pandas-docs/stable/user_guide/indexing.html#returning-a-view-versus-a-copy\n",
      "  matches[0]['count'] = 1\n"
     ]
    },
    {
     "name": "stdout",
     "output_type": "stream",
     "text": [
      "No matches for 102.0.80.153 at ISP10\n",
      "No matches for 102.0.80.153 at root\n",
      "No matches for 102.0.80.153 at SLD\n",
      "No matches for 102.0.80.153 at TLD\n"
     ]
    },
    {
     "name": "stderr",
     "output_type": "stream",
     "text": [
      "./code/Packets2TS.py:48: SettingWithCopyWarning: \n",
      "A value is trying to be set on a copy of a slice from a DataFrame.\n",
      "Try using .loc[row_indexer,col_indexer] = value instead\n",
      "\n",
      "See the caveats in the documentation: https://pandas.pydata.org/pandas-docs/stable/user_guide/indexing.html#returning-a-view-versus-a-copy\n",
      "  matches[0]['count'] = 1\n",
      "./code/Packets2TS.py:48: SettingWithCopyWarning: \n",
      "A value is trying to be set on a copy of a slice from a DataFrame.\n",
      "Try using .loc[row_indexer,col_indexer] = value instead\n",
      "\n",
      "See the caveats in the documentation: https://pandas.pydata.org/pandas-docs/stable/user_guide/indexing.html#returning-a-view-versus-a-copy\n",
      "  matches[0]['count'] = 1\n",
      " 10%|████████████▌                                                                                                                   | 10/102 [19:44<5:41:34, 222.76s/it]./code/Packets2TS.py:48: SettingWithCopyWarning: \n",
      "A value is trying to be set on a copy of a slice from a DataFrame.\n",
      "Try using .loc[row_indexer,col_indexer] = value instead\n",
      "\n",
      "See the caveats in the documentation: https://pandas.pydata.org/pandas-docs/stable/user_guide/indexing.html#returning-a-view-versus-a-copy\n",
      "  matches[0]['count'] = 1\n"
     ]
    },
    {
     "name": "stdout",
     "output_type": "stream",
     "text": [
      "No matches for 102.0.80.93 at ISP1\n",
      "No matches for 102.0.80.93 at ISP2\n",
      "No matches for 102.0.80.93 at ISP3\n",
      "No matches for 102.0.80.93 at ISP4\n",
      "No matches for 102.0.80.93 at ISP5\n",
      "No matches for 102.0.80.93 at ISP6\n",
      "No matches for 102.0.80.93 at ISP7\n",
      "No matches for 102.0.80.93 at ISP8\n"
     ]
    },
    {
     "name": "stderr",
     "output_type": "stream",
     "text": [
      "./code/Packets2TS.py:48: SettingWithCopyWarning: \n",
      "A value is trying to be set on a copy of a slice from a DataFrame.\n",
      "Try using .loc[row_indexer,col_indexer] = value instead\n",
      "\n",
      "See the caveats in the documentation: https://pandas.pydata.org/pandas-docs/stable/user_guide/indexing.html#returning-a-view-versus-a-copy\n",
      "  matches[0]['count'] = 1\n"
     ]
    },
    {
     "name": "stdout",
     "output_type": "stream",
     "text": [
      "No matches for 102.0.80.93 at ISP10\n",
      "No matches for 102.0.80.93 at root\n",
      "No matches for 102.0.80.93 at SLD\n",
      "No matches for 102.0.80.93 at TLD\n"
     ]
    },
    {
     "name": "stderr",
     "output_type": "stream",
     "text": [
      "./code/Packets2TS.py:48: SettingWithCopyWarning: \n",
      "A value is trying to be set on a copy of a slice from a DataFrame.\n",
      "Try using .loc[row_indexer,col_indexer] = value instead\n",
      "\n",
      "See the caveats in the documentation: https://pandas.pydata.org/pandas-docs/stable/user_guide/indexing.html#returning-a-view-versus-a-copy\n",
      "  matches[0]['count'] = 1\n",
      "./code/Packets2TS.py:48: SettingWithCopyWarning: \n",
      "A value is trying to be set on a copy of a slice from a DataFrame.\n",
      "Try using .loc[row_indexer,col_indexer] = value instead\n",
      "\n",
      "See the caveats in the documentation: https://pandas.pydata.org/pandas-docs/stable/user_guide/indexing.html#returning-a-view-versus-a-copy\n",
      "  matches[0]['count'] = 1\n",
      " 11%|█████████████▊                                                                                                                  | 11/102 [20:11<4:07:15, 163.02s/it]./code/Packets2TS.py:48: SettingWithCopyWarning: \n",
      "A value is trying to be set on a copy of a slice from a DataFrame.\n",
      "Try using .loc[row_indexer,col_indexer] = value instead\n",
      "\n",
      "See the caveats in the documentation: https://pandas.pydata.org/pandas-docs/stable/user_guide/indexing.html#returning-a-view-versus-a-copy\n",
      "  matches[0]['count'] = 1\n"
     ]
    },
    {
     "name": "stdout",
     "output_type": "stream",
     "text": [
      "No matches for 102.0.90.154 at ISP1\n",
      "No matches for 102.0.90.154 at ISP2\n",
      "No matches for 102.0.90.154 at ISP3\n",
      "No matches for 102.0.90.154 at ISP4\n",
      "No matches for 102.0.90.154 at ISP5\n",
      "No matches for 102.0.90.154 at ISP6\n",
      "No matches for 102.0.90.154 at ISP7\n",
      "No matches for 102.0.90.154 at ISP8\n",
      "No matches for 102.0.90.154 at ISP9\n"
     ]
    },
    {
     "name": "stderr",
     "output_type": "stream",
     "text": [
      "./code/Packets2TS.py:48: SettingWithCopyWarning: \n",
      "A value is trying to be set on a copy of a slice from a DataFrame.\n",
      "Try using .loc[row_indexer,col_indexer] = value instead\n",
      "\n",
      "See the caveats in the documentation: https://pandas.pydata.org/pandas-docs/stable/user_guide/indexing.html#returning-a-view-versus-a-copy\n",
      "  matches[0]['count'] = 1\n"
     ]
    },
    {
     "name": "stdout",
     "output_type": "stream",
     "text": [
      "No matches for 102.0.90.154 at root\n",
      "No matches for 102.0.90.154 at SLD\n",
      "No matches for 102.0.90.154 at TLD\n"
     ]
    },
    {
     "name": "stderr",
     "output_type": "stream",
     "text": [
      "./code/Packets2TS.py:48: SettingWithCopyWarning: \n",
      "A value is trying to be set on a copy of a slice from a DataFrame.\n",
      "Try using .loc[row_indexer,col_indexer] = value instead\n",
      "\n",
      "See the caveats in the documentation: https://pandas.pydata.org/pandas-docs/stable/user_guide/indexing.html#returning-a-view-versus-a-copy\n",
      "  matches[0]['count'] = 1\n",
      "./code/Packets2TS.py:48: SettingWithCopyWarning: \n",
      "A value is trying to be set on a copy of a slice from a DataFrame.\n",
      "Try using .loc[row_indexer,col_indexer] = value instead\n",
      "\n",
      "See the caveats in the documentation: https://pandas.pydata.org/pandas-docs/stable/user_guide/indexing.html#returning-a-view-versus-a-copy\n",
      "  matches[0]['count'] = 1\n",
      " 12%|███████████████                                                                                                                 | 12/102 [20:39<3:02:46, 121.85s/it]./code/Packets2TS.py:48: SettingWithCopyWarning: \n",
      "A value is trying to be set on a copy of a slice from a DataFrame.\n",
      "Try using .loc[row_indexer,col_indexer] = value instead\n",
      "\n",
      "See the caveats in the documentation: https://pandas.pydata.org/pandas-docs/stable/user_guide/indexing.html#returning-a-view-versus-a-copy\n",
      "  matches[0]['count'] = 1\n"
     ]
    },
    {
     "name": "stdout",
     "output_type": "stream",
     "text": [
      "No matches for 102.0.30.58 at ISP1\n",
      "No matches for 102.0.30.58 at ISP2\n",
      "No matches for 102.0.30.58 at ISP3\n"
     ]
    },
    {
     "name": "stderr",
     "output_type": "stream",
     "text": [
      "./code/Packets2TS.py:48: SettingWithCopyWarning: \n",
      "A value is trying to be set on a copy of a slice from a DataFrame.\n",
      "Try using .loc[row_indexer,col_indexer] = value instead\n",
      "\n",
      "See the caveats in the documentation: https://pandas.pydata.org/pandas-docs/stable/user_guide/indexing.html#returning-a-view-versus-a-copy\n",
      "  matches[0]['count'] = 1\n"
     ]
    },
    {
     "name": "stdout",
     "output_type": "stream",
     "text": [
      "No matches for 102.0.30.58 at ISP5\n",
      "No matches for 102.0.30.58 at ISP6\n",
      "No matches for 102.0.30.58 at ISP7\n",
      "No matches for 102.0.30.58 at ISP8\n",
      "No matches for 102.0.30.58 at ISP9\n",
      "No matches for 102.0.30.58 at ISP10\n",
      "No matches for 102.0.30.58 at root\n",
      "No matches for 102.0.30.58 at SLD\n",
      "No matches for 102.0.30.58 at TLD\n"
     ]
    },
    {
     "name": "stderr",
     "output_type": "stream",
     "text": [
      "./code/Packets2TS.py:48: SettingWithCopyWarning: \n",
      "A value is trying to be set on a copy of a slice from a DataFrame.\n",
      "Try using .loc[row_indexer,col_indexer] = value instead\n",
      "\n",
      "See the caveats in the documentation: https://pandas.pydata.org/pandas-docs/stable/user_guide/indexing.html#returning-a-view-versus-a-copy\n",
      "  matches[0]['count'] = 1\n",
      "./code/Packets2TS.py:48: SettingWithCopyWarning: \n",
      "A value is trying to be set on a copy of a slice from a DataFrame.\n",
      "Try using .loc[row_indexer,col_indexer] = value instead\n",
      "\n",
      "See the caveats in the documentation: https://pandas.pydata.org/pandas-docs/stable/user_guide/indexing.html#returning-a-view-versus-a-copy\n",
      "  matches[0]['count'] = 1\n",
      " 13%|████████████████▍                                                                                                                | 13/102 [21:07<2:18:34, 93.42s/it]./code/Packets2TS.py:48: SettingWithCopyWarning: \n",
      "A value is trying to be set on a copy of a slice from a DataFrame.\n",
      "Try using .loc[row_indexer,col_indexer] = value instead\n",
      "\n",
      "See the caveats in the documentation: https://pandas.pydata.org/pandas-docs/stable/user_guide/indexing.html#returning-a-view-versus-a-copy\n",
      "  matches[0]['count'] = 1\n"
     ]
    },
    {
     "name": "stdout",
     "output_type": "stream",
     "text": [
      "No matches for 102.0.70.152 at ISP1\n",
      "No matches for 102.0.70.152 at ISP2\n",
      "No matches for 102.0.70.152 at ISP3\n",
      "No matches for 102.0.70.152 at ISP4\n",
      "No matches for 102.0.70.152 at ISP5\n",
      "No matches for 102.0.70.152 at ISP6\n",
      "No matches for 102.0.70.152 at ISP7\n",
      "No matches for 102.0.70.152 at ISP9\n"
     ]
    },
    {
     "name": "stderr",
     "output_type": "stream",
     "text": [
      "./code/Packets2TS.py:48: SettingWithCopyWarning: \n",
      "A value is trying to be set on a copy of a slice from a DataFrame.\n",
      "Try using .loc[row_indexer,col_indexer] = value instead\n",
      "\n",
      "See the caveats in the documentation: https://pandas.pydata.org/pandas-docs/stable/user_guide/indexing.html#returning-a-view-versus-a-copy\n",
      "  matches[0]['count'] = 1\n"
     ]
    },
    {
     "name": "stdout",
     "output_type": "stream",
     "text": [
      "No matches for 102.0.70.152 at ISP10\n",
      "No matches for 102.0.70.152 at root\n",
      "No matches for 102.0.70.152 at SLD\n",
      "No matches for 102.0.70.152 at TLD\n"
     ]
    },
    {
     "name": "stderr",
     "output_type": "stream",
     "text": [
      "./code/Packets2TS.py:48: SettingWithCopyWarning: \n",
      "A value is trying to be set on a copy of a slice from a DataFrame.\n",
      "Try using .loc[row_indexer,col_indexer] = value instead\n",
      "\n",
      "See the caveats in the documentation: https://pandas.pydata.org/pandas-docs/stable/user_guide/indexing.html#returning-a-view-versus-a-copy\n",
      "  matches[0]['count'] = 1\n",
      "./code/Packets2TS.py:48: SettingWithCopyWarning: \n",
      "A value is trying to be set on a copy of a slice from a DataFrame.\n",
      "Try using .loc[row_indexer,col_indexer] = value instead\n",
      "\n",
      "See the caveats in the documentation: https://pandas.pydata.org/pandas-docs/stable/user_guide/indexing.html#returning-a-view-versus-a-copy\n",
      "  matches[0]['count'] = 1\n",
      " 14%|█████████████████▋                                                                                                               | 14/102 [21:36<1:48:15, 73.81s/it]./code/Packets2TS.py:48: SettingWithCopyWarning: \n",
      "A value is trying to be set on a copy of a slice from a DataFrame.\n",
      "Try using .loc[row_indexer,col_indexer] = value instead\n",
      "\n",
      "See the caveats in the documentation: https://pandas.pydata.org/pandas-docs/stable/user_guide/indexing.html#returning-a-view-versus-a-copy\n",
      "  matches[0]['count'] = 1\n"
     ]
    },
    {
     "name": "stdout",
     "output_type": "stream",
     "text": [
      "No matches for 102.0.70.142 at ISP1\n",
      "No matches for 102.0.70.142 at ISP2\n",
      "No matches for 102.0.70.142 at ISP3\n",
      "No matches for 102.0.70.142 at ISP4\n",
      "No matches for 102.0.70.142 at ISP5\n",
      "No matches for 102.0.70.142 at ISP6\n",
      "No matches for 102.0.70.142 at ISP7\n",
      "No matches for 102.0.70.142 at ISP9\n",
      "No matches for 102.0.70.142 at ISP10\n"
     ]
    },
    {
     "name": "stderr",
     "output_type": "stream",
     "text": [
      "./code/Packets2TS.py:48: SettingWithCopyWarning: \n",
      "A value is trying to be set on a copy of a slice from a DataFrame.\n",
      "Try using .loc[row_indexer,col_indexer] = value instead\n",
      "\n",
      "See the caveats in the documentation: https://pandas.pydata.org/pandas-docs/stable/user_guide/indexing.html#returning-a-view-versus-a-copy\n",
      "  matches[0]['count'] = 1\n"
     ]
    },
    {
     "name": "stdout",
     "output_type": "stream",
     "text": [
      "No matches for 102.0.70.142 at root\n",
      "No matches for 102.0.70.142 at SLD\n",
      "No matches for 102.0.70.142 at TLD\n"
     ]
    },
    {
     "name": "stderr",
     "output_type": "stream",
     "text": [
      "./code/Packets2TS.py:48: SettingWithCopyWarning: \n",
      "A value is trying to be set on a copy of a slice from a DataFrame.\n",
      "Try using .loc[row_indexer,col_indexer] = value instead\n",
      "\n",
      "See the caveats in the documentation: https://pandas.pydata.org/pandas-docs/stable/user_guide/indexing.html#returning-a-view-versus-a-copy\n",
      "  matches[0]['count'] = 1\n",
      "./code/Packets2TS.py:48: SettingWithCopyWarning: \n",
      "A value is trying to be set on a copy of a slice from a DataFrame.\n",
      "Try using .loc[row_indexer,col_indexer] = value instead\n",
      "\n",
      "See the caveats in the documentation: https://pandas.pydata.org/pandas-docs/stable/user_guide/indexing.html#returning-a-view-versus-a-copy\n",
      "  matches[0]['count'] = 1\n",
      " 15%|██████████████████▉                                                                                                              | 15/102 [22:04<1:27:09, 60.11s/it]./code/Packets2TS.py:48: SettingWithCopyWarning: \n",
      "A value is trying to be set on a copy of a slice from a DataFrame.\n",
      "Try using .loc[row_indexer,col_indexer] = value instead\n",
      "\n",
      "See the caveats in the documentation: https://pandas.pydata.org/pandas-docs/stable/user_guide/indexing.html#returning-a-view-versus-a-copy\n",
      "  matches[0]['count'] = 1\n"
     ]
    },
    {
     "name": "stdout",
     "output_type": "stream",
     "text": [
      "No matches for 102.0.90.184 at ISP1\n",
      "No matches for 102.0.90.184 at ISP2\n",
      "No matches for 102.0.90.184 at ISP3\n",
      "No matches for 102.0.90.184 at ISP4\n",
      "No matches for 102.0.90.184 at ISP5\n",
      "No matches for 102.0.90.184 at ISP6\n",
      "No matches for 102.0.90.184 at ISP7\n",
      "No matches for 102.0.90.184 at ISP8\n",
      "No matches for 102.0.90.184 at ISP9\n"
     ]
    },
    {
     "name": "stderr",
     "output_type": "stream",
     "text": [
      "./code/Packets2TS.py:48: SettingWithCopyWarning: \n",
      "A value is trying to be set on a copy of a slice from a DataFrame.\n",
      "Try using .loc[row_indexer,col_indexer] = value instead\n",
      "\n",
      "See the caveats in the documentation: https://pandas.pydata.org/pandas-docs/stable/user_guide/indexing.html#returning-a-view-versus-a-copy\n",
      "  matches[0]['count'] = 1\n"
     ]
    },
    {
     "name": "stdout",
     "output_type": "stream",
     "text": [
      "No matches for 102.0.90.184 at root\n",
      "No matches for 102.0.90.184 at SLD\n",
      "No matches for 102.0.90.184 at TLD\n"
     ]
    },
    {
     "name": "stderr",
     "output_type": "stream",
     "text": [
      "./code/Packets2TS.py:48: SettingWithCopyWarning: \n",
      "A value is trying to be set on a copy of a slice from a DataFrame.\n",
      "Try using .loc[row_indexer,col_indexer] = value instead\n",
      "\n",
      "See the caveats in the documentation: https://pandas.pydata.org/pandas-docs/stable/user_guide/indexing.html#returning-a-view-versus-a-copy\n",
      "  matches[0]['count'] = 1\n",
      "./code/Packets2TS.py:48: SettingWithCopyWarning: \n",
      "A value is trying to be set on a copy of a slice from a DataFrame.\n",
      "Try using .loc[row_indexer,col_indexer] = value instead\n",
      "\n",
      "See the caveats in the documentation: https://pandas.pydata.org/pandas-docs/stable/user_guide/indexing.html#returning-a-view-versus-a-copy\n",
      "  matches[0]['count'] = 1\n",
      " 16%|████████████████████▏                                                                                                            | 16/102 [22:32<1:12:28, 50.56s/it]./code/Packets2TS.py:48: SettingWithCopyWarning: \n",
      "A value is trying to be set on a copy of a slice from a DataFrame.\n",
      "Try using .loc[row_indexer,col_indexer] = value instead\n",
      "\n",
      "See the caveats in the documentation: https://pandas.pydata.org/pandas-docs/stable/user_guide/indexing.html#returning-a-view-versus-a-copy\n",
      "  matches[0]['count'] = 1\n"
     ]
    },
    {
     "name": "stdout",
     "output_type": "stream",
     "text": [
      "No matches for 102.0.40.49 at ISP1\n",
      "No matches for 102.0.40.49 at ISP2\n",
      "No matches for 102.0.40.49 at ISP3\n",
      "No matches for 102.0.40.49 at ISP4\n"
     ]
    },
    {
     "name": "stderr",
     "output_type": "stream",
     "text": [
      "./code/Packets2TS.py:48: SettingWithCopyWarning: \n",
      "A value is trying to be set on a copy of a slice from a DataFrame.\n",
      "Try using .loc[row_indexer,col_indexer] = value instead\n",
      "\n",
      "See the caveats in the documentation: https://pandas.pydata.org/pandas-docs/stable/user_guide/indexing.html#returning-a-view-versus-a-copy\n",
      "  matches[0]['count'] = 1\n"
     ]
    },
    {
     "name": "stdout",
     "output_type": "stream",
     "text": [
      "No matches for 102.0.40.49 at ISP6\n",
      "No matches for 102.0.40.49 at ISP7\n",
      "No matches for 102.0.40.49 at ISP8\n",
      "No matches for 102.0.40.49 at ISP9\n",
      "No matches for 102.0.40.49 at ISP10\n",
      "No matches for 102.0.40.49 at root\n",
      "No matches for 102.0.40.49 at SLD\n",
      "No matches for 102.0.40.49 at TLD\n"
     ]
    },
    {
     "name": "stderr",
     "output_type": "stream",
     "text": [
      "./code/Packets2TS.py:48: SettingWithCopyWarning: \n",
      "A value is trying to be set on a copy of a slice from a DataFrame.\n",
      "Try using .loc[row_indexer,col_indexer] = value instead\n",
      "\n",
      "See the caveats in the documentation: https://pandas.pydata.org/pandas-docs/stable/user_guide/indexing.html#returning-a-view-versus-a-copy\n",
      "  matches[0]['count'] = 1\n",
      "./code/Packets2TS.py:48: SettingWithCopyWarning: \n",
      "A value is trying to be set on a copy of a slice from a DataFrame.\n",
      "Try using .loc[row_indexer,col_indexer] = value instead\n",
      "\n",
      "See the caveats in the documentation: https://pandas.pydata.org/pandas-docs/stable/user_guide/indexing.html#returning-a-view-versus-a-copy\n",
      "  matches[0]['count'] = 1\n",
      " 17%|█████████████████████▌                                                                                                           | 17/102 [23:01<1:02:11, 43.91s/it]./code/Packets2TS.py:48: SettingWithCopyWarning: \n",
      "A value is trying to be set on a copy of a slice from a DataFrame.\n",
      "Try using .loc[row_indexer,col_indexer] = value instead\n",
      "\n",
      "See the caveats in the documentation: https://pandas.pydata.org/pandas-docs/stable/user_guide/indexing.html#returning-a-view-versus-a-copy\n",
      "  matches[0]['count'] = 1\n"
     ]
    },
    {
     "name": "stdout",
     "output_type": "stream",
     "text": [
      "No matches for 102.0.50.110 at ISP1\n",
      "No matches for 102.0.50.110 at ISP2\n",
      "No matches for 102.0.50.110 at ISP3\n",
      "No matches for 102.0.50.110 at ISP4\n",
      "No matches for 102.0.50.110 at ISP5\n"
     ]
    },
    {
     "name": "stderr",
     "output_type": "stream",
     "text": [
      "./code/Packets2TS.py:48: SettingWithCopyWarning: \n",
      "A value is trying to be set on a copy of a slice from a DataFrame.\n",
      "Try using .loc[row_indexer,col_indexer] = value instead\n",
      "\n",
      "See the caveats in the documentation: https://pandas.pydata.org/pandas-docs/stable/user_guide/indexing.html#returning-a-view-versus-a-copy\n",
      "  matches[0]['count'] = 1\n"
     ]
    },
    {
     "name": "stdout",
     "output_type": "stream",
     "text": [
      "No matches for 102.0.50.110 at ISP7\n",
      "No matches for 102.0.50.110 at ISP8\n",
      "No matches for 102.0.50.110 at ISP9\n",
      "No matches for 102.0.50.110 at ISP10\n",
      "No matches for 102.0.50.110 at root\n",
      "No matches for 102.0.50.110 at SLD\n",
      "No matches for 102.0.50.110 at TLD\n"
     ]
    },
    {
     "name": "stderr",
     "output_type": "stream",
     "text": [
      "./code/Packets2TS.py:48: SettingWithCopyWarning: \n",
      "A value is trying to be set on a copy of a slice from a DataFrame.\n",
      "Try using .loc[row_indexer,col_indexer] = value instead\n",
      "\n",
      "See the caveats in the documentation: https://pandas.pydata.org/pandas-docs/stable/user_guide/indexing.html#returning-a-view-versus-a-copy\n",
      "  matches[0]['count'] = 1\n",
      "./code/Packets2TS.py:48: SettingWithCopyWarning: \n",
      "A value is trying to be set on a copy of a slice from a DataFrame.\n",
      "Try using .loc[row_indexer,col_indexer] = value instead\n",
      "\n",
      "See the caveats in the documentation: https://pandas.pydata.org/pandas-docs/stable/user_guide/indexing.html#returning-a-view-versus-a-copy\n",
      "  matches[0]['count'] = 1\n",
      " 18%|███████████████████████                                                                                                            | 18/102 [23:30<55:13, 39.44s/it]./code/Packets2TS.py:48: SettingWithCopyWarning: \n",
      "A value is trying to be set on a copy of a slice from a DataFrame.\n",
      "Try using .loc[row_indexer,col_indexer] = value instead\n",
      "\n",
      "See the caveats in the documentation: https://pandas.pydata.org/pandas-docs/stable/user_guide/indexing.html#returning-a-view-versus-a-copy\n",
      "  matches[0]['count'] = 1\n",
      "./code/Packets2TS.py:48: SettingWithCopyWarning: \n",
      "A value is trying to be set on a copy of a slice from a DataFrame.\n",
      "Try using .loc[row_indexer,col_indexer] = value instead\n",
      "\n",
      "See the caveats in the documentation: https://pandas.pydata.org/pandas-docs/stable/user_guide/indexing.html#returning-a-view-versus-a-copy\n",
      "  matches[0]['count'] = 1\n"
     ]
    },
    {
     "name": "stdout",
     "output_type": "stream",
     "text": [
      "No matches for 102.0.0.55 at ISP2\n",
      "No matches for 102.0.0.55 at ISP3\n",
      "No matches for 102.0.0.55 at ISP4\n",
      "No matches for 102.0.0.55 at ISP5\n",
      "No matches for 102.0.0.55 at ISP6\n",
      "No matches for 102.0.0.55 at ISP7\n",
      "No matches for 102.0.0.55 at ISP8\n",
      "No matches for 102.0.0.55 at ISP9\n",
      "No matches for 102.0.0.55 at ISP10\n",
      "No matches for 102.0.0.55 at root\n",
      "No matches for 102.0.0.55 at SLD\n",
      "No matches for 102.0.0.55 at TLD\n"
     ]
    },
    {
     "name": "stderr",
     "output_type": "stream",
     "text": [
      "./code/Packets2TS.py:48: SettingWithCopyWarning: \n",
      "A value is trying to be set on a copy of a slice from a DataFrame.\n",
      "Try using .loc[row_indexer,col_indexer] = value instead\n",
      "\n",
      "See the caveats in the documentation: https://pandas.pydata.org/pandas-docs/stable/user_guide/indexing.html#returning-a-view-versus-a-copy\n",
      "  matches[0]['count'] = 1\n",
      "./code/Packets2TS.py:48: SettingWithCopyWarning: \n",
      "A value is trying to be set on a copy of a slice from a DataFrame.\n",
      "Try using .loc[row_indexer,col_indexer] = value instead\n",
      "\n",
      "See the caveats in the documentation: https://pandas.pydata.org/pandas-docs/stable/user_guide/indexing.html#returning-a-view-versus-a-copy\n",
      "  matches[0]['count'] = 1\n",
      " 19%|████████████████████████▍                                                                                                          | 19/102 [23:59<50:28, 36.49s/it]./code/Packets2TS.py:48: SettingWithCopyWarning: \n",
      "A value is trying to be set on a copy of a slice from a DataFrame.\n",
      "Try using .loc[row_indexer,col_indexer] = value instead\n",
      "\n",
      "See the caveats in the documentation: https://pandas.pydata.org/pandas-docs/stable/user_guide/indexing.html#returning-a-view-versus-a-copy\n",
      "  matches[0]['count'] = 1\n"
     ]
    },
    {
     "name": "stdout",
     "output_type": "stream",
     "text": [
      "No matches for 102.0.40.109 at ISP1\n",
      "No matches for 102.0.40.109 at ISP2\n",
      "No matches for 102.0.40.109 at ISP3\n",
      "No matches for 102.0.40.109 at ISP4\n"
     ]
    },
    {
     "name": "stderr",
     "output_type": "stream",
     "text": [
      "./code/Packets2TS.py:48: SettingWithCopyWarning: \n",
      "A value is trying to be set on a copy of a slice from a DataFrame.\n",
      "Try using .loc[row_indexer,col_indexer] = value instead\n",
      "\n",
      "See the caveats in the documentation: https://pandas.pydata.org/pandas-docs/stable/user_guide/indexing.html#returning-a-view-versus-a-copy\n",
      "  matches[0]['count'] = 1\n"
     ]
    },
    {
     "name": "stdout",
     "output_type": "stream",
     "text": [
      "No matches for 102.0.40.109 at ISP6\n",
      "No matches for 102.0.40.109 at ISP7\n",
      "No matches for 102.0.40.109 at ISP8\n",
      "No matches for 102.0.40.109 at ISP9\n",
      "No matches for 102.0.40.109 at ISP10\n",
      "No matches for 102.0.40.109 at root\n",
      "No matches for 102.0.40.109 at SLD\n",
      "No matches for 102.0.40.109 at TLD\n"
     ]
    },
    {
     "name": "stderr",
     "output_type": "stream",
     "text": [
      "./code/Packets2TS.py:48: SettingWithCopyWarning: \n",
      "A value is trying to be set on a copy of a slice from a DataFrame.\n",
      "Try using .loc[row_indexer,col_indexer] = value instead\n",
      "\n",
      "See the caveats in the documentation: https://pandas.pydata.org/pandas-docs/stable/user_guide/indexing.html#returning-a-view-versus-a-copy\n",
      "  matches[0]['count'] = 1\n",
      "./code/Packets2TS.py:48: SettingWithCopyWarning: \n",
      "A value is trying to be set on a copy of a slice from a DataFrame.\n",
      "Try using .loc[row_indexer,col_indexer] = value instead\n",
      "\n",
      "See the caveats in the documentation: https://pandas.pydata.org/pandas-docs/stable/user_guide/indexing.html#returning-a-view-versus-a-copy\n",
      "  matches[0]['count'] = 1\n",
      " 20%|█████████████████████████▋                                                                                                         | 20/102 [24:28<46:29, 34.02s/it]./code/Packets2TS.py:48: SettingWithCopyWarning: \n",
      "A value is trying to be set on a copy of a slice from a DataFrame.\n",
      "Try using .loc[row_indexer,col_indexer] = value instead\n",
      "\n",
      "See the caveats in the documentation: https://pandas.pydata.org/pandas-docs/stable/user_guide/indexing.html#returning-a-view-versus-a-copy\n",
      "  matches[0]['count'] = 1\n",
      "./code/Packets2TS.py:48: SettingWithCopyWarning: \n",
      "A value is trying to be set on a copy of a slice from a DataFrame.\n",
      "Try using .loc[row_indexer,col_indexer] = value instead\n",
      "\n",
      "See the caveats in the documentation: https://pandas.pydata.org/pandas-docs/stable/user_guide/indexing.html#returning-a-view-versus-a-copy\n",
      "  matches[0]['count'] = 1\n"
     ]
    },
    {
     "name": "stdout",
     "output_type": "stream",
     "text": [
      "No matches for 102.0.0.65 at ISP2\n",
      "No matches for 102.0.0.65 at ISP3\n",
      "No matches for 102.0.0.65 at ISP4\n",
      "No matches for 102.0.0.65 at ISP5\n",
      "No matches for 102.0.0.65 at ISP6\n",
      "No matches for 102.0.0.65 at ISP7\n",
      "No matches for 102.0.0.65 at ISP8\n",
      "No matches for 102.0.0.65 at ISP9\n",
      "No matches for 102.0.0.65 at ISP10\n",
      "No matches for 102.0.0.65 at root\n",
      "No matches for 102.0.0.65 at SLD\n",
      "No matches for 102.0.0.65 at TLD\n"
     ]
    },
    {
     "name": "stderr",
     "output_type": "stream",
     "text": [
      "./code/Packets2TS.py:48: SettingWithCopyWarning: \n",
      "A value is trying to be set on a copy of a slice from a DataFrame.\n",
      "Try using .loc[row_indexer,col_indexer] = value instead\n",
      "\n",
      "See the caveats in the documentation: https://pandas.pydata.org/pandas-docs/stable/user_guide/indexing.html#returning-a-view-versus-a-copy\n",
      "  matches[0]['count'] = 1\n",
      "./code/Packets2TS.py:48: SettingWithCopyWarning: \n",
      "A value is trying to be set on a copy of a slice from a DataFrame.\n",
      "Try using .loc[row_indexer,col_indexer] = value instead\n",
      "\n",
      "See the caveats in the documentation: https://pandas.pydata.org/pandas-docs/stable/user_guide/indexing.html#returning-a-view-versus-a-copy\n",
      "  matches[0]['count'] = 1\n",
      " 21%|██████████████████████████▉                                                                                                        | 21/102 [24:57<43:53, 32.52s/it]./code/Packets2TS.py:48: SettingWithCopyWarning: \n",
      "A value is trying to be set on a copy of a slice from a DataFrame.\n",
      "Try using .loc[row_indexer,col_indexer] = value instead\n",
      "\n",
      "See the caveats in the documentation: https://pandas.pydata.org/pandas-docs/stable/user_guide/indexing.html#returning-a-view-versus-a-copy\n",
      "  matches[0]['count'] = 1\n"
     ]
    },
    {
     "name": "stdout",
     "output_type": "stream",
     "text": [
      "No matches for 102.0.60.121 at ISP1\n",
      "No matches for 102.0.60.121 at ISP2\n",
      "No matches for 102.0.60.121 at ISP3\n",
      "No matches for 102.0.60.121 at ISP4\n",
      "No matches for 102.0.60.121 at ISP5\n",
      "No matches for 102.0.60.121 at ISP6\n"
     ]
    },
    {
     "name": "stderr",
     "output_type": "stream",
     "text": [
      "./code/Packets2TS.py:48: SettingWithCopyWarning: \n",
      "A value is trying to be set on a copy of a slice from a DataFrame.\n",
      "Try using .loc[row_indexer,col_indexer] = value instead\n",
      "\n",
      "See the caveats in the documentation: https://pandas.pydata.org/pandas-docs/stable/user_guide/indexing.html#returning-a-view-versus-a-copy\n",
      "  matches[0]['count'] = 1\n"
     ]
    },
    {
     "name": "stdout",
     "output_type": "stream",
     "text": [
      "No matches for 102.0.60.121 at ISP8\n",
      "No matches for 102.0.60.121 at ISP9\n",
      "No matches for 102.0.60.121 at ISP10\n",
      "No matches for 102.0.60.121 at root\n",
      "No matches for 102.0.60.121 at SLD\n",
      "No matches for 102.0.60.121 at TLD\n"
     ]
    },
    {
     "name": "stderr",
     "output_type": "stream",
     "text": [
      "./code/Packets2TS.py:48: SettingWithCopyWarning: \n",
      "A value is trying to be set on a copy of a slice from a DataFrame.\n",
      "Try using .loc[row_indexer,col_indexer] = value instead\n",
      "\n",
      "See the caveats in the documentation: https://pandas.pydata.org/pandas-docs/stable/user_guide/indexing.html#returning-a-view-versus-a-copy\n",
      "  matches[0]['count'] = 1\n",
      "./code/Packets2TS.py:48: SettingWithCopyWarning: \n",
      "A value is trying to be set on a copy of a slice from a DataFrame.\n",
      "Try using .loc[row_indexer,col_indexer] = value instead\n",
      "\n",
      "See the caveats in the documentation: https://pandas.pydata.org/pandas-docs/stable/user_guide/indexing.html#returning-a-view-versus-a-copy\n",
      "  matches[0]['count'] = 1\n",
      " 22%|████████████████████████████▎                                                                                                      | 22/102 [25:25<41:48, 31.36s/it]./code/Packets2TS.py:48: SettingWithCopyWarning: \n",
      "A value is trying to be set on a copy of a slice from a DataFrame.\n",
      "Try using .loc[row_indexer,col_indexer] = value instead\n",
      "\n",
      "See the caveats in the documentation: https://pandas.pydata.org/pandas-docs/stable/user_guide/indexing.html#returning-a-view-versus-a-copy\n",
      "  matches[0]['count'] = 1\n"
     ]
    },
    {
     "name": "stdout",
     "output_type": "stream",
     "text": [
      "No matches for 102.0.40.129 at ISP1\n",
      "No matches for 102.0.40.129 at ISP2\n",
      "No matches for 102.0.40.129 at ISP3\n",
      "No matches for 102.0.40.129 at ISP4\n"
     ]
    },
    {
     "name": "stderr",
     "output_type": "stream",
     "text": [
      "./code/Packets2TS.py:48: SettingWithCopyWarning: \n",
      "A value is trying to be set on a copy of a slice from a DataFrame.\n",
      "Try using .loc[row_indexer,col_indexer] = value instead\n",
      "\n",
      "See the caveats in the documentation: https://pandas.pydata.org/pandas-docs/stable/user_guide/indexing.html#returning-a-view-versus-a-copy\n",
      "  matches[0]['count'] = 1\n"
     ]
    },
    {
     "name": "stdout",
     "output_type": "stream",
     "text": [
      "No matches for 102.0.40.129 at ISP6\n",
      "No matches for 102.0.40.129 at ISP7\n",
      "No matches for 102.0.40.129 at ISP8\n",
      "No matches for 102.0.40.129 at ISP9\n",
      "No matches for 102.0.40.129 at ISP10\n",
      "No matches for 102.0.40.129 at root\n",
      "No matches for 102.0.40.129 at SLD\n",
      "No matches for 102.0.40.129 at TLD\n"
     ]
    },
    {
     "name": "stderr",
     "output_type": "stream",
     "text": [
      "./code/Packets2TS.py:48: SettingWithCopyWarning: \n",
      "A value is trying to be set on a copy of a slice from a DataFrame.\n",
      "Try using .loc[row_indexer,col_indexer] = value instead\n",
      "\n",
      "See the caveats in the documentation: https://pandas.pydata.org/pandas-docs/stable/user_guide/indexing.html#returning-a-view-versus-a-copy\n",
      "  matches[0]['count'] = 1\n",
      "./code/Packets2TS.py:48: SettingWithCopyWarning: \n",
      "A value is trying to be set on a copy of a slice from a DataFrame.\n",
      "Try using .loc[row_indexer,col_indexer] = value instead\n",
      "\n",
      "See the caveats in the documentation: https://pandas.pydata.org/pandas-docs/stable/user_guide/indexing.html#returning-a-view-versus-a-copy\n",
      "  matches[0]['count'] = 1\n",
      " 23%|█████████████████████████████▌                                                                                                     | 23/102 [25:54<40:06, 30.46s/it]./code/Packets2TS.py:48: SettingWithCopyWarning: \n",
      "A value is trying to be set on a copy of a slice from a DataFrame.\n",
      "Try using .loc[row_indexer,col_indexer] = value instead\n",
      "\n",
      "See the caveats in the documentation: https://pandas.pydata.org/pandas-docs/stable/user_guide/indexing.html#returning-a-view-versus-a-copy\n",
      "  matches[0]['count'] = 1\n"
     ]
    },
    {
     "name": "stdout",
     "output_type": "stream",
     "text": [
      "No matches for 102.0.50.80 at ISP1\n",
      "No matches for 102.0.50.80 at ISP2\n",
      "No matches for 102.0.50.80 at ISP3\n",
      "No matches for 102.0.50.80 at ISP4\n",
      "No matches for 102.0.50.80 at ISP5\n"
     ]
    },
    {
     "name": "stderr",
     "output_type": "stream",
     "text": [
      "./code/Packets2TS.py:48: SettingWithCopyWarning: \n",
      "A value is trying to be set on a copy of a slice from a DataFrame.\n",
      "Try using .loc[row_indexer,col_indexer] = value instead\n",
      "\n",
      "See the caveats in the documentation: https://pandas.pydata.org/pandas-docs/stable/user_guide/indexing.html#returning-a-view-versus-a-copy\n",
      "  matches[0]['count'] = 1\n"
     ]
    },
    {
     "name": "stdout",
     "output_type": "stream",
     "text": [
      "No matches for 102.0.50.80 at ISP7\n",
      "No matches for 102.0.50.80 at ISP8\n",
      "No matches for 102.0.50.80 at ISP9\n",
      "No matches for 102.0.50.80 at ISP10\n",
      "No matches for 102.0.50.80 at root\n",
      "No matches for 102.0.50.80 at SLD\n",
      "No matches for 102.0.50.80 at TLD\n"
     ]
    },
    {
     "name": "stderr",
     "output_type": "stream",
     "text": [
      "./code/Packets2TS.py:48: SettingWithCopyWarning: \n",
      "A value is trying to be set on a copy of a slice from a DataFrame.\n",
      "Try using .loc[row_indexer,col_indexer] = value instead\n",
      "\n",
      "See the caveats in the documentation: https://pandas.pydata.org/pandas-docs/stable/user_guide/indexing.html#returning-a-view-versus-a-copy\n",
      "  matches[0]['count'] = 1\n",
      "./code/Packets2TS.py:48: SettingWithCopyWarning: \n",
      "A value is trying to be set on a copy of a slice from a DataFrame.\n",
      "Try using .loc[row_indexer,col_indexer] = value instead\n",
      "\n",
      "See the caveats in the documentation: https://pandas.pydata.org/pandas-docs/stable/user_guide/indexing.html#returning-a-view-versus-a-copy\n",
      "  matches[0]['count'] = 1\n",
      " 24%|██████████████████████████████▊                                                                                                    | 24/102 [26:24<39:33, 30.42s/it]./code/Packets2TS.py:48: SettingWithCopyWarning: \n",
      "A value is trying to be set on a copy of a slice from a DataFrame.\n",
      "Try using .loc[row_indexer,col_indexer] = value instead\n",
      "\n",
      "See the caveats in the documentation: https://pandas.pydata.org/pandas-docs/stable/user_guide/indexing.html#returning-a-view-versus-a-copy\n",
      "  matches[0]['count'] = 1\n"
     ]
    },
    {
     "name": "stdout",
     "output_type": "stream",
     "text": [
      "No matches for 102.0.90.134 at ISP1\n",
      "No matches for 102.0.90.134 at ISP2\n",
      "No matches for 102.0.90.134 at ISP3\n",
      "No matches for 102.0.90.134 at ISP4\n",
      "No matches for 102.0.90.134 at ISP5\n",
      "No matches for 102.0.90.134 at ISP6\n",
      "No matches for 102.0.90.134 at ISP7\n",
      "No matches for 102.0.90.134 at ISP8\n",
      "No matches for 102.0.90.134 at ISP9\n"
     ]
    },
    {
     "name": "stderr",
     "output_type": "stream",
     "text": [
      "./code/Packets2TS.py:48: SettingWithCopyWarning: \n",
      "A value is trying to be set on a copy of a slice from a DataFrame.\n",
      "Try using .loc[row_indexer,col_indexer] = value instead\n",
      "\n",
      "See the caveats in the documentation: https://pandas.pydata.org/pandas-docs/stable/user_guide/indexing.html#returning-a-view-versus-a-copy\n",
      "  matches[0]['count'] = 1\n"
     ]
    },
    {
     "name": "stdout",
     "output_type": "stream",
     "text": [
      "No matches for 102.0.90.134 at root\n",
      "No matches for 102.0.90.134 at SLD\n",
      "No matches for 102.0.90.134 at TLD\n"
     ]
    },
    {
     "name": "stderr",
     "output_type": "stream",
     "text": [
      "./code/Packets2TS.py:48: SettingWithCopyWarning: \n",
      "A value is trying to be set on a copy of a slice from a DataFrame.\n",
      "Try using .loc[row_indexer,col_indexer] = value instead\n",
      "\n",
      "See the caveats in the documentation: https://pandas.pydata.org/pandas-docs/stable/user_guide/indexing.html#returning-a-view-versus-a-copy\n",
      "  matches[0]['count'] = 1\n",
      "./code/Packets2TS.py:48: SettingWithCopyWarning: \n",
      "A value is trying to be set on a copy of a slice from a DataFrame.\n",
      "Try using .loc[row_indexer,col_indexer] = value instead\n",
      "\n",
      "See the caveats in the documentation: https://pandas.pydata.org/pandas-docs/stable/user_guide/indexing.html#returning-a-view-versus-a-copy\n",
      "  matches[0]['count'] = 1\n",
      " 25%|████████████████████████████████                                                                                                   | 25/102 [26:52<38:14, 29.80s/it]./code/Packets2TS.py:48: SettingWithCopyWarning: \n",
      "A value is trying to be set on a copy of a slice from a DataFrame.\n",
      "Try using .loc[row_indexer,col_indexer] = value instead\n",
      "\n",
      "See the caveats in the documentation: https://pandas.pydata.org/pandas-docs/stable/user_guide/indexing.html#returning-a-view-versus-a-copy\n",
      "  matches[0]['count'] = 1\n",
      "./code/Packets2TS.py:48: SettingWithCopyWarning: \n",
      "A value is trying to be set on a copy of a slice from a DataFrame.\n",
      "Try using .loc[row_indexer,col_indexer] = value instead\n",
      "\n",
      "See the caveats in the documentation: https://pandas.pydata.org/pandas-docs/stable/user_guide/indexing.html#returning-a-view-versus-a-copy\n",
      "  matches[0]['count'] = 1\n"
     ]
    },
    {
     "name": "stdout",
     "output_type": "stream",
     "text": [
      "No matches for 102.0.10.26 at ISP1\n",
      "No matches for 102.0.10.26 at ISP3\n",
      "No matches for 102.0.10.26 at ISP4\n",
      "No matches for 102.0.10.26 at ISP5\n",
      "No matches for 102.0.10.26 at ISP6\n",
      "No matches for 102.0.10.26 at ISP7\n",
      "No matches for 102.0.10.26 at ISP8\n",
      "No matches for 102.0.10.26 at ISP9\n",
      "No matches for 102.0.10.26 at ISP10\n",
      "No matches for 102.0.10.26 at root\n",
      "No matches for 102.0.10.26 at SLD\n",
      "No matches for 102.0.10.26 at TLD\n"
     ]
    },
    {
     "name": "stderr",
     "output_type": "stream",
     "text": [
      "./code/Packets2TS.py:48: SettingWithCopyWarning: \n",
      "A value is trying to be set on a copy of a slice from a DataFrame.\n",
      "Try using .loc[row_indexer,col_indexer] = value instead\n",
      "\n",
      "See the caveats in the documentation: https://pandas.pydata.org/pandas-docs/stable/user_guide/indexing.html#returning-a-view-versus-a-copy\n",
      "  matches[0]['count'] = 1\n",
      "./code/Packets2TS.py:48: SettingWithCopyWarning: \n",
      "A value is trying to be set on a copy of a slice from a DataFrame.\n",
      "Try using .loc[row_indexer,col_indexer] = value instead\n",
      "\n",
      "See the caveats in the documentation: https://pandas.pydata.org/pandas-docs/stable/user_guide/indexing.html#returning-a-view-versus-a-copy\n",
      "  matches[0]['count'] = 1\n",
      " 25%|█████████████████████████████████▍                                                                                                 | 26/102 [27:21<37:22, 29.50s/it]./code/Packets2TS.py:48: SettingWithCopyWarning: \n",
      "A value is trying to be set on a copy of a slice from a DataFrame.\n",
      "Try using .loc[row_indexer,col_indexer] = value instead\n",
      "\n",
      "See the caveats in the documentation: https://pandas.pydata.org/pandas-docs/stable/user_guide/indexing.html#returning-a-view-versus-a-copy\n",
      "  matches[0]['count'] = 1\n",
      "./code/Packets2TS.py:48: SettingWithCopyWarning: \n",
      "A value is trying to be set on a copy of a slice from a DataFrame.\n",
      "Try using .loc[row_indexer,col_indexer] = value instead\n",
      "\n",
      "See the caveats in the documentation: https://pandas.pydata.org/pandas-docs/stable/user_guide/indexing.html#returning-a-view-versus-a-copy\n",
      "  matches[0]['count'] = 1\n"
     ]
    },
    {
     "name": "stdout",
     "output_type": "stream",
     "text": [
      "No matches for 102.0.10.16 at ISP1\n",
      "No matches for 102.0.10.16 at ISP3\n",
      "No matches for 102.0.10.16 at ISP4\n",
      "No matches for 102.0.10.16 at ISP5\n",
      "No matches for 102.0.10.16 at ISP6\n",
      "No matches for 102.0.10.16 at ISP7\n",
      "No matches for 102.0.10.16 at ISP8\n",
      "No matches for 102.0.10.16 at ISP9\n",
      "No matches for 102.0.10.16 at ISP10\n",
      "No matches for 102.0.10.16 at root\n",
      "No matches for 102.0.10.16 at SLD\n",
      "No matches for 102.0.10.16 at TLD\n"
     ]
    },
    {
     "name": "stderr",
     "output_type": "stream",
     "text": [
      "./code/Packets2TS.py:48: SettingWithCopyWarning: \n",
      "A value is trying to be set on a copy of a slice from a DataFrame.\n",
      "Try using .loc[row_indexer,col_indexer] = value instead\n",
      "\n",
      "See the caveats in the documentation: https://pandas.pydata.org/pandas-docs/stable/user_guide/indexing.html#returning-a-view-versus-a-copy\n",
      "  matches[0]['count'] = 1\n",
      "./code/Packets2TS.py:48: SettingWithCopyWarning: \n",
      "A value is trying to be set on a copy of a slice from a DataFrame.\n",
      "Try using .loc[row_indexer,col_indexer] = value instead\n",
      "\n",
      "See the caveats in the documentation: https://pandas.pydata.org/pandas-docs/stable/user_guide/indexing.html#returning-a-view-versus-a-copy\n",
      "  matches[0]['count'] = 1\n",
      " 26%|██████████████████████████████████▋                                                                                                | 27/102 [27:50<36:39, 29.33s/it]./code/Packets2TS.py:48: SettingWithCopyWarning: \n",
      "A value is trying to be set on a copy of a slice from a DataFrame.\n",
      "Try using .loc[row_indexer,col_indexer] = value instead\n",
      "\n",
      "See the caveats in the documentation: https://pandas.pydata.org/pandas-docs/stable/user_guide/indexing.html#returning-a-view-versus-a-copy\n",
      "  matches[0]['count'] = 1\n"
     ]
    },
    {
     "name": "stdout",
     "output_type": "stream",
     "text": [
      "No matches for 102.0.50.130 at ISP1\n",
      "No matches for 102.0.50.130 at ISP2\n",
      "No matches for 102.0.50.130 at ISP3\n",
      "No matches for 102.0.50.130 at ISP4\n",
      "No matches for 102.0.50.130 at ISP5\n"
     ]
    },
    {
     "name": "stderr",
     "output_type": "stream",
     "text": [
      "./code/Packets2TS.py:48: SettingWithCopyWarning: \n",
      "A value is trying to be set on a copy of a slice from a DataFrame.\n",
      "Try using .loc[row_indexer,col_indexer] = value instead\n",
      "\n",
      "See the caveats in the documentation: https://pandas.pydata.org/pandas-docs/stable/user_guide/indexing.html#returning-a-view-versus-a-copy\n",
      "  matches[0]['count'] = 1\n"
     ]
    },
    {
     "name": "stdout",
     "output_type": "stream",
     "text": [
      "No matches for 102.0.50.130 at ISP7\n",
      "No matches for 102.0.50.130 at ISP8\n",
      "No matches for 102.0.50.130 at ISP9\n",
      "No matches for 102.0.50.130 at ISP10\n",
      "No matches for 102.0.50.130 at root\n",
      "No matches for 102.0.50.130 at SLD\n",
      "No matches for 102.0.50.130 at TLD\n"
     ]
    },
    {
     "name": "stderr",
     "output_type": "stream",
     "text": [
      "./code/Packets2TS.py:48: SettingWithCopyWarning: \n",
      "A value is trying to be set on a copy of a slice from a DataFrame.\n",
      "Try using .loc[row_indexer,col_indexer] = value instead\n",
      "\n",
      "See the caveats in the documentation: https://pandas.pydata.org/pandas-docs/stable/user_guide/indexing.html#returning-a-view-versus-a-copy\n",
      "  matches[0]['count'] = 1\n",
      "./code/Packets2TS.py:48: SettingWithCopyWarning: \n",
      "A value is trying to be set on a copy of a slice from a DataFrame.\n",
      "Try using .loc[row_indexer,col_indexer] = value instead\n",
      "\n",
      "See the caveats in the documentation: https://pandas.pydata.org/pandas-docs/stable/user_guide/indexing.html#returning-a-view-versus-a-copy\n",
      "  matches[0]['count'] = 1\n",
      " 27%|███████████████████████████████████▉                                                                                               | 28/102 [28:19<36:01, 29.21s/it]./code/Packets2TS.py:48: SettingWithCopyWarning: \n",
      "A value is trying to be set on a copy of a slice from a DataFrame.\n",
      "Try using .loc[row_indexer,col_indexer] = value instead\n",
      "\n",
      "See the caveats in the documentation: https://pandas.pydata.org/pandas-docs/stable/user_guide/indexing.html#returning-a-view-versus-a-copy\n",
      "  matches[0]['count'] = 1\n",
      "./code/Packets2TS.py:48: SettingWithCopyWarning: \n",
      "A value is trying to be set on a copy of a slice from a DataFrame.\n",
      "Try using .loc[row_indexer,col_indexer] = value instead\n",
      "\n",
      "See the caveats in the documentation: https://pandas.pydata.org/pandas-docs/stable/user_guide/indexing.html#returning-a-view-versus-a-copy\n",
      "  matches[0]['count'] = 1\n"
     ]
    },
    {
     "name": "stdout",
     "output_type": "stream",
     "text": [
      "No matches for 102.0.0.15 at ISP2\n",
      "No matches for 102.0.0.15 at ISP3\n",
      "No matches for 102.0.0.15 at ISP4\n",
      "No matches for 102.0.0.15 at ISP5\n",
      "No matches for 102.0.0.15 at ISP6\n",
      "No matches for 102.0.0.15 at ISP7\n",
      "No matches for 102.0.0.15 at ISP8\n",
      "No matches for 102.0.0.15 at ISP9\n",
      "No matches for 102.0.0.15 at ISP10\n",
      "No matches for 102.0.0.15 at root\n",
      "No matches for 102.0.0.15 at SLD\n",
      "No matches for 102.0.0.15 at TLD\n"
     ]
    },
    {
     "name": "stderr",
     "output_type": "stream",
     "text": [
      "./code/Packets2TS.py:48: SettingWithCopyWarning: \n",
      "A value is trying to be set on a copy of a slice from a DataFrame.\n",
      "Try using .loc[row_indexer,col_indexer] = value instead\n",
      "\n",
      "See the caveats in the documentation: https://pandas.pydata.org/pandas-docs/stable/user_guide/indexing.html#returning-a-view-versus-a-copy\n",
      "  matches[0]['count'] = 1\n",
      "./code/Packets2TS.py:48: SettingWithCopyWarning: \n",
      "A value is trying to be set on a copy of a slice from a DataFrame.\n",
      "Try using .loc[row_indexer,col_indexer] = value instead\n",
      "\n",
      "See the caveats in the documentation: https://pandas.pydata.org/pandas-docs/stable/user_guide/indexing.html#returning-a-view-versus-a-copy\n",
      "  matches[0]['count'] = 1\n",
      " 28%|█████████████████████████████████████▏                                                                                             | 29/102 [28:49<35:49, 29.44s/it]./code/Packets2TS.py:48: SettingWithCopyWarning: \n",
      "A value is trying to be set on a copy of a slice from a DataFrame.\n",
      "Try using .loc[row_indexer,col_indexer] = value instead\n",
      "\n",
      "See the caveats in the documentation: https://pandas.pydata.org/pandas-docs/stable/user_guide/indexing.html#returning-a-view-versus-a-copy\n",
      "  matches[0]['count'] = 1\n"
     ]
    },
    {
     "name": "stdout",
     "output_type": "stream",
     "text": [
      "No matches for 102.0.80.143 at ISP1\n",
      "No matches for 102.0.80.143 at ISP2\n",
      "No matches for 102.0.80.143 at ISP3\n",
      "No matches for 102.0.80.143 at ISP4\n",
      "No matches for 102.0.80.143 at ISP5\n",
      "No matches for 102.0.80.143 at ISP6\n",
      "No matches for 102.0.80.143 at ISP7\n",
      "No matches for 102.0.80.143 at ISP8\n",
      "No matches for 102.0.80.143 at ISP10\n"
     ]
    },
    {
     "name": "stderr",
     "output_type": "stream",
     "text": [
      "./code/Packets2TS.py:48: SettingWithCopyWarning: \n",
      "A value is trying to be set on a copy of a slice from a DataFrame.\n",
      "Try using .loc[row_indexer,col_indexer] = value instead\n",
      "\n",
      "See the caveats in the documentation: https://pandas.pydata.org/pandas-docs/stable/user_guide/indexing.html#returning-a-view-versus-a-copy\n",
      "  matches[0]['count'] = 1\n"
     ]
    },
    {
     "name": "stdout",
     "output_type": "stream",
     "text": [
      "No matches for 102.0.80.143 at root\n",
      "No matches for 102.0.80.143 at SLD\n",
      "No matches for 102.0.80.143 at TLD\n"
     ]
    },
    {
     "name": "stderr",
     "output_type": "stream",
     "text": [
      "./code/Packets2TS.py:48: SettingWithCopyWarning: \n",
      "A value is trying to be set on a copy of a slice from a DataFrame.\n",
      "Try using .loc[row_indexer,col_indexer] = value instead\n",
      "\n",
      "See the caveats in the documentation: https://pandas.pydata.org/pandas-docs/stable/user_guide/indexing.html#returning-a-view-versus-a-copy\n",
      "  matches[0]['count'] = 1\n",
      "./code/Packets2TS.py:48: SettingWithCopyWarning: \n",
      "A value is trying to be set on a copy of a slice from a DataFrame.\n",
      "Try using .loc[row_indexer,col_indexer] = value instead\n",
      "\n",
      "See the caveats in the documentation: https://pandas.pydata.org/pandas-docs/stable/user_guide/indexing.html#returning-a-view-versus-a-copy\n",
      "  matches[0]['count'] = 1\n",
      " 29%|██████████████████████████████████████▌                                                                                            | 30/102 [29:17<34:52, 29.07s/it]./code/Packets2TS.py:48: SettingWithCopyWarning: \n",
      "A value is trying to be set on a copy of a slice from a DataFrame.\n",
      "Try using .loc[row_indexer,col_indexer] = value instead\n",
      "\n",
      "See the caveats in the documentation: https://pandas.pydata.org/pandas-docs/stable/user_guide/indexing.html#returning-a-view-versus-a-copy\n",
      "  matches[0]['count'] = 1\n"
     ]
    },
    {
     "name": "stdout",
     "output_type": "stream",
     "text": [
      "No matches for 102.0.70.172 at ISP1\n",
      "No matches for 102.0.70.172 at ISP2\n",
      "No matches for 102.0.70.172 at ISP3\n",
      "No matches for 102.0.70.172 at ISP4\n",
      "No matches for 102.0.70.172 at ISP5\n",
      "No matches for 102.0.70.172 at ISP6\n",
      "No matches for 102.0.70.172 at ISP7\n",
      "No matches for 102.0.70.172 at ISP9\n"
     ]
    },
    {
     "name": "stderr",
     "output_type": "stream",
     "text": [
      "./code/Packets2TS.py:48: SettingWithCopyWarning: \n",
      "A value is trying to be set on a copy of a slice from a DataFrame.\n",
      "Try using .loc[row_indexer,col_indexer] = value instead\n",
      "\n",
      "See the caveats in the documentation: https://pandas.pydata.org/pandas-docs/stable/user_guide/indexing.html#returning-a-view-versus-a-copy\n",
      "  matches[0]['count'] = 1\n"
     ]
    },
    {
     "name": "stdout",
     "output_type": "stream",
     "text": [
      "No matches for 102.0.70.172 at ISP10\n",
      "No matches for 102.0.70.172 at root\n",
      "No matches for 102.0.70.172 at SLD\n",
      "No matches for 102.0.70.172 at TLD\n"
     ]
    },
    {
     "name": "stderr",
     "output_type": "stream",
     "text": [
      "./code/Packets2TS.py:48: SettingWithCopyWarning: \n",
      "A value is trying to be set on a copy of a slice from a DataFrame.\n",
      "Try using .loc[row_indexer,col_indexer] = value instead\n",
      "\n",
      "See the caveats in the documentation: https://pandas.pydata.org/pandas-docs/stable/user_guide/indexing.html#returning-a-view-versus-a-copy\n",
      "  matches[0]['count'] = 1\n",
      "./code/Packets2TS.py:48: SettingWithCopyWarning: \n",
      "A value is trying to be set on a copy of a slice from a DataFrame.\n",
      "Try using .loc[row_indexer,col_indexer] = value instead\n",
      "\n",
      "See the caveats in the documentation: https://pandas.pydata.org/pandas-docs/stable/user_guide/indexing.html#returning-a-view-versus-a-copy\n",
      "  matches[0]['count'] = 1\n",
      " 30%|███████████████████████████████████████▊                                                                                           | 31/102 [29:46<34:09, 28.87s/it]./code/Packets2TS.py:48: SettingWithCopyWarning: \n",
      "A value is trying to be set on a copy of a slice from a DataFrame.\n",
      "Try using .loc[row_indexer,col_indexer] = value instead\n",
      "\n",
      "See the caveats in the documentation: https://pandas.pydata.org/pandas-docs/stable/user_guide/indexing.html#returning-a-view-versus-a-copy\n",
      "  matches[0]['count'] = 1\n"
     ]
    },
    {
     "name": "stdout",
     "output_type": "stream",
     "text": [
      "No matches for 102.0.40.59 at ISP1\n",
      "No matches for 102.0.40.59 at ISP2\n",
      "No matches for 102.0.40.59 at ISP3\n",
      "No matches for 102.0.40.59 at ISP4\n"
     ]
    },
    {
     "name": "stderr",
     "output_type": "stream",
     "text": [
      "./code/Packets2TS.py:48: SettingWithCopyWarning: \n",
      "A value is trying to be set on a copy of a slice from a DataFrame.\n",
      "Try using .loc[row_indexer,col_indexer] = value instead\n",
      "\n",
      "See the caveats in the documentation: https://pandas.pydata.org/pandas-docs/stable/user_guide/indexing.html#returning-a-view-versus-a-copy\n",
      "  matches[0]['count'] = 1\n"
     ]
    },
    {
     "name": "stdout",
     "output_type": "stream",
     "text": [
      "No matches for 102.0.40.59 at ISP6\n",
      "No matches for 102.0.40.59 at ISP7\n",
      "No matches for 102.0.40.59 at ISP8\n",
      "No matches for 102.0.40.59 at ISP9\n",
      "No matches for 102.0.40.59 at ISP10\n",
      "No matches for 102.0.40.59 at root\n",
      "No matches for 102.0.40.59 at SLD\n",
      "No matches for 102.0.40.59 at TLD\n"
     ]
    },
    {
     "name": "stderr",
     "output_type": "stream",
     "text": [
      "./code/Packets2TS.py:48: SettingWithCopyWarning: \n",
      "A value is trying to be set on a copy of a slice from a DataFrame.\n",
      "Try using .loc[row_indexer,col_indexer] = value instead\n",
      "\n",
      "See the caveats in the documentation: https://pandas.pydata.org/pandas-docs/stable/user_guide/indexing.html#returning-a-view-versus-a-copy\n",
      "  matches[0]['count'] = 1\n",
      "./code/Packets2TS.py:48: SettingWithCopyWarning: \n",
      "A value is trying to be set on a copy of a slice from a DataFrame.\n",
      "Try using .loc[row_indexer,col_indexer] = value instead\n",
      "\n",
      "See the caveats in the documentation: https://pandas.pydata.org/pandas-docs/stable/user_guide/indexing.html#returning-a-view-versus-a-copy\n",
      "  matches[0]['count'] = 1\n",
      " 31%|█████████████████████████████████████████                                                                                          | 32/102 [30:14<33:30, 28.72s/it]./code/Packets2TS.py:48: SettingWithCopyWarning: \n",
      "A value is trying to be set on a copy of a slice from a DataFrame.\n",
      "Try using .loc[row_indexer,col_indexer] = value instead\n",
      "\n",
      "See the caveats in the documentation: https://pandas.pydata.org/pandas-docs/stable/user_guide/indexing.html#returning-a-view-versus-a-copy\n",
      "  matches[0]['count'] = 1\n"
     ]
    },
    {
     "name": "stdout",
     "output_type": "stream",
     "text": [
      "No matches for 102.0.30.128 at ISP1\n",
      "No matches for 102.0.30.128 at ISP2\n",
      "No matches for 102.0.30.128 at ISP3\n"
     ]
    },
    {
     "name": "stderr",
     "output_type": "stream",
     "text": [
      "./code/Packets2TS.py:48: SettingWithCopyWarning: \n",
      "A value is trying to be set on a copy of a slice from a DataFrame.\n",
      "Try using .loc[row_indexer,col_indexer] = value instead\n",
      "\n",
      "See the caveats in the documentation: https://pandas.pydata.org/pandas-docs/stable/user_guide/indexing.html#returning-a-view-versus-a-copy\n",
      "  matches[0]['count'] = 1\n"
     ]
    },
    {
     "name": "stdout",
     "output_type": "stream",
     "text": [
      "No matches for 102.0.30.128 at ISP5\n",
      "No matches for 102.0.30.128 at ISP6\n",
      "No matches for 102.0.30.128 at ISP7\n",
      "No matches for 102.0.30.128 at ISP8\n",
      "No matches for 102.0.30.128 at ISP9\n",
      "No matches for 102.0.30.128 at ISP10\n",
      "No matches for 102.0.30.128 at root\n",
      "No matches for 102.0.30.128 at SLD\n",
      "No matches for 102.0.30.128 at TLD\n"
     ]
    },
    {
     "name": "stderr",
     "output_type": "stream",
     "text": [
      "./code/Packets2TS.py:48: SettingWithCopyWarning: \n",
      "A value is trying to be set on a copy of a slice from a DataFrame.\n",
      "Try using .loc[row_indexer,col_indexer] = value instead\n",
      "\n",
      "See the caveats in the documentation: https://pandas.pydata.org/pandas-docs/stable/user_guide/indexing.html#returning-a-view-versus-a-copy\n",
      "  matches[0]['count'] = 1\n",
      "./code/Packets2TS.py:48: SettingWithCopyWarning: \n",
      "A value is trying to be set on a copy of a slice from a DataFrame.\n",
      "Try using .loc[row_indexer,col_indexer] = value instead\n",
      "\n",
      "See the caveats in the documentation: https://pandas.pydata.org/pandas-docs/stable/user_guide/indexing.html#returning-a-view-versus-a-copy\n",
      "  matches[0]['count'] = 1\n",
      " 32%|██████████████████████████████████████████▍                                                                                        | 33/102 [30:42<32:50, 28.56s/it]./code/Packets2TS.py:48: SettingWithCopyWarning: \n",
      "A value is trying to be set on a copy of a slice from a DataFrame.\n",
      "Try using .loc[row_indexer,col_indexer] = value instead\n",
      "\n",
      "See the caveats in the documentation: https://pandas.pydata.org/pandas-docs/stable/user_guide/indexing.html#returning-a-view-versus-a-copy\n",
      "  matches[0]['count'] = 1\n"
     ]
    },
    {
     "name": "stdout",
     "output_type": "stream",
     "text": [
      "No matches for 102.0.70.82 at ISP1\n",
      "No matches for 102.0.70.82 at ISP2\n",
      "No matches for 102.0.70.82 at ISP3\n",
      "No matches for 102.0.70.82 at ISP4\n",
      "No matches for 102.0.70.82 at ISP5\n",
      "No matches for 102.0.70.82 at ISP6\n",
      "No matches for 102.0.70.82 at ISP7\n",
      "No matches for 102.0.70.82 at ISP9\n"
     ]
    },
    {
     "name": "stderr",
     "output_type": "stream",
     "text": [
      "./code/Packets2TS.py:48: SettingWithCopyWarning: \n",
      "A value is trying to be set on a copy of a slice from a DataFrame.\n",
      "Try using .loc[row_indexer,col_indexer] = value instead\n",
      "\n",
      "See the caveats in the documentation: https://pandas.pydata.org/pandas-docs/stable/user_guide/indexing.html#returning-a-view-versus-a-copy\n",
      "  matches[0]['count'] = 1\n"
     ]
    },
    {
     "name": "stdout",
     "output_type": "stream",
     "text": [
      "No matches for 102.0.70.82 at ISP10\n",
      "No matches for 102.0.70.82 at root\n",
      "No matches for 102.0.70.82 at SLD\n",
      "No matches for 102.0.70.82 at TLD\n"
     ]
    },
    {
     "name": "stderr",
     "output_type": "stream",
     "text": [
      "./code/Packets2TS.py:48: SettingWithCopyWarning: \n",
      "A value is trying to be set on a copy of a slice from a DataFrame.\n",
      "Try using .loc[row_indexer,col_indexer] = value instead\n",
      "\n",
      "See the caveats in the documentation: https://pandas.pydata.org/pandas-docs/stable/user_guide/indexing.html#returning-a-view-versus-a-copy\n",
      "  matches[0]['count'] = 1\n",
      "./code/Packets2TS.py:48: SettingWithCopyWarning: \n",
      "A value is trying to be set on a copy of a slice from a DataFrame.\n",
      "Try using .loc[row_indexer,col_indexer] = value instead\n",
      "\n",
      "See the caveats in the documentation: https://pandas.pydata.org/pandas-docs/stable/user_guide/indexing.html#returning-a-view-versus-a-copy\n",
      "  matches[0]['count'] = 1\n",
      " 33%|███████████████████████████████████████████▋                                                                                       | 34/102 [31:11<32:28, 28.65s/it]./code/Packets2TS.py:48: SettingWithCopyWarning: \n",
      "A value is trying to be set on a copy of a slice from a DataFrame.\n",
      "Try using .loc[row_indexer,col_indexer] = value instead\n",
      "\n",
      "See the caveats in the documentation: https://pandas.pydata.org/pandas-docs/stable/user_guide/indexing.html#returning-a-view-versus-a-copy\n",
      "  matches[0]['count'] = 1\n"
     ]
    },
    {
     "name": "stdout",
     "output_type": "stream",
     "text": [
      "No matches for 102.0.30.78 at ISP1\n",
      "No matches for 102.0.30.78 at ISP2\n",
      "No matches for 102.0.30.78 at ISP3\n"
     ]
    },
    {
     "name": "stderr",
     "output_type": "stream",
     "text": [
      "./code/Packets2TS.py:48: SettingWithCopyWarning: \n",
      "A value is trying to be set on a copy of a slice from a DataFrame.\n",
      "Try using .loc[row_indexer,col_indexer] = value instead\n",
      "\n",
      "See the caveats in the documentation: https://pandas.pydata.org/pandas-docs/stable/user_guide/indexing.html#returning-a-view-versus-a-copy\n",
      "  matches[0]['count'] = 1\n"
     ]
    },
    {
     "name": "stdout",
     "output_type": "stream",
     "text": [
      "No matches for 102.0.30.78 at ISP5\n",
      "No matches for 102.0.30.78 at ISP6\n",
      "No matches for 102.0.30.78 at ISP7\n",
      "No matches for 102.0.30.78 at ISP8\n",
      "No matches for 102.0.30.78 at ISP9\n",
      "No matches for 102.0.30.78 at ISP10\n",
      "No matches for 102.0.30.78 at root\n",
      "No matches for 102.0.30.78 at SLD\n",
      "No matches for 102.0.30.78 at TLD\n"
     ]
    },
    {
     "name": "stderr",
     "output_type": "stream",
     "text": [
      "./code/Packets2TS.py:48: SettingWithCopyWarning: \n",
      "A value is trying to be set on a copy of a slice from a DataFrame.\n",
      "Try using .loc[row_indexer,col_indexer] = value instead\n",
      "\n",
      "See the caveats in the documentation: https://pandas.pydata.org/pandas-docs/stable/user_guide/indexing.html#returning-a-view-versus-a-copy\n",
      "  matches[0]['count'] = 1\n",
      "./code/Packets2TS.py:48: SettingWithCopyWarning: \n",
      "A value is trying to be set on a copy of a slice from a DataFrame.\n",
      "Try using .loc[row_indexer,col_indexer] = value instead\n",
      "\n",
      "See the caveats in the documentation: https://pandas.pydata.org/pandas-docs/stable/user_guide/indexing.html#returning-a-view-versus-a-copy\n",
      "  matches[0]['count'] = 1\n",
      " 34%|████████████████████████████████████████████▉                                                                                      | 35/102 [31:39<31:51, 28.53s/it]./code/Packets2TS.py:48: SettingWithCopyWarning: \n",
      "A value is trying to be set on a copy of a slice from a DataFrame.\n",
      "Try using .loc[row_indexer,col_indexer] = value instead\n",
      "\n",
      "See the caveats in the documentation: https://pandas.pydata.org/pandas-docs/stable/user_guide/indexing.html#returning-a-view-versus-a-copy\n",
      "  matches[0]['count'] = 1\n"
     ]
    },
    {
     "name": "stdout",
     "output_type": "stream",
     "text": [
      "No matches for 102.0.60.141 at ISP1\n",
      "No matches for 102.0.60.141 at ISP2\n",
      "No matches for 102.0.60.141 at ISP3\n",
      "No matches for 102.0.60.141 at ISP4\n",
      "No matches for 102.0.60.141 at ISP5\n",
      "No matches for 102.0.60.141 at ISP6\n",
      "No matches for 102.0.60.141 at ISP8\n",
      "No matches for 102.0.60.141 at ISP9\n"
     ]
    },
    {
     "name": "stderr",
     "output_type": "stream",
     "text": [
      "./code/Packets2TS.py:48: SettingWithCopyWarning: \n",
      "A value is trying to be set on a copy of a slice from a DataFrame.\n",
      "Try using .loc[row_indexer,col_indexer] = value instead\n",
      "\n",
      "See the caveats in the documentation: https://pandas.pydata.org/pandas-docs/stable/user_guide/indexing.html#returning-a-view-versus-a-copy\n",
      "  matches[0]['count'] = 1\n"
     ]
    },
    {
     "name": "stdout",
     "output_type": "stream",
     "text": [
      "No matches for 102.0.60.141 at ISP10\n",
      "No matches for 102.0.60.141 at root\n",
      "No matches for 102.0.60.141 at SLD\n",
      "No matches for 102.0.60.141 at TLD\n"
     ]
    },
    {
     "name": "stderr",
     "output_type": "stream",
     "text": [
      "./code/Packets2TS.py:48: SettingWithCopyWarning: \n",
      "A value is trying to be set on a copy of a slice from a DataFrame.\n",
      "Try using .loc[row_indexer,col_indexer] = value instead\n",
      "\n",
      "See the caveats in the documentation: https://pandas.pydata.org/pandas-docs/stable/user_guide/indexing.html#returning-a-view-versus-a-copy\n",
      "  matches[0]['count'] = 1\n",
      "./code/Packets2TS.py:48: SettingWithCopyWarning: \n",
      "A value is trying to be set on a copy of a slice from a DataFrame.\n",
      "Try using .loc[row_indexer,col_indexer] = value instead\n",
      "\n",
      "See the caveats in the documentation: https://pandas.pydata.org/pandas-docs/stable/user_guide/indexing.html#returning-a-view-versus-a-copy\n",
      "  matches[0]['count'] = 1\n",
      " 35%|██████████████████████████████████████████████▏                                                                                    | 36/102 [32:08<31:23, 28.54s/it]./code/Packets2TS.py:48: SettingWithCopyWarning: \n",
      "A value is trying to be set on a copy of a slice from a DataFrame.\n",
      "Try using .loc[row_indexer,col_indexer] = value instead\n",
      "\n",
      "See the caveats in the documentation: https://pandas.pydata.org/pandas-docs/stable/user_guide/indexing.html#returning-a-view-versus-a-copy\n",
      "  matches[0]['count'] = 1\n"
     ]
    },
    {
     "name": "stdout",
     "output_type": "stream",
     "text": [
      "No matches for 102.0.70.102 at ISP1\n",
      "No matches for 102.0.70.102 at ISP2\n",
      "No matches for 102.0.70.102 at ISP3\n",
      "No matches for 102.0.70.102 at ISP4\n",
      "No matches for 102.0.70.102 at ISP5\n",
      "No matches for 102.0.70.102 at ISP6\n",
      "No matches for 102.0.70.102 at ISP7\n",
      "No matches for 102.0.70.102 at ISP9\n"
     ]
    },
    {
     "name": "stderr",
     "output_type": "stream",
     "text": [
      "./code/Packets2TS.py:48: SettingWithCopyWarning: \n",
      "A value is trying to be set on a copy of a slice from a DataFrame.\n",
      "Try using .loc[row_indexer,col_indexer] = value instead\n",
      "\n",
      "See the caveats in the documentation: https://pandas.pydata.org/pandas-docs/stable/user_guide/indexing.html#returning-a-view-versus-a-copy\n",
      "  matches[0]['count'] = 1\n"
     ]
    },
    {
     "name": "stdout",
     "output_type": "stream",
     "text": [
      "No matches for 102.0.70.102 at ISP10\n",
      "No matches for 102.0.70.102 at root\n",
      "No matches for 102.0.70.102 at SLD\n",
      "No matches for 102.0.70.102 at TLD\n"
     ]
    },
    {
     "name": "stderr",
     "output_type": "stream",
     "text": [
      "./code/Packets2TS.py:48: SettingWithCopyWarning: \n",
      "A value is trying to be set on a copy of a slice from a DataFrame.\n",
      "Try using .loc[row_indexer,col_indexer] = value instead\n",
      "\n",
      "See the caveats in the documentation: https://pandas.pydata.org/pandas-docs/stable/user_guide/indexing.html#returning-a-view-versus-a-copy\n",
      "  matches[0]['count'] = 1\n",
      "./code/Packets2TS.py:48: SettingWithCopyWarning: \n",
      "A value is trying to be set on a copy of a slice from a DataFrame.\n",
      "Try using .loc[row_indexer,col_indexer] = value instead\n",
      "\n",
      "See the caveats in the documentation: https://pandas.pydata.org/pandas-docs/stable/user_guide/indexing.html#returning-a-view-versus-a-copy\n",
      "  matches[0]['count'] = 1\n",
      " 36%|███████████████████████████████████████████████▌                                                                                   | 37/102 [32:36<30:52, 28.49s/it]./code/Packets2TS.py:48: SettingWithCopyWarning: \n",
      "A value is trying to be set on a copy of a slice from a DataFrame.\n",
      "Try using .loc[row_indexer,col_indexer] = value instead\n",
      "\n",
      "See the caveats in the documentation: https://pandas.pydata.org/pandas-docs/stable/user_guide/indexing.html#returning-a-view-versus-a-copy\n",
      "  matches[0]['count'] = 1\n"
     ]
    },
    {
     "name": "stdout",
     "output_type": "stream",
     "text": [
      "No matches for 102.0.60.71 at ISP1\n",
      "No matches for 102.0.60.71 at ISP2\n",
      "No matches for 102.0.60.71 at ISP3\n",
      "No matches for 102.0.60.71 at ISP4\n",
      "No matches for 102.0.60.71 at ISP5\n",
      "No matches for 102.0.60.71 at ISP6\n",
      "No matches for 102.0.60.71 at ISP8\n",
      "No matches for 102.0.60.71 at ISP9\n"
     ]
    },
    {
     "name": "stderr",
     "output_type": "stream",
     "text": [
      "./code/Packets2TS.py:48: SettingWithCopyWarning: \n",
      "A value is trying to be set on a copy of a slice from a DataFrame.\n",
      "Try using .loc[row_indexer,col_indexer] = value instead\n",
      "\n",
      "See the caveats in the documentation: https://pandas.pydata.org/pandas-docs/stable/user_guide/indexing.html#returning-a-view-versus-a-copy\n",
      "  matches[0]['count'] = 1\n"
     ]
    },
    {
     "name": "stdout",
     "output_type": "stream",
     "text": [
      "No matches for 102.0.60.71 at ISP10\n",
      "No matches for 102.0.60.71 at root\n",
      "No matches for 102.0.60.71 at SLD\n",
      "No matches for 102.0.60.71 at TLD\n"
     ]
    },
    {
     "name": "stderr",
     "output_type": "stream",
     "text": [
      "./code/Packets2TS.py:48: SettingWithCopyWarning: \n",
      "A value is trying to be set on a copy of a slice from a DataFrame.\n",
      "Try using .loc[row_indexer,col_indexer] = value instead\n",
      "\n",
      "See the caveats in the documentation: https://pandas.pydata.org/pandas-docs/stable/user_guide/indexing.html#returning-a-view-versus-a-copy\n",
      "  matches[0]['count'] = 1\n",
      "./code/Packets2TS.py:48: SettingWithCopyWarning: \n",
      "A value is trying to be set on a copy of a slice from a DataFrame.\n",
      "Try using .loc[row_indexer,col_indexer] = value instead\n",
      "\n",
      "See the caveats in the documentation: https://pandas.pydata.org/pandas-docs/stable/user_guide/indexing.html#returning-a-view-versus-a-copy\n",
      "  matches[0]['count'] = 1\n",
      " 37%|████████████████████████████████████████████████▊                                                                                  | 38/102 [33:05<30:36, 28.70s/it]./code/Packets2TS.py:48: SettingWithCopyWarning: \n",
      "A value is trying to be set on a copy of a slice from a DataFrame.\n",
      "Try using .loc[row_indexer,col_indexer] = value instead\n",
      "\n",
      "See the caveats in the documentation: https://pandas.pydata.org/pandas-docs/stable/user_guide/indexing.html#returning-a-view-versus-a-copy\n",
      "  matches[0]['count'] = 1\n"
     ]
    },
    {
     "name": "stdout",
     "output_type": "stream",
     "text": [
      "No matches for 102.0.50.140 at ISP1\n",
      "No matches for 102.0.50.140 at ISP2\n",
      "No matches for 102.0.50.140 at ISP3\n",
      "No matches for 102.0.50.140 at ISP4\n",
      "No matches for 102.0.50.140 at ISP5\n"
     ]
    },
    {
     "name": "stderr",
     "output_type": "stream",
     "text": [
      "./code/Packets2TS.py:48: SettingWithCopyWarning: \n",
      "A value is trying to be set on a copy of a slice from a DataFrame.\n",
      "Try using .loc[row_indexer,col_indexer] = value instead\n",
      "\n",
      "See the caveats in the documentation: https://pandas.pydata.org/pandas-docs/stable/user_guide/indexing.html#returning-a-view-versus-a-copy\n",
      "  matches[0]['count'] = 1\n"
     ]
    },
    {
     "name": "stdout",
     "output_type": "stream",
     "text": [
      "No matches for 102.0.50.140 at ISP7\n",
      "No matches for 102.0.50.140 at ISP8\n",
      "No matches for 102.0.50.140 at ISP9\n",
      "No matches for 102.0.50.140 at ISP10\n",
      "No matches for 102.0.50.140 at root\n",
      "No matches for 102.0.50.140 at SLD\n",
      "No matches for 102.0.50.140 at TLD\n"
     ]
    },
    {
     "name": "stderr",
     "output_type": "stream",
     "text": [
      "./code/Packets2TS.py:48: SettingWithCopyWarning: \n",
      "A value is trying to be set on a copy of a slice from a DataFrame.\n",
      "Try using .loc[row_indexer,col_indexer] = value instead\n",
      "\n",
      "See the caveats in the documentation: https://pandas.pydata.org/pandas-docs/stable/user_guide/indexing.html#returning-a-view-versus-a-copy\n",
      "  matches[0]['count'] = 1\n",
      "./code/Packets2TS.py:48: SettingWithCopyWarning: \n",
      "A value is trying to be set on a copy of a slice from a DataFrame.\n",
      "Try using .loc[row_indexer,col_indexer] = value instead\n",
      "\n",
      "See the caveats in the documentation: https://pandas.pydata.org/pandas-docs/stable/user_guide/indexing.html#returning-a-view-versus-a-copy\n",
      "  matches[0]['count'] = 1\n",
      " 38%|██████████████████████████████████████████████████                                                                                 | 39/102 [33:34<30:03, 28.63s/it]./code/Packets2TS.py:48: SettingWithCopyWarning: \n",
      "A value is trying to be set on a copy of a slice from a DataFrame.\n",
      "Try using .loc[row_indexer,col_indexer] = value instead\n",
      "\n",
      "See the caveats in the documentation: https://pandas.pydata.org/pandas-docs/stable/user_guide/indexing.html#returning-a-view-versus-a-copy\n",
      "  matches[0]['count'] = 1\n"
     ]
    },
    {
     "name": "stdout",
     "output_type": "stream",
     "text": [
      "No matches for 102.0.90.144 at ISP1\n",
      "No matches for 102.0.90.144 at ISP2\n",
      "No matches for 102.0.90.144 at ISP3\n",
      "No matches for 102.0.90.144 at ISP4\n",
      "No matches for 102.0.90.144 at ISP5\n",
      "No matches for 102.0.90.144 at ISP6\n",
      "No matches for 102.0.90.144 at ISP7\n",
      "No matches for 102.0.90.144 at ISP8\n",
      "No matches for 102.0.90.144 at ISP9\n"
     ]
    },
    {
     "name": "stderr",
     "output_type": "stream",
     "text": [
      "./code/Packets2TS.py:48: SettingWithCopyWarning: \n",
      "A value is trying to be set on a copy of a slice from a DataFrame.\n",
      "Try using .loc[row_indexer,col_indexer] = value instead\n",
      "\n",
      "See the caveats in the documentation: https://pandas.pydata.org/pandas-docs/stable/user_guide/indexing.html#returning-a-view-versus-a-copy\n",
      "  matches[0]['count'] = 1\n"
     ]
    },
    {
     "name": "stdout",
     "output_type": "stream",
     "text": [
      "No matches for 102.0.90.144 at root\n",
      "No matches for 102.0.90.144 at SLD\n",
      "No matches for 102.0.90.144 at TLD\n"
     ]
    },
    {
     "name": "stderr",
     "output_type": "stream",
     "text": [
      "./code/Packets2TS.py:48: SettingWithCopyWarning: \n",
      "A value is trying to be set on a copy of a slice from a DataFrame.\n",
      "Try using .loc[row_indexer,col_indexer] = value instead\n",
      "\n",
      "See the caveats in the documentation: https://pandas.pydata.org/pandas-docs/stable/user_guide/indexing.html#returning-a-view-versus-a-copy\n",
      "  matches[0]['count'] = 1\n",
      "./code/Packets2TS.py:48: SettingWithCopyWarning: \n",
      "A value is trying to be set on a copy of a slice from a DataFrame.\n",
      "Try using .loc[row_indexer,col_indexer] = value instead\n",
      "\n",
      "See the caveats in the documentation: https://pandas.pydata.org/pandas-docs/stable/user_guide/indexing.html#returning-a-view-versus-a-copy\n",
      "  matches[0]['count'] = 1\n",
      " 39%|███████████████████████████████████████████████████▎                                                                               | 40/102 [34:02<29:24, 28.47s/it]./code/Packets2TS.py:48: SettingWithCopyWarning: \n",
      "A value is trying to be set on a copy of a slice from a DataFrame.\n",
      "Try using .loc[row_indexer,col_indexer] = value instead\n",
      "\n",
      "See the caveats in the documentation: https://pandas.pydata.org/pandas-docs/stable/user_guide/indexing.html#returning-a-view-versus-a-copy\n",
      "  matches[0]['count'] = 1\n"
     ]
    },
    {
     "name": "stdout",
     "output_type": "stream",
     "text": [
      "No matches for 102.0.60.131 at ISP1\n",
      "No matches for 102.0.60.131 at ISP2\n",
      "No matches for 102.0.60.131 at ISP3\n",
      "No matches for 102.0.60.131 at ISP4\n",
      "No matches for 102.0.60.131 at ISP5\n",
      "No matches for 102.0.60.131 at ISP6\n",
      "No matches for 102.0.60.131 at ISP8\n",
      "No matches for 102.0.60.131 at ISP9\n"
     ]
    },
    {
     "name": "stderr",
     "output_type": "stream",
     "text": [
      "./code/Packets2TS.py:48: SettingWithCopyWarning: \n",
      "A value is trying to be set on a copy of a slice from a DataFrame.\n",
      "Try using .loc[row_indexer,col_indexer] = value instead\n",
      "\n",
      "See the caveats in the documentation: https://pandas.pydata.org/pandas-docs/stable/user_guide/indexing.html#returning-a-view-versus-a-copy\n",
      "  matches[0]['count'] = 1\n"
     ]
    },
    {
     "name": "stdout",
     "output_type": "stream",
     "text": [
      "No matches for 102.0.60.131 at ISP10\n",
      "No matches for 102.0.60.131 at root\n",
      "No matches for 102.0.60.131 at SLD\n",
      "No matches for 102.0.60.131 at TLD\n"
     ]
    },
    {
     "name": "stderr",
     "output_type": "stream",
     "text": [
      "./code/Packets2TS.py:48: SettingWithCopyWarning: \n",
      "A value is trying to be set on a copy of a slice from a DataFrame.\n",
      "Try using .loc[row_indexer,col_indexer] = value instead\n",
      "\n",
      "See the caveats in the documentation: https://pandas.pydata.org/pandas-docs/stable/user_guide/indexing.html#returning-a-view-versus-a-copy\n",
      "  matches[0]['count'] = 1\n",
      "./code/Packets2TS.py:48: SettingWithCopyWarning: \n",
      "A value is trying to be set on a copy of a slice from a DataFrame.\n",
      "Try using .loc[row_indexer,col_indexer] = value instead\n",
      "\n",
      "See the caveats in the documentation: https://pandas.pydata.org/pandas-docs/stable/user_guide/indexing.html#returning-a-view-versus-a-copy\n",
      "  matches[0]['count'] = 1\n",
      " 40%|████████████████████████████████████████████████████▋                                                                              | 41/102 [34:30<28:57, 28.48s/it]./code/Packets2TS.py:48: SettingWithCopyWarning: \n",
      "A value is trying to be set on a copy of a slice from a DataFrame.\n",
      "Try using .loc[row_indexer,col_indexer] = value instead\n",
      "\n",
      "See the caveats in the documentation: https://pandas.pydata.org/pandas-docs/stable/user_guide/indexing.html#returning-a-view-versus-a-copy\n",
      "  matches[0]['count'] = 1\n",
      "./code/Packets2TS.py:48: SettingWithCopyWarning: \n",
      "A value is trying to be set on a copy of a slice from a DataFrame.\n",
      "Try using .loc[row_indexer,col_indexer] = value instead\n",
      "\n",
      "See the caveats in the documentation: https://pandas.pydata.org/pandas-docs/stable/user_guide/indexing.html#returning-a-view-versus-a-copy\n",
      "  matches[0]['count'] = 1\n"
     ]
    },
    {
     "name": "stdout",
     "output_type": "stream",
     "text": [
      "No matches for 102.0.10.86 at ISP1\n",
      "No matches for 102.0.10.86 at ISP3\n",
      "No matches for 102.0.10.86 at ISP4\n",
      "No matches for 102.0.10.86 at ISP5\n",
      "No matches for 102.0.10.86 at ISP6\n",
      "No matches for 102.0.10.86 at ISP7\n",
      "No matches for 102.0.10.86 at ISP8\n",
      "No matches for 102.0.10.86 at ISP9\n",
      "No matches for 102.0.10.86 at ISP10\n",
      "No matches for 102.0.10.86 at root\n",
      "No matches for 102.0.10.86 at SLD\n",
      "No matches for 102.0.10.86 at TLD\n"
     ]
    },
    {
     "name": "stderr",
     "output_type": "stream",
     "text": [
      "./code/Packets2TS.py:48: SettingWithCopyWarning: \n",
      "A value is trying to be set on a copy of a slice from a DataFrame.\n",
      "Try using .loc[row_indexer,col_indexer] = value instead\n",
      "\n",
      "See the caveats in the documentation: https://pandas.pydata.org/pandas-docs/stable/user_guide/indexing.html#returning-a-view-versus-a-copy\n",
      "  matches[0]['count'] = 1\n",
      "./code/Packets2TS.py:48: SettingWithCopyWarning: \n",
      "A value is trying to be set on a copy of a slice from a DataFrame.\n",
      "Try using .loc[row_indexer,col_indexer] = value instead\n",
      "\n",
      "See the caveats in the documentation: https://pandas.pydata.org/pandas-docs/stable/user_guide/indexing.html#returning-a-view-versus-a-copy\n",
      "  matches[0]['count'] = 1\n",
      " 41%|█████████████████████████████████████████████████████▉                                                                             | 42/102 [34:59<28:31, 28.52s/it]./code/Packets2TS.py:48: SettingWithCopyWarning: \n",
      "A value is trying to be set on a copy of a slice from a DataFrame.\n",
      "Try using .loc[row_indexer,col_indexer] = value instead\n",
      "\n",
      "See the caveats in the documentation: https://pandas.pydata.org/pandas-docs/stable/user_guide/indexing.html#returning-a-view-versus-a-copy\n",
      "  matches[0]['count'] = 1\n"
     ]
    },
    {
     "name": "stdout",
     "output_type": "stream",
     "text": [
      "No matches for 102.0.80.113 at ISP1\n",
      "No matches for 102.0.80.113 at ISP2\n",
      "No matches for 102.0.80.113 at ISP3\n",
      "No matches for 102.0.80.113 at ISP4\n",
      "No matches for 102.0.80.113 at ISP5\n",
      "No matches for 102.0.80.113 at ISP6\n",
      "No matches for 102.0.80.113 at ISP7\n",
      "No matches for 102.0.80.113 at ISP8\n"
     ]
    },
    {
     "name": "stderr",
     "output_type": "stream",
     "text": [
      "./code/Packets2TS.py:48: SettingWithCopyWarning: \n",
      "A value is trying to be set on a copy of a slice from a DataFrame.\n",
      "Try using .loc[row_indexer,col_indexer] = value instead\n",
      "\n",
      "See the caveats in the documentation: https://pandas.pydata.org/pandas-docs/stable/user_guide/indexing.html#returning-a-view-versus-a-copy\n",
      "  matches[0]['count'] = 1\n"
     ]
    },
    {
     "name": "stdout",
     "output_type": "stream",
     "text": [
      "No matches for 102.0.80.113 at ISP10\n",
      "No matches for 102.0.80.113 at root\n",
      "No matches for 102.0.80.113 at SLD\n",
      "No matches for 102.0.80.113 at TLD\n"
     ]
    },
    {
     "name": "stderr",
     "output_type": "stream",
     "text": [
      "./code/Packets2TS.py:48: SettingWithCopyWarning: \n",
      "A value is trying to be set on a copy of a slice from a DataFrame.\n",
      "Try using .loc[row_indexer,col_indexer] = value instead\n",
      "\n",
      "See the caveats in the documentation: https://pandas.pydata.org/pandas-docs/stable/user_guide/indexing.html#returning-a-view-versus-a-copy\n",
      "  matches[0]['count'] = 1\n",
      "./code/Packets2TS.py:48: SettingWithCopyWarning: \n",
      "A value is trying to be set on a copy of a slice from a DataFrame.\n",
      "Try using .loc[row_indexer,col_indexer] = value instead\n",
      "\n",
      "See the caveats in the documentation: https://pandas.pydata.org/pandas-docs/stable/user_guide/indexing.html#returning-a-view-versus-a-copy\n",
      "  matches[0]['count'] = 1\n",
      " 42%|███████████████████████████████████████████████████████▏                                                                           | 43/102 [35:27<27:54, 28.37s/it]./code/Packets2TS.py:48: SettingWithCopyWarning: \n",
      "A value is trying to be set on a copy of a slice from a DataFrame.\n",
      "Try using .loc[row_indexer,col_indexer] = value instead\n",
      "\n",
      "See the caveats in the documentation: https://pandas.pydata.org/pandas-docs/stable/user_guide/indexing.html#returning-a-view-versus-a-copy\n",
      "  matches[0]['count'] = 1\n"
     ]
    },
    {
     "name": "stdout",
     "output_type": "stream",
     "text": [
      "No matches for 102.0.90.194 at ISP1\n",
      "No matches for 102.0.90.194 at ISP2\n",
      "No matches for 102.0.90.194 at ISP3\n",
      "No matches for 102.0.90.194 at ISP4\n",
      "No matches for 102.0.90.194 at ISP5\n",
      "No matches for 102.0.90.194 at ISP6\n",
      "No matches for 102.0.90.194 at ISP7\n",
      "No matches for 102.0.90.194 at ISP8\n",
      "No matches for 102.0.90.194 at ISP9\n"
     ]
    },
    {
     "name": "stderr",
     "output_type": "stream",
     "text": [
      "./code/Packets2TS.py:48: SettingWithCopyWarning: \n",
      "A value is trying to be set on a copy of a slice from a DataFrame.\n",
      "Try using .loc[row_indexer,col_indexer] = value instead\n",
      "\n",
      "See the caveats in the documentation: https://pandas.pydata.org/pandas-docs/stable/user_guide/indexing.html#returning-a-view-versus-a-copy\n",
      "  matches[0]['count'] = 1\n"
     ]
    },
    {
     "name": "stdout",
     "output_type": "stream",
     "text": [
      "No matches for 102.0.90.194 at root\n",
      "No matches for 102.0.90.194 at SLD\n",
      "No matches for 102.0.90.194 at TLD\n"
     ]
    },
    {
     "name": "stderr",
     "output_type": "stream",
     "text": [
      "./code/Packets2TS.py:48: SettingWithCopyWarning: \n",
      "A value is trying to be set on a copy of a slice from a DataFrame.\n",
      "Try using .loc[row_indexer,col_indexer] = value instead\n",
      "\n",
      "See the caveats in the documentation: https://pandas.pydata.org/pandas-docs/stable/user_guide/indexing.html#returning-a-view-versus-a-copy\n",
      "  matches[0]['count'] = 1\n",
      "./code/Packets2TS.py:48: SettingWithCopyWarning: \n",
      "A value is trying to be set on a copy of a slice from a DataFrame.\n",
      "Try using .loc[row_indexer,col_indexer] = value instead\n",
      "\n",
      "See the caveats in the documentation: https://pandas.pydata.org/pandas-docs/stable/user_guide/indexing.html#returning-a-view-versus-a-copy\n",
      "  matches[0]['count'] = 1\n",
      " 43%|████████████████████████████████████████████████████████▌                                                                          | 44/102 [35:56<27:26, 28.39s/it]./code/Packets2TS.py:48: SettingWithCopyWarning: \n",
      "A value is trying to be set on a copy of a slice from a DataFrame.\n",
      "Try using .loc[row_indexer,col_indexer] = value instead\n",
      "\n",
      "See the caveats in the documentation: https://pandas.pydata.org/pandas-docs/stable/user_guide/indexing.html#returning-a-view-versus-a-copy\n",
      "  matches[0]['count'] = 1\n",
      "./code/Packets2TS.py:48: SettingWithCopyWarning: \n",
      "A value is trying to be set on a copy of a slice from a DataFrame.\n",
      "Try using .loc[row_indexer,col_indexer] = value instead\n",
      "\n",
      "See the caveats in the documentation: https://pandas.pydata.org/pandas-docs/stable/user_guide/indexing.html#returning-a-view-versus-a-copy\n",
      "  matches[0]['count'] = 1\n"
     ]
    },
    {
     "name": "stdout",
     "output_type": "stream",
     "text": [
      "No matches for 102.0.0.75 at ISP2\n",
      "No matches for 102.0.0.75 at ISP3\n",
      "No matches for 102.0.0.75 at ISP4\n",
      "No matches for 102.0.0.75 at ISP5\n",
      "No matches for 102.0.0.75 at ISP6\n",
      "No matches for 102.0.0.75 at ISP7\n",
      "No matches for 102.0.0.75 at ISP8\n",
      "No matches for 102.0.0.75 at ISP9\n",
      "No matches for 102.0.0.75 at ISP10\n",
      "No matches for 102.0.0.75 at root\n",
      "No matches for 102.0.0.75 at SLD\n",
      "No matches for 102.0.0.75 at TLD\n"
     ]
    },
    {
     "name": "stderr",
     "output_type": "stream",
     "text": [
      "./code/Packets2TS.py:48: SettingWithCopyWarning: \n",
      "A value is trying to be set on a copy of a slice from a DataFrame.\n",
      "Try using .loc[row_indexer,col_indexer] = value instead\n",
      "\n",
      "See the caveats in the documentation: https://pandas.pydata.org/pandas-docs/stable/user_guide/indexing.html#returning-a-view-versus-a-copy\n",
      "  matches[0]['count'] = 1\n",
      "./code/Packets2TS.py:48: SettingWithCopyWarning: \n",
      "A value is trying to be set on a copy of a slice from a DataFrame.\n",
      "Try using .loc[row_indexer,col_indexer] = value instead\n",
      "\n",
      "See the caveats in the documentation: https://pandas.pydata.org/pandas-docs/stable/user_guide/indexing.html#returning-a-view-versus-a-copy\n",
      "  matches[0]['count'] = 1\n",
      " 44%|█████████████████████████████████████████████████████████▊                                                                         | 45/102 [36:24<27:03, 28.49s/it]./code/Packets2TS.py:48: SettingWithCopyWarning: \n",
      "A value is trying to be set on a copy of a slice from a DataFrame.\n",
      "Try using .loc[row_indexer,col_indexer] = value instead\n",
      "\n",
      "See the caveats in the documentation: https://pandas.pydata.org/pandas-docs/stable/user_guide/indexing.html#returning-a-view-versus-a-copy\n",
      "  matches[0]['count'] = 1\n"
     ]
    },
    {
     "name": "stdout",
     "output_type": "stream",
     "text": [
      "No matches for 102.0.20.87 at ISP1\n",
      "No matches for 102.0.20.87 at ISP2\n",
      "No matches for 102.0.20.87 at ISP4\n"
     ]
    },
    {
     "name": "stderr",
     "output_type": "stream",
     "text": [
      "./code/Packets2TS.py:48: SettingWithCopyWarning: \n",
      "A value is trying to be set on a copy of a slice from a DataFrame.\n",
      "Try using .loc[row_indexer,col_indexer] = value instead\n",
      "\n",
      "See the caveats in the documentation: https://pandas.pydata.org/pandas-docs/stable/user_guide/indexing.html#returning-a-view-versus-a-copy\n",
      "  matches[0]['count'] = 1\n"
     ]
    },
    {
     "name": "stdout",
     "output_type": "stream",
     "text": [
      "No matches for 102.0.20.87 at ISP5\n",
      "No matches for 102.0.20.87 at ISP6\n",
      "No matches for 102.0.20.87 at ISP7\n",
      "No matches for 102.0.20.87 at ISP8\n",
      "No matches for 102.0.20.87 at ISP9\n",
      "No matches for 102.0.20.87 at ISP10\n",
      "No matches for 102.0.20.87 at root\n",
      "No matches for 102.0.20.87 at SLD\n",
      "No matches for 102.0.20.87 at TLD\n"
     ]
    },
    {
     "name": "stderr",
     "output_type": "stream",
     "text": [
      "./code/Packets2TS.py:48: SettingWithCopyWarning: \n",
      "A value is trying to be set on a copy of a slice from a DataFrame.\n",
      "Try using .loc[row_indexer,col_indexer] = value instead\n",
      "\n",
      "See the caveats in the documentation: https://pandas.pydata.org/pandas-docs/stable/user_guide/indexing.html#returning-a-view-versus-a-copy\n",
      "  matches[0]['count'] = 1\n",
      "./code/Packets2TS.py:48: SettingWithCopyWarning: \n",
      "A value is trying to be set on a copy of a slice from a DataFrame.\n",
      "Try using .loc[row_indexer,col_indexer] = value instead\n",
      "\n",
      "See the caveats in the documentation: https://pandas.pydata.org/pandas-docs/stable/user_guide/indexing.html#returning-a-view-versus-a-copy\n",
      "  matches[0]['count'] = 1\n",
      " 45%|███████████████████████████████████████████████████████████                                                                        | 46/102 [36:53<26:33, 28.45s/it]./code/Packets2TS.py:48: SettingWithCopyWarning: \n",
      "A value is trying to be set on a copy of a slice from a DataFrame.\n",
      "Try using .loc[row_indexer,col_indexer] = value instead\n",
      "\n",
      "See the caveats in the documentation: https://pandas.pydata.org/pandas-docs/stable/user_guide/indexing.html#returning-a-view-versus-a-copy\n",
      "  matches[0]['count'] = 1\n"
     ]
    },
    {
     "name": "stdout",
     "output_type": "stream",
     "text": [
      "No matches for 102.0.50.150 at ISP1\n",
      "No matches for 102.0.50.150 at ISP2\n",
      "No matches for 102.0.50.150 at ISP3\n",
      "No matches for 102.0.50.150 at ISP4\n",
      "No matches for 102.0.50.150 at ISP5\n"
     ]
    },
    {
     "name": "stderr",
     "output_type": "stream",
     "text": [
      "./code/Packets2TS.py:48: SettingWithCopyWarning: \n",
      "A value is trying to be set on a copy of a slice from a DataFrame.\n",
      "Try using .loc[row_indexer,col_indexer] = value instead\n",
      "\n",
      "See the caveats in the documentation: https://pandas.pydata.org/pandas-docs/stable/user_guide/indexing.html#returning-a-view-versus-a-copy\n",
      "  matches[0]['count'] = 1\n"
     ]
    },
    {
     "name": "stdout",
     "output_type": "stream",
     "text": [
      "No matches for 102.0.50.150 at ISP7\n",
      "No matches for 102.0.50.150 at ISP8\n",
      "No matches for 102.0.50.150 at ISP9\n",
      "No matches for 102.0.50.150 at ISP10\n",
      "No matches for 102.0.50.150 at root\n",
      "No matches for 102.0.50.150 at SLD\n",
      "No matches for 102.0.50.150 at TLD\n"
     ]
    },
    {
     "name": "stderr",
     "output_type": "stream",
     "text": [
      "./code/Packets2TS.py:48: SettingWithCopyWarning: \n",
      "A value is trying to be set on a copy of a slice from a DataFrame.\n",
      "Try using .loc[row_indexer,col_indexer] = value instead\n",
      "\n",
      "See the caveats in the documentation: https://pandas.pydata.org/pandas-docs/stable/user_guide/indexing.html#returning-a-view-versus-a-copy\n",
      "  matches[0]['count'] = 1\n",
      "./code/Packets2TS.py:48: SettingWithCopyWarning: \n",
      "A value is trying to be set on a copy of a slice from a DataFrame.\n",
      "Try using .loc[row_indexer,col_indexer] = value instead\n",
      "\n",
      "See the caveats in the documentation: https://pandas.pydata.org/pandas-docs/stable/user_guide/indexing.html#returning-a-view-versus-a-copy\n",
      "  matches[0]['count'] = 1\n",
      " 46%|████████████████████████████████████████████████████████████▎                                                                      | 47/102 [37:21<26:07, 28.51s/it]./code/Packets2TS.py:48: SettingWithCopyWarning: \n",
      "A value is trying to be set on a copy of a slice from a DataFrame.\n",
      "Try using .loc[row_indexer,col_indexer] = value instead\n",
      "\n",
      "See the caveats in the documentation: https://pandas.pydata.org/pandas-docs/stable/user_guide/indexing.html#returning-a-view-versus-a-copy\n",
      "  matches[0]['count'] = 1\n"
     ]
    },
    {
     "name": "stdout",
     "output_type": "stream",
     "text": [
      "No matches for 102.0.20.57 at ISP1\n",
      "No matches for 102.0.20.57 at ISP2\n",
      "No matches for 102.0.20.57 at ISP4\n"
     ]
    },
    {
     "name": "stderr",
     "output_type": "stream",
     "text": [
      "./code/Packets2TS.py:48: SettingWithCopyWarning: \n",
      "A value is trying to be set on a copy of a slice from a DataFrame.\n",
      "Try using .loc[row_indexer,col_indexer] = value instead\n",
      "\n",
      "See the caveats in the documentation: https://pandas.pydata.org/pandas-docs/stable/user_guide/indexing.html#returning-a-view-versus-a-copy\n",
      "  matches[0]['count'] = 1\n"
     ]
    },
    {
     "name": "stdout",
     "output_type": "stream",
     "text": [
      "No matches for 102.0.20.57 at ISP5\n",
      "No matches for 102.0.20.57 at ISP6\n",
      "No matches for 102.0.20.57 at ISP7\n",
      "No matches for 102.0.20.57 at ISP8\n",
      "No matches for 102.0.20.57 at ISP9\n",
      "No matches for 102.0.20.57 at ISP10\n",
      "No matches for 102.0.20.57 at root\n",
      "No matches for 102.0.20.57 at SLD\n",
      "No matches for 102.0.20.57 at TLD\n"
     ]
    },
    {
     "name": "stderr",
     "output_type": "stream",
     "text": [
      "./code/Packets2TS.py:48: SettingWithCopyWarning: \n",
      "A value is trying to be set on a copy of a slice from a DataFrame.\n",
      "Try using .loc[row_indexer,col_indexer] = value instead\n",
      "\n",
      "See the caveats in the documentation: https://pandas.pydata.org/pandas-docs/stable/user_guide/indexing.html#returning-a-view-versus-a-copy\n",
      "  matches[0]['count'] = 1\n",
      "./code/Packets2TS.py:48: SettingWithCopyWarning: \n",
      "A value is trying to be set on a copy of a slice from a DataFrame.\n",
      "Try using .loc[row_indexer,col_indexer] = value instead\n",
      "\n",
      "See the caveats in the documentation: https://pandas.pydata.org/pandas-docs/stable/user_guide/indexing.html#returning-a-view-versus-a-copy\n",
      "  matches[0]['count'] = 1\n",
      " 47%|█████████████████████████████████████████████████████████████▋                                                                     | 48/102 [37:50<25:41, 28.54s/it]./code/Packets2TS.py:48: SettingWithCopyWarning: \n",
      "A value is trying to be set on a copy of a slice from a DataFrame.\n",
      "Try using .loc[row_indexer,col_indexer] = value instead\n",
      "\n",
      "See the caveats in the documentation: https://pandas.pydata.org/pandas-docs/stable/user_guide/indexing.html#returning-a-view-versus-a-copy\n",
      "  matches[0]['count'] = 1\n"
     ]
    },
    {
     "name": "stdout",
     "output_type": "stream",
     "text": [
      "No matches for 102.0.60.81 at ISP1\n",
      "No matches for 102.0.60.81 at ISP2\n",
      "No matches for 102.0.60.81 at ISP3\n",
      "No matches for 102.0.60.81 at ISP4\n",
      "No matches for 102.0.60.81 at ISP5\n",
      "No matches for 102.0.60.81 at ISP6\n",
      "No matches for 102.0.60.81 at ISP8\n",
      "No matches for 102.0.60.81 at ISP9\n"
     ]
    },
    {
     "name": "stderr",
     "output_type": "stream",
     "text": [
      "./code/Packets2TS.py:48: SettingWithCopyWarning: \n",
      "A value is trying to be set on a copy of a slice from a DataFrame.\n",
      "Try using .loc[row_indexer,col_indexer] = value instead\n",
      "\n",
      "See the caveats in the documentation: https://pandas.pydata.org/pandas-docs/stable/user_guide/indexing.html#returning-a-view-versus-a-copy\n",
      "  matches[0]['count'] = 1\n"
     ]
    },
    {
     "name": "stdout",
     "output_type": "stream",
     "text": [
      "No matches for 102.0.60.81 at ISP10\n",
      "No matches for 102.0.60.81 at root\n",
      "No matches for 102.0.60.81 at SLD\n",
      "No matches for 102.0.60.81 at TLD\n"
     ]
    },
    {
     "name": "stderr",
     "output_type": "stream",
     "text": [
      "./code/Packets2TS.py:48: SettingWithCopyWarning: \n",
      "A value is trying to be set on a copy of a slice from a DataFrame.\n",
      "Try using .loc[row_indexer,col_indexer] = value instead\n",
      "\n",
      "See the caveats in the documentation: https://pandas.pydata.org/pandas-docs/stable/user_guide/indexing.html#returning-a-view-versus-a-copy\n",
      "  matches[0]['count'] = 1\n",
      "./code/Packets2TS.py:48: SettingWithCopyWarning: \n",
      "A value is trying to be set on a copy of a slice from a DataFrame.\n",
      "Try using .loc[row_indexer,col_indexer] = value instead\n",
      "\n",
      "See the caveats in the documentation: https://pandas.pydata.org/pandas-docs/stable/user_guide/indexing.html#returning-a-view-versus-a-copy\n",
      "  matches[0]['count'] = 1\n",
      " 48%|██████████████████████████████████████████████████████████████▉                                                                    | 49/102 [38:18<25:13, 28.56s/it]./code/Packets2TS.py:48: SettingWithCopyWarning: \n",
      "A value is trying to be set on a copy of a slice from a DataFrame.\n",
      "Try using .loc[row_indexer,col_indexer] = value instead\n",
      "\n",
      "See the caveats in the documentation: https://pandas.pydata.org/pandas-docs/stable/user_guide/indexing.html#returning-a-view-versus-a-copy\n",
      "  matches[0]['count'] = 1\n"
     ]
    },
    {
     "name": "stdout",
     "output_type": "stream",
     "text": [
      "No matches for 102.0.50.100 at ISP1\n",
      "No matches for 102.0.50.100 at ISP2\n",
      "No matches for 102.0.50.100 at ISP3\n",
      "No matches for 102.0.50.100 at ISP4\n",
      "No matches for 102.0.50.100 at ISP5\n"
     ]
    },
    {
     "name": "stderr",
     "output_type": "stream",
     "text": [
      "./code/Packets2TS.py:48: SettingWithCopyWarning: \n",
      "A value is trying to be set on a copy of a slice from a DataFrame.\n",
      "Try using .loc[row_indexer,col_indexer] = value instead\n",
      "\n",
      "See the caveats in the documentation: https://pandas.pydata.org/pandas-docs/stable/user_guide/indexing.html#returning-a-view-versus-a-copy\n",
      "  matches[0]['count'] = 1\n"
     ]
    },
    {
     "name": "stdout",
     "output_type": "stream",
     "text": [
      "No matches for 102.0.50.100 at ISP7\n",
      "No matches for 102.0.50.100 at ISP8\n",
      "No matches for 102.0.50.100 at ISP9\n",
      "No matches for 102.0.50.100 at ISP10\n",
      "No matches for 102.0.50.100 at root\n",
      "No matches for 102.0.50.100 at SLD\n",
      "No matches for 102.0.50.100 at TLD\n"
     ]
    },
    {
     "name": "stderr",
     "output_type": "stream",
     "text": [
      "./code/Packets2TS.py:48: SettingWithCopyWarning: \n",
      "A value is trying to be set on a copy of a slice from a DataFrame.\n",
      "Try using .loc[row_indexer,col_indexer] = value instead\n",
      "\n",
      "See the caveats in the documentation: https://pandas.pydata.org/pandas-docs/stable/user_guide/indexing.html#returning-a-view-versus-a-copy\n",
      "  matches[0]['count'] = 1\n",
      "./code/Packets2TS.py:48: SettingWithCopyWarning: \n",
      "A value is trying to be set on a copy of a slice from a DataFrame.\n",
      "Try using .loc[row_indexer,col_indexer] = value instead\n",
      "\n",
      "See the caveats in the documentation: https://pandas.pydata.org/pandas-docs/stable/user_guide/indexing.html#returning-a-view-versus-a-copy\n",
      "  matches[0]['count'] = 1\n",
      " 49%|████████████████████████████████████████████████████████████████▏                                                                  | 50/102 [38:47<24:52, 28.69s/it]./code/Packets2TS.py:48: SettingWithCopyWarning: \n",
      "A value is trying to be set on a copy of a slice from a DataFrame.\n",
      "Try using .loc[row_indexer,col_indexer] = value instead\n",
      "\n",
      "See the caveats in the documentation: https://pandas.pydata.org/pandas-docs/stable/user_guide/indexing.html#returning-a-view-versus-a-copy\n",
      "  matches[0]['count'] = 1\n",
      "./code/Packets2TS.py:48: SettingWithCopyWarning: \n",
      "A value is trying to be set on a copy of a slice from a DataFrame.\n",
      "Try using .loc[row_indexer,col_indexer] = value instead\n",
      "\n",
      "See the caveats in the documentation: https://pandas.pydata.org/pandas-docs/stable/user_guide/indexing.html#returning-a-view-versus-a-copy\n",
      "  matches[0]['count'] = 1\n"
     ]
    },
    {
     "name": "stdout",
     "output_type": "stream",
     "text": [
      "No matches for 102.0.10.36 at ISP1\n",
      "No matches for 102.0.10.36 at ISP3\n",
      "No matches for 102.0.10.36 at ISP4\n",
      "No matches for 102.0.10.36 at ISP5\n",
      "No matches for 102.0.10.36 at ISP6\n",
      "No matches for 102.0.10.36 at ISP7\n",
      "No matches for 102.0.10.36 at ISP8\n",
      "No matches for 102.0.10.36 at ISP9\n",
      "No matches for 102.0.10.36 at ISP10\n",
      "No matches for 102.0.10.36 at root\n",
      "No matches for 102.0.10.36 at SLD\n",
      "No matches for 102.0.10.36 at TLD\n"
     ]
    },
    {
     "name": "stderr",
     "output_type": "stream",
     "text": [
      "./code/Packets2TS.py:48: SettingWithCopyWarning: \n",
      "A value is trying to be set on a copy of a slice from a DataFrame.\n",
      "Try using .loc[row_indexer,col_indexer] = value instead\n",
      "\n",
      "See the caveats in the documentation: https://pandas.pydata.org/pandas-docs/stable/user_guide/indexing.html#returning-a-view-versus-a-copy\n",
      "  matches[0]['count'] = 1\n",
      "./code/Packets2TS.py:48: SettingWithCopyWarning: \n",
      "A value is trying to be set on a copy of a slice from a DataFrame.\n",
      "Try using .loc[row_indexer,col_indexer] = value instead\n",
      "\n",
      "See the caveats in the documentation: https://pandas.pydata.org/pandas-docs/stable/user_guide/indexing.html#returning-a-view-versus-a-copy\n",
      "  matches[0]['count'] = 1\n",
      " 50%|█████████████████████████████████████████████████████████████████▌                                                                 | 51/102 [39:16<24:15, 28.54s/it]./code/Packets2TS.py:48: SettingWithCopyWarning: \n",
      "A value is trying to be set on a copy of a slice from a DataFrame.\n",
      "Try using .loc[row_indexer,col_indexer] = value instead\n",
      "\n",
      "See the caveats in the documentation: https://pandas.pydata.org/pandas-docs/stable/user_guide/indexing.html#returning-a-view-versus-a-copy\n",
      "  matches[0]['count'] = 1\n"
     ]
    },
    {
     "name": "stdout",
     "output_type": "stream",
     "text": [
      "No matches for 102.0.20.27 at ISP1\n",
      "No matches for 102.0.20.27 at ISP2\n",
      "No matches for 102.0.20.27 at ISP4\n"
     ]
    },
    {
     "name": "stderr",
     "output_type": "stream",
     "text": [
      "./code/Packets2TS.py:48: SettingWithCopyWarning: \n",
      "A value is trying to be set on a copy of a slice from a DataFrame.\n",
      "Try using .loc[row_indexer,col_indexer] = value instead\n",
      "\n",
      "See the caveats in the documentation: https://pandas.pydata.org/pandas-docs/stable/user_guide/indexing.html#returning-a-view-versus-a-copy\n",
      "  matches[0]['count'] = 1\n"
     ]
    },
    {
     "name": "stdout",
     "output_type": "stream",
     "text": [
      "No matches for 102.0.20.27 at ISP5\n",
      "No matches for 102.0.20.27 at ISP6\n",
      "No matches for 102.0.20.27 at ISP7\n",
      "No matches for 102.0.20.27 at ISP8\n",
      "No matches for 102.0.20.27 at ISP9\n",
      "No matches for 102.0.20.27 at ISP10\n",
      "No matches for 102.0.20.27 at root\n",
      "No matches for 102.0.20.27 at SLD\n",
      "No matches for 102.0.20.27 at TLD\n"
     ]
    },
    {
     "name": "stderr",
     "output_type": "stream",
     "text": [
      "./code/Packets2TS.py:48: SettingWithCopyWarning: \n",
      "A value is trying to be set on a copy of a slice from a DataFrame.\n",
      "Try using .loc[row_indexer,col_indexer] = value instead\n",
      "\n",
      "See the caveats in the documentation: https://pandas.pydata.org/pandas-docs/stable/user_guide/indexing.html#returning-a-view-versus-a-copy\n",
      "  matches[0]['count'] = 1\n",
      "./code/Packets2TS.py:48: SettingWithCopyWarning: \n",
      "A value is trying to be set on a copy of a slice from a DataFrame.\n",
      "Try using .loc[row_indexer,col_indexer] = value instead\n",
      "\n",
      "See the caveats in the documentation: https://pandas.pydata.org/pandas-docs/stable/user_guide/indexing.html#returning-a-view-versus-a-copy\n",
      "  matches[0]['count'] = 1\n",
      " 51%|██████████████████████████████████████████████████████████████████▊                                                                | 52/102 [39:44<23:50, 28.61s/it]./code/Packets2TS.py:48: SettingWithCopyWarning: \n",
      "A value is trying to be set on a copy of a slice from a DataFrame.\n",
      "Try using .loc[row_indexer,col_indexer] = value instead\n",
      "\n",
      "See the caveats in the documentation: https://pandas.pydata.org/pandas-docs/stable/user_guide/indexing.html#returning-a-view-versus-a-copy\n",
      "  matches[0]['count'] = 1\n"
     ]
    },
    {
     "name": "stdout",
     "output_type": "stream",
     "text": [
      "No matches for 102.0.30.48 at ISP1\n",
      "No matches for 102.0.30.48 at ISP2\n",
      "No matches for 102.0.30.48 at ISP3\n"
     ]
    },
    {
     "name": "stderr",
     "output_type": "stream",
     "text": [
      "./code/Packets2TS.py:48: SettingWithCopyWarning: \n",
      "A value is trying to be set on a copy of a slice from a DataFrame.\n",
      "Try using .loc[row_indexer,col_indexer] = value instead\n",
      "\n",
      "See the caveats in the documentation: https://pandas.pydata.org/pandas-docs/stable/user_guide/indexing.html#returning-a-view-versus-a-copy\n",
      "  matches[0]['count'] = 1\n"
     ]
    },
    {
     "name": "stdout",
     "output_type": "stream",
     "text": [
      "No matches for 102.0.30.48 at ISP5\n",
      "No matches for 102.0.30.48 at ISP6\n",
      "No matches for 102.0.30.48 at ISP7\n",
      "No matches for 102.0.30.48 at ISP8\n",
      "No matches for 102.0.30.48 at ISP9\n",
      "No matches for 102.0.30.48 at ISP10\n",
      "No matches for 102.0.30.48 at root\n",
      "No matches for 102.0.30.48 at SLD\n",
      "No matches for 102.0.30.48 at TLD\n"
     ]
    },
    {
     "name": "stderr",
     "output_type": "stream",
     "text": [
      "./code/Packets2TS.py:48: SettingWithCopyWarning: \n",
      "A value is trying to be set on a copy of a slice from a DataFrame.\n",
      "Try using .loc[row_indexer,col_indexer] = value instead\n",
      "\n",
      "See the caveats in the documentation: https://pandas.pydata.org/pandas-docs/stable/user_guide/indexing.html#returning-a-view-versus-a-copy\n",
      "  matches[0]['count'] = 1\n",
      "./code/Packets2TS.py:48: SettingWithCopyWarning: \n",
      "A value is trying to be set on a copy of a slice from a DataFrame.\n",
      "Try using .loc[row_indexer,col_indexer] = value instead\n",
      "\n",
      "See the caveats in the documentation: https://pandas.pydata.org/pandas-docs/stable/user_guide/indexing.html#returning-a-view-versus-a-copy\n",
      "  matches[0]['count'] = 1\n",
      " 52%|████████████████████████████████████████████████████████████████████                                                               | 53/102 [40:13<23:16, 28.49s/it]./code/Packets2TS.py:48: SettingWithCopyWarning: \n",
      "A value is trying to be set on a copy of a slice from a DataFrame.\n",
      "Try using .loc[row_indexer,col_indexer] = value instead\n",
      "\n",
      "See the caveats in the documentation: https://pandas.pydata.org/pandas-docs/stable/user_guide/indexing.html#returning-a-view-versus-a-copy\n",
      "  matches[0]['count'] = 1\n"
     ]
    },
    {
     "name": "stdout",
     "output_type": "stream",
     "text": [
      "No matches for 102.0.40.99 at ISP1\n",
      "No matches for 102.0.40.99 at ISP2\n",
      "No matches for 102.0.40.99 at ISP3\n",
      "No matches for 102.0.40.99 at ISP4\n"
     ]
    },
    {
     "name": "stderr",
     "output_type": "stream",
     "text": [
      "./code/Packets2TS.py:48: SettingWithCopyWarning: \n",
      "A value is trying to be set on a copy of a slice from a DataFrame.\n",
      "Try using .loc[row_indexer,col_indexer] = value instead\n",
      "\n",
      "See the caveats in the documentation: https://pandas.pydata.org/pandas-docs/stable/user_guide/indexing.html#returning-a-view-versus-a-copy\n",
      "  matches[0]['count'] = 1\n"
     ]
    },
    {
     "name": "stdout",
     "output_type": "stream",
     "text": [
      "No matches for 102.0.40.99 at ISP6\n",
      "No matches for 102.0.40.99 at ISP7\n",
      "No matches for 102.0.40.99 at ISP8\n",
      "No matches for 102.0.40.99 at ISP9\n",
      "No matches for 102.0.40.99 at ISP10\n",
      "No matches for 102.0.40.99 at root\n",
      "No matches for 102.0.40.99 at SLD\n",
      "No matches for 102.0.40.99 at TLD\n"
     ]
    },
    {
     "name": "stderr",
     "output_type": "stream",
     "text": [
      "./code/Packets2TS.py:48: SettingWithCopyWarning: \n",
      "A value is trying to be set on a copy of a slice from a DataFrame.\n",
      "Try using .loc[row_indexer,col_indexer] = value instead\n",
      "\n",
      "See the caveats in the documentation: https://pandas.pydata.org/pandas-docs/stable/user_guide/indexing.html#returning-a-view-versus-a-copy\n",
      "  matches[0]['count'] = 1\n",
      "./code/Packets2TS.py:48: SettingWithCopyWarning: \n",
      "A value is trying to be set on a copy of a slice from a DataFrame.\n",
      "Try using .loc[row_indexer,col_indexer] = value instead\n",
      "\n",
      "See the caveats in the documentation: https://pandas.pydata.org/pandas-docs/stable/user_guide/indexing.html#returning-a-view-versus-a-copy\n",
      "  matches[0]['count'] = 1\n",
      " 53%|█████████████████████████████████████████████████████████████████████▎                                                             | 54/102 [40:41<22:42, 28.38s/it]./code/Packets2TS.py:48: SettingWithCopyWarning: \n",
      "A value is trying to be set on a copy of a slice from a DataFrame.\n",
      "Try using .loc[row_indexer,col_indexer] = value instead\n",
      "\n",
      "See the caveats in the documentation: https://pandas.pydata.org/pandas-docs/stable/user_guide/indexing.html#returning-a-view-versus-a-copy\n",
      "  matches[0]['count'] = 1\n",
      "./code/Packets2TS.py:48: SettingWithCopyWarning: \n",
      "A value is trying to be set on a copy of a slice from a DataFrame.\n",
      "Try using .loc[row_indexer,col_indexer] = value instead\n",
      "\n",
      "See the caveats in the documentation: https://pandas.pydata.org/pandas-docs/stable/user_guide/indexing.html#returning-a-view-versus-a-copy\n",
      "  matches[0]['count'] = 1\n"
     ]
    },
    {
     "name": "stdout",
     "output_type": "stream",
     "text": [
      "No matches for 102.0.10.106 at ISP1\n",
      "No matches for 102.0.10.106 at ISP3\n",
      "No matches for 102.0.10.106 at ISP4\n",
      "No matches for 102.0.10.106 at ISP5\n",
      "No matches for 102.0.10.106 at ISP6\n",
      "No matches for 102.0.10.106 at ISP7\n",
      "No matches for 102.0.10.106 at ISP8\n",
      "No matches for 102.0.10.106 at ISP9\n",
      "No matches for 102.0.10.106 at ISP10\n",
      "No matches for 102.0.10.106 at root\n",
      "No matches for 102.0.10.106 at SLD\n",
      "No matches for 102.0.10.106 at TLD\n"
     ]
    },
    {
     "name": "stderr",
     "output_type": "stream",
     "text": [
      "./code/Packets2TS.py:48: SettingWithCopyWarning: \n",
      "A value is trying to be set on a copy of a slice from a DataFrame.\n",
      "Try using .loc[row_indexer,col_indexer] = value instead\n",
      "\n",
      "See the caveats in the documentation: https://pandas.pydata.org/pandas-docs/stable/user_guide/indexing.html#returning-a-view-versus-a-copy\n",
      "  matches[0]['count'] = 1\n",
      "./code/Packets2TS.py:48: SettingWithCopyWarning: \n",
      "A value is trying to be set on a copy of a slice from a DataFrame.\n",
      "Try using .loc[row_indexer,col_indexer] = value instead\n",
      "\n",
      "See the caveats in the documentation: https://pandas.pydata.org/pandas-docs/stable/user_guide/indexing.html#returning-a-view-versus-a-copy\n",
      "  matches[0]['count'] = 1\n",
      " 54%|██████████████████████████████████████████████████████████████████████▋                                                            | 55/102 [41:09<22:15, 28.41s/it]./code/Packets2TS.py:48: SettingWithCopyWarning: \n",
      "A value is trying to be set on a copy of a slice from a DataFrame.\n",
      "Try using .loc[row_indexer,col_indexer] = value instead\n",
      "\n",
      "See the caveats in the documentation: https://pandas.pydata.org/pandas-docs/stable/user_guide/indexing.html#returning-a-view-versus-a-copy\n",
      "  matches[0]['count'] = 1\n"
     ]
    },
    {
     "name": "stdout",
     "output_type": "stream",
     "text": [
      "No matches for 102.0.40.119 at ISP1\n",
      "No matches for 102.0.40.119 at ISP2\n",
      "No matches for 102.0.40.119 at ISP3\n",
      "No matches for 102.0.40.119 at ISP4\n"
     ]
    },
    {
     "name": "stderr",
     "output_type": "stream",
     "text": [
      "./code/Packets2TS.py:48: SettingWithCopyWarning: \n",
      "A value is trying to be set on a copy of a slice from a DataFrame.\n",
      "Try using .loc[row_indexer,col_indexer] = value instead\n",
      "\n",
      "See the caveats in the documentation: https://pandas.pydata.org/pandas-docs/stable/user_guide/indexing.html#returning-a-view-versus-a-copy\n",
      "  matches[0]['count'] = 1\n"
     ]
    },
    {
     "name": "stdout",
     "output_type": "stream",
     "text": [
      "No matches for 102.0.40.119 at ISP6\n",
      "No matches for 102.0.40.119 at ISP7\n",
      "No matches for 102.0.40.119 at ISP8\n",
      "No matches for 102.0.40.119 at ISP9\n",
      "No matches for 102.0.40.119 at ISP10\n",
      "No matches for 102.0.40.119 at root\n",
      "No matches for 102.0.40.119 at SLD\n",
      "No matches for 102.0.40.119 at TLD\n"
     ]
    },
    {
     "name": "stderr",
     "output_type": "stream",
     "text": [
      "./code/Packets2TS.py:48: SettingWithCopyWarning: \n",
      "A value is trying to be set on a copy of a slice from a DataFrame.\n",
      "Try using .loc[row_indexer,col_indexer] = value instead\n",
      "\n",
      "See the caveats in the documentation: https://pandas.pydata.org/pandas-docs/stable/user_guide/indexing.html#returning-a-view-versus-a-copy\n",
      "  matches[0]['count'] = 1\n",
      "./code/Packets2TS.py:48: SettingWithCopyWarning: \n",
      "A value is trying to be set on a copy of a slice from a DataFrame.\n",
      "Try using .loc[row_indexer,col_indexer] = value instead\n",
      "\n",
      "See the caveats in the documentation: https://pandas.pydata.org/pandas-docs/stable/user_guide/indexing.html#returning-a-view-versus-a-copy\n",
      "  matches[0]['count'] = 1\n",
      " 55%|███████████████████████████████████████████████████████████████████████▉                                                           | 56/102 [41:38<21:44, 28.36s/it]./code/Packets2TS.py:48: SettingWithCopyWarning: \n",
      "A value is trying to be set on a copy of a slice from a DataFrame.\n",
      "Try using .loc[row_indexer,col_indexer] = value instead\n",
      "\n",
      "See the caveats in the documentation: https://pandas.pydata.org/pandas-docs/stable/user_guide/indexing.html#returning-a-view-versus-a-copy\n",
      "  matches[0]['count'] = 1\n",
      "./code/Packets2TS.py:48: SettingWithCopyWarning: \n",
      "A value is trying to be set on a copy of a slice from a DataFrame.\n",
      "Try using .loc[row_indexer,col_indexer] = value instead\n",
      "\n",
      "See the caveats in the documentation: https://pandas.pydata.org/pandas-docs/stable/user_guide/indexing.html#returning-a-view-versus-a-copy\n",
      "  matches[0]['count'] = 1\n",
      "./code/Packets2TS.py:48: SettingWithCopyWarning: \n",
      "A value is trying to be set on a copy of a slice from a DataFrame.\n",
      "Try using .loc[row_indexer,col_indexer] = value instead\n",
      "\n",
      "See the caveats in the documentation: https://pandas.pydata.org/pandas-docs/stable/user_guide/indexing.html#returning-a-view-versus-a-copy\n",
      "  matches[0]['count'] = 1\n",
      "./code/Packets2TS.py:48: SettingWithCopyWarning: \n",
      "A value is trying to be set on a copy of a slice from a DataFrame.\n",
      "Try using .loc[row_indexer,col_indexer] = value instead\n",
      "\n",
      "See the caveats in the documentation: https://pandas.pydata.org/pandas-docs/stable/user_guide/indexing.html#returning-a-view-versus-a-copy\n",
      "  matches[0]['count'] = 1\n",
      "./code/Packets2TS.py:48: SettingWithCopyWarning: \n",
      "A value is trying to be set on a copy of a slice from a DataFrame.\n",
      "Try using .loc[row_indexer,col_indexer] = value instead\n",
      "\n",
      "See the caveats in the documentation: https://pandas.pydata.org/pandas-docs/stable/user_guide/indexing.html#returning-a-view-versus-a-copy\n",
      "  matches[0]['count'] = 1\n",
      "./code/Packets2TS.py:48: SettingWithCopyWarning: \n",
      "A value is trying to be set on a copy of a slice from a DataFrame.\n",
      "Try using .loc[row_indexer,col_indexer] = value instead\n",
      "\n",
      "See the caveats in the documentation: https://pandas.pydata.org/pandas-docs/stable/user_guide/indexing.html#returning-a-view-versus-a-copy\n",
      "  matches[0]['count'] = 1\n",
      "./code/Packets2TS.py:48: SettingWithCopyWarning: \n",
      "A value is trying to be set on a copy of a slice from a DataFrame.\n",
      "Try using .loc[row_indexer,col_indexer] = value instead\n",
      "\n",
      "See the caveats in the documentation: https://pandas.pydata.org/pandas-docs/stable/user_guide/indexing.html#returning-a-view-versus-a-copy\n",
      "  matches[0]['count'] = 1\n",
      "./code/Packets2TS.py:48: SettingWithCopyWarning: \n",
      "A value is trying to be set on a copy of a slice from a DataFrame.\n",
      "Try using .loc[row_indexer,col_indexer] = value instead\n",
      "\n",
      "See the caveats in the documentation: https://pandas.pydata.org/pandas-docs/stable/user_guide/indexing.html#returning-a-view-versus-a-copy\n",
      "  matches[0]['count'] = 1\n",
      "./code/Packets2TS.py:48: SettingWithCopyWarning: \n",
      "A value is trying to be set on a copy of a slice from a DataFrame.\n",
      "Try using .loc[row_indexer,col_indexer] = value instead\n",
      "\n",
      "See the caveats in the documentation: https://pandas.pydata.org/pandas-docs/stable/user_guide/indexing.html#returning-a-view-versus-a-copy\n",
      "  matches[0]['count'] = 1\n",
      "./code/Packets2TS.py:48: SettingWithCopyWarning: \n",
      "A value is trying to be set on a copy of a slice from a DataFrame.\n",
      "Try using .loc[row_indexer,col_indexer] = value instead\n",
      "\n",
      "See the caveats in the documentation: https://pandas.pydata.org/pandas-docs/stable/user_guide/indexing.html#returning-a-view-versus-a-copy\n",
      "  matches[0]['count'] = 1\n",
      "./code/Packets2TS.py:48: SettingWithCopyWarning: \n",
      "A value is trying to be set on a copy of a slice from a DataFrame.\n",
      "Try using .loc[row_indexer,col_indexer] = value instead\n",
      "\n",
      "See the caveats in the documentation: https://pandas.pydata.org/pandas-docs/stable/user_guide/indexing.html#returning-a-view-versus-a-copy\n",
      "  matches[0]['count'] = 1\n"
     ]
    },
    {
     "name": "stdout",
     "output_type": "stream",
     "text": [
      "No matches for 101.0.0.10 at resolver\n",
      "No matches for 101.0.0.10 at root\n",
      "No matches for 101.0.0.10 at SLD\n",
      "No matches for 101.0.0.10 at TLD\n"
     ]
    },
    {
     "name": "stderr",
     "output_type": "stream",
     "text": [
      "./code/Packets2TS.py:48: SettingWithCopyWarning: \n",
      "A value is trying to be set on a copy of a slice from a DataFrame.\n",
      "Try using .loc[row_indexer,col_indexer] = value instead\n",
      "\n",
      "See the caveats in the documentation: https://pandas.pydata.org/pandas-docs/stable/user_guide/indexing.html#returning-a-view-versus-a-copy\n",
      "  matches[0]['count'] = 1\n",
      "./code/Packets2TS.py:48: SettingWithCopyWarning: \n",
      "A value is trying to be set on a copy of a slice from a DataFrame.\n",
      "Try using .loc[row_indexer,col_indexer] = value instead\n",
      "\n",
      "See the caveats in the documentation: https://pandas.pydata.org/pandas-docs/stable/user_guide/indexing.html#returning-a-view-versus-a-copy\n",
      "  matches[0]['count'] = 1\n",
      "./code/Packets2TS.py:75: PerformanceWarning: DataFrame is highly fragmented.  This is usually the result of calling `frame.insert` many times, which has poor performance.  Consider joining all columns at once using pd.concat(axis=1) instead. To get a de-fragmented frame, use `newframe = frame.copy()`\n",
      "  flows_ip[ip]['frame.time'] = flows_ip[ip].index\n",
      " 56%|█████████████████████████████████████████████████████████████████████████▏                                                         | 57/102 [42:09<21:58, 29.29s/it]./code/Packets2TS.py:48: SettingWithCopyWarning: \n",
      "A value is trying to be set on a copy of a slice from a DataFrame.\n",
      "Try using .loc[row_indexer,col_indexer] = value instead\n",
      "\n",
      "See the caveats in the documentation: https://pandas.pydata.org/pandas-docs/stable/user_guide/indexing.html#returning-a-view-versus-a-copy\n",
      "  matches[0]['count'] = 1\n"
     ]
    },
    {
     "name": "stdout",
     "output_type": "stream",
     "text": [
      "No matches for 102.0.70.112 at ISP1\n",
      "No matches for 102.0.70.112 at ISP2\n",
      "No matches for 102.0.70.112 at ISP3\n",
      "No matches for 102.0.70.112 at ISP4\n",
      "No matches for 102.0.70.112 at ISP5\n",
      "No matches for 102.0.70.112 at ISP6\n",
      "No matches for 102.0.70.112 at ISP7\n",
      "No matches for 102.0.70.112 at ISP9\n",
      "No matches for 102.0.70.112 at ISP10\n"
     ]
    },
    {
     "name": "stderr",
     "output_type": "stream",
     "text": [
      "./code/Packets2TS.py:48: SettingWithCopyWarning: \n",
      "A value is trying to be set on a copy of a slice from a DataFrame.\n",
      "Try using .loc[row_indexer,col_indexer] = value instead\n",
      "\n",
      "See the caveats in the documentation: https://pandas.pydata.org/pandas-docs/stable/user_guide/indexing.html#returning-a-view-versus-a-copy\n",
      "  matches[0]['count'] = 1\n"
     ]
    },
    {
     "name": "stdout",
     "output_type": "stream",
     "text": [
      "No matches for 102.0.70.112 at root\n",
      "No matches for 102.0.70.112 at SLD\n",
      "No matches for 102.0.70.112 at TLD\n"
     ]
    },
    {
     "name": "stderr",
     "output_type": "stream",
     "text": [
      "./code/Packets2TS.py:48: SettingWithCopyWarning: \n",
      "A value is trying to be set on a copy of a slice from a DataFrame.\n",
      "Try using .loc[row_indexer,col_indexer] = value instead\n",
      "\n",
      "See the caveats in the documentation: https://pandas.pydata.org/pandas-docs/stable/user_guide/indexing.html#returning-a-view-versus-a-copy\n",
      "  matches[0]['count'] = 1\n",
      "./code/Packets2TS.py:48: SettingWithCopyWarning: \n",
      "A value is trying to be set on a copy of a slice from a DataFrame.\n",
      "Try using .loc[row_indexer,col_indexer] = value instead\n",
      "\n",
      "See the caveats in the documentation: https://pandas.pydata.org/pandas-docs/stable/user_guide/indexing.html#returning-a-view-versus-a-copy\n",
      "  matches[0]['count'] = 1\n",
      " 57%|██████████████████████████████████████████████████████████████████████████▍                                                        | 58/102 [42:37<21:14, 28.98s/it]./code/Packets2TS.py:48: SettingWithCopyWarning: \n",
      "A value is trying to be set on a copy of a slice from a DataFrame.\n",
      "Try using .loc[row_indexer,col_indexer] = value instead\n",
      "\n",
      "See the caveats in the documentation: https://pandas.pydata.org/pandas-docs/stable/user_guide/indexing.html#returning-a-view-versus-a-copy\n",
      "  matches[0]['count'] = 1\n"
     ]
    },
    {
     "name": "stdout",
     "output_type": "stream",
     "text": [
      "No matches for 102.0.90.124 at ISP1\n",
      "No matches for 102.0.90.124 at ISP2\n",
      "No matches for 102.0.90.124 at ISP3\n",
      "No matches for 102.0.90.124 at ISP4\n",
      "No matches for 102.0.90.124 at ISP5\n",
      "No matches for 102.0.90.124 at ISP6\n",
      "No matches for 102.0.90.124 at ISP7\n",
      "No matches for 102.0.90.124 at ISP8\n",
      "No matches for 102.0.90.124 at ISP9\n"
     ]
    },
    {
     "name": "stderr",
     "output_type": "stream",
     "text": [
      "./code/Packets2TS.py:48: SettingWithCopyWarning: \n",
      "A value is trying to be set on a copy of a slice from a DataFrame.\n",
      "Try using .loc[row_indexer,col_indexer] = value instead\n",
      "\n",
      "See the caveats in the documentation: https://pandas.pydata.org/pandas-docs/stable/user_guide/indexing.html#returning-a-view-versus-a-copy\n",
      "  matches[0]['count'] = 1\n"
     ]
    },
    {
     "name": "stdout",
     "output_type": "stream",
     "text": [
      "No matches for 102.0.90.124 at root\n",
      "No matches for 102.0.90.124 at SLD\n",
      "No matches for 102.0.90.124 at TLD\n"
     ]
    },
    {
     "name": "stderr",
     "output_type": "stream",
     "text": [
      "./code/Packets2TS.py:48: SettingWithCopyWarning: \n",
      "A value is trying to be set on a copy of a slice from a DataFrame.\n",
      "Try using .loc[row_indexer,col_indexer] = value instead\n",
      "\n",
      "See the caveats in the documentation: https://pandas.pydata.org/pandas-docs/stable/user_guide/indexing.html#returning-a-view-versus-a-copy\n",
      "  matches[0]['count'] = 1\n",
      "./code/Packets2TS.py:48: SettingWithCopyWarning: \n",
      "A value is trying to be set on a copy of a slice from a DataFrame.\n",
      "Try using .loc[row_indexer,col_indexer] = value instead\n",
      "\n",
      "See the caveats in the documentation: https://pandas.pydata.org/pandas-docs/stable/user_guide/indexing.html#returning-a-view-versus-a-copy\n",
      "  matches[0]['count'] = 1\n",
      " 58%|███████████████████████████████████████████████████████████████████████████▊                                                       | 59/102 [43:05<20:33, 28.69s/it]./code/Packets2TS.py:48: SettingWithCopyWarning: \n",
      "A value is trying to be set on a copy of a slice from a DataFrame.\n",
      "Try using .loc[row_indexer,col_indexer] = value instead\n",
      "\n",
      "See the caveats in the documentation: https://pandas.pydata.org/pandas-docs/stable/user_guide/indexing.html#returning-a-view-versus-a-copy\n",
      "  matches[0]['count'] = 1\n"
     ]
    },
    {
     "name": "stdout",
     "output_type": "stream",
     "text": [
      "No matches for 102.0.50.90 at ISP1\n",
      "No matches for 102.0.50.90 at ISP2\n",
      "No matches for 102.0.50.90 at ISP3\n",
      "No matches for 102.0.50.90 at ISP4\n",
      "No matches for 102.0.50.90 at ISP5\n"
     ]
    },
    {
     "name": "stderr",
     "output_type": "stream",
     "text": [
      "./code/Packets2TS.py:48: SettingWithCopyWarning: \n",
      "A value is trying to be set on a copy of a slice from a DataFrame.\n",
      "Try using .loc[row_indexer,col_indexer] = value instead\n",
      "\n",
      "See the caveats in the documentation: https://pandas.pydata.org/pandas-docs/stable/user_guide/indexing.html#returning-a-view-versus-a-copy\n",
      "  matches[0]['count'] = 1\n"
     ]
    },
    {
     "name": "stdout",
     "output_type": "stream",
     "text": [
      "No matches for 102.0.50.90 at ISP7\n",
      "No matches for 102.0.50.90 at ISP8\n",
      "No matches for 102.0.50.90 at ISP9\n",
      "No matches for 102.0.50.90 at ISP10\n",
      "No matches for 102.0.50.90 at root\n",
      "No matches for 102.0.50.90 at SLD\n",
      "No matches for 102.0.50.90 at TLD\n"
     ]
    },
    {
     "name": "stderr",
     "output_type": "stream",
     "text": [
      "./code/Packets2TS.py:48: SettingWithCopyWarning: \n",
      "A value is trying to be set on a copy of a slice from a DataFrame.\n",
      "Try using .loc[row_indexer,col_indexer] = value instead\n",
      "\n",
      "See the caveats in the documentation: https://pandas.pydata.org/pandas-docs/stable/user_guide/indexing.html#returning-a-view-versus-a-copy\n",
      "  matches[0]['count'] = 1\n",
      "./code/Packets2TS.py:48: SettingWithCopyWarning: \n",
      "A value is trying to be set on a copy of a slice from a DataFrame.\n",
      "Try using .loc[row_indexer,col_indexer] = value instead\n",
      "\n",
      "See the caveats in the documentation: https://pandas.pydata.org/pandas-docs/stable/user_guide/indexing.html#returning-a-view-versus-a-copy\n",
      "  matches[0]['count'] = 1\n",
      " 59%|█████████████████████████████████████████████████████████████████████████████                                                      | 60/102 [43:35<20:15, 28.94s/it]./code/Packets2TS.py:48: SettingWithCopyWarning: \n",
      "A value is trying to be set on a copy of a slice from a DataFrame.\n",
      "Try using .loc[row_indexer,col_indexer] = value instead\n",
      "\n",
      "See the caveats in the documentation: https://pandas.pydata.org/pandas-docs/stable/user_guide/indexing.html#returning-a-view-versus-a-copy\n",
      "  matches[0]['count'] = 1\n"
     ]
    },
    {
     "name": "stdout",
     "output_type": "stream",
     "text": [
      "No matches for 102.0.50.120 at ISP1\n",
      "No matches for 102.0.50.120 at ISP2\n",
      "No matches for 102.0.50.120 at ISP3\n",
      "No matches for 102.0.50.120 at ISP4\n",
      "No matches for 102.0.50.120 at ISP5\n"
     ]
    },
    {
     "name": "stderr",
     "output_type": "stream",
     "text": [
      "./code/Packets2TS.py:48: SettingWithCopyWarning: \n",
      "A value is trying to be set on a copy of a slice from a DataFrame.\n",
      "Try using .loc[row_indexer,col_indexer] = value instead\n",
      "\n",
      "See the caveats in the documentation: https://pandas.pydata.org/pandas-docs/stable/user_guide/indexing.html#returning-a-view-versus-a-copy\n",
      "  matches[0]['count'] = 1\n"
     ]
    },
    {
     "name": "stdout",
     "output_type": "stream",
     "text": [
      "No matches for 102.0.50.120 at ISP7\n",
      "No matches for 102.0.50.120 at ISP8\n",
      "No matches for 102.0.50.120 at ISP9\n",
      "No matches for 102.0.50.120 at ISP10\n",
      "No matches for 102.0.50.120 at root\n",
      "No matches for 102.0.50.120 at SLD\n",
      "No matches for 102.0.50.120 at TLD\n"
     ]
    },
    {
     "name": "stderr",
     "output_type": "stream",
     "text": [
      "./code/Packets2TS.py:48: SettingWithCopyWarning: \n",
      "A value is trying to be set on a copy of a slice from a DataFrame.\n",
      "Try using .loc[row_indexer,col_indexer] = value instead\n",
      "\n",
      "See the caveats in the documentation: https://pandas.pydata.org/pandas-docs/stable/user_guide/indexing.html#returning-a-view-versus-a-copy\n",
      "  matches[0]['count'] = 1\n",
      "./code/Packets2TS.py:48: SettingWithCopyWarning: \n",
      "A value is trying to be set on a copy of a slice from a DataFrame.\n",
      "Try using .loc[row_indexer,col_indexer] = value instead\n",
      "\n",
      "See the caveats in the documentation: https://pandas.pydata.org/pandas-docs/stable/user_guide/indexing.html#returning-a-view-versus-a-copy\n",
      "  matches[0]['count'] = 1\n",
      " 60%|██████████████████████████████████████████████████████████████████████████████▎                                                    | 61/102 [44:04<19:46, 28.93s/it]./code/Packets2TS.py:48: SettingWithCopyWarning: \n",
      "A value is trying to be set on a copy of a slice from a DataFrame.\n",
      "Try using .loc[row_indexer,col_indexer] = value instead\n",
      "\n",
      "See the caveats in the documentation: https://pandas.pydata.org/pandas-docs/stable/user_guide/indexing.html#returning-a-view-versus-a-copy\n",
      "  matches[0]['count'] = 1\n"
     ]
    },
    {
     "name": "stdout",
     "output_type": "stream",
     "text": [
      "No matches for 102.0.30.88 at ISP1\n",
      "No matches for 102.0.30.88 at ISP2\n",
      "No matches for 102.0.30.88 at ISP3\n"
     ]
    },
    {
     "name": "stderr",
     "output_type": "stream",
     "text": [
      "./code/Packets2TS.py:48: SettingWithCopyWarning: \n",
      "A value is trying to be set on a copy of a slice from a DataFrame.\n",
      "Try using .loc[row_indexer,col_indexer] = value instead\n",
      "\n",
      "See the caveats in the documentation: https://pandas.pydata.org/pandas-docs/stable/user_guide/indexing.html#returning-a-view-versus-a-copy\n",
      "  matches[0]['count'] = 1\n"
     ]
    },
    {
     "name": "stdout",
     "output_type": "stream",
     "text": [
      "No matches for 102.0.30.88 at ISP5\n",
      "No matches for 102.0.30.88 at ISP6\n",
      "No matches for 102.0.30.88 at ISP7\n",
      "No matches for 102.0.30.88 at ISP8\n",
      "No matches for 102.0.30.88 at ISP9\n",
      "No matches for 102.0.30.88 at ISP10\n",
      "No matches for 102.0.30.88 at root\n",
      "No matches for 102.0.30.88 at SLD\n",
      "No matches for 102.0.30.88 at TLD\n"
     ]
    },
    {
     "name": "stderr",
     "output_type": "stream",
     "text": [
      "./code/Packets2TS.py:48: SettingWithCopyWarning: \n",
      "A value is trying to be set on a copy of a slice from a DataFrame.\n",
      "Try using .loc[row_indexer,col_indexer] = value instead\n",
      "\n",
      "See the caveats in the documentation: https://pandas.pydata.org/pandas-docs/stable/user_guide/indexing.html#returning-a-view-versus-a-copy\n",
      "  matches[0]['count'] = 1\n",
      "./code/Packets2TS.py:48: SettingWithCopyWarning: \n",
      "A value is trying to be set on a copy of a slice from a DataFrame.\n",
      "Try using .loc[row_indexer,col_indexer] = value instead\n",
      "\n",
      "See the caveats in the documentation: https://pandas.pydata.org/pandas-docs/stable/user_guide/indexing.html#returning-a-view-versus-a-copy\n",
      "  matches[0]['count'] = 1\n",
      " 61%|███████████████████████████████████████████████████████████████████████████████▋                                                   | 62/102 [44:32<19:07, 28.70s/it]./code/Packets2TS.py:48: SettingWithCopyWarning: \n",
      "A value is trying to be set on a copy of a slice from a DataFrame.\n",
      "Try using .loc[row_indexer,col_indexer] = value instead\n",
      "\n",
      "See the caveats in the documentation: https://pandas.pydata.org/pandas-docs/stable/user_guide/indexing.html#returning-a-view-versus-a-copy\n",
      "  matches[0]['count'] = 1\n"
     ]
    },
    {
     "name": "stdout",
     "output_type": "stream",
     "text": [
      "No matches for 102.0.20.77 at ISP1\n",
      "No matches for 102.0.20.77 at ISP2\n",
      "No matches for 102.0.20.77 at ISP4\n"
     ]
    },
    {
     "name": "stderr",
     "output_type": "stream",
     "text": [
      "./code/Packets2TS.py:48: SettingWithCopyWarning: \n",
      "A value is trying to be set on a copy of a slice from a DataFrame.\n",
      "Try using .loc[row_indexer,col_indexer] = value instead\n",
      "\n",
      "See the caveats in the documentation: https://pandas.pydata.org/pandas-docs/stable/user_guide/indexing.html#returning-a-view-versus-a-copy\n",
      "  matches[0]['count'] = 1\n"
     ]
    },
    {
     "name": "stdout",
     "output_type": "stream",
     "text": [
      "No matches for 102.0.20.77 at ISP5\n",
      "No matches for 102.0.20.77 at ISP6\n",
      "No matches for 102.0.20.77 at ISP7\n",
      "No matches for 102.0.20.77 at ISP8\n",
      "No matches for 102.0.20.77 at ISP9\n",
      "No matches for 102.0.20.77 at ISP10\n",
      "No matches for 102.0.20.77 at root\n",
      "No matches for 102.0.20.77 at SLD\n",
      "No matches for 102.0.20.77 at TLD\n"
     ]
    },
    {
     "name": "stderr",
     "output_type": "stream",
     "text": [
      "./code/Packets2TS.py:48: SettingWithCopyWarning: \n",
      "A value is trying to be set on a copy of a slice from a DataFrame.\n",
      "Try using .loc[row_indexer,col_indexer] = value instead\n",
      "\n",
      "See the caveats in the documentation: https://pandas.pydata.org/pandas-docs/stable/user_guide/indexing.html#returning-a-view-versus-a-copy\n",
      "  matches[0]['count'] = 1\n",
      "./code/Packets2TS.py:48: SettingWithCopyWarning: \n",
      "A value is trying to be set on a copy of a slice from a DataFrame.\n",
      "Try using .loc[row_indexer,col_indexer] = value instead\n",
      "\n",
      "See the caveats in the documentation: https://pandas.pydata.org/pandas-docs/stable/user_guide/indexing.html#returning-a-view-versus-a-copy\n",
      "  matches[0]['count'] = 1\n",
      " 62%|████████████████████████████████████████████████████████████████████████████████▉                                                  | 63/102 [45:00<18:35, 28.60s/it]./code/Packets2TS.py:48: SettingWithCopyWarning: \n",
      "A value is trying to be set on a copy of a slice from a DataFrame.\n",
      "Try using .loc[row_indexer,col_indexer] = value instead\n",
      "\n",
      "See the caveats in the documentation: https://pandas.pydata.org/pandas-docs/stable/user_guide/indexing.html#returning-a-view-versus-a-copy\n",
      "  matches[0]['count'] = 1\n"
     ]
    },
    {
     "name": "stdout",
     "output_type": "stream",
     "text": [
      "No matches for 102.0.40.79 at ISP1\n",
      "No matches for 102.0.40.79 at ISP2\n",
      "No matches for 102.0.40.79 at ISP3\n",
      "No matches for 102.0.40.79 at ISP4\n"
     ]
    },
    {
     "name": "stderr",
     "output_type": "stream",
     "text": [
      "./code/Packets2TS.py:48: SettingWithCopyWarning: \n",
      "A value is trying to be set on a copy of a slice from a DataFrame.\n",
      "Try using .loc[row_indexer,col_indexer] = value instead\n",
      "\n",
      "See the caveats in the documentation: https://pandas.pydata.org/pandas-docs/stable/user_guide/indexing.html#returning-a-view-versus-a-copy\n",
      "  matches[0]['count'] = 1\n"
     ]
    },
    {
     "name": "stdout",
     "output_type": "stream",
     "text": [
      "No matches for 102.0.40.79 at ISP6\n",
      "No matches for 102.0.40.79 at ISP7\n",
      "No matches for 102.0.40.79 at ISP8\n",
      "No matches for 102.0.40.79 at ISP9\n",
      "No matches for 102.0.40.79 at ISP10\n",
      "No matches for 102.0.40.79 at root\n",
      "No matches for 102.0.40.79 at SLD\n",
      "No matches for 102.0.40.79 at TLD\n"
     ]
    },
    {
     "name": "stderr",
     "output_type": "stream",
     "text": [
      "./code/Packets2TS.py:48: SettingWithCopyWarning: \n",
      "A value is trying to be set on a copy of a slice from a DataFrame.\n",
      "Try using .loc[row_indexer,col_indexer] = value instead\n",
      "\n",
      "See the caveats in the documentation: https://pandas.pydata.org/pandas-docs/stable/user_guide/indexing.html#returning-a-view-versus-a-copy\n",
      "  matches[0]['count'] = 1\n",
      "./code/Packets2TS.py:48: SettingWithCopyWarning: \n",
      "A value is trying to be set on a copy of a slice from a DataFrame.\n",
      "Try using .loc[row_indexer,col_indexer] = value instead\n",
      "\n",
      "See the caveats in the documentation: https://pandas.pydata.org/pandas-docs/stable/user_guide/indexing.html#returning-a-view-versus-a-copy\n",
      "  matches[0]['count'] = 1\n",
      " 63%|██████████████████████████████████████████████████████████████████████████████████▏                                                | 64/102 [45:28<18:01, 28.46s/it]./code/Packets2TS.py:48: SettingWithCopyWarning: \n",
      "A value is trying to be set on a copy of a slice from a DataFrame.\n",
      "Try using .loc[row_indexer,col_indexer] = value instead\n",
      "\n",
      "See the caveats in the documentation: https://pandas.pydata.org/pandas-docs/stable/user_guide/indexing.html#returning-a-view-versus-a-copy\n",
      "  matches[0]['count'] = 1\n"
     ]
    },
    {
     "name": "stdout",
     "output_type": "stream",
     "text": [
      "No matches for 102.0.30.118 at ISP1\n",
      "No matches for 102.0.30.118 at ISP2\n",
      "No matches for 102.0.30.118 at ISP3\n"
     ]
    },
    {
     "name": "stderr",
     "output_type": "stream",
     "text": [
      "./code/Packets2TS.py:48: SettingWithCopyWarning: \n",
      "A value is trying to be set on a copy of a slice from a DataFrame.\n",
      "Try using .loc[row_indexer,col_indexer] = value instead\n",
      "\n",
      "See the caveats in the documentation: https://pandas.pydata.org/pandas-docs/stable/user_guide/indexing.html#returning-a-view-versus-a-copy\n",
      "  matches[0]['count'] = 1\n"
     ]
    },
    {
     "name": "stdout",
     "output_type": "stream",
     "text": [
      "No matches for 102.0.30.118 at ISP5\n",
      "No matches for 102.0.30.118 at ISP6\n",
      "No matches for 102.0.30.118 at ISP7\n",
      "No matches for 102.0.30.118 at ISP8\n",
      "No matches for 102.0.30.118 at ISP9\n",
      "No matches for 102.0.30.118 at ISP10\n",
      "No matches for 102.0.30.118 at root\n",
      "No matches for 102.0.30.118 at SLD\n",
      "No matches for 102.0.30.118 at TLD\n"
     ]
    },
    {
     "name": "stderr",
     "output_type": "stream",
     "text": [
      "./code/Packets2TS.py:48: SettingWithCopyWarning: \n",
      "A value is trying to be set on a copy of a slice from a DataFrame.\n",
      "Try using .loc[row_indexer,col_indexer] = value instead\n",
      "\n",
      "See the caveats in the documentation: https://pandas.pydata.org/pandas-docs/stable/user_guide/indexing.html#returning-a-view-versus-a-copy\n",
      "  matches[0]['count'] = 1\n",
      "./code/Packets2TS.py:48: SettingWithCopyWarning: \n",
      "A value is trying to be set on a copy of a slice from a DataFrame.\n",
      "Try using .loc[row_indexer,col_indexer] = value instead\n",
      "\n",
      "See the caveats in the documentation: https://pandas.pydata.org/pandas-docs/stable/user_guide/indexing.html#returning-a-view-versus-a-copy\n",
      "  matches[0]['count'] = 1\n",
      " 64%|███████████████████████████████████████████████████████████████████████████████████▍                                               | 65/102 [45:57<17:33, 28.46s/it]./code/Packets2TS.py:48: SettingWithCopyWarning: \n",
      "A value is trying to be set on a copy of a slice from a DataFrame.\n",
      "Try using .loc[row_indexer,col_indexer] = value instead\n",
      "\n",
      "See the caveats in the documentation: https://pandas.pydata.org/pandas-docs/stable/user_guide/indexing.html#returning-a-view-versus-a-copy\n",
      "  matches[0]['count'] = 1\n"
     ]
    },
    {
     "name": "stdout",
     "output_type": "stream",
     "text": [
      "No matches for 102.0.90.114 at ISP1\n",
      "No matches for 102.0.90.114 at ISP2\n",
      "No matches for 102.0.90.114 at ISP3\n",
      "No matches for 102.0.90.114 at ISP4\n",
      "No matches for 102.0.90.114 at ISP5\n",
      "No matches for 102.0.90.114 at ISP6\n",
      "No matches for 102.0.90.114 at ISP7\n",
      "No matches for 102.0.90.114 at ISP8\n",
      "No matches for 102.0.90.114 at ISP9\n"
     ]
    },
    {
     "name": "stderr",
     "output_type": "stream",
     "text": [
      "./code/Packets2TS.py:48: SettingWithCopyWarning: \n",
      "A value is trying to be set on a copy of a slice from a DataFrame.\n",
      "Try using .loc[row_indexer,col_indexer] = value instead\n",
      "\n",
      "See the caveats in the documentation: https://pandas.pydata.org/pandas-docs/stable/user_guide/indexing.html#returning-a-view-versus-a-copy\n",
      "  matches[0]['count'] = 1\n"
     ]
    },
    {
     "name": "stdout",
     "output_type": "stream",
     "text": [
      "No matches for 102.0.90.114 at root\n",
      "No matches for 102.0.90.114 at SLD\n",
      "No matches for 102.0.90.114 at TLD\n"
     ]
    },
    {
     "name": "stderr",
     "output_type": "stream",
     "text": [
      "./code/Packets2TS.py:48: SettingWithCopyWarning: \n",
      "A value is trying to be set on a copy of a slice from a DataFrame.\n",
      "Try using .loc[row_indexer,col_indexer] = value instead\n",
      "\n",
      "See the caveats in the documentation: https://pandas.pydata.org/pandas-docs/stable/user_guide/indexing.html#returning-a-view-versus-a-copy\n",
      "  matches[0]['count'] = 1\n",
      "./code/Packets2TS.py:48: SettingWithCopyWarning: \n",
      "A value is trying to be set on a copy of a slice from a DataFrame.\n",
      "Try using .loc[row_indexer,col_indexer] = value instead\n",
      "\n",
      "See the caveats in the documentation: https://pandas.pydata.org/pandas-docs/stable/user_guide/indexing.html#returning-a-view-versus-a-copy\n",
      "  matches[0]['count'] = 1\n",
      " 65%|████████████████████████████████████████████████████████████████████████████████████▊                                              | 66/102 [46:25<17:04, 28.46s/it]./code/Packets2TS.py:48: SettingWithCopyWarning: \n",
      "A value is trying to be set on a copy of a slice from a DataFrame.\n",
      "Try using .loc[row_indexer,col_indexer] = value instead\n",
      "\n",
      "See the caveats in the documentation: https://pandas.pydata.org/pandas-docs/stable/user_guide/indexing.html#returning-a-view-versus-a-copy\n",
      "  matches[0]['count'] = 1\n"
     ]
    },
    {
     "name": "stdout",
     "output_type": "stream",
     "text": [
      "No matches for 102.0.70.132 at ISP1\n",
      "No matches for 102.0.70.132 at ISP2\n",
      "No matches for 102.0.70.132 at ISP3\n",
      "No matches for 102.0.70.132 at ISP4\n",
      "No matches for 102.0.70.132 at ISP5\n",
      "No matches for 102.0.70.132 at ISP6\n",
      "No matches for 102.0.70.132 at ISP7\n",
      "No matches for 102.0.70.132 at ISP9\n",
      "No matches for 102.0.70.132 at ISP10\n"
     ]
    },
    {
     "name": "stderr",
     "output_type": "stream",
     "text": [
      "./code/Packets2TS.py:48: SettingWithCopyWarning: \n",
      "A value is trying to be set on a copy of a slice from a DataFrame.\n",
      "Try using .loc[row_indexer,col_indexer] = value instead\n",
      "\n",
      "See the caveats in the documentation: https://pandas.pydata.org/pandas-docs/stable/user_guide/indexing.html#returning-a-view-versus-a-copy\n",
      "  matches[0]['count'] = 1\n"
     ]
    },
    {
     "name": "stdout",
     "output_type": "stream",
     "text": [
      "No matches for 102.0.70.132 at root\n",
      "No matches for 102.0.70.132 at SLD\n",
      "No matches for 102.0.70.132 at TLD\n"
     ]
    },
    {
     "name": "stderr",
     "output_type": "stream",
     "text": [
      "./code/Packets2TS.py:48: SettingWithCopyWarning: \n",
      "A value is trying to be set on a copy of a slice from a DataFrame.\n",
      "Try using .loc[row_indexer,col_indexer] = value instead\n",
      "\n",
      "See the caveats in the documentation: https://pandas.pydata.org/pandas-docs/stable/user_guide/indexing.html#returning-a-view-versus-a-copy\n",
      "  matches[0]['count'] = 1\n",
      "./code/Packets2TS.py:48: SettingWithCopyWarning: \n",
      "A value is trying to be set on a copy of a slice from a DataFrame.\n",
      "Try using .loc[row_indexer,col_indexer] = value instead\n",
      "\n",
      "See the caveats in the documentation: https://pandas.pydata.org/pandas-docs/stable/user_guide/indexing.html#returning-a-view-versus-a-copy\n",
      "  matches[0]['count'] = 1\n",
      " 66%|██████████████████████████████████████████████████████████████████████████████████████                                             | 67/102 [46:54<16:34, 28.41s/it]./code/Packets2TS.py:48: SettingWithCopyWarning: \n",
      "A value is trying to be set on a copy of a slice from a DataFrame.\n",
      "Try using .loc[row_indexer,col_indexer] = value instead\n",
      "\n",
      "See the caveats in the documentation: https://pandas.pydata.org/pandas-docs/stable/user_guide/indexing.html#returning-a-view-versus-a-copy\n",
      "  matches[0]['count'] = 1\n"
     ]
    },
    {
     "name": "stdout",
     "output_type": "stream",
     "text": [
      "No matches for 102.0.80.133 at ISP1\n",
      "No matches for 102.0.80.133 at ISP2\n",
      "No matches for 102.0.80.133 at ISP3\n",
      "No matches for 102.0.80.133 at ISP4\n",
      "No matches for 102.0.80.133 at ISP5\n",
      "No matches for 102.0.80.133 at ISP6\n",
      "No matches for 102.0.80.133 at ISP7\n",
      "No matches for 102.0.80.133 at ISP8\n"
     ]
    },
    {
     "name": "stderr",
     "output_type": "stream",
     "text": [
      "./code/Packets2TS.py:48: SettingWithCopyWarning: \n",
      "A value is trying to be set on a copy of a slice from a DataFrame.\n",
      "Try using .loc[row_indexer,col_indexer] = value instead\n",
      "\n",
      "See the caveats in the documentation: https://pandas.pydata.org/pandas-docs/stable/user_guide/indexing.html#returning-a-view-versus-a-copy\n",
      "  matches[0]['count'] = 1\n"
     ]
    },
    {
     "name": "stdout",
     "output_type": "stream",
     "text": [
      "No matches for 102.0.80.133 at ISP10\n",
      "No matches for 102.0.80.133 at root\n",
      "No matches for 102.0.80.133 at SLD\n",
      "No matches for 102.0.80.133 at TLD\n"
     ]
    },
    {
     "name": "stderr",
     "output_type": "stream",
     "text": [
      "./code/Packets2TS.py:48: SettingWithCopyWarning: \n",
      "A value is trying to be set on a copy of a slice from a DataFrame.\n",
      "Try using .loc[row_indexer,col_indexer] = value instead\n",
      "\n",
      "See the caveats in the documentation: https://pandas.pydata.org/pandas-docs/stable/user_guide/indexing.html#returning-a-view-versus-a-copy\n",
      "  matches[0]['count'] = 1\n",
      "./code/Packets2TS.py:48: SettingWithCopyWarning: \n",
      "A value is trying to be set on a copy of a slice from a DataFrame.\n",
      "Try using .loc[row_indexer,col_indexer] = value instead\n",
      "\n",
      "See the caveats in the documentation: https://pandas.pydata.org/pandas-docs/stable/user_guide/indexing.html#returning-a-view-versus-a-copy\n",
      "  matches[0]['count'] = 1\n",
      " 67%|███████████████████████████████████████████████████████████████████████████████████████▎                                           | 68/102 [47:22<16:04, 28.37s/it]./code/Packets2TS.py:48: SettingWithCopyWarning: \n",
      "A value is trying to be set on a copy of a slice from a DataFrame.\n",
      "Try using .loc[row_indexer,col_indexer] = value instead\n",
      "\n",
      "See the caveats in the documentation: https://pandas.pydata.org/pandas-docs/stable/user_guide/indexing.html#returning-a-view-versus-a-copy\n",
      "  matches[0]['count'] = 1\n"
     ]
    },
    {
     "name": "stdout",
     "output_type": "stream",
     "text": [
      "No matches for 102.0.60.161 at ISP1\n",
      "No matches for 102.0.60.161 at ISP2\n",
      "No matches for 102.0.60.161 at ISP3\n",
      "No matches for 102.0.60.161 at ISP4\n",
      "No matches for 102.0.60.161 at ISP5\n",
      "No matches for 102.0.60.161 at ISP6\n",
      "No matches for 102.0.60.161 at ISP8\n",
      "No matches for 102.0.60.161 at ISP9\n"
     ]
    },
    {
     "name": "stderr",
     "output_type": "stream",
     "text": [
      "./code/Packets2TS.py:48: SettingWithCopyWarning: \n",
      "A value is trying to be set on a copy of a slice from a DataFrame.\n",
      "Try using .loc[row_indexer,col_indexer] = value instead\n",
      "\n",
      "See the caveats in the documentation: https://pandas.pydata.org/pandas-docs/stable/user_guide/indexing.html#returning-a-view-versus-a-copy\n",
      "  matches[0]['count'] = 1\n"
     ]
    },
    {
     "name": "stdout",
     "output_type": "stream",
     "text": [
      "No matches for 102.0.60.161 at ISP10\n",
      "No matches for 102.0.60.161 at root\n",
      "No matches for 102.0.60.161 at SLD\n",
      "No matches for 102.0.60.161 at TLD\n"
     ]
    },
    {
     "name": "stderr",
     "output_type": "stream",
     "text": [
      "./code/Packets2TS.py:48: SettingWithCopyWarning: \n",
      "A value is trying to be set on a copy of a slice from a DataFrame.\n",
      "Try using .loc[row_indexer,col_indexer] = value instead\n",
      "\n",
      "See the caveats in the documentation: https://pandas.pydata.org/pandas-docs/stable/user_guide/indexing.html#returning-a-view-versus-a-copy\n",
      "  matches[0]['count'] = 1\n",
      "./code/Packets2TS.py:48: SettingWithCopyWarning: \n",
      "A value is trying to be set on a copy of a slice from a DataFrame.\n",
      "Try using .loc[row_indexer,col_indexer] = value instead\n",
      "\n",
      "See the caveats in the documentation: https://pandas.pydata.org/pandas-docs/stable/user_guide/indexing.html#returning-a-view-versus-a-copy\n",
      "  matches[0]['count'] = 1\n",
      " 68%|████████████████████████████████████████████████████████████████████████████████████████▌                                          | 69/102 [47:50<15:35, 28.35s/it]./code/Packets2TS.py:48: SettingWithCopyWarning: \n",
      "A value is trying to be set on a copy of a slice from a DataFrame.\n",
      "Try using .loc[row_indexer,col_indexer] = value instead\n",
      "\n",
      "See the caveats in the documentation: https://pandas.pydata.org/pandas-docs/stable/user_guide/indexing.html#returning-a-view-versus-a-copy\n",
      "  matches[0]['count'] = 1\n"
     ]
    },
    {
     "name": "stdout",
     "output_type": "stream",
     "text": [
      "No matches for 102.0.60.91 at ISP1\n",
      "No matches for 102.0.60.91 at ISP2\n",
      "No matches for 102.0.60.91 at ISP3\n",
      "No matches for 102.0.60.91 at ISP4\n",
      "No matches for 102.0.60.91 at ISP5\n",
      "No matches for 102.0.60.91 at ISP6\n",
      "No matches for 102.0.60.91 at ISP8\n",
      "No matches for 102.0.60.91 at ISP9\n"
     ]
    },
    {
     "name": "stderr",
     "output_type": "stream",
     "text": [
      "./code/Packets2TS.py:48: SettingWithCopyWarning: \n",
      "A value is trying to be set on a copy of a slice from a DataFrame.\n",
      "Try using .loc[row_indexer,col_indexer] = value instead\n",
      "\n",
      "See the caveats in the documentation: https://pandas.pydata.org/pandas-docs/stable/user_guide/indexing.html#returning-a-view-versus-a-copy\n",
      "  matches[0]['count'] = 1\n"
     ]
    },
    {
     "name": "stdout",
     "output_type": "stream",
     "text": [
      "No matches for 102.0.60.91 at ISP10\n",
      "No matches for 102.0.60.91 at root\n",
      "No matches for 102.0.60.91 at SLD\n",
      "No matches for 102.0.60.91 at TLD\n"
     ]
    },
    {
     "name": "stderr",
     "output_type": "stream",
     "text": [
      "./code/Packets2TS.py:48: SettingWithCopyWarning: \n",
      "A value is trying to be set on a copy of a slice from a DataFrame.\n",
      "Try using .loc[row_indexer,col_indexer] = value instead\n",
      "\n",
      "See the caveats in the documentation: https://pandas.pydata.org/pandas-docs/stable/user_guide/indexing.html#returning-a-view-versus-a-copy\n",
      "  matches[0]['count'] = 1\n",
      "./code/Packets2TS.py:48: SettingWithCopyWarning: \n",
      "A value is trying to be set on a copy of a slice from a DataFrame.\n",
      "Try using .loc[row_indexer,col_indexer] = value instead\n",
      "\n",
      "See the caveats in the documentation: https://pandas.pydata.org/pandas-docs/stable/user_guide/indexing.html#returning-a-view-versus-a-copy\n",
      "  matches[0]['count'] = 1\n",
      " 69%|█████████████████████████████████████████████████████████████████████████████████████████▉                                         | 70/102 [48:19<15:08, 28.41s/it]./code/Packets2TS.py:48: SettingWithCopyWarning: \n",
      "A value is trying to be set on a copy of a slice from a DataFrame.\n",
      "Try using .loc[row_indexer,col_indexer] = value instead\n",
      "\n",
      "See the caveats in the documentation: https://pandas.pydata.org/pandas-docs/stable/user_guide/indexing.html#returning-a-view-versus-a-copy\n",
      "  matches[0]['count'] = 1\n"
     ]
    },
    {
     "name": "stdout",
     "output_type": "stream",
     "text": [
      "No matches for 102.0.60.101 at ISP1\n",
      "No matches for 102.0.60.101 at ISP2\n",
      "No matches for 102.0.60.101 at ISP3\n",
      "No matches for 102.0.60.101 at ISP4\n",
      "No matches for 102.0.60.101 at ISP5\n",
      "No matches for 102.0.60.101 at ISP6\n",
      "No matches for 102.0.60.101 at ISP8\n",
      "No matches for 102.0.60.101 at ISP9\n"
     ]
    },
    {
     "name": "stderr",
     "output_type": "stream",
     "text": [
      "./code/Packets2TS.py:48: SettingWithCopyWarning: \n",
      "A value is trying to be set on a copy of a slice from a DataFrame.\n",
      "Try using .loc[row_indexer,col_indexer] = value instead\n",
      "\n",
      "See the caveats in the documentation: https://pandas.pydata.org/pandas-docs/stable/user_guide/indexing.html#returning-a-view-versus-a-copy\n",
      "  matches[0]['count'] = 1\n"
     ]
    },
    {
     "name": "stdout",
     "output_type": "stream",
     "text": [
      "No matches for 102.0.60.101 at ISP10\n",
      "No matches for 102.0.60.101 at root\n",
      "No matches for 102.0.60.101 at SLD\n",
      "No matches for 102.0.60.101 at TLD\n"
     ]
    },
    {
     "name": "stderr",
     "output_type": "stream",
     "text": [
      "./code/Packets2TS.py:48: SettingWithCopyWarning: \n",
      "A value is trying to be set on a copy of a slice from a DataFrame.\n",
      "Try using .loc[row_indexer,col_indexer] = value instead\n",
      "\n",
      "See the caveats in the documentation: https://pandas.pydata.org/pandas-docs/stable/user_guide/indexing.html#returning-a-view-versus-a-copy\n",
      "  matches[0]['count'] = 1\n",
      "./code/Packets2TS.py:48: SettingWithCopyWarning: \n",
      "A value is trying to be set on a copy of a slice from a DataFrame.\n",
      "Try using .loc[row_indexer,col_indexer] = value instead\n",
      "\n",
      "See the caveats in the documentation: https://pandas.pydata.org/pandas-docs/stable/user_guide/indexing.html#returning-a-view-versus-a-copy\n",
      "  matches[0]['count'] = 1\n",
      " 70%|███████████████████████████████████████████████████████████████████████████████████████████▏                                       | 71/102 [48:47<14:41, 28.44s/it]./code/Packets2TS.py:48: SettingWithCopyWarning: \n",
      "A value is trying to be set on a copy of a slice from a DataFrame.\n",
      "Try using .loc[row_indexer,col_indexer] = value instead\n",
      "\n",
      "See the caveats in the documentation: https://pandas.pydata.org/pandas-docs/stable/user_guide/indexing.html#returning-a-view-versus-a-copy\n",
      "  matches[0]['count'] = 1\n"
     ]
    },
    {
     "name": "stdout",
     "output_type": "stream",
     "text": [
      "No matches for 102.0.60.151 at ISP1\n",
      "No matches for 102.0.60.151 at ISP2\n",
      "No matches for 102.0.60.151 at ISP3\n",
      "No matches for 102.0.60.151 at ISP4\n",
      "No matches for 102.0.60.151 at ISP5\n",
      "No matches for 102.0.60.151 at ISP6\n",
      "No matches for 102.0.60.151 at ISP8\n",
      "No matches for 102.0.60.151 at ISP9\n"
     ]
    },
    {
     "name": "stderr",
     "output_type": "stream",
     "text": [
      "./code/Packets2TS.py:48: SettingWithCopyWarning: \n",
      "A value is trying to be set on a copy of a slice from a DataFrame.\n",
      "Try using .loc[row_indexer,col_indexer] = value instead\n",
      "\n",
      "See the caveats in the documentation: https://pandas.pydata.org/pandas-docs/stable/user_guide/indexing.html#returning-a-view-versus-a-copy\n",
      "  matches[0]['count'] = 1\n"
     ]
    },
    {
     "name": "stdout",
     "output_type": "stream",
     "text": [
      "No matches for 102.0.60.151 at ISP10\n",
      "No matches for 102.0.60.151 at root\n",
      "No matches for 102.0.60.151 at SLD\n",
      "No matches for 102.0.60.151 at TLD\n"
     ]
    },
    {
     "name": "stderr",
     "output_type": "stream",
     "text": [
      "./code/Packets2TS.py:48: SettingWithCopyWarning: \n",
      "A value is trying to be set on a copy of a slice from a DataFrame.\n",
      "Try using .loc[row_indexer,col_indexer] = value instead\n",
      "\n",
      "See the caveats in the documentation: https://pandas.pydata.org/pandas-docs/stable/user_guide/indexing.html#returning-a-view-versus-a-copy\n",
      "  matches[0]['count'] = 1\n",
      "./code/Packets2TS.py:48: SettingWithCopyWarning: \n",
      "A value is trying to be set on a copy of a slice from a DataFrame.\n",
      "Try using .loc[row_indexer,col_indexer] = value instead\n",
      "\n",
      "See the caveats in the documentation: https://pandas.pydata.org/pandas-docs/stable/user_guide/indexing.html#returning-a-view-versus-a-copy\n",
      "  matches[0]['count'] = 1\n",
      " 71%|████████████████████████████████████████████████████████████████████████████████████████████▍                                      | 72/102 [49:16<14:13, 28.46s/it]./code/Packets2TS.py:48: SettingWithCopyWarning: \n",
      "A value is trying to be set on a copy of a slice from a DataFrame.\n",
      "Try using .loc[row_indexer,col_indexer] = value instead\n",
      "\n",
      "See the caveats in the documentation: https://pandas.pydata.org/pandas-docs/stable/user_guide/indexing.html#returning-a-view-versus-a-copy\n",
      "  matches[0]['count'] = 1\n"
     ]
    },
    {
     "name": "stdout",
     "output_type": "stream",
     "text": [
      "No matches for 102.0.30.98 at ISP1\n",
      "No matches for 102.0.30.98 at ISP2\n",
      "No matches for 102.0.30.98 at ISP3\n"
     ]
    },
    {
     "name": "stderr",
     "output_type": "stream",
     "text": [
      "./code/Packets2TS.py:48: SettingWithCopyWarning: \n",
      "A value is trying to be set on a copy of a slice from a DataFrame.\n",
      "Try using .loc[row_indexer,col_indexer] = value instead\n",
      "\n",
      "See the caveats in the documentation: https://pandas.pydata.org/pandas-docs/stable/user_guide/indexing.html#returning-a-view-versus-a-copy\n",
      "  matches[0]['count'] = 1\n"
     ]
    },
    {
     "name": "stdout",
     "output_type": "stream",
     "text": [
      "No matches for 102.0.30.98 at ISP5\n",
      "No matches for 102.0.30.98 at ISP6\n",
      "No matches for 102.0.30.98 at ISP7\n",
      "No matches for 102.0.30.98 at ISP8\n",
      "No matches for 102.0.30.98 at ISP9\n",
      "No matches for 102.0.30.98 at ISP10\n",
      "No matches for 102.0.30.98 at root\n",
      "No matches for 102.0.30.98 at SLD\n",
      "No matches for 102.0.30.98 at TLD\n"
     ]
    },
    {
     "name": "stderr",
     "output_type": "stream",
     "text": [
      "./code/Packets2TS.py:48: SettingWithCopyWarning: \n",
      "A value is trying to be set on a copy of a slice from a DataFrame.\n",
      "Try using .loc[row_indexer,col_indexer] = value instead\n",
      "\n",
      "See the caveats in the documentation: https://pandas.pydata.org/pandas-docs/stable/user_guide/indexing.html#returning-a-view-versus-a-copy\n",
      "  matches[0]['count'] = 1\n",
      "./code/Packets2TS.py:48: SettingWithCopyWarning: \n",
      "A value is trying to be set on a copy of a slice from a DataFrame.\n",
      "Try using .loc[row_indexer,col_indexer] = value instead\n",
      "\n",
      "See the caveats in the documentation: https://pandas.pydata.org/pandas-docs/stable/user_guide/indexing.html#returning-a-view-versus-a-copy\n",
      "  matches[0]['count'] = 1\n",
      " 72%|█████████████████████████████████████████████████████████████████████████████████████████████▊                                     | 73/102 [49:44<13:45, 28.45s/it]./code/Packets2TS.py:48: SettingWithCopyWarning: \n",
      "A value is trying to be set on a copy of a slice from a DataFrame.\n",
      "Try using .loc[row_indexer,col_indexer] = value instead\n",
      "\n",
      "See the caveats in the documentation: https://pandas.pydata.org/pandas-docs/stable/user_guide/indexing.html#returning-a-view-versus-a-copy\n",
      "  matches[0]['count'] = 1\n"
     ]
    },
    {
     "name": "stdout",
     "output_type": "stream",
     "text": [
      "No matches for 102.0.70.92 at ISP1\n",
      "No matches for 102.0.70.92 at ISP2\n",
      "No matches for 102.0.70.92 at ISP3\n",
      "No matches for 102.0.70.92 at ISP4\n",
      "No matches for 102.0.70.92 at ISP5\n",
      "No matches for 102.0.70.92 at ISP6\n",
      "No matches for 102.0.70.92 at ISP7\n",
      "No matches for 102.0.70.92 at ISP9\n"
     ]
    },
    {
     "name": "stderr",
     "output_type": "stream",
     "text": [
      "./code/Packets2TS.py:48: SettingWithCopyWarning: \n",
      "A value is trying to be set on a copy of a slice from a DataFrame.\n",
      "Try using .loc[row_indexer,col_indexer] = value instead\n",
      "\n",
      "See the caveats in the documentation: https://pandas.pydata.org/pandas-docs/stable/user_guide/indexing.html#returning-a-view-versus-a-copy\n",
      "  matches[0]['count'] = 1\n"
     ]
    },
    {
     "name": "stdout",
     "output_type": "stream",
     "text": [
      "No matches for 102.0.70.92 at ISP10\n",
      "No matches for 102.0.70.92 at root\n",
      "No matches for 102.0.70.92 at SLD\n",
      "No matches for 102.0.70.92 at TLD\n"
     ]
    },
    {
     "name": "stderr",
     "output_type": "stream",
     "text": [
      "./code/Packets2TS.py:48: SettingWithCopyWarning: \n",
      "A value is trying to be set on a copy of a slice from a DataFrame.\n",
      "Try using .loc[row_indexer,col_indexer] = value instead\n",
      "\n",
      "See the caveats in the documentation: https://pandas.pydata.org/pandas-docs/stable/user_guide/indexing.html#returning-a-view-versus-a-copy\n",
      "  matches[0]['count'] = 1\n",
      "./code/Packets2TS.py:48: SettingWithCopyWarning: \n",
      "A value is trying to be set on a copy of a slice from a DataFrame.\n",
      "Try using .loc[row_indexer,col_indexer] = value instead\n",
      "\n",
      "See the caveats in the documentation: https://pandas.pydata.org/pandas-docs/stable/user_guide/indexing.html#returning-a-view-versus-a-copy\n",
      "  matches[0]['count'] = 1\n",
      " 73%|███████████████████████████████████████████████████████████████████████████████████████████████                                    | 74/102 [50:13<13:19, 28.55s/it]./code/Packets2TS.py:48: SettingWithCopyWarning: \n",
      "A value is trying to be set on a copy of a slice from a DataFrame.\n",
      "Try using .loc[row_indexer,col_indexer] = value instead\n",
      "\n",
      "See the caveats in the documentation: https://pandas.pydata.org/pandas-docs/stable/user_guide/indexing.html#returning-a-view-versus-a-copy\n",
      "  matches[0]['count'] = 1\n"
     ]
    },
    {
     "name": "stdout",
     "output_type": "stream",
     "text": [
      "No matches for 102.0.90.104 at ISP1\n",
      "No matches for 102.0.90.104 at ISP2\n",
      "No matches for 102.0.90.104 at ISP3\n",
      "No matches for 102.0.90.104 at ISP4\n",
      "No matches for 102.0.90.104 at ISP5\n",
      "No matches for 102.0.90.104 at ISP6\n",
      "No matches for 102.0.90.104 at ISP7\n",
      "No matches for 102.0.90.104 at ISP8\n",
      "No matches for 102.0.90.104 at ISP9\n"
     ]
    },
    {
     "name": "stderr",
     "output_type": "stream",
     "text": [
      "./code/Packets2TS.py:48: SettingWithCopyWarning: \n",
      "A value is trying to be set on a copy of a slice from a DataFrame.\n",
      "Try using .loc[row_indexer,col_indexer] = value instead\n",
      "\n",
      "See the caveats in the documentation: https://pandas.pydata.org/pandas-docs/stable/user_guide/indexing.html#returning-a-view-versus-a-copy\n",
      "  matches[0]['count'] = 1\n"
     ]
    },
    {
     "name": "stdout",
     "output_type": "stream",
     "text": [
      "No matches for 102.0.90.104 at root\n",
      "No matches for 102.0.90.104 at SLD\n",
      "No matches for 102.0.90.104 at TLD\n"
     ]
    },
    {
     "name": "stderr",
     "output_type": "stream",
     "text": [
      "./code/Packets2TS.py:48: SettingWithCopyWarning: \n",
      "A value is trying to be set on a copy of a slice from a DataFrame.\n",
      "Try using .loc[row_indexer,col_indexer] = value instead\n",
      "\n",
      "See the caveats in the documentation: https://pandas.pydata.org/pandas-docs/stable/user_guide/indexing.html#returning-a-view-versus-a-copy\n",
      "  matches[0]['count'] = 1\n",
      "./code/Packets2TS.py:48: SettingWithCopyWarning: \n",
      "A value is trying to be set on a copy of a slice from a DataFrame.\n",
      "Try using .loc[row_indexer,col_indexer] = value instead\n",
      "\n",
      "See the caveats in the documentation: https://pandas.pydata.org/pandas-docs/stable/user_guide/indexing.html#returning-a-view-versus-a-copy\n",
      "  matches[0]['count'] = 1\n",
      " 74%|████████████████████████████████████████████████████████████████████████████████████████████████▎                                  | 75/102 [50:41<12:45, 28.37s/it]./code/Packets2TS.py:48: SettingWithCopyWarning: \n",
      "A value is trying to be set on a copy of a slice from a DataFrame.\n",
      "Try using .loc[row_indexer,col_indexer] = value instead\n",
      "\n",
      "See the caveats in the documentation: https://pandas.pydata.org/pandas-docs/stable/user_guide/indexing.html#returning-a-view-versus-a-copy\n",
      "  matches[0]['count'] = 1\n",
      "./code/Packets2TS.py:48: SettingWithCopyWarning: \n",
      "A value is trying to be set on a copy of a slice from a DataFrame.\n",
      "Try using .loc[row_indexer,col_indexer] = value instead\n",
      "\n",
      "See the caveats in the documentation: https://pandas.pydata.org/pandas-docs/stable/user_guide/indexing.html#returning-a-view-versus-a-copy\n",
      "  matches[0]['count'] = 1\n"
     ]
    },
    {
     "name": "stdout",
     "output_type": "stream",
     "text": [
      "No matches for 102.0.10.96 at ISP1\n",
      "No matches for 102.0.10.96 at ISP3\n",
      "No matches for 102.0.10.96 at ISP4\n",
      "No matches for 102.0.10.96 at ISP5\n",
      "No matches for 102.0.10.96 at ISP6\n",
      "No matches for 102.0.10.96 at ISP7\n",
      "No matches for 102.0.10.96 at ISP8\n",
      "No matches for 102.0.10.96 at ISP9\n",
      "No matches for 102.0.10.96 at ISP10\n",
      "No matches for 102.0.10.96 at root\n",
      "No matches for 102.0.10.96 at SLD\n",
      "No matches for 102.0.10.96 at TLD\n"
     ]
    },
    {
     "name": "stderr",
     "output_type": "stream",
     "text": [
      "./code/Packets2TS.py:48: SettingWithCopyWarning: \n",
      "A value is trying to be set on a copy of a slice from a DataFrame.\n",
      "Try using .loc[row_indexer,col_indexer] = value instead\n",
      "\n",
      "See the caveats in the documentation: https://pandas.pydata.org/pandas-docs/stable/user_guide/indexing.html#returning-a-view-versus-a-copy\n",
      "  matches[0]['count'] = 1\n",
      "./code/Packets2TS.py:48: SettingWithCopyWarning: \n",
      "A value is trying to be set on a copy of a slice from a DataFrame.\n",
      "Try using .loc[row_indexer,col_indexer] = value instead\n",
      "\n",
      "See the caveats in the documentation: https://pandas.pydata.org/pandas-docs/stable/user_guide/indexing.html#returning-a-view-versus-a-copy\n",
      "  matches[0]['count'] = 1\n",
      " 75%|█████████████████████████████████████████████████████████████████████████████████████████████████▌                                 | 76/102 [51:09<12:19, 28.45s/it]./code/Packets2TS.py:48: SettingWithCopyWarning: \n",
      "A value is trying to be set on a copy of a slice from a DataFrame.\n",
      "Try using .loc[row_indexer,col_indexer] = value instead\n",
      "\n",
      "See the caveats in the documentation: https://pandas.pydata.org/pandas-docs/stable/user_guide/indexing.html#returning-a-view-versus-a-copy\n",
      "  matches[0]['count'] = 1\n"
     ]
    },
    {
     "name": "stdout",
     "output_type": "stream",
     "text": [
      "No matches for 102.0.20.67 at ISP1\n",
      "No matches for 102.0.20.67 at ISP2\n"
     ]
    },
    {
     "name": "stderr",
     "output_type": "stream",
     "text": [
      "./code/Packets2TS.py:48: SettingWithCopyWarning: \n",
      "A value is trying to be set on a copy of a slice from a DataFrame.\n",
      "Try using .loc[row_indexer,col_indexer] = value instead\n",
      "\n",
      "See the caveats in the documentation: https://pandas.pydata.org/pandas-docs/stable/user_guide/indexing.html#returning-a-view-versus-a-copy\n",
      "  matches[0]['count'] = 1\n"
     ]
    },
    {
     "name": "stdout",
     "output_type": "stream",
     "text": [
      "No matches for 102.0.20.67 at ISP4\n",
      "No matches for 102.0.20.67 at ISP5\n",
      "No matches for 102.0.20.67 at ISP6\n",
      "No matches for 102.0.20.67 at ISP7\n",
      "No matches for 102.0.20.67 at ISP8\n",
      "No matches for 102.0.20.67 at ISP9\n",
      "No matches for 102.0.20.67 at ISP10\n",
      "No matches for 102.0.20.67 at root\n",
      "No matches for 102.0.20.67 at SLD\n",
      "No matches for 102.0.20.67 at TLD\n"
     ]
    },
    {
     "name": "stderr",
     "output_type": "stream",
     "text": [
      "./code/Packets2TS.py:48: SettingWithCopyWarning: \n",
      "A value is trying to be set on a copy of a slice from a DataFrame.\n",
      "Try using .loc[row_indexer,col_indexer] = value instead\n",
      "\n",
      "See the caveats in the documentation: https://pandas.pydata.org/pandas-docs/stable/user_guide/indexing.html#returning-a-view-versus-a-copy\n",
      "  matches[0]['count'] = 1\n",
      "./code/Packets2TS.py:48: SettingWithCopyWarning: \n",
      "A value is trying to be set on a copy of a slice from a DataFrame.\n",
      "Try using .loc[row_indexer,col_indexer] = value instead\n",
      "\n",
      "See the caveats in the documentation: https://pandas.pydata.org/pandas-docs/stable/user_guide/indexing.html#returning-a-view-versus-a-copy\n",
      "  matches[0]['count'] = 1\n",
      " 75%|██████████████████████████████████████████████████████████████████████████████████████████████████▉                                | 77/102 [51:38<11:50, 28.43s/it]./code/Packets2TS.py:48: SettingWithCopyWarning: \n",
      "A value is trying to be set on a copy of a slice from a DataFrame.\n",
      "Try using .loc[row_indexer,col_indexer] = value instead\n",
      "\n",
      "See the caveats in the documentation: https://pandas.pydata.org/pandas-docs/stable/user_guide/indexing.html#returning-a-view-versus-a-copy\n",
      "  matches[0]['count'] = 1\n"
     ]
    },
    {
     "name": "stdout",
     "output_type": "stream",
     "text": [
      "No matches for 102.0.70.162 at ISP1\n",
      "No matches for 102.0.70.162 at ISP2\n",
      "No matches for 102.0.70.162 at ISP3\n",
      "No matches for 102.0.70.162 at ISP4\n",
      "No matches for 102.0.70.162 at ISP5\n",
      "No matches for 102.0.70.162 at ISP6\n",
      "No matches for 102.0.70.162 at ISP7\n"
     ]
    },
    {
     "name": "stderr",
     "output_type": "stream",
     "text": [
      "./code/Packets2TS.py:48: SettingWithCopyWarning: \n",
      "A value is trying to be set on a copy of a slice from a DataFrame.\n",
      "Try using .loc[row_indexer,col_indexer] = value instead\n",
      "\n",
      "See the caveats in the documentation: https://pandas.pydata.org/pandas-docs/stable/user_guide/indexing.html#returning-a-view-versus-a-copy\n",
      "  matches[0]['count'] = 1\n"
     ]
    },
    {
     "name": "stdout",
     "output_type": "stream",
     "text": [
      "No matches for 102.0.70.162 at ISP9\n",
      "No matches for 102.0.70.162 at ISP10\n",
      "No matches for 102.0.70.162 at root\n",
      "No matches for 102.0.70.162 at SLD\n",
      "No matches for 102.0.70.162 at TLD\n"
     ]
    },
    {
     "name": "stderr",
     "output_type": "stream",
     "text": [
      "./code/Packets2TS.py:48: SettingWithCopyWarning: \n",
      "A value is trying to be set on a copy of a slice from a DataFrame.\n",
      "Try using .loc[row_indexer,col_indexer] = value instead\n",
      "\n",
      "See the caveats in the documentation: https://pandas.pydata.org/pandas-docs/stable/user_guide/indexing.html#returning-a-view-versus-a-copy\n",
      "  matches[0]['count'] = 1\n",
      "./code/Packets2TS.py:48: SettingWithCopyWarning: \n",
      "A value is trying to be set on a copy of a slice from a DataFrame.\n",
      "Try using .loc[row_indexer,col_indexer] = value instead\n",
      "\n",
      "See the caveats in the documentation: https://pandas.pydata.org/pandas-docs/stable/user_guide/indexing.html#returning-a-view-versus-a-copy\n",
      "  matches[0]['count'] = 1\n",
      " 76%|████████████████████████████████████████████████████████████████████████████████████████████████████▏                              | 78/102 [52:06<11:21, 28.41s/it]./code/Packets2TS.py:48: SettingWithCopyWarning: \n",
      "A value is trying to be set on a copy of a slice from a DataFrame.\n",
      "Try using .loc[row_indexer,col_indexer] = value instead\n",
      "\n",
      "See the caveats in the documentation: https://pandas.pydata.org/pandas-docs/stable/user_guide/indexing.html#returning-a-view-versus-a-copy\n",
      "  matches[0]['count'] = 1\n",
      "./code/Packets2TS.py:48: SettingWithCopyWarning: \n",
      "A value is trying to be set on a copy of a slice from a DataFrame.\n",
      "Try using .loc[row_indexer,col_indexer] = value instead\n",
      "\n",
      "See the caveats in the documentation: https://pandas.pydata.org/pandas-docs/stable/user_guide/indexing.html#returning-a-view-versus-a-copy\n",
      "  matches[0]['count'] = 1\n"
     ]
    },
    {
     "name": "stdout",
     "output_type": "stream",
     "text": [
      "No matches for 102.0.0.25 at ISP2\n",
      "No matches for 102.0.0.25 at ISP3\n",
      "No matches for 102.0.0.25 at ISP4\n",
      "No matches for 102.0.0.25 at ISP5\n",
      "No matches for 102.0.0.25 at ISP6\n",
      "No matches for 102.0.0.25 at ISP7\n",
      "No matches for 102.0.0.25 at ISP8\n",
      "No matches for 102.0.0.25 at ISP9\n",
      "No matches for 102.0.0.25 at ISP10\n",
      "No matches for 102.0.0.25 at root\n",
      "No matches for 102.0.0.25 at SLD\n",
      "No matches for 102.0.0.25 at TLD\n"
     ]
    },
    {
     "name": "stderr",
     "output_type": "stream",
     "text": [
      "./code/Packets2TS.py:48: SettingWithCopyWarning: \n",
      "A value is trying to be set on a copy of a slice from a DataFrame.\n",
      "Try using .loc[row_indexer,col_indexer] = value instead\n",
      "\n",
      "See the caveats in the documentation: https://pandas.pydata.org/pandas-docs/stable/user_guide/indexing.html#returning-a-view-versus-a-copy\n",
      "  matches[0]['count'] = 1\n",
      "./code/Packets2TS.py:48: SettingWithCopyWarning: \n",
      "A value is trying to be set on a copy of a slice from a DataFrame.\n",
      "Try using .loc[row_indexer,col_indexer] = value instead\n",
      "\n",
      "See the caveats in the documentation: https://pandas.pydata.org/pandas-docs/stable/user_guide/indexing.html#returning-a-view-versus-a-copy\n",
      "  matches[0]['count'] = 1\n",
      " 77%|█████████████████████████████████████████████████████████████████████████████████████████████████████▍                             | 79/102 [52:37<11:12, 29.24s/it]./code/Packets2TS.py:48: SettingWithCopyWarning: \n",
      "A value is trying to be set on a copy of a slice from a DataFrame.\n",
      "Try using .loc[row_indexer,col_indexer] = value instead\n",
      "\n",
      "See the caveats in the documentation: https://pandas.pydata.org/pandas-docs/stable/user_guide/indexing.html#returning-a-view-versus-a-copy\n",
      "  matches[0]['count'] = 1\n",
      "./code/Packets2TS.py:48: SettingWithCopyWarning: \n",
      "A value is trying to be set on a copy of a slice from a DataFrame.\n",
      "Try using .loc[row_indexer,col_indexer] = value instead\n",
      "\n",
      "See the caveats in the documentation: https://pandas.pydata.org/pandas-docs/stable/user_guide/indexing.html#returning-a-view-versus-a-copy\n",
      "  matches[0]['count'] = 1\n"
     ]
    },
    {
     "name": "stdout",
     "output_type": "stream",
     "text": [
      "No matches for 102.0.0.95 at ISP2\n",
      "No matches for 102.0.0.95 at ISP3\n",
      "No matches for 102.0.0.95 at ISP4\n",
      "No matches for 102.0.0.95 at ISP5\n",
      "No matches for 102.0.0.95 at ISP6\n",
      "No matches for 102.0.0.95 at ISP7\n",
      "No matches for 102.0.0.95 at ISP8\n",
      "No matches for 102.0.0.95 at ISP9\n",
      "No matches for 102.0.0.95 at ISP10\n",
      "No matches for 102.0.0.95 at root\n",
      "No matches for 102.0.0.95 at SLD\n",
      "No matches for 102.0.0.95 at TLD\n"
     ]
    },
    {
     "name": "stderr",
     "output_type": "stream",
     "text": [
      "./code/Packets2TS.py:48: SettingWithCopyWarning: \n",
      "A value is trying to be set on a copy of a slice from a DataFrame.\n",
      "Try using .loc[row_indexer,col_indexer] = value instead\n",
      "\n",
      "See the caveats in the documentation: https://pandas.pydata.org/pandas-docs/stable/user_guide/indexing.html#returning-a-view-versus-a-copy\n",
      "  matches[0]['count'] = 1\n",
      "./code/Packets2TS.py:48: SettingWithCopyWarning: \n",
      "A value is trying to be set on a copy of a slice from a DataFrame.\n",
      "Try using .loc[row_indexer,col_indexer] = value instead\n",
      "\n",
      "See the caveats in the documentation: https://pandas.pydata.org/pandas-docs/stable/user_guide/indexing.html#returning-a-view-versus-a-copy\n",
      "  matches[0]['count'] = 1\n",
      " 78%|██████████████████████████████████████████████████████████████████████████████████████████████████████▋                            | 80/102 [53:06<10:38, 29.01s/it]./code/Packets2TS.py:48: SettingWithCopyWarning: \n",
      "A value is trying to be set on a copy of a slice from a DataFrame.\n",
      "Try using .loc[row_indexer,col_indexer] = value instead\n",
      "\n",
      "See the caveats in the documentation: https://pandas.pydata.org/pandas-docs/stable/user_guide/indexing.html#returning-a-view-versus-a-copy\n",
      "  matches[0]['count'] = 1\n"
     ]
    },
    {
     "name": "stdout",
     "output_type": "stream",
     "text": [
      "No matches for 102.0.40.139 at ISP1\n",
      "No matches for 102.0.40.139 at ISP2\n",
      "No matches for 102.0.40.139 at ISP3\n",
      "No matches for 102.0.40.139 at ISP4\n"
     ]
    },
    {
     "name": "stderr",
     "output_type": "stream",
     "text": [
      "./code/Packets2TS.py:48: SettingWithCopyWarning: \n",
      "A value is trying to be set on a copy of a slice from a DataFrame.\n",
      "Try using .loc[row_indexer,col_indexer] = value instead\n",
      "\n",
      "See the caveats in the documentation: https://pandas.pydata.org/pandas-docs/stable/user_guide/indexing.html#returning-a-view-versus-a-copy\n",
      "  matches[0]['count'] = 1\n"
     ]
    },
    {
     "name": "stdout",
     "output_type": "stream",
     "text": [
      "No matches for 102.0.40.139 at ISP6\n",
      "No matches for 102.0.40.139 at ISP7\n",
      "No matches for 102.0.40.139 at ISP8\n",
      "No matches for 102.0.40.139 at ISP9\n",
      "No matches for 102.0.40.139 at ISP10\n",
      "No matches for 102.0.40.139 at root\n",
      "No matches for 102.0.40.139 at SLD\n",
      "No matches for 102.0.40.139 at TLD\n"
     ]
    },
    {
     "name": "stderr",
     "output_type": "stream",
     "text": [
      "./code/Packets2TS.py:48: SettingWithCopyWarning: \n",
      "A value is trying to be set on a copy of a slice from a DataFrame.\n",
      "Try using .loc[row_indexer,col_indexer] = value instead\n",
      "\n",
      "See the caveats in the documentation: https://pandas.pydata.org/pandas-docs/stable/user_guide/indexing.html#returning-a-view-versus-a-copy\n",
      "  matches[0]['count'] = 1\n",
      "./code/Packets2TS.py:48: SettingWithCopyWarning: \n",
      "A value is trying to be set on a copy of a slice from a DataFrame.\n",
      "Try using .loc[row_indexer,col_indexer] = value instead\n",
      "\n",
      "See the caveats in the documentation: https://pandas.pydata.org/pandas-docs/stable/user_guide/indexing.html#returning-a-view-versus-a-copy\n",
      "  matches[0]['count'] = 1\n",
      " 79%|████████████████████████████████████████████████████████████████████████████████████████████████████████                           | 81/102 [53:34<10:05, 28.81s/it]./code/Packets2TS.py:48: SettingWithCopyWarning: \n",
      "A value is trying to be set on a copy of a slice from a DataFrame.\n",
      "Try using .loc[row_indexer,col_indexer] = value instead\n",
      "\n",
      "See the caveats in the documentation: https://pandas.pydata.org/pandas-docs/stable/user_guide/indexing.html#returning-a-view-versus-a-copy\n",
      "  matches[0]['count'] = 1\n"
     ]
    },
    {
     "name": "stdout",
     "output_type": "stream",
     "text": [
      "No matches for 102.0.90.174 at ISP1\n",
      "No matches for 102.0.90.174 at ISP2\n",
      "No matches for 102.0.90.174 at ISP3\n",
      "No matches for 102.0.90.174 at ISP4\n",
      "No matches for 102.0.90.174 at ISP5\n",
      "No matches for 102.0.90.174 at ISP6\n",
      "No matches for 102.0.90.174 at ISP7\n",
      "No matches for 102.0.90.174 at ISP8\n",
      "No matches for 102.0.90.174 at ISP9\n"
     ]
    },
    {
     "name": "stderr",
     "output_type": "stream",
     "text": [
      "./code/Packets2TS.py:48: SettingWithCopyWarning: \n",
      "A value is trying to be set on a copy of a slice from a DataFrame.\n",
      "Try using .loc[row_indexer,col_indexer] = value instead\n",
      "\n",
      "See the caveats in the documentation: https://pandas.pydata.org/pandas-docs/stable/user_guide/indexing.html#returning-a-view-versus-a-copy\n",
      "  matches[0]['count'] = 1\n"
     ]
    },
    {
     "name": "stdout",
     "output_type": "stream",
     "text": [
      "No matches for 102.0.90.174 at root\n",
      "No matches for 102.0.90.174 at SLD\n",
      "No matches for 102.0.90.174 at TLD\n"
     ]
    },
    {
     "name": "stderr",
     "output_type": "stream",
     "text": [
      "./code/Packets2TS.py:48: SettingWithCopyWarning: \n",
      "A value is trying to be set on a copy of a slice from a DataFrame.\n",
      "Try using .loc[row_indexer,col_indexer] = value instead\n",
      "\n",
      "See the caveats in the documentation: https://pandas.pydata.org/pandas-docs/stable/user_guide/indexing.html#returning-a-view-versus-a-copy\n",
      "  matches[0]['count'] = 1\n",
      "./code/Packets2TS.py:48: SettingWithCopyWarning: \n",
      "A value is trying to be set on a copy of a slice from a DataFrame.\n",
      "Try using .loc[row_indexer,col_indexer] = value instead\n",
      "\n",
      "See the caveats in the documentation: https://pandas.pydata.org/pandas-docs/stable/user_guide/indexing.html#returning-a-view-versus-a-copy\n",
      "  matches[0]['count'] = 1\n",
      " 80%|█████████████████████████████████████████████████████████████████████████████████████████████████████████▎                         | 82/102 [54:03<09:34, 28.71s/it]./code/Packets2TS.py:48: SettingWithCopyWarning: \n",
      "A value is trying to be set on a copy of a slice from a DataFrame.\n",
      "Try using .loc[row_indexer,col_indexer] = value instead\n",
      "\n",
      "See the caveats in the documentation: https://pandas.pydata.org/pandas-docs/stable/user_guide/indexing.html#returning-a-view-versus-a-copy\n",
      "  matches[0]['count'] = 1\n"
     ]
    },
    {
     "name": "stdout",
     "output_type": "stream",
     "text": [
      "No matches for 102.0.30.108 at ISP1\n",
      "No matches for 102.0.30.108 at ISP2\n",
      "No matches for 102.0.30.108 at ISP3\n"
     ]
    },
    {
     "name": "stderr",
     "output_type": "stream",
     "text": [
      "./code/Packets2TS.py:48: SettingWithCopyWarning: \n",
      "A value is trying to be set on a copy of a slice from a DataFrame.\n",
      "Try using .loc[row_indexer,col_indexer] = value instead\n",
      "\n",
      "See the caveats in the documentation: https://pandas.pydata.org/pandas-docs/stable/user_guide/indexing.html#returning-a-view-versus-a-copy\n",
      "  matches[0]['count'] = 1\n"
     ]
    },
    {
     "name": "stdout",
     "output_type": "stream",
     "text": [
      "No matches for 102.0.30.108 at ISP5\n",
      "No matches for 102.0.30.108 at ISP6\n",
      "No matches for 102.0.30.108 at ISP7\n",
      "No matches for 102.0.30.108 at ISP8\n",
      "No matches for 102.0.30.108 at ISP9\n",
      "No matches for 102.0.30.108 at ISP10\n",
      "No matches for 102.0.30.108 at root\n",
      "No matches for 102.0.30.108 at SLD\n",
      "No matches for 102.0.30.108 at TLD\n"
     ]
    },
    {
     "name": "stderr",
     "output_type": "stream",
     "text": [
      "./code/Packets2TS.py:48: SettingWithCopyWarning: \n",
      "A value is trying to be set on a copy of a slice from a DataFrame.\n",
      "Try using .loc[row_indexer,col_indexer] = value instead\n",
      "\n",
      "See the caveats in the documentation: https://pandas.pydata.org/pandas-docs/stable/user_guide/indexing.html#returning-a-view-versus-a-copy\n",
      "  matches[0]['count'] = 1\n",
      "./code/Packets2TS.py:48: SettingWithCopyWarning: \n",
      "A value is trying to be set on a copy of a slice from a DataFrame.\n",
      "Try using .loc[row_indexer,col_indexer] = value instead\n",
      "\n",
      "See the caveats in the documentation: https://pandas.pydata.org/pandas-docs/stable/user_guide/indexing.html#returning-a-view-versus-a-copy\n",
      "  matches[0]['count'] = 1\n",
      " 81%|██████████████████████████████████████████████████████████████████████████████████████████████████████████▌                        | 83/102 [54:31<09:03, 28.59s/it]./code/Packets2TS.py:48: SettingWithCopyWarning: \n",
      "A value is trying to be set on a copy of a slice from a DataFrame.\n",
      "Try using .loc[row_indexer,col_indexer] = value instead\n",
      "\n",
      "See the caveats in the documentation: https://pandas.pydata.org/pandas-docs/stable/user_guide/indexing.html#returning-a-view-versus-a-copy\n",
      "  matches[0]['count'] = 1\n",
      "./code/Packets2TS.py:48: SettingWithCopyWarning: \n",
      "A value is trying to be set on a copy of a slice from a DataFrame.\n",
      "Try using .loc[row_indexer,col_indexer] = value instead\n",
      "\n",
      "See the caveats in the documentation: https://pandas.pydata.org/pandas-docs/stable/user_guide/indexing.html#returning-a-view-versus-a-copy\n",
      "  matches[0]['count'] = 1\n"
     ]
    },
    {
     "name": "stdout",
     "output_type": "stream",
     "text": [
      "No matches for 102.0.10.46 at ISP1\n",
      "No matches for 102.0.10.46 at ISP3\n",
      "No matches for 102.0.10.46 at ISP4\n",
      "No matches for 102.0.10.46 at ISP5\n",
      "No matches for 102.0.10.46 at ISP6\n",
      "No matches for 102.0.10.46 at ISP7\n",
      "No matches for 102.0.10.46 at ISP8\n",
      "No matches for 102.0.10.46 at ISP9\n",
      "No matches for 102.0.10.46 at ISP10\n",
      "No matches for 102.0.10.46 at root\n",
      "No matches for 102.0.10.46 at SLD\n",
      "No matches for 102.0.10.46 at TLD\n"
     ]
    },
    {
     "name": "stderr",
     "output_type": "stream",
     "text": [
      "./code/Packets2TS.py:48: SettingWithCopyWarning: \n",
      "A value is trying to be set on a copy of a slice from a DataFrame.\n",
      "Try using .loc[row_indexer,col_indexer] = value instead\n",
      "\n",
      "See the caveats in the documentation: https://pandas.pydata.org/pandas-docs/stable/user_guide/indexing.html#returning-a-view-versus-a-copy\n",
      "  matches[0]['count'] = 1\n",
      "./code/Packets2TS.py:48: SettingWithCopyWarning: \n",
      "A value is trying to be set on a copy of a slice from a DataFrame.\n",
      "Try using .loc[row_indexer,col_indexer] = value instead\n",
      "\n",
      "See the caveats in the documentation: https://pandas.pydata.org/pandas-docs/stable/user_guide/indexing.html#returning-a-view-versus-a-copy\n",
      "  matches[0]['count'] = 1\n",
      " 82%|███████████████████████████████████████████████████████████████████████████████████████████████████████████▉                       | 84/102 [55:00<08:36, 28.70s/it]./code/Packets2TS.py:48: SettingWithCopyWarning: \n",
      "A value is trying to be set on a copy of a slice from a DataFrame.\n",
      "Try using .loc[row_indexer,col_indexer] = value instead\n",
      "\n",
      "See the caveats in the documentation: https://pandas.pydata.org/pandas-docs/stable/user_guide/indexing.html#returning-a-view-versus-a-copy\n",
      "  matches[0]['count'] = 1\n"
     ]
    },
    {
     "name": "stdout",
     "output_type": "stream",
     "text": [
      "No matches for 102.0.20.117 at ISP1\n",
      "No matches for 102.0.20.117 at ISP2\n"
     ]
    },
    {
     "name": "stderr",
     "output_type": "stream",
     "text": [
      "./code/Packets2TS.py:48: SettingWithCopyWarning: \n",
      "A value is trying to be set on a copy of a slice from a DataFrame.\n",
      "Try using .loc[row_indexer,col_indexer] = value instead\n",
      "\n",
      "See the caveats in the documentation: https://pandas.pydata.org/pandas-docs/stable/user_guide/indexing.html#returning-a-view-versus-a-copy\n",
      "  matches[0]['count'] = 1\n"
     ]
    },
    {
     "name": "stdout",
     "output_type": "stream",
     "text": [
      "No matches for 102.0.20.117 at ISP4\n",
      "No matches for 102.0.20.117 at ISP5\n",
      "No matches for 102.0.20.117 at ISP6\n",
      "No matches for 102.0.20.117 at ISP7\n",
      "No matches for 102.0.20.117 at ISP8\n",
      "No matches for 102.0.20.117 at ISP9\n",
      "No matches for 102.0.20.117 at ISP10\n",
      "No matches for 102.0.20.117 at root\n",
      "No matches for 102.0.20.117 at SLD\n",
      "No matches for 102.0.20.117 at TLD\n"
     ]
    },
    {
     "name": "stderr",
     "output_type": "stream",
     "text": [
      "./code/Packets2TS.py:48: SettingWithCopyWarning: \n",
      "A value is trying to be set on a copy of a slice from a DataFrame.\n",
      "Try using .loc[row_indexer,col_indexer] = value instead\n",
      "\n",
      "See the caveats in the documentation: https://pandas.pydata.org/pandas-docs/stable/user_guide/indexing.html#returning-a-view-versus-a-copy\n",
      "  matches[0]['count'] = 1\n",
      "./code/Packets2TS.py:48: SettingWithCopyWarning: \n",
      "A value is trying to be set on a copy of a slice from a DataFrame.\n",
      "Try using .loc[row_indexer,col_indexer] = value instead\n",
      "\n",
      "See the caveats in the documentation: https://pandas.pydata.org/pandas-docs/stable/user_guide/indexing.html#returning-a-view-versus-a-copy\n",
      "  matches[0]['count'] = 1\n",
      " 83%|█████████████████████████████████████████████████████████████████████████████████████████████████████████████▏                     | 85/102 [55:28<08:07, 28.66s/it]./code/Packets2TS.py:48: SettingWithCopyWarning: \n",
      "A value is trying to be set on a copy of a slice from a DataFrame.\n",
      "Try using .loc[row_indexer,col_indexer] = value instead\n",
      "\n",
      "See the caveats in the documentation: https://pandas.pydata.org/pandas-docs/stable/user_guide/indexing.html#returning-a-view-versus-a-copy\n",
      "  matches[0]['count'] = 1\n"
     ]
    },
    {
     "name": "stdout",
     "output_type": "stream",
     "text": [
      "No matches for 102.0.20.97 at ISP1\n",
      "No matches for 102.0.20.97 at ISP2\n",
      "No matches for 102.0.20.97 at ISP4\n"
     ]
    },
    {
     "name": "stderr",
     "output_type": "stream",
     "text": [
      "./code/Packets2TS.py:48: SettingWithCopyWarning: \n",
      "A value is trying to be set on a copy of a slice from a DataFrame.\n",
      "Try using .loc[row_indexer,col_indexer] = value instead\n",
      "\n",
      "See the caveats in the documentation: https://pandas.pydata.org/pandas-docs/stable/user_guide/indexing.html#returning-a-view-versus-a-copy\n",
      "  matches[0]['count'] = 1\n"
     ]
    },
    {
     "name": "stdout",
     "output_type": "stream",
     "text": [
      "No matches for 102.0.20.97 at ISP5\n",
      "No matches for 102.0.20.97 at ISP6\n",
      "No matches for 102.0.20.97 at ISP7\n",
      "No matches for 102.0.20.97 at ISP8\n",
      "No matches for 102.0.20.97 at ISP9\n",
      "No matches for 102.0.20.97 at ISP10\n",
      "No matches for 102.0.20.97 at root\n",
      "No matches for 102.0.20.97 at SLD\n",
      "No matches for 102.0.20.97 at TLD\n"
     ]
    },
    {
     "name": "stderr",
     "output_type": "stream",
     "text": [
      "./code/Packets2TS.py:48: SettingWithCopyWarning: \n",
      "A value is trying to be set on a copy of a slice from a DataFrame.\n",
      "Try using .loc[row_indexer,col_indexer] = value instead\n",
      "\n",
      "See the caveats in the documentation: https://pandas.pydata.org/pandas-docs/stable/user_guide/indexing.html#returning-a-view-versus-a-copy\n",
      "  matches[0]['count'] = 1\n",
      "./code/Packets2TS.py:48: SettingWithCopyWarning: \n",
      "A value is trying to be set on a copy of a slice from a DataFrame.\n",
      "Try using .loc[row_indexer,col_indexer] = value instead\n",
      "\n",
      "See the caveats in the documentation: https://pandas.pydata.org/pandas-docs/stable/user_guide/indexing.html#returning-a-view-versus-a-copy\n",
      "  matches[0]['count'] = 1\n",
      " 84%|██████████████████████████████████████████████████████████████████████████████████████████████████████████████▍                    | 86/102 [55:57<07:37, 28.58s/it]./code/Packets2TS.py:48: SettingWithCopyWarning: \n",
      "A value is trying to be set on a copy of a slice from a DataFrame.\n",
      "Try using .loc[row_indexer,col_indexer] = value instead\n",
      "\n",
      "See the caveats in the documentation: https://pandas.pydata.org/pandas-docs/stable/user_guide/indexing.html#returning-a-view-versus-a-copy\n",
      "  matches[0]['count'] = 1\n"
     ]
    },
    {
     "name": "stdout",
     "output_type": "stream",
     "text": [
      "No matches for 102.0.50.60 at ISP1\n",
      "No matches for 102.0.50.60 at ISP2\n",
      "No matches for 102.0.50.60 at ISP3\n",
      "No matches for 102.0.50.60 at ISP4\n",
      "No matches for 102.0.50.60 at ISP5\n"
     ]
    },
    {
     "name": "stderr",
     "output_type": "stream",
     "text": [
      "./code/Packets2TS.py:48: SettingWithCopyWarning: \n",
      "A value is trying to be set on a copy of a slice from a DataFrame.\n",
      "Try using .loc[row_indexer,col_indexer] = value instead\n",
      "\n",
      "See the caveats in the documentation: https://pandas.pydata.org/pandas-docs/stable/user_guide/indexing.html#returning-a-view-versus-a-copy\n",
      "  matches[0]['count'] = 1\n"
     ]
    },
    {
     "name": "stdout",
     "output_type": "stream",
     "text": [
      "No matches for 102.0.50.60 at ISP7\n",
      "No matches for 102.0.50.60 at ISP8\n",
      "No matches for 102.0.50.60 at ISP9\n",
      "No matches for 102.0.50.60 at ISP10\n",
      "No matches for 102.0.50.60 at root\n",
      "No matches for 102.0.50.60 at SLD\n",
      "No matches for 102.0.50.60 at TLD\n"
     ]
    },
    {
     "name": "stderr",
     "output_type": "stream",
     "text": [
      "./code/Packets2TS.py:48: SettingWithCopyWarning: \n",
      "A value is trying to be set on a copy of a slice from a DataFrame.\n",
      "Try using .loc[row_indexer,col_indexer] = value instead\n",
      "\n",
      "See the caveats in the documentation: https://pandas.pydata.org/pandas-docs/stable/user_guide/indexing.html#returning-a-view-versus-a-copy\n",
      "  matches[0]['count'] = 1\n",
      "./code/Packets2TS.py:48: SettingWithCopyWarning: \n",
      "A value is trying to be set on a copy of a slice from a DataFrame.\n",
      "Try using .loc[row_indexer,col_indexer] = value instead\n",
      "\n",
      "See the caveats in the documentation: https://pandas.pydata.org/pandas-docs/stable/user_guide/indexing.html#returning-a-view-versus-a-copy\n",
      "  matches[0]['count'] = 1\n",
      " 85%|███████████████████████████████████████████████████████████████████████████████████████████████████████████████▋                   | 87/102 [56:27<07:15, 29.05s/it]./code/Packets2TS.py:48: SettingWithCopyWarning: \n",
      "A value is trying to be set on a copy of a slice from a DataFrame.\n",
      "Try using .loc[row_indexer,col_indexer] = value instead\n",
      "\n",
      "See the caveats in the documentation: https://pandas.pydata.org/pandas-docs/stable/user_guide/indexing.html#returning-a-view-versus-a-copy\n",
      "  matches[0]['count'] = 1\n"
     ]
    },
    {
     "name": "stdout",
     "output_type": "stream",
     "text": [
      "No matches for 102.0.20.107 at ISP1\n",
      "No matches for 102.0.20.107 at ISP2\n",
      "No matches for 102.0.20.107 at ISP4\n"
     ]
    },
    {
     "name": "stderr",
     "output_type": "stream",
     "text": [
      "./code/Packets2TS.py:48: SettingWithCopyWarning: \n",
      "A value is trying to be set on a copy of a slice from a DataFrame.\n",
      "Try using .loc[row_indexer,col_indexer] = value instead\n",
      "\n",
      "See the caveats in the documentation: https://pandas.pydata.org/pandas-docs/stable/user_guide/indexing.html#returning-a-view-versus-a-copy\n",
      "  matches[0]['count'] = 1\n"
     ]
    },
    {
     "name": "stdout",
     "output_type": "stream",
     "text": [
      "No matches for 102.0.20.107 at ISP5\n",
      "No matches for 102.0.20.107 at ISP6\n",
      "No matches for 102.0.20.107 at ISP7\n",
      "No matches for 102.0.20.107 at ISP8\n",
      "No matches for 102.0.20.107 at ISP9\n",
      "No matches for 102.0.20.107 at ISP10\n",
      "No matches for 102.0.20.107 at root\n",
      "No matches for 102.0.20.107 at SLD\n",
      "No matches for 102.0.20.107 at TLD\n"
     ]
    },
    {
     "name": "stderr",
     "output_type": "stream",
     "text": [
      "./code/Packets2TS.py:48: SettingWithCopyWarning: \n",
      "A value is trying to be set on a copy of a slice from a DataFrame.\n",
      "Try using .loc[row_indexer,col_indexer] = value instead\n",
      "\n",
      "See the caveats in the documentation: https://pandas.pydata.org/pandas-docs/stable/user_guide/indexing.html#returning-a-view-versus-a-copy\n",
      "  matches[0]['count'] = 1\n",
      "./code/Packets2TS.py:48: SettingWithCopyWarning: \n",
      "A value is trying to be set on a copy of a slice from a DataFrame.\n",
      "Try using .loc[row_indexer,col_indexer] = value instead\n",
      "\n",
      "See the caveats in the documentation: https://pandas.pydata.org/pandas-docs/stable/user_guide/indexing.html#returning-a-view-versus-a-copy\n",
      "  matches[0]['count'] = 1\n",
      " 86%|█████████████████████████████████████████████████████████████████████████████████████████████████████████████████                  | 88/102 [56:56<06:44, 28.87s/it]./code/Packets2TS.py:48: SettingWithCopyWarning: \n",
      "A value is trying to be set on a copy of a slice from a DataFrame.\n",
      "Try using .loc[row_indexer,col_indexer] = value instead\n",
      "\n",
      "See the caveats in the documentation: https://pandas.pydata.org/pandas-docs/stable/user_guide/indexing.html#returning-a-view-versus-a-copy\n",
      "  matches[0]['count'] = 1\n",
      "./code/Packets2TS.py:48: SettingWithCopyWarning: \n",
      "A value is trying to be set on a copy of a slice from a DataFrame.\n",
      "Try using .loc[row_indexer,col_indexer] = value instead\n",
      "\n",
      "See the caveats in the documentation: https://pandas.pydata.org/pandas-docs/stable/user_guide/indexing.html#returning-a-view-versus-a-copy\n",
      "  matches[0]['count'] = 1\n"
     ]
    },
    {
     "name": "stdout",
     "output_type": "stream",
     "text": [
      "No matches for 102.0.10.66 at ISP1\n",
      "No matches for 102.0.10.66 at ISP3\n",
      "No matches for 102.0.10.66 at ISP4\n",
      "No matches for 102.0.10.66 at ISP5\n",
      "No matches for 102.0.10.66 at ISP6\n",
      "No matches for 102.0.10.66 at ISP7\n",
      "No matches for 102.0.10.66 at ISP8\n",
      "No matches for 102.0.10.66 at ISP9\n",
      "No matches for 102.0.10.66 at ISP10\n",
      "No matches for 102.0.10.66 at root\n",
      "No matches for 102.0.10.66 at SLD\n",
      "No matches for 102.0.10.66 at TLD\n"
     ]
    },
    {
     "name": "stderr",
     "output_type": "stream",
     "text": [
      "./code/Packets2TS.py:48: SettingWithCopyWarning: \n",
      "A value is trying to be set on a copy of a slice from a DataFrame.\n",
      "Try using .loc[row_indexer,col_indexer] = value instead\n",
      "\n",
      "See the caveats in the documentation: https://pandas.pydata.org/pandas-docs/stable/user_guide/indexing.html#returning-a-view-versus-a-copy\n",
      "  matches[0]['count'] = 1\n",
      "./code/Packets2TS.py:48: SettingWithCopyWarning: \n",
      "A value is trying to be set on a copy of a slice from a DataFrame.\n",
      "Try using .loc[row_indexer,col_indexer] = value instead\n",
      "\n",
      "See the caveats in the documentation: https://pandas.pydata.org/pandas-docs/stable/user_guide/indexing.html#returning-a-view-versus-a-copy\n",
      "  matches[0]['count'] = 1\n",
      " 87%|██████████████████████████████████████████████████████████████████████████████████████████████████████████████████▎                | 89/102 [57:24<06:12, 28.68s/it]./code/Packets2TS.py:48: SettingWithCopyWarning: \n",
      "A value is trying to be set on a copy of a slice from a DataFrame.\n",
      "Try using .loc[row_indexer,col_indexer] = value instead\n",
      "\n",
      "See the caveats in the documentation: https://pandas.pydata.org/pandas-docs/stable/user_guide/indexing.html#returning-a-view-versus-a-copy\n",
      "  matches[0]['count'] = 1\n"
     ]
    },
    {
     "name": "stdout",
     "output_type": "stream",
     "text": [
      "No matches for 102.0.80.173 at ISP1\n",
      "No matches for 102.0.80.173 at ISP2\n",
      "No matches for 102.0.80.173 at ISP3\n",
      "No matches for 102.0.80.173 at ISP4\n",
      "No matches for 102.0.80.173 at ISP5\n",
      "No matches for 102.0.80.173 at ISP6\n",
      "No matches for 102.0.80.173 at ISP7\n",
      "No matches for 102.0.80.173 at ISP8\n"
     ]
    },
    {
     "name": "stderr",
     "output_type": "stream",
     "text": [
      "./code/Packets2TS.py:48: SettingWithCopyWarning: \n",
      "A value is trying to be set on a copy of a slice from a DataFrame.\n",
      "Try using .loc[row_indexer,col_indexer] = value instead\n",
      "\n",
      "See the caveats in the documentation: https://pandas.pydata.org/pandas-docs/stable/user_guide/indexing.html#returning-a-view-versus-a-copy\n",
      "  matches[0]['count'] = 1\n"
     ]
    },
    {
     "name": "stdout",
     "output_type": "stream",
     "text": [
      "No matches for 102.0.80.173 at ISP10\n",
      "No matches for 102.0.80.173 at root\n",
      "No matches for 102.0.80.173 at SLD\n",
      "No matches for 102.0.80.173 at TLD\n"
     ]
    },
    {
     "name": "stderr",
     "output_type": "stream",
     "text": [
      "./code/Packets2TS.py:48: SettingWithCopyWarning: \n",
      "A value is trying to be set on a copy of a slice from a DataFrame.\n",
      "Try using .loc[row_indexer,col_indexer] = value instead\n",
      "\n",
      "See the caveats in the documentation: https://pandas.pydata.org/pandas-docs/stable/user_guide/indexing.html#returning-a-view-versus-a-copy\n",
      "  matches[0]['count'] = 1\n",
      "./code/Packets2TS.py:48: SettingWithCopyWarning: \n",
      "A value is trying to be set on a copy of a slice from a DataFrame.\n",
      "Try using .loc[row_indexer,col_indexer] = value instead\n",
      "\n",
      "See the caveats in the documentation: https://pandas.pydata.org/pandas-docs/stable/user_guide/indexing.html#returning-a-view-versus-a-copy\n",
      "  matches[0]['count'] = 1\n",
      " 88%|███████████████████████████████████████████████████████████████████████████████████████████████████████████████████▌               | 90/102 [57:52<05:43, 28.65s/it]./code/Packets2TS.py:48: SettingWithCopyWarning: \n",
      "A value is trying to be set on a copy of a slice from a DataFrame.\n",
      "Try using .loc[row_indexer,col_indexer] = value instead\n",
      "\n",
      "See the caveats in the documentation: https://pandas.pydata.org/pandas-docs/stable/user_guide/indexing.html#returning-a-view-versus-a-copy\n",
      "  matches[0]['count'] = 1\n"
     ]
    },
    {
     "name": "stdout",
     "output_type": "stream",
     "text": [
      "No matches for 102.0.90.164 at ISP1\n",
      "No matches for 102.0.90.164 at ISP2\n",
      "No matches for 102.0.90.164 at ISP3\n",
      "No matches for 102.0.90.164 at ISP4\n",
      "No matches for 102.0.90.164 at ISP5\n",
      "No matches for 102.0.90.164 at ISP6\n",
      "No matches for 102.0.90.164 at ISP7\n",
      "No matches for 102.0.90.164 at ISP8\n",
      "No matches for 102.0.90.164 at ISP9\n"
     ]
    },
    {
     "name": "stderr",
     "output_type": "stream",
     "text": [
      "./code/Packets2TS.py:48: SettingWithCopyWarning: \n",
      "A value is trying to be set on a copy of a slice from a DataFrame.\n",
      "Try using .loc[row_indexer,col_indexer] = value instead\n",
      "\n",
      "See the caveats in the documentation: https://pandas.pydata.org/pandas-docs/stable/user_guide/indexing.html#returning-a-view-versus-a-copy\n",
      "  matches[0]['count'] = 1\n"
     ]
    },
    {
     "name": "stdout",
     "output_type": "stream",
     "text": [
      "No matches for 102.0.90.164 at root\n",
      "No matches for 102.0.90.164 at SLD\n",
      "No matches for 102.0.90.164 at TLD\n"
     ]
    },
    {
     "name": "stderr",
     "output_type": "stream",
     "text": [
      "./code/Packets2TS.py:48: SettingWithCopyWarning: \n",
      "A value is trying to be set on a copy of a slice from a DataFrame.\n",
      "Try using .loc[row_indexer,col_indexer] = value instead\n",
      "\n",
      "See the caveats in the documentation: https://pandas.pydata.org/pandas-docs/stable/user_guide/indexing.html#returning-a-view-versus-a-copy\n",
      "  matches[0]['count'] = 1\n",
      "./code/Packets2TS.py:48: SettingWithCopyWarning: \n",
      "A value is trying to be set on a copy of a slice from a DataFrame.\n",
      "Try using .loc[row_indexer,col_indexer] = value instead\n",
      "\n",
      "See the caveats in the documentation: https://pandas.pydata.org/pandas-docs/stable/user_guide/indexing.html#returning-a-view-versus-a-copy\n",
      "  matches[0]['count'] = 1\n",
      " 89%|████████████████████████████████████████████████████████████████████████████████████████████████████████████████████▊              | 91/102 [58:21<05:13, 28.52s/it]./code/Packets2TS.py:48: SettingWithCopyWarning: \n",
      "A value is trying to be set on a copy of a slice from a DataFrame.\n",
      "Try using .loc[row_indexer,col_indexer] = value instead\n",
      "\n",
      "See the caveats in the documentation: https://pandas.pydata.org/pandas-docs/stable/user_guide/indexing.html#returning-a-view-versus-a-copy\n",
      "  matches[0]['count'] = 1\n"
     ]
    },
    {
     "name": "stdout",
     "output_type": "stream",
     "text": [
      "No matches for 102.0.20.47 at ISP1\n",
      "No matches for 102.0.20.47 at ISP2\n",
      "No matches for 102.0.20.47 at ISP4\n"
     ]
    },
    {
     "name": "stderr",
     "output_type": "stream",
     "text": [
      "./code/Packets2TS.py:48: SettingWithCopyWarning: \n",
      "A value is trying to be set on a copy of a slice from a DataFrame.\n",
      "Try using .loc[row_indexer,col_indexer] = value instead\n",
      "\n",
      "See the caveats in the documentation: https://pandas.pydata.org/pandas-docs/stable/user_guide/indexing.html#returning-a-view-versus-a-copy\n",
      "  matches[0]['count'] = 1\n"
     ]
    },
    {
     "name": "stdout",
     "output_type": "stream",
     "text": [
      "No matches for 102.0.20.47 at ISP5\n",
      "No matches for 102.0.20.47 at ISP6\n",
      "No matches for 102.0.20.47 at ISP7\n",
      "No matches for 102.0.20.47 at ISP8\n",
      "No matches for 102.0.20.47 at ISP9\n",
      "No matches for 102.0.20.47 at ISP10\n",
      "No matches for 102.0.20.47 at root\n",
      "No matches for 102.0.20.47 at SLD\n",
      "No matches for 102.0.20.47 at TLD\n"
     ]
    },
    {
     "name": "stderr",
     "output_type": "stream",
     "text": [
      "./code/Packets2TS.py:48: SettingWithCopyWarning: \n",
      "A value is trying to be set on a copy of a slice from a DataFrame.\n",
      "Try using .loc[row_indexer,col_indexer] = value instead\n",
      "\n",
      "See the caveats in the documentation: https://pandas.pydata.org/pandas-docs/stable/user_guide/indexing.html#returning-a-view-versus-a-copy\n",
      "  matches[0]['count'] = 1\n",
      "./code/Packets2TS.py:48: SettingWithCopyWarning: \n",
      "A value is trying to be set on a copy of a slice from a DataFrame.\n",
      "Try using .loc[row_indexer,col_indexer] = value instead\n",
      "\n",
      "See the caveats in the documentation: https://pandas.pydata.org/pandas-docs/stable/user_guide/indexing.html#returning-a-view-versus-a-copy\n",
      "  matches[0]['count'] = 1\n",
      " 90%|██████████████████████████████████████████████████████████████████████████████████████████████████████████████████████▏            | 92/102 [58:49<04:44, 28.44s/it]./code/Packets2TS.py:48: SettingWithCopyWarning: \n",
      "A value is trying to be set on a copy of a slice from a DataFrame.\n",
      "Try using .loc[row_indexer,col_indexer] = value instead\n",
      "\n",
      "See the caveats in the documentation: https://pandas.pydata.org/pandas-docs/stable/user_guide/indexing.html#returning-a-view-versus-a-copy\n",
      "  matches[0]['count'] = 1\n",
      "./code/Packets2TS.py:48: SettingWithCopyWarning: \n",
      "A value is trying to be set on a copy of a slice from a DataFrame.\n",
      "Try using .loc[row_indexer,col_indexer] = value instead\n",
      "\n",
      "See the caveats in the documentation: https://pandas.pydata.org/pandas-docs/stable/user_guide/indexing.html#returning-a-view-versus-a-copy\n",
      "  matches[0]['count'] = 1\n"
     ]
    },
    {
     "name": "stdout",
     "output_type": "stream",
     "text": [
      "No matches for 102.0.0.35 at ISP2\n",
      "No matches for 102.0.0.35 at ISP3\n",
      "No matches for 102.0.0.35 at ISP4\n",
      "No matches for 102.0.0.35 at ISP5\n",
      "No matches for 102.0.0.35 at ISP6\n",
      "No matches for 102.0.0.35 at ISP7\n",
      "No matches for 102.0.0.35 at ISP8\n",
      "No matches for 102.0.0.35 at ISP9\n",
      "No matches for 102.0.0.35 at ISP10\n",
      "No matches for 102.0.0.35 at root\n",
      "No matches for 102.0.0.35 at SLD\n",
      "No matches for 102.0.0.35 at TLD\n"
     ]
    },
    {
     "name": "stderr",
     "output_type": "stream",
     "text": [
      "./code/Packets2TS.py:48: SettingWithCopyWarning: \n",
      "A value is trying to be set on a copy of a slice from a DataFrame.\n",
      "Try using .loc[row_indexer,col_indexer] = value instead\n",
      "\n",
      "See the caveats in the documentation: https://pandas.pydata.org/pandas-docs/stable/user_guide/indexing.html#returning-a-view-versus-a-copy\n",
      "  matches[0]['count'] = 1\n",
      "./code/Packets2TS.py:48: SettingWithCopyWarning: \n",
      "A value is trying to be set on a copy of a slice from a DataFrame.\n",
      "Try using .loc[row_indexer,col_indexer] = value instead\n",
      "\n",
      "See the caveats in the documentation: https://pandas.pydata.org/pandas-docs/stable/user_guide/indexing.html#returning-a-view-versus-a-copy\n",
      "  matches[0]['count'] = 1\n",
      " 91%|███████████████████████████████████████████████████████████████████████████████████████████████████████████████████████▍           | 93/102 [59:18<04:18, 28.68s/it]./code/Packets2TS.py:48: SettingWithCopyWarning: \n",
      "A value is trying to be set on a copy of a slice from a DataFrame.\n",
      "Try using .loc[row_indexer,col_indexer] = value instead\n",
      "\n",
      "See the caveats in the documentation: https://pandas.pydata.org/pandas-docs/stable/user_guide/indexing.html#returning-a-view-versus-a-copy\n",
      "  matches[0]['count'] = 1\n"
     ]
    },
    {
     "name": "stdout",
     "output_type": "stream",
     "text": [
      "No matches for 102.0.40.69 at ISP1\n",
      "No matches for 102.0.40.69 at ISP2\n",
      "No matches for 102.0.40.69 at ISP3\n",
      "No matches for 102.0.40.69 at ISP4\n"
     ]
    },
    {
     "name": "stderr",
     "output_type": "stream",
     "text": [
      "./code/Packets2TS.py:48: SettingWithCopyWarning: \n",
      "A value is trying to be set on a copy of a slice from a DataFrame.\n",
      "Try using .loc[row_indexer,col_indexer] = value instead\n",
      "\n",
      "See the caveats in the documentation: https://pandas.pydata.org/pandas-docs/stable/user_guide/indexing.html#returning-a-view-versus-a-copy\n",
      "  matches[0]['count'] = 1\n"
     ]
    },
    {
     "name": "stdout",
     "output_type": "stream",
     "text": [
      "No matches for 102.0.40.69 at ISP6\n",
      "No matches for 102.0.40.69 at ISP7\n",
      "No matches for 102.0.40.69 at ISP8\n",
      "No matches for 102.0.40.69 at ISP9\n",
      "No matches for 102.0.40.69 at ISP10\n",
      "No matches for 102.0.40.69 at root\n",
      "No matches for 102.0.40.69 at SLD\n",
      "No matches for 102.0.40.69 at TLD\n"
     ]
    },
    {
     "name": "stderr",
     "output_type": "stream",
     "text": [
      "./code/Packets2TS.py:48: SettingWithCopyWarning: \n",
      "A value is trying to be set on a copy of a slice from a DataFrame.\n",
      "Try using .loc[row_indexer,col_indexer] = value instead\n",
      "\n",
      "See the caveats in the documentation: https://pandas.pydata.org/pandas-docs/stable/user_guide/indexing.html#returning-a-view-versus-a-copy\n",
      "  matches[0]['count'] = 1\n",
      "./code/Packets2TS.py:48: SettingWithCopyWarning: \n",
      "A value is trying to be set on a copy of a slice from a DataFrame.\n",
      "Try using .loc[row_indexer,col_indexer] = value instead\n",
      "\n",
      "See the caveats in the documentation: https://pandas.pydata.org/pandas-docs/stable/user_guide/indexing.html#returning-a-view-versus-a-copy\n",
      "  matches[0]['count'] = 1\n",
      " 92%|████████████████████████████████████████████████████████████████████████████████████████████████████████████████████████▋          | 94/102 [59:46<03:47, 28.47s/it]./code/Packets2TS.py:48: SettingWithCopyWarning: \n",
      "A value is trying to be set on a copy of a slice from a DataFrame.\n",
      "Try using .loc[row_indexer,col_indexer] = value instead\n",
      "\n",
      "See the caveats in the documentation: https://pandas.pydata.org/pandas-docs/stable/user_guide/indexing.html#returning-a-view-versus-a-copy\n",
      "  matches[0]['count'] = 1\n"
     ]
    },
    {
     "name": "stdout",
     "output_type": "stream",
     "text": [
      "No matches for 102.0.30.38 at ISP1\n",
      "No matches for 102.0.30.38 at ISP2\n",
      "No matches for 102.0.30.38 at ISP3\n"
     ]
    },
    {
     "name": "stderr",
     "output_type": "stream",
     "text": [
      "./code/Packets2TS.py:48: SettingWithCopyWarning: \n",
      "A value is trying to be set on a copy of a slice from a DataFrame.\n",
      "Try using .loc[row_indexer,col_indexer] = value instead\n",
      "\n",
      "See the caveats in the documentation: https://pandas.pydata.org/pandas-docs/stable/user_guide/indexing.html#returning-a-view-versus-a-copy\n",
      "  matches[0]['count'] = 1\n"
     ]
    },
    {
     "name": "stdout",
     "output_type": "stream",
     "text": [
      "No matches for 102.0.30.38 at ISP5\n",
      "No matches for 102.0.30.38 at ISP6\n",
      "No matches for 102.0.30.38 at ISP7\n",
      "No matches for 102.0.30.38 at ISP8\n",
      "No matches for 102.0.30.38 at ISP9\n",
      "No matches for 102.0.30.38 at ISP10\n",
      "No matches for 102.0.30.38 at root\n",
      "No matches for 102.0.30.38 at SLD\n",
      "No matches for 102.0.30.38 at TLD\n"
     ]
    },
    {
     "name": "stderr",
     "output_type": "stream",
     "text": [
      "./code/Packets2TS.py:48: SettingWithCopyWarning: \n",
      "A value is trying to be set on a copy of a slice from a DataFrame.\n",
      "Try using .loc[row_indexer,col_indexer] = value instead\n",
      "\n",
      "See the caveats in the documentation: https://pandas.pydata.org/pandas-docs/stable/user_guide/indexing.html#returning-a-view-versus-a-copy\n",
      "  matches[0]['count'] = 1\n",
      "./code/Packets2TS.py:48: SettingWithCopyWarning: \n",
      "A value is trying to be set on a copy of a slice from a DataFrame.\n",
      "Try using .loc[row_indexer,col_indexer] = value instead\n",
      "\n",
      "See the caveats in the documentation: https://pandas.pydata.org/pandas-docs/stable/user_guide/indexing.html#returning-a-view-versus-a-copy\n",
      "  matches[0]['count'] = 1\n",
      " 93%|████████████████████████████████████████████████████████████████████████████████████████████████████████████████████████▏        | 95/102 [1:00:15<03:19, 28.52s/it]./code/Packets2TS.py:48: SettingWithCopyWarning: \n",
      "A value is trying to be set on a copy of a slice from a DataFrame.\n",
      "Try using .loc[row_indexer,col_indexer] = value instead\n",
      "\n",
      "See the caveats in the documentation: https://pandas.pydata.org/pandas-docs/stable/user_guide/indexing.html#returning-a-view-versus-a-copy\n",
      "  matches[0]['count'] = 1\n"
     ]
    },
    {
     "name": "stdout",
     "output_type": "stream",
     "text": [
      "No matches for 102.0.30.68 at ISP1\n",
      "No matches for 102.0.30.68 at ISP2\n",
      "No matches for 102.0.30.68 at ISP3\n"
     ]
    },
    {
     "name": "stderr",
     "output_type": "stream",
     "text": [
      "./code/Packets2TS.py:48: SettingWithCopyWarning: \n",
      "A value is trying to be set on a copy of a slice from a DataFrame.\n",
      "Try using .loc[row_indexer,col_indexer] = value instead\n",
      "\n",
      "See the caveats in the documentation: https://pandas.pydata.org/pandas-docs/stable/user_guide/indexing.html#returning-a-view-versus-a-copy\n",
      "  matches[0]['count'] = 1\n"
     ]
    },
    {
     "name": "stdout",
     "output_type": "stream",
     "text": [
      "No matches for 102.0.30.68 at ISP5\n",
      "No matches for 102.0.30.68 at ISP6\n",
      "No matches for 102.0.30.68 at ISP7\n",
      "No matches for 102.0.30.68 at ISP8\n",
      "No matches for 102.0.30.68 at ISP9\n",
      "No matches for 102.0.30.68 at ISP10\n",
      "No matches for 102.0.30.68 at root\n",
      "No matches for 102.0.30.68 at SLD\n",
      "No matches for 102.0.30.68 at TLD\n"
     ]
    },
    {
     "name": "stderr",
     "output_type": "stream",
     "text": [
      "./code/Packets2TS.py:48: SettingWithCopyWarning: \n",
      "A value is trying to be set on a copy of a slice from a DataFrame.\n",
      "Try using .loc[row_indexer,col_indexer] = value instead\n",
      "\n",
      "See the caveats in the documentation: https://pandas.pydata.org/pandas-docs/stable/user_guide/indexing.html#returning-a-view-versus-a-copy\n",
      "  matches[0]['count'] = 1\n",
      "./code/Packets2TS.py:48: SettingWithCopyWarning: \n",
      "A value is trying to be set on a copy of a slice from a DataFrame.\n",
      "Try using .loc[row_indexer,col_indexer] = value instead\n",
      "\n",
      "See the caveats in the documentation: https://pandas.pydata.org/pandas-docs/stable/user_guide/indexing.html#returning-a-view-versus-a-copy\n",
      "  matches[0]['count'] = 1\n",
      " 94%|█████████████████████████████████████████████████████████████████████████████████████████████████████████████████████████▍       | 96/102 [1:00:43<02:51, 28.55s/it]./code/Packets2TS.py:48: SettingWithCopyWarning: \n",
      "A value is trying to be set on a copy of a slice from a DataFrame.\n",
      "Try using .loc[row_indexer,col_indexer] = value instead\n",
      "\n",
      "See the caveats in the documentation: https://pandas.pydata.org/pandas-docs/stable/user_guide/indexing.html#returning-a-view-versus-a-copy\n",
      "  matches[0]['count'] = 1\n",
      "./code/Packets2TS.py:48: SettingWithCopyWarning: \n",
      "A value is trying to be set on a copy of a slice from a DataFrame.\n",
      "Try using .loc[row_indexer,col_indexer] = value instead\n",
      "\n",
      "See the caveats in the documentation: https://pandas.pydata.org/pandas-docs/stable/user_guide/indexing.html#returning-a-view-versus-a-copy\n",
      "  matches[0]['count'] = 1\n"
     ]
    },
    {
     "name": "stdout",
     "output_type": "stream",
     "text": [
      "No matches for 102.0.10.56 at ISP1\n",
      "No matches for 102.0.10.56 at ISP3\n",
      "No matches for 102.0.10.56 at ISP4\n",
      "No matches for 102.0.10.56 at ISP5\n",
      "No matches for 102.0.10.56 at ISP6\n",
      "No matches for 102.0.10.56 at ISP7\n",
      "No matches for 102.0.10.56 at ISP8\n",
      "No matches for 102.0.10.56 at ISP9\n",
      "No matches for 102.0.10.56 at ISP10\n",
      "No matches for 102.0.10.56 at root\n",
      "No matches for 102.0.10.56 at SLD\n",
      "No matches for 102.0.10.56 at TLD\n"
     ]
    },
    {
     "name": "stderr",
     "output_type": "stream",
     "text": [
      "./code/Packets2TS.py:48: SettingWithCopyWarning: \n",
      "A value is trying to be set on a copy of a slice from a DataFrame.\n",
      "Try using .loc[row_indexer,col_indexer] = value instead\n",
      "\n",
      "See the caveats in the documentation: https://pandas.pydata.org/pandas-docs/stable/user_guide/indexing.html#returning-a-view-versus-a-copy\n",
      "  matches[0]['count'] = 1\n",
      "./code/Packets2TS.py:48: SettingWithCopyWarning: \n",
      "A value is trying to be set on a copy of a slice from a DataFrame.\n",
      "Try using .loc[row_indexer,col_indexer] = value instead\n",
      "\n",
      "See the caveats in the documentation: https://pandas.pydata.org/pandas-docs/stable/user_guide/indexing.html#returning-a-view-versus-a-copy\n",
      "  matches[0]['count'] = 1\n",
      " 95%|██████████████████████████████████████████████████████████████████████████████████████████████████████████████████████████▋      | 97/102 [1:01:13<02:25, 29.01s/it]./code/Packets2TS.py:48: SettingWithCopyWarning: \n",
      "A value is trying to be set on a copy of a slice from a DataFrame.\n",
      "Try using .loc[row_indexer,col_indexer] = value instead\n",
      "\n",
      "See the caveats in the documentation: https://pandas.pydata.org/pandas-docs/stable/user_guide/indexing.html#returning-a-view-versus-a-copy\n",
      "  matches[0]['count'] = 1\n"
     ]
    },
    {
     "name": "stdout",
     "output_type": "stream",
     "text": [
      "No matches for 102.0.20.37 at ISP1\n",
      "No matches for 102.0.20.37 at ISP2\n"
     ]
    },
    {
     "name": "stderr",
     "output_type": "stream",
     "text": [
      "./code/Packets2TS.py:48: SettingWithCopyWarning: \n",
      "A value is trying to be set on a copy of a slice from a DataFrame.\n",
      "Try using .loc[row_indexer,col_indexer] = value instead\n",
      "\n",
      "See the caveats in the documentation: https://pandas.pydata.org/pandas-docs/stable/user_guide/indexing.html#returning-a-view-versus-a-copy\n",
      "  matches[0]['count'] = 1\n"
     ]
    },
    {
     "name": "stdout",
     "output_type": "stream",
     "text": [
      "No matches for 102.0.20.37 at ISP4\n",
      "No matches for 102.0.20.37 at ISP5\n",
      "No matches for 102.0.20.37 at ISP6\n",
      "No matches for 102.0.20.37 at ISP7\n",
      "No matches for 102.0.20.37 at ISP8\n",
      "No matches for 102.0.20.37 at ISP9\n",
      "No matches for 102.0.20.37 at ISP10\n",
      "No matches for 102.0.20.37 at root\n",
      "No matches for 102.0.20.37 at SLD\n",
      "No matches for 102.0.20.37 at TLD\n"
     ]
    },
    {
     "name": "stderr",
     "output_type": "stream",
     "text": [
      "./code/Packets2TS.py:48: SettingWithCopyWarning: \n",
      "A value is trying to be set on a copy of a slice from a DataFrame.\n",
      "Try using .loc[row_indexer,col_indexer] = value instead\n",
      "\n",
      "See the caveats in the documentation: https://pandas.pydata.org/pandas-docs/stable/user_guide/indexing.html#returning-a-view-versus-a-copy\n",
      "  matches[0]['count'] = 1\n",
      "./code/Packets2TS.py:48: SettingWithCopyWarning: \n",
      "A value is trying to be set on a copy of a slice from a DataFrame.\n",
      "Try using .loc[row_indexer,col_indexer] = value instead\n",
      "\n",
      "See the caveats in the documentation: https://pandas.pydata.org/pandas-docs/stable/user_guide/indexing.html#returning-a-view-versus-a-copy\n",
      "  matches[0]['count'] = 1\n",
      " 96%|███████████████████████████████████████████████████████████████████████████████████████████████████████████████████████████▉     | 98/102 [1:01:44<01:57, 29.47s/it]./code/Packets2TS.py:48: SettingWithCopyWarning: \n",
      "A value is trying to be set on a copy of a slice from a DataFrame.\n",
      "Try using .loc[row_indexer,col_indexer] = value instead\n",
      "\n",
      "See the caveats in the documentation: https://pandas.pydata.org/pandas-docs/stable/user_guide/indexing.html#returning-a-view-versus-a-copy\n",
      "  matches[0]['count'] = 1\n"
     ]
    },
    {
     "name": "stdout",
     "output_type": "stream",
     "text": [
      "No matches for 102.0.80.163 at ISP1\n",
      "No matches for 102.0.80.163 at ISP2\n",
      "No matches for 102.0.80.163 at ISP3\n",
      "No matches for 102.0.80.163 at ISP4\n",
      "No matches for 102.0.80.163 at ISP5\n",
      "No matches for 102.0.80.163 at ISP6\n",
      "No matches for 102.0.80.163 at ISP7\n",
      "No matches for 102.0.80.163 at ISP8\n"
     ]
    },
    {
     "name": "stderr",
     "output_type": "stream",
     "text": [
      "./code/Packets2TS.py:48: SettingWithCopyWarning: \n",
      "A value is trying to be set on a copy of a slice from a DataFrame.\n",
      "Try using .loc[row_indexer,col_indexer] = value instead\n",
      "\n",
      "See the caveats in the documentation: https://pandas.pydata.org/pandas-docs/stable/user_guide/indexing.html#returning-a-view-versus-a-copy\n",
      "  matches[0]['count'] = 1\n"
     ]
    },
    {
     "name": "stdout",
     "output_type": "stream",
     "text": [
      "No matches for 102.0.80.163 at ISP10\n",
      "No matches for 102.0.80.163 at root\n",
      "No matches for 102.0.80.163 at SLD\n",
      "No matches for 102.0.80.163 at TLD\n"
     ]
    },
    {
     "name": "stderr",
     "output_type": "stream",
     "text": [
      "./code/Packets2TS.py:48: SettingWithCopyWarning: \n",
      "A value is trying to be set on a copy of a slice from a DataFrame.\n",
      "Try using .loc[row_indexer,col_indexer] = value instead\n",
      "\n",
      "See the caveats in the documentation: https://pandas.pydata.org/pandas-docs/stable/user_guide/indexing.html#returning-a-view-versus-a-copy\n",
      "  matches[0]['count'] = 1\n",
      "./code/Packets2TS.py:48: SettingWithCopyWarning: \n",
      "A value is trying to be set on a copy of a slice from a DataFrame.\n",
      "Try using .loc[row_indexer,col_indexer] = value instead\n",
      "\n",
      "See the caveats in the documentation: https://pandas.pydata.org/pandas-docs/stable/user_guide/indexing.html#returning-a-view-versus-a-copy\n",
      "  matches[0]['count'] = 1\n",
      " 97%|█████████████████████████████████████████████████████████████████████████████████████████████████████████████████████████████▏   | 99/102 [1:02:14<01:29, 29.71s/it]./code/Packets2TS.py:48: SettingWithCopyWarning: \n",
      "A value is trying to be set on a copy of a slice from a DataFrame.\n",
      "Try using .loc[row_indexer,col_indexer] = value instead\n",
      "\n",
      "See the caveats in the documentation: https://pandas.pydata.org/pandas-docs/stable/user_guide/indexing.html#returning-a-view-versus-a-copy\n",
      "  matches[0]['count'] = 1\n"
     ]
    },
    {
     "name": "stdout",
     "output_type": "stream",
     "text": [
      "No matches for 102.0.60.111 at ISP1\n",
      "No matches for 102.0.60.111 at ISP2\n",
      "No matches for 102.0.60.111 at ISP3\n",
      "No matches for 102.0.60.111 at ISP4\n",
      "No matches for 102.0.60.111 at ISP5\n",
      "No matches for 102.0.60.111 at ISP6\n",
      "No matches for 102.0.60.111 at ISP8\n",
      "No matches for 102.0.60.111 at ISP9\n"
     ]
    },
    {
     "name": "stderr",
     "output_type": "stream",
     "text": [
      "./code/Packets2TS.py:48: SettingWithCopyWarning: \n",
      "A value is trying to be set on a copy of a slice from a DataFrame.\n",
      "Try using .loc[row_indexer,col_indexer] = value instead\n",
      "\n",
      "See the caveats in the documentation: https://pandas.pydata.org/pandas-docs/stable/user_guide/indexing.html#returning-a-view-versus-a-copy\n",
      "  matches[0]['count'] = 1\n"
     ]
    },
    {
     "name": "stdout",
     "output_type": "stream",
     "text": [
      "No matches for 102.0.60.111 at ISP10\n",
      "No matches for 102.0.60.111 at root\n",
      "No matches for 102.0.60.111 at SLD\n",
      "No matches for 102.0.60.111 at TLD\n"
     ]
    },
    {
     "name": "stderr",
     "output_type": "stream",
     "text": [
      "./code/Packets2TS.py:48: SettingWithCopyWarning: \n",
      "A value is trying to be set on a copy of a slice from a DataFrame.\n",
      "Try using .loc[row_indexer,col_indexer] = value instead\n",
      "\n",
      "See the caveats in the documentation: https://pandas.pydata.org/pandas-docs/stable/user_guide/indexing.html#returning-a-view-versus-a-copy\n",
      "  matches[0]['count'] = 1\n",
      "./code/Packets2TS.py:48: SettingWithCopyWarning: \n",
      "A value is trying to be set on a copy of a slice from a DataFrame.\n",
      "Try using .loc[row_indexer,col_indexer] = value instead\n",
      "\n",
      "See the caveats in the documentation: https://pandas.pydata.org/pandas-docs/stable/user_guide/indexing.html#returning-a-view-versus-a-copy\n",
      "  matches[0]['count'] = 1\n",
      " 98%|█████████████████████████████████████████████████████████████████████████████████████████████████████████████████████████████▍  | 100/102 [1:02:46<01:00, 30.28s/it]./code/Packets2TS.py:48: SettingWithCopyWarning: \n",
      "A value is trying to be set on a copy of a slice from a DataFrame.\n",
      "Try using .loc[row_indexer,col_indexer] = value instead\n",
      "\n",
      "See the caveats in the documentation: https://pandas.pydata.org/pandas-docs/stable/user_guide/indexing.html#returning-a-view-versus-a-copy\n",
      "  matches[0]['count'] = 1\n"
     ]
    },
    {
     "name": "stdout",
     "output_type": "stream",
     "text": [
      "No matches for 102.0.80.123 at ISP1\n",
      "No matches for 102.0.80.123 at ISP2\n",
      "No matches for 102.0.80.123 at ISP3\n",
      "No matches for 102.0.80.123 at ISP4\n",
      "No matches for 102.0.80.123 at ISP5\n",
      "No matches for 102.0.80.123 at ISP6\n",
      "No matches for 102.0.80.123 at ISP7\n",
      "No matches for 102.0.80.123 at ISP8\n"
     ]
    },
    {
     "name": "stderr",
     "output_type": "stream",
     "text": [
      "./code/Packets2TS.py:48: SettingWithCopyWarning: \n",
      "A value is trying to be set on a copy of a slice from a DataFrame.\n",
      "Try using .loc[row_indexer,col_indexer] = value instead\n",
      "\n",
      "See the caveats in the documentation: https://pandas.pydata.org/pandas-docs/stable/user_guide/indexing.html#returning-a-view-versus-a-copy\n",
      "  matches[0]['count'] = 1\n"
     ]
    },
    {
     "name": "stdout",
     "output_type": "stream",
     "text": [
      "No matches for 102.0.80.123 at ISP10\n",
      "No matches for 102.0.80.123 at root\n",
      "No matches for 102.0.80.123 at SLD\n",
      "No matches for 102.0.80.123 at TLD\n"
     ]
    },
    {
     "name": "stderr",
     "output_type": "stream",
     "text": [
      "./code/Packets2TS.py:48: SettingWithCopyWarning: \n",
      "A value is trying to be set on a copy of a slice from a DataFrame.\n",
      "Try using .loc[row_indexer,col_indexer] = value instead\n",
      "\n",
      "See the caveats in the documentation: https://pandas.pydata.org/pandas-docs/stable/user_guide/indexing.html#returning-a-view-versus-a-copy\n",
      "  matches[0]['count'] = 1\n",
      "./code/Packets2TS.py:48: SettingWithCopyWarning: \n",
      "A value is trying to be set on a copy of a slice from a DataFrame.\n",
      "Try using .loc[row_indexer,col_indexer] = value instead\n",
      "\n",
      "See the caveats in the documentation: https://pandas.pydata.org/pandas-docs/stable/user_guide/indexing.html#returning-a-view-versus-a-copy\n",
      "  matches[0]['count'] = 1\n",
      " 99%|██████████████████████████████████████████████████████████████████████████████████████████████████████████████████████████████▋ | 101/102 [1:03:18<00:30, 30.77s/it]./code/Packets2TS.py:48: SettingWithCopyWarning: \n",
      "A value is trying to be set on a copy of a slice from a DataFrame.\n",
      "Try using .loc[row_indexer,col_indexer] = value instead\n",
      "\n",
      "See the caveats in the documentation: https://pandas.pydata.org/pandas-docs/stable/user_guide/indexing.html#returning-a-view-versus-a-copy\n",
      "  matches[0]['count'] = 1\n"
     ]
    },
    {
     "name": "stdout",
     "output_type": "stream",
     "text": [
      "No matches for 102.0.50.70 at ISP1\n",
      "No matches for 102.0.50.70 at ISP2\n",
      "No matches for 102.0.50.70 at ISP3\n",
      "No matches for 102.0.50.70 at ISP4\n",
      "No matches for 102.0.50.70 at ISP5\n"
     ]
    },
    {
     "name": "stderr",
     "output_type": "stream",
     "text": [
      "./code/Packets2TS.py:48: SettingWithCopyWarning: \n",
      "A value is trying to be set on a copy of a slice from a DataFrame.\n",
      "Try using .loc[row_indexer,col_indexer] = value instead\n",
      "\n",
      "See the caveats in the documentation: https://pandas.pydata.org/pandas-docs/stable/user_guide/indexing.html#returning-a-view-versus-a-copy\n",
      "  matches[0]['count'] = 1\n"
     ]
    },
    {
     "name": "stdout",
     "output_type": "stream",
     "text": [
      "No matches for 102.0.50.70 at ISP7\n",
      "No matches for 102.0.50.70 at ISP8\n",
      "No matches for 102.0.50.70 at ISP9\n",
      "No matches for 102.0.50.70 at ISP10\n",
      "No matches for 102.0.50.70 at root\n",
      "No matches for 102.0.50.70 at SLD\n",
      "No matches for 102.0.50.70 at TLD\n"
     ]
    },
    {
     "name": "stderr",
     "output_type": "stream",
     "text": [
      "./code/Packets2TS.py:48: SettingWithCopyWarning: \n",
      "A value is trying to be set on a copy of a slice from a DataFrame.\n",
      "Try using .loc[row_indexer,col_indexer] = value instead\n",
      "\n",
      "See the caveats in the documentation: https://pandas.pydata.org/pandas-docs/stable/user_guide/indexing.html#returning-a-view-versus-a-copy\n",
      "  matches[0]['count'] = 1\n",
      "./code/Packets2TS.py:48: SettingWithCopyWarning: \n",
      "A value is trying to be set on a copy of a slice from a DataFrame.\n",
      "Try using .loc[row_indexer,col_indexer] = value instead\n",
      "\n",
      "See the caveats in the documentation: https://pandas.pydata.org/pandas-docs/stable/user_guide/indexing.html#returning-a-view-versus-a-copy\n",
      "  matches[0]['count'] = 1\n",
      "100%|████████████████████████████████████████████████████████████████████████████████████████████████████████████████████████████████| 102/102 [1:03:51<00:00, 37.56s/it]\n"
     ]
    }
   ],
   "source": [
    "src, dst = preprocess(\"./code/\" + config['pcappath'],\n",
    "                      \"./code/\" + config['logpath'],\n",
    "                      config['scope_config'],\n",
    "                      config['server_logs'],\n",
    "                      config['infra_ip'],\n",
    "                      window,\n",
    "                      config['evil_domain'],\n",
    "                      config['bad_features'],\n",
    "                      debug=config['DEBUG'])\n",
    "\n",
    "flows_ts_ip_total = src\n",
    "client_chat_logs = dst\n",
    "\n",
    "for ip in flows_ts_ip_total:\n",
    "    cast_columns(flows_ts_ip_total[ip])\n",
    "\n",
    "for user in client_chat_logs:\n",
    "    cast_columns(client_chat_logs[user])"
   ]
  },
  {
   "cell_type": "code",
   "execution_count": 40,
   "id": "f9d0ba1d-08de-4883-9eea-fc030e0d0f12",
   "metadata": {},
   "outputs": [],
   "source": [
    "# def ip_to_group(ip):\n",
    "#     if isinstance(ip, float) or ip.split(\".\")[0] != '102':\n",
    "#         return -1\n",
    "#     return math.floor((int(ip.split(\".\")[-1])-2) / 5)\n",
    "\n",
    "\n",
    "# def get_real_label(dic):\n",
    "#     data = dic.keys()\n",
    "#     result = np.array([ip_to_group(xi) for xi in data])\n",
    "#     return result\n",
    "\n",
    "\n",
    "# answers = get_real_label(flows_ts_ip_total)\n",
    "\n",
    "\n",
    "def my_dtw(ts1, ts2):\n",
    "    distance, path = fastdtw(ts1, ts2)\n",
    "    return distance\n",
    "\n",
    "\n",
    "def my_pl_ts(ts1, ts2, ip1, ip2):\n",
    "    return my_dtw(ts1, ts2)\n",
    "\n",
    "\n",
    "def my_dist(ts1, ts2, ip1=\"\", ip2=\"\"):\n",
    "    return my_pl_ts(ts1, ts2, ip1, ip2)\n",
    "\n",
    "\n",
    "def ip_to_user(ip, group_size=5, starting=5):\n",
    "    group = int(ip.split(\".\")[-2]) / 10\n",
    "    local_net = int(ip.split(\".\")[-1]) - starting\n",
    "    user = (local_net - (group * 10)) % group_size\n",
    "    return '/tordata/config/group_' + str(group) + \"_user_\" + str(user)\n",
    "\n",
    "\n",
    "def compare_ts(ts1, ts2, debug=False):\n",
    "    # dtw_classic, path_classic = dtw(ts1, ts2, dist='square',\n",
    "    #                             method='classic', return_path=True)\n",
    "    # return dtw_classic\n",
    "    # print(ts1)\n",
    "    # print(ts2)\n",
    "    # dist, lag = cross_cor(pd.Series(ts1), pd.Series(ts2))\n",
    "    dist, lag = cross_cor(ts1, ts2, debug=debug)\n",
    "    # assert dist >= -1 and dist <= 1\n",
    "    dist = dist * -1  # flip for use as distance metric\n",
    "    # assert dist >= -1 and dist <= 1\n",
    "    return dist, lag\n",
    "\n",
    "\n",
    "def normalize_ts(ts):\n",
    "    ts = (ts-ts.min())/(ts.max()-ts.min())\n",
    "    return ts.fillna(0)\n",
    "\n",
    "\n",
    "def compare_ts_reshape(ts1, ts2, debug=False):\n",
    "    # buffer_room = 120  # in seconds\n",
    "    range = min(ts2.index.values), max(ts2.index.values)\n",
    "    ts1 = ts1.loc[(ts1.index >= range[0]) & (ts1.index <= range[1])]\n",
    "    # ts1 = ts1[(ts1['frame.time'] >= int(range[0])) &\n",
    "    #           (ts1['frame.time'] <= int(range[1]))]\n",
    "    # print(ts1)\n",
    "    # ts1 = ts1.loc[:, 'tda_pl']\n",
    "    ts1 = ts1.values[:, 0]\n",
    "\n",
    "    ts1_norm = np.array(ts1.copy())\n",
    "    ts2_norm = np.array(ts2.copy())\n",
    "\n",
    "    # delay = 0\n",
    "\n",
    "    # ts1_norm.index = ts1_norm.index + pd.DateOffset(seconds=delay)\n",
    "\n",
    "    # lock to same range with buffer room\n",
    "    # on each side to account for network (or PPT) delay\n",
    "\n",
    "    # detect if no overlap\n",
    "    if len(ts1_norm) < 2 or len(ts2_norm) < 2:\n",
    "        return float(\"inf\"), 0\n",
    "\n",
    "    # Normalize peaks?\n",
    "    # ts1_norm = normalize_ts(ts1_norm)\n",
    "    # ts2_norm = normalize_ts(ts2_norm)\n",
    "\n",
    "    # plot_ts(ts1_norm, ts2_norm)\n",
    "    # exit(1)\n",
    "\n",
    "    # else:\n",
    "    #     ts1_norm = ts1_norm.tolist()\n",
    "    #     ts2_norm = ts2_norm.tolist()\n",
    "\n",
    "    score, lag = compare_ts(ts1_norm, ts2_norm, debug=debug)\n",
    "\n",
    "    return score, lag\n",
    "\n",
    "\n",
    "def evaluate(src_raw, dst_raw, src_features, dst_feaures, display=False, params=TDA_Parameters(0, 3, 1, 1, 1)):\n",
    "    src = {}\n",
    "    dst = {}\n",
    "    for ip in src_raw:\n",
    "        try:\n",
    "            data = src_raw[ip][src_features].copy(deep=True)\n",
    "        except Exception:\n",
    "            data = pd.DataFrame(0, index=src_raw[ip].index, columns=src_features)\n",
    "        if config['tda']:\n",
    "            src[ip] = ts_to_tda(data)\n",
    "        else:\n",
    "            src[ip] = data\n",
    "    for user in dst_raw:\n",
    "        try:\n",
    "            data = dst_raw[user][dst_feaures].copy(deep=True)\n",
    "        except Exception:\n",
    "            data = pd.DataFrame(0, index=dst_raw[user].index, columns=dst_feaures)\n",
    "        if config['tda']:\n",
    "            dst[user] = ts_to_tda(data)\n",
    "        else:\n",
    "            dst[user] = data\n",
    "\n",
    "    correct = 0.0\n",
    "    rank_list = []\n",
    "    score_list = []\n",
    "    recall_2 = 0\n",
    "    recall_4 = 0\n",
    "    recall_8 = 0\n",
    "    rank = 0\n",
    "    for user in dst:\n",
    "        best_score = 0\n",
    "        best_user = 0\n",
    "        heap = []\n",
    "        counter = 0\n",
    "        r2 = False\n",
    "        r4 = False\n",
    "        r8 = False\n",
    "        for ip in src:\n",
    "            counter += 1\n",
    "            score, _ = compare_ts_reshape(src[ip].copy(deep=True), dst[user].copy(deep=True))\n",
    "            if not math.isnan(score) and not math.isinf(score):\n",
    "                heapq.heappush(heap, (score, counter, ip_to_user(ip)))\n",
    "            if score < best_score:\n",
    "                best_score = score\n",
    "                best_user = ip_to_user(ip)\n",
    "        if user == best_user:\n",
    "            correct += 1\n",
    "        # print(user)\n",
    "        if recall_at_k(heap.copy(), 2, user):\n",
    "            recall_2 += 1\n",
    "            r2 = True\n",
    "        if recall_at_k(heap.copy(), 4, user):\n",
    "            recall_4 += 1\n",
    "            r4 = True\n",
    "        if recall_at_k(heap.copy(), 8, user):\n",
    "            recall_8 += 1\n",
    "            r8 = True\n",
    "        if (r2 and (not r4 or not r8)) or (r4 and not r8):\n",
    "            print(\"r2: \" + str(r2))\n",
    "            print(\"r4: \" + str(r4))\n",
    "            print(\"r8: \" + str(r8))\n",
    "            raise Exception(\"Bad recall\")\n",
    "        rank += get_value_position(heap, user)\n",
    "        rank_list += [(get_value_position(heap, user), user)]\n",
    "        score_list += [(heap_to_ordered_list(heap), user)]\n",
    "    accuracy = correct / len(src)\n",
    "    recall_2 = recall_2 / len(src)\n",
    "    recall_4 = recall_4 / len(src)\n",
    "    recall_8 = recall_8 / len(src)\n",
    "    rank = rank / len(src)\n",
    "    return accuracy, recall_2, recall_4, recall_8, rank\n",
    "    # , rank_list, score_list\n",
    "\n",
    "\n",
    "def findsubsets(s, n):\n",
    "    return list(itertools.combinations(s, n))\n",
    "\n",
    "\n",
    "def evaluate_subset(src_df, dst_df, src_features, dst_feaures, tda_config=None):\n",
    "    score = evaluate(src_df, dst_df, list(src_features), list(dst_feaures), params=tda_config)\n",
    "    return score, src_features\n",
    "\n",
    "def get_features(df):\n",
    "    features = []\n",
    "    for src in df:\n",
    "        features += df[src].columns.tolist()\n",
    "    return list(set(features))\n",
    "\n",
    "def iterate_features(src_df, dst_df, n, dst_features, tda_config, filename):\n",
    "    features = get_features(src_df)\n",
    "    subsets = findsubsets(features, n)\n",
    "    results = []\n",
    "    print(\"Using \" + str(num_cpus) + \" cpus for \" + str(len(subsets)) + \" subsets\")\n",
    "    with mp.Pool(processes=num_cpus) as pool:\n",
    "        results = []\n",
    "        for subset in subsets:\n",
    "            results.append(pool.apply_async(evaluate_subset, args=(src_df, dst_df, subset, dst_features, tda_config)))\n",
    "        with open(filename, 'a+') as f:\n",
    "            for result in tqdm(results, total=len(subsets)):\n",
    "                score, subset = result.get()\n",
    "                out = str(score) + \"\\t\" + str(subset) + \"\\n\"\n",
    "                f.write(out)"
   ]
  },
  {
   "cell_type": "code",
   "execution_count": 41,
   "id": "2bfb8d90-5880-482b-a12d-e8ed4caf0fa5",
   "metadata": {},
   "outputs": [],
   "source": [
    "src_df = flows_ts_ip_total\n",
    "dst_df = client_chat_logs"
   ]
  },
  {
   "cell_type": "code",
   "execution_count": 43,
   "id": "ceff69f7-d46a-4480-9f08-c2a76cc0015d",
   "metadata": {},
   "outputs": [
    {
     "data": {
      "text/plain": [
       "124"
      ]
     },
     "execution_count": 43,
     "metadata": {},
     "output_type": "execute_result"
    }
   ],
   "source": [
    "get_features(src_df)"
   ]
  },
  {
   "cell_type": "code",
   "execution_count": null,
   "id": "c33967ab-4e61-4dec-a231-02794a6e429d",
   "metadata": {},
   "outputs": [],
   "source": [
    "# dst_features = ['count']\n",
    "# src_features = ['count']\n",
    "# n = 1\n",
    "# data = evaluate_subset(src_df, dst_df, src_features, dst_features)[-2][-1]\n",
    "# with open(output_file, 'w') as f:\n",
    "#     for i in data:\n",
    "#         out = str(i[-1]) + \", \" + str(i[0]) + \"\\n\"\n",
    "#         f.write(out)\n",
    "\n",
    "for output_size in range(1, len(dst_df)+1):\n",
    "    for n in range(1, 3):\n",
    "        for features in findsubsets(dst_df[next(iter(dst_df))].columns, output_size):\n",
    "            print(\"Evaluating \" + str(n) + \" features from \" + str(output_size) + \" output features\")\n",
    "            best_features = iterate_features(src_df, dst_df, n, features, tda_config,\n",
    "                                             config['experiment_name'] + str(n) +\n",
    "                                             \"_outputFeatures_\" + str(features) +\n",
    "                                             \"_\" + str(datetime.now()) +\n",
    "                                             \".output\")"
   ]
  }
 ],
 "metadata": {
  "kernelspec": {
   "display_name": "Python 3 (ipykernel)",
   "language": "python",
   "name": "python3"
  },
  "language_info": {
   "codemirror_mode": {
    "name": "ipython",
    "version": 3
   },
   "file_extension": ".py",
   "mimetype": "text/x-python",
   "name": "python",
   "nbconvert_exporter": "python",
   "pygments_lexer": "ipython3",
   "version": "3.9.2"
  }
 },
 "nbformat": 4,
 "nbformat_minor": 5
}
