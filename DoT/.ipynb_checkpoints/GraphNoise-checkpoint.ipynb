{
 "cells": [
  {
   "cell_type": "code",
   "execution_count": 1,
   "id": "ad884b21-d4e7-4368-84e0-0471cdca78c0",
   "metadata": {},
   "outputs": [],
   "source": [
    "import pickle\n",
    "import matplotlib.pyplot as plt\n",
    "import pandas as pd\n",
    "import math\n",
    "import sys\n",
    "sys.path.insert(0, './code')\n",
    "from CastCol import cast_columns\n",
    "\n",
    "gzip = True\n",
    "if gzip:\n",
    "    import gzip\n",
    "    open = gzip.open"
   ]
  },
  {
   "cell_type": "code",
   "execution_count": 2,
   "id": "31c1a292-fce6-4c90-8fe1-4b6efb2fe816",
   "metadata": {},
   "outputs": [],
   "source": [
    "def ip_to_user(ip, group_size=5, starting=5):\n",
    "    isp = int(int(ip.split(\".\")[-2]))\n",
    "    node_number = int(ip.split(\".\")[-1]) - starting - isp\n",
    "    user = node_number % group_size\n",
    "    group = math.floor(node_number / group_size)\n",
    "    return '/tordata/config/group_' + str(group) + \"_user_\" + str(user)"
   ]
  },
  {
   "cell_type": "code",
   "execution_count": 3,
   "id": "c68bd7de-00be-4946-9081-53059e4ebc15",
   "metadata": {},
   "outputs": [],
   "source": [
    "def limit_range(ts1, ts2):\n",
    "    range = min(ts2.index.values), max(ts2.index.values)\n",
    "    ts1 = ts1.loc[(ts1.index >= range[0]) & (ts1.index <= range[1])]\n",
    "    return ts1"
   ]
  },
  {
   "cell_type": "code",
   "execution_count": 4,
   "id": "827cb74a-caa0-492d-bd7d-59451b4f446f",
   "metadata": {},
   "outputs": [],
   "source": [
    "def load(data_file):\n",
    "    with open(data_file, 'rb') as file:\n",
    "        traffic = pickle.load(file)\n",
    "        msgs = pickle.load(file)\n",
    "    return traffic, msgs\n",
    "\n",
    "def select(data, ip, feature, limit=False):\n",
    "    traffic = data[0][ip][feature]\n",
    "    msgs = data[1][ip_to_user(ip)][\"count\"]\n",
    "    if limit:\n",
    "        traffic = limit_range(traffic, msgs)\n",
    "    return traffic, msgs\n",
    "\n",
    "def plot(ts,):\n",
    "    fig, ax = plt.subplots(figsize=(8, 6))\n",
    "    for t in ts:\n",
    "        ax.plot(t[0], label=t[1])\n",
    "    plt.legend()"
   ]
  },
  {
   "cell_type": "code",
   "execution_count": 2,
   "id": "7638f016-33f5-4ce9-95be-b42adbdfe543",
   "metadata": {},
   "outputs": [
    {
     "ename": "NameError",
     "evalue": "name 'load' is not defined",
     "output_type": "error",
     "traceback": [
      "\u001b[0;31m---------------------------------------------------------------------------\u001b[0m",
      "\u001b[0;31mNameError\u001b[0m                                 Traceback (most recent call last)",
      "Cell \u001b[0;32mIn[2], line 5\u001b[0m\n\u001b[1;32m      2\u001b[0m ip \u001b[38;5;241m=\u001b[39m \u001b[38;5;124m\"\u001b[39m\u001b[38;5;124m102.0.10.56\u001b[39m\u001b[38;5;124m\"\u001b[39m\n\u001b[1;32m      3\u001b[0m feature \u001b[38;5;241m=\u001b[39m \u001b[38;5;124m\"\u001b[39m\u001b[38;5;124mip.len_vpn\u001b[39m\u001b[38;5;124m\"\u001b[39m\n\u001b[0;32m----> 5\u001b[0m dot \u001b[38;5;241m=\u001b[39m \u001b[43mload\u001b[49m(data_file)\n\u001b[1;32m      6\u001b[0m dot_traffic, dot_user \u001b[38;5;241m=\u001b[39m select(dot, ip, feature, limit\u001b[38;5;241m=\u001b[39m\u001b[38;5;28;01mFalse\u001b[39;00m)\n\u001b[1;32m      7\u001b[0m plot([(dot_traffic, \u001b[38;5;124m\"\u001b[39m\u001b[38;5;124mdot_traffic\u001b[39m\u001b[38;5;124m\"\u001b[39m), (dot_user, \u001b[38;5;124m\"\u001b[39m\u001b[38;5;124mdot_user\u001b[39m\u001b[38;5;124m\"\u001b[39m)])\n",
      "\u001b[0;31mNameError\u001b[0m: name 'load' is not defined"
     ]
    }
   ],
   "source": [
    "data_file = \"code/pkl/dot_all_scopes_https_multiISP_vpn_all_ts.pkl.gz\"\n",
    "ip = \"102.0.10.56\"\n",
    "feature = \"ip.len_vpn\"\n",
    "\n",
    "dot = load(data_file)\n",
    "dot_traffic, dot_user = select(dot, ip, feature, limit=False)\n",
    "plot([(dot_traffic, \"dot_traffic\"), (dot_user, \"dot_user\")])"
   ]
  },
  {
   "cell_type": "code",
   "execution_count": null,
   "id": "bde2c746-e277-4fc1-9896-b261f810e936",
   "metadata": {},
   "outputs": [],
   "source": []
  }
 ],
 "metadata": {
  "kernelspec": {
   "display_name": "Python 3 (ipykernel)",
   "language": "python",
   "name": "python3"
  },
  "language_info": {
   "codemirror_mode": {
    "name": "ipython",
    "version": 3
   },
   "file_extension": ".py",
   "mimetype": "text/x-python",
   "name": "python",
   "nbconvert_exporter": "python",
   "pygments_lexer": "ipython3",
   "version": "3.9.2"
  }
 },
 "nbformat": 4,
 "nbformat_minor": 5
}
